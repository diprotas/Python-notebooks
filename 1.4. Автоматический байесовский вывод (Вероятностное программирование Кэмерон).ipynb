{
 "cells": [
  {
   "cell_type": "markdown",
   "metadata": {},
   "source": [
    "1.4.1. Пример: вывод поведения на основе данных по обмену текстовыми сообщениями"
   ]
  },
  {
   "cell_type": "raw",
   "metadata": {},
   "source": [
    "Попробуем смоделировать более интересный пример, связанный с частотой отправки/получения пользователем текстовых сообщений."
   ]
  },
  {
   "cell_type": "raw",
   "metadata": {},
   "source": [
    "Пусть дано несколько ежедневных текстовых сообщений пользователя системы. График этих данных по дням приведен на рис. 1.5. Нас интересует, менялся ли характер обмена сообщениями со временем, постепенно или резко. Как смоделировать эту ситуацию? (На самом деле это мои собственные текстовые сообщения. Если хотите, можете сделать выводы о моей популярности.)"
   ]
  },
  {
   "cell_type": "code",
   "execution_count": 1,
   "metadata": {},
   "outputs": [
    {
     "data": {
      "text/plain": [
       "(0.0, 74.0)"
      ]
     },
     "execution_count": 1,
     "metadata": {},
     "output_type": "execute_result"
    },
    {
     "data": {
      "image/png": "[encoded data removed]",
      "text/plain": [
       "<Figure size 900x252 with 1 Axes>"
      ]
     },
     "metadata": {
      "needs_background": "light"
     },
     "output_type": "display_data"
    }
   ],
   "source": [
    "%matplotlib inline\n",
    "from IPython.core.pylabtools import figsize\n",
    "import numpy as np\n",
    "from matplotlib import pyplot as plt \n",
    "\n",
    "\n",
    "figsize(12.5, 3.5)\n",
    "count_data = np.loadtxt(\"data/txtdata.csv\") # список, количество текстовых сообщений\n",
    "n_count_data = len(count_data)\n",
    "plt.bar(np.arange(n_count_data), count_data, color=\"#c813dd\")\n",
    "plt.xlabel(\"Время (дни)\")\n",
    "plt.ylabel(\"Получено текстовых сообщений\")\n",
    "plt.title(\"Менялся ли характер обмена сообщениями пользователя со временем?\")\n",
    "plt.xlim(0, n_count_data)"
   ]
  },
  {
   "cell_type": "code",
   "execution_count": 32,
   "metadata": {},
   "outputs": [
    {
     "data": {
      "image/png": "[encoded data removed]",
      "text/plain": [
       "<Figure size 900x288 with 1 Axes>"
      ]
     },
     "metadata": {
      "needs_background": "light"
     },
     "output_type": "display_data"
    }
   ],
   "source": [
    "%matplotlib inline\n",
    "from IPython.core.pylabtools import figsize\n",
    "import matplotlib.pyplot as plt\n",
    "\n",
    "figsize(12.5,4)\n",
    "#plt.rcParams['savefig.dpi'] = 300\n",
    "#plt.rcParams['figure.dpi'] = 300\n",
    "\n",
    "\n",
    "plt.hist(count_data, bins=7, color='#348ABD',alpha=.33)\n",
    "plt.title(\"Выборочное распределение числа сообщений\")\n",
    "plt.xlabel(\"Число сообщений\")\n",
    "plt.ylabel(\"Частоты\")\n",
    "plt.show()"
   ]
  },
  {
   "cell_type": "code",
   "execution_count": 5,
   "metadata": {},
   "outputs": [
    {
     "data": {
      "text/plain": [
       "74"
      ]
     },
     "execution_count": 5,
     "metadata": {},
     "output_type": "execute_result"
    }
   ],
   "source": [
    "len(count_data)"
   ]
  },
  {
   "cell_type": "raw",
   "metadata": {},
   "source": [
    "С чего начать моделирование? \n",
    "Ну, как мы уже видели, для моделирования подобных счетных данных отлично подходит пуассоновская случайная переменная. (Почему?)\n",
    "Обозначим Ci текстовые сообщения за день i: Ci  ∼ Poi(λ).\n",
    "Нам неизвестно точное значение параметра λ. Из рис. 1.5 складывается впечатление, что частота сообщений повышается в течение периода наблюдений, что эквивалентно предположению об увеличении параметра λ в какой-то момент этого периода. Напомню, что более высокое значение λ говорит о повышении вероятности больших значений. То есть вероятность отправки большого количества текстовых сообщений в заданный день выше."
   ]
  },
  {
   "cell_type": "raw",
   "metadata": {},
   "source": [
    "Как описать эти наблюдения математически? \n",
    "\n",
    "Допустим, в какой-то день в течение периода наблюдений (назовем его τ) параметр λ резко возрастает. Таким образом, у нас есть фактически два параметра λ: один — для периода до τ, другой — для оставшейся части периода наблюдений. В литературе подобное резкое изменение значения называется точкой ветвления (switchpoint). \n",
    "Если же на деле никакого резкого изменения не происходит и λ1 = λ2, то апостериорные распределения двух λ должны выглядеть практически одинаково.\n",
    "Нам нужно вывести неизвестные параметры λ. Чтобы воспользоваться байесовским выводом, следует задать априорные вероятности для различных возможных значений λ. \n",
    "\n",
    "Какие априорные распределения вероятностей хорошо подойдут для λ1  и λ2? \n",
    "\n",
    "Вспоминаем, что λ может принимать любое положительное значение. Как вы видели ранее, у экспоненциального распределения для положительных чисел непрерывная функция плотности, так что оно вполне подойдет для моделирования λi. Но не забывайте, что у экспоненциального распределения есть свой параметр, который тоже нужно включить в модель. Назовем этот параметр α.\n",
    "               \n",
    "               λ1 ∼ Exp(α),λ2 ∼ Exp(α).\n",
    "               \n",
    "Параметр α называется гиперпараметром (hyperparameter) или переменной-предком (parent variable). Фактически это параметр, который влияет на другие параметры. \n",
    "\n",
    "Начальное значение α не слишком сильно влияет на модель, так что я бы предложил бы задать его равным величине, обратной выборочному среднему счетных данных. Почему? В силу моделирования λ на основе экспоненциального распределения с помощью вышеупомянутого равенства для математического ожидания можно получить следующее:\n",
    "     \n",
    "                Sum(Ci)/N ≈ E[Z=λ|α] = 1/α."
   ]
  },
  {
   "cell_type": "raw",
   "metadata": {},
   "source": [
    "При использовании этого значения мы выражаем не слишком большую уверенность в априорном распределении и тем самым снижаем влияние гиперпараметра. \n",
    "Другой вариант, который я рекомендую вам попробовать, состоит в использовании двух априорных распределений, по одному для каждого λi. Два экспоненциальных распределения с различными значениями α отразили бы нашу априорную уверенность в изменении частоты отправки сообщений в какой-то момент в течение периода наблюдений.\n",
    "\n",
    "А как же насчет τ? Вследствие зашумленности данных выбрать априорное значение τ непросто. Вместо этого можно поставить в соответствие возможным дням равномерное априорное распределение степени уверенности (uniform prior belief). \n",
    "Это эквивалентно:\n",
    "    τ ∼ DiscreteUniform(1,70) ⇒ P(τ = k) = 1/70.\n",
    "Как же после всего вышесказанного будет выглядеть наше общее априорное распределение для неизвестных величин? Откровенно говоря, оно не имеет значения. Достаточно знать, что это безобразная мешанина символов, которая может понравиться только математику. А по мере усложнения моделей оно станет еще запутаннее. В любом случае нас фактически интересует только апостериорное распределение."
   ]
  },
  {
   "cell_type": "raw",
   "metadata": {},
   "source": [
    "Резюме модели:\n",
    "    \n",
    "Ci текстовые сообщения за день  i: Ci  ∼ Poi(λ)\n",
    "Sum(Ci)/N ≈ λ, N - количество дней \n",
    "τ - какой-то день внутри периода наблюдений (switchpoint)\n",
    "λ = λ1 ∼ Exp(α) (до τ), λ = λ2 ∼ Exp(α) (после τ)\n",
    "α = 1/(Sum(Ci)/N) \n",
    "τ ∼ DiscreteUniform(1,70) ⇒ P(τ = k) = 1/70\n",
    "Exp(α) и DiscreteUniform(1,70) - априорные распределения\n",
    "\n",
    "Нас интересует апостериорное распределение λ1 и λ2\n",
    "\n",
    "Далее мы займемся PyMC, библиотекой языка Python для \n",
    "байесовского анализа, для которой не страшен сотворенный \n",
    "нами математический монстр."
   ]
  },
  {
   "cell_type": "markdown",
   "metadata": {},
   "source": [
    "1.4.2. Наш первый инструмент: PyMC"
   ]
  },
  {
   "cell_type": "raw",
   "metadata": {},
   "source": [
    "PyMC — библиотека языка Python для байесовского анализа [5] — быстрая, с хорошей поддержкой. Единственный ее недостаток — пробелы в документации по отдельным вопросам, особенно тем, в которых остро проявляются различия между новичками и бывалыми экспертами. Одна из задач моей книги как раз \n",
    "и состоит в решении этой проблемы, а также в демонстрации замечательных возможностей PyMC.\n",
    "Выполним моделирование вышеописанной задачи с помощью PyMC. Подобный стиль программирования называется вероятностным программированием (probabilistic programming). Но это исключительно неудачное название, которое наводит на мысли о сгенерированном случайным образом коде и, вероятно, \n",
    "смущает и отпугивает пользователей. Код отнюдь не случаен, вероятностный он в смысле создания вероятностных моделей с помощью переменных языка программирования в качестве компонентов модели. Компоненты модели являются полноправными примитивами в фреймворке PyMC.\n"
   ]
  },
  {
   "cell_type": "raw",
   "metadata": {},
   "source": [
    "У Кронина [6] приводится весьма вдохновляющее описание вероятностного программирования:\n",
    "«В отличие от обычной программы, выполняемой только в одном направлении, вероятностная программа выполняется как в прямом, так и в обратном направлении. При прямом проходе делаются выводы из допущений, принятых об окружающем мире (то есть представляемое ею пространство моделей), а при обратном проходе (“от данных”) ограничиваются возможные \n",
    "толкования. На практике во многих системах вероятностного программирования эти прямые и обратные операции продуманно переплетаются для эффективного поиска наилучших толкований»."
   ]
  },
  {
   "cell_type": "raw",
   "metadata": {},
   "source": [
    "Просто помните, что мы представляем компоненты модели (τ,λ1, λ2) в виде переменных:"
   ]
  },
  {
   "cell_type": "markdown",
   "metadata": {},
   "source": [
    "Загрузим модуль PyMC"
   ]
  },
  {
   "cell_type": "code",
   "execution_count": 8,
   "metadata": {},
   "outputs": [],
   "source": [
    "# Установили модуль PyMC\n",
    "# import sys\n",
    "# !{sys.executable} -m pip install pymc"
   ]
  },
  {
   "cell_type": "code",
   "execution_count": 43,
   "metadata": {},
   "outputs": [
    {
     "data": {
      "text/plain": [
       "array([13., 24.,  8., 24.,  7., 35., 14., 11., 15., 11., 22., 22., 11.,\n",
       "       57., 11., 19., 29.,  6., 19., 12., 22., 12., 18., 72., 32.,  9.,\n",
       "        7., 13., 19., 23., 27., 20.,  6., 17., 13., 10., 14.,  6., 16.,\n",
       "       15.,  7.,  2., 15., 15., 19., 70., 49.,  7., 53., 22., 21., 31.,\n",
       "       19., 11., 18., 20., 12., 35., 17., 23., 17.,  4.,  2., 31., 30.,\n",
       "       13., 27.,  0., 39., 37.,  5., 14., 13., 22.])"
      ]
     },
     "execution_count": 43,
     "metadata": {},
     "output_type": "execute_result"
    }
   ],
   "source": [
    "count_data # это наблюденные данные"
   ]
  },
  {
   "cell_type": "raw",
   "metadata": {},
   "source": [
    "Параметр α называется гиперпараметром (hyperparameter) или переменной-предком (parent variable). Это значит, что данный параметр влияет на другие параметры.\n",
    "\n",
    "Начальное значение α не слишком сильно влияет на модель, так что мы относительно свободны в выборе. Я предложил бы задать его равным величине, обратной выборочному среднему счетных данных. Почему? В силу моделирования λ на основе экспоненциального распределения с помощью вышеупомянутого равенства для математического ожидания можно получить следующее: Sum(Ci)/N приблизительно равно E[λ|α] = 1/α. Отсюда α = 1/E[λ|α] ~ 1/Sum(Ci)/N "
   ]
  },
  {
   "cell_type": "code",
   "execution_count": 2,
   "metadata": {},
   "outputs": [],
   "source": [
    "# формализация модели на питоне\n",
    "import pymc as pm\n",
    "\n",
    "alpha = 1.0/count_data.mean() # α = 1/E[λ|α] ~ 1/Sum(Ci)/N. Напомню, что count_data — переменная, \n",
    "                              # хранящая количество текстовых сообщений\n",
    "lambda_1 = pm.Exponential(\"lambda_1\", alpha) #генератор случайных чисел, ck/ переменная λ1 ∼ Exp(α), \n",
    "# априорное распределение для первого варианта поведения\n",
    "lambda_2 = pm.Exponential(\"lambda_2\", alpha) #генератор случайных чисел λ2 ∼ Exp(α)\n",
    "# априорное распределение для второго варианта поведения\n",
    "tau = pm.DiscreteUniform(\"tau\", lower=0, upper=n_count_data) #генератор случайных чисел P(τ = k) = 1 / 74 [τ ∼ DiscreteUniform(1, 74)]\n",
    "# априорное распределение для дня смены поведения"
   ]
  },
  {
   "cell_type": "raw",
   "metadata": {},
   "source": [
    "В этом коде мы создали случайные переменные PyMC, соответствующие λ1 и λ2. Мы присвоили их стохастическим переменным (stochastic variables) PyMC, получившим такое название потому, что прикладная часть рассматривает их как генераторы случайных чисел."
   ]
  },
  {
   "cell_type": "code",
   "execution_count": 28,
   "metadata": {},
   "outputs": [
    {
     "data": {
      "image/png": "[encoded data removed]",
      "text/plain": [
       "<Figure size 900x288 with 1 Axes>"
      ]
     },
     "metadata": {
      "needs_background": "light"
     },
     "output_type": "display_data"
    },
    {
     "data": {
      "image/png": "[encoded data removed]",
      "text/plain": [
       "<Figure size 900x288 with 1 Axes>"
      ]
     },
     "metadata": {
      "needs_background": "light"
     },
     "output_type": "display_data"
    },
    {
     "data": {
      "image/png": "[encoded data removed]",
      "text/plain": [
       "<Figure size 900x288 with 1 Axes>"
      ]
     },
     "metadata": {
      "needs_background": "light"
     },
     "output_type": "display_data"
    }
   ],
   "source": [
    "%matplotlib inline\n",
    "from IPython.core.pylabtools import figsize\n",
    "import matplotlib.pyplot as plt\n",
    "\n",
    "figsize(12.5,4)\n",
    "#plt.rcParams['savefig.dpi'] = 300\n",
    "#plt.rcParams['figure.dpi'] = 300\n",
    "\n",
    "samples1 = [float(lambda_1.random()) for i in range(20000)]\n",
    "plt.hist(samples1, bins=70, color='#348ABD',alpha=.33)\n",
    "plt.title(\"Априорное распределение $\\lambda_1$\")\n",
    "plt.xlabel(\"Значение\")\n",
    "plt.ylabel(\"Плотность распределения\")\n",
    "plt.show()\n",
    "\n",
    "samples2 = [float(lambda_2.random()) for i in range(20000)]\n",
    "plt.hist(samples2, bins=70, color='#A60628',alpha=.33)\n",
    "plt.title(\"Априорное распределение $\\lambda_2$\")\n",
    "plt.xlabel(\"Значение\")\n",
    "plt.ylabel(\"Плотность распределения\")\n",
    "plt.show()\n",
    "\n",
    "samples2 = [float(tau.random()) for i in range(20000)]\n",
    "plt.hist(samples2, bins=70, color='#ac34bc',alpha=.33)\n",
    "plt.title(\"Априорное распределение \"+chr(964))\n",
    "plt.xlabel(\"Значение\")\n",
    "plt.ylabel(\"Плотность распределения\")\n",
    "plt.xlim(0,70)\n",
    "plt.show()"
   ]
  },
  {
   "cell_type": "code",
   "execution_count": 12,
   "metadata": {},
   "outputs": [
    {
     "data": {
      "text/plain": [
       "(array(6.29011712), array(13), array(19), array(13))"
      ]
     },
     "execution_count": 12,
     "metadata": {},
     "output_type": "execute_result"
    }
   ],
   "source": [
    "# сгенерируем конкретное значение случайной переменной\n",
    "lambda_1.random(), tau.random(),tau.random(),tau.random()"
   ]
  },
  {
   "cell_type": "code",
   "execution_count": 21,
   "metadata": {},
   "outputs": [],
   "source": [
    "@pm.deterministic\n",
    "def lambda_(tau=tau, lambda_1=lambda_1, lambda_2=lambda_2):\n",
    "    out = np.zeros(n_count_data)   # количество точек данных\n",
    "    out[:tau] = lambda_1   # lambda до дня tau равна lambda_1\n",
    "    out[tau:] = lambda_2   # lambda после дня tau (и включая его) равна lambda_2\n",
    "    return out"
   ]
  },
  {
   "cell_type": "code",
   "execution_count": 31,
   "metadata": {},
   "outputs": [
    {
     "data": {
      "text/plain": [
       "array([46.50695704, 46.50695704, 46.50695704, 46.50695704, 46.50695704,\n",
       "       46.50695704, 46.50695704, 46.50695704, 46.50695704, 46.50695704,\n",
       "       46.50695704, 46.50695704, 46.50695704, 46.50695704, 46.50695704,\n",
       "       46.50695704, 46.50695704, 46.50695704, 46.50695704, 46.50695704,\n",
       "       46.50695704, 46.50695704, 46.50695704, 46.50695704, 46.50695704,\n",
       "       46.50695704, 46.50695704, 46.50695704, 46.50695704, 46.50695704,\n",
       "       46.50695704, 46.50695704,  1.34969107,  1.34969107,  1.34969107,\n",
       "        1.34969107,  1.34969107,  1.34969107,  1.34969107,  1.34969107,\n",
       "        1.34969107,  1.34969107,  1.34969107,  1.34969107,  1.34969107,\n",
       "        1.34969107,  1.34969107,  1.34969107,  1.34969107,  1.34969107,\n",
       "        1.34969107,  1.34969107,  1.34969107,  1.34969107,  1.34969107,\n",
       "        1.34969107,  1.34969107,  1.34969107,  1.34969107,  1.34969107,\n",
       "        1.34969107,  1.34969107,  1.34969107,  1.34969107,  1.34969107,\n",
       "        1.34969107,  1.34969107,  1.34969107,  1.34969107,  1.34969107,\n",
       "        1.34969107,  1.34969107,  1.34969107,  1.34969107])"
      ]
     },
     "execution_count": 31,
     "metadata": {},
     "output_type": "execute_result"
    }
   ],
   "source": [
    "lambda_.value"
   ]
  },
  {
   "cell_type": "raw",
   "metadata": {},
   "source": [
    "В этом коде создается новая функция lambda_, которую на самом деле можно считать случайной переменной — той самой вышеупомянутой случайной переменной λ. Замечу, \n",
    "что в силу случайности переменных lambda_1, lambda_2 и tau переменная lambda_ также будет случайной. Пока мы не фиксируем значений никаких переменных.\n",
    "\n",
    "@pm.deterministic — декоратор, указывающий PyMC, что эта функция — детерминистичная. То есть при детерминированных аргументах (а в данном случае это не так) возвращаемый функцией результат также будет детерминированным."
   ]
  },
  {
   "cell_type": "code",
   "execution_count": 25,
   "metadata": {},
   "outputs": [],
   "source": [
    "observation = pm.Poisson(\"obs\", lambda_, value=count_data, observed=True)\n",
    "model = pm.Model([observation, lambda_1, lambda_2, tau])"
   ]
  },
  {
   "cell_type": "raw",
   "metadata": {},
   "source": [
    "В переменной observation наши данные, count_data, сочетаются посредством ключевого слова value с предлагаемой схемой генерации данных, которая задается переменной lambda_. Параметр observed=True указывает PyMC, что значение переменной observation не должно меняться в ходе нашего анализа. И наконец, мы собираем все интересующие нас переменные и создаем на их основе экземпляр Model. Это облегчит извлечение результатов."
   ]
  },
  {
   "cell_type": "raw",
   "metadata": {},
   "source": [
    "Объяснения к следующему коду вы найдете в главе 3, но я привожу его здесь, чтобы было понятно, откуда взялись получившиеся результаты. \n",
    "\n",
    "Его можно считать этапом обучения. \n",
    "\n",
    "Используемый математический аппарат называется \n",
    "методом Монте-Карло по схеме марковской цепи (Markov Chain Monte-Carlo, MCMC), о нем мы также поговорим в главе 3. Данный подход возвращает тысячи случайных переменных из апостериорных распределений λ1, λ2 и τ. Чтобы посмотреть, как выглядят эти апостериорные распределения, можно построить гистограмму. Далее мы собираем выборки (в литературе по MCMC называемые следами (traces)) в гистограммы. Результаты показаны на рис. 1.6."
   ]
  },
  {
   "cell_type": "code",
   "execution_count": 70,
   "metadata": {},
   "outputs": [
    {
     "name": "stderr",
     "output_type": "stream",
     "text": [
      "C:\\ProgramData\\Anaconda3\\lib\\site-packages\\pymc\\MCMC.py:81: UserWarning: Instantiating a Model object directly is deprecated. We recommend passing variables directly to the Model subclass.\n",
      "  warnings.warn(message)\n"
     ]
    },
    {
     "name": "stdout",
     "output_type": "stream",
     "text": [
      " [-----------------100%-----------------] 40000 of 40000 complete in 10.5 sec"
     ]
    }
   ],
   "source": [
    "# Таинственный код, который я поясню в главе 3.\n",
    "# Достаточно сказать, что мы получим 30 000 (40 000 минус 10 000) выборок.\n",
    "mcmc = pm.MCMC(model)\n",
    "mcmc.sample(40000, 10000)"
   ]
  },
  {
   "cell_type": "code",
   "execution_count": 71,
   "metadata": {},
   "outputs": [
    {
     "data": {
      "image/png": "[encoded data removed]",
      "text/plain": [
       "<Figure size 1044x720 with 3 Axes>"
      ]
     },
     "metadata": {
      "needs_background": "light"
     },
     "output_type": "display_data"
    }
   ],
   "source": [
    "lambda_1_samples = mcmc.trace('lambda_1')[:]\n",
    "lambda_2_samples = mcmc.trace('lambda_2')[:]\n",
    "tau_samples = mcmc.trace('tau')[:]\n",
    "\n",
    "figsize(14.5, 10)\n",
    "\n",
    "# Гистограмма выборок\n",
    "\n",
    "ax = plt.subplot(311)\n",
    "ax.set_autoscaley_on(True)\n",
    "\n",
    "plt.hist(lambda_1_samples, histtype='stepfilled', bins=30, alpha=0.85,\n",
    "         label=r\"апостериорное распределение $\\lambda_1$\", color=\"#A60628\",\n",
    "         )\n",
    "plt.legend(loc=\"upper left\")\n",
    "plt.title(r\"Апостериорные распределения параметров $\\lambda_1; \\lambda_2; \\tau $\")\n",
    "plt.xlim([15, 30])\n",
    "plt.xlabel(r\"Значение $\\lambda_1$\")\n",
    "plt.ylabel(\"Плотность\")\n",
    "\n",
    "ax = plt.subplot(312)\n",
    "ax.set_autoscaley_on(True)\n",
    "plt.hist(lambda_2_samples, histtype='stepfilled', bins=30, alpha=0.85,\n",
    "         label=r\"апостериорное распределение $\\lambda_2$\", color=\"#7A68A6\",\n",
    "         )\n",
    "plt.legend(loc=\"upper left\")\n",
    "plt.xlim([15, 30])\n",
    "plt.xlabel(r\"Значение $\\lambda_2$\")\n",
    "plt.ylabel(\"Плотность\")\n",
    "\n",
    "plt.subplot(313)\n",
    "w = 1.0 / tau_samples.shape[0] * np.ones_like(tau_samples)\n",
    "plt.hist(tau_samples, bins=n_count_data, alpha=1,\n",
    "         label=r\"апостериорное распределение $\\tau$\", color=\"#467821\",\n",
    "         weights=w, rwidth=2.)\n",
    "plt.xticks(np.arange(n_count_data))\n",
    "plt.legend(loc=\"upper left\")\n",
    "plt.ylim([0, .75])\n",
    "plt.xlim([35, len(count_data)-20])\n",
    "plt.xlabel(r\"$\\tau$ (в днях)\")\n",
    "plt.ylabel(\"Вероятность\");"
   ]
  },
  {
   "cell_type": "markdown",
   "metadata": {},
   "source": [
    "1.4.3.  Толкование результатов"
   ]
  },
  {
   "cell_type": "raw",
   "metadata": {},
   "source": [
    "Напомню, что в результате применения байесовской методики получается распределение. Следовательно, у нас теперь есть распределения, описывающие неизвестные λ и τ. Что это нам дает? \n",
    "\n",
    "Во-первых, в наших оценках сразу же видна неопределенность: чем шире распределение, тем меньше должна быть наша апостериорная уверенность. \n",
    "\n",
    "Далее мы видим подходящие значения для параметров: \n",
    "λ1 — около 18, а λ2 — около 23. Апостериорные распределения совершенно явно различаются, указывая на вполне вероятное изменение характера обмена текстовыми сообщениями.\n",
    "\n",
    "Какие еще выводы можно сделать? Обоснованными ли выглядят эти результаты в свете исходных данных?\n",
    "\n",
    "Отмечу также, что апостериорные распределения для параметров λ не похожи на экспоненциальные, хотя априорные для соответствующих величин были экспоненциальными. На самом деле форма апостериорных распределений не похожа на \n",
    "что-либо из начальной модели. Но это нормально! Это как раз одно из достоинств точки зрения, основанной на вычислениях. При чисто математическом анализе мы пришли бы к невыразимому аналитически (и очень запутанному) распределению. \n",
    "А при вычислительном подходе возможность аналитического выражения для нас неважна.\n",
    "\n",
    "В результате нашего анализа мы получили также распределение для τ. Его апостериорное распределение выглядит несколько иначе, чем два остальных, поскольку τ — дискретная случайная переменная и вероятности по интервалам для нее не задаются. Как видим, в районе 45-го дня вероятность изменения характера обмена сообщениями составляет 50 %. Если бы такого изменения не произошло или оно оказалось более плавным, то апостериорное распределение τ получилось бы размазанным в силу того, что многие дни потенциально подходили бы в качестве возможного τ. В то же время из фактических результатов видно, что только три или четыре дня хоть как-то подходят на роль точки ветвления."
   ]
  },
  {
   "cell_type": "markdown",
   "metadata": {},
   "source": [
    "1.4.4. Какую пользу могут принести выборки из апостериорного распределения?"
   ]
  },
  {
   "cell_type": "markdown",
   "metadata": {},
   "source": [
    "Мы будем пытаться ответить на вынесенный в заголовок вопрос на протяжении всей оставшейся части книги, и будет преуменьшением сказать, что это даст потрясающие результаты. \n"
   ]
  },
  {
   "cell_type": "raw",
   "metadata": {},
   "source": [
    "А пока что в завершение этой главы приведу еще один пример.\n",
    "\n",
    "Мы воспользуемся выборками (результатами извлечения (выбора)) из апостериорного распределения для ответа на следующий вопрос: каково ожидаемое количество текстовых сообщений в день t, 0 ≤ t ≤ 70? Напомню, что математическое ожидание пуассоновской величины равно ее параметру λ. Следовательно, вышеприведенный вопрос можно переформулировать следующим образом: каково ожидаемое значение λ в момент t?\n",
    "В следующем коде пусть i будет индексом для выборок из апостериорных распределений. Для заданного дня t мы усредняем значение по всем возможным λi, где λi = λ1,i\n",
    "при t < τi (то есть до изменения поведения пользователя) и λi = λ2,i в противном случае."
   ]
  },
  {
   "cell_type": "code",
   "execution_count": 47,
   "metadata": {},
   "outputs": [
    {
     "name": "stdout",
     "output_type": "stream",
     "text": [
      "[17.76790389 17.76790389 17.76790389 17.76790389 17.76790389 17.76790389\n",
      " 17.76790389 17.76790389 17.76790389 17.76790389 17.76790389 17.76790389\n",
      " 17.76790389 17.76790389 17.76790389 17.76790389 17.76790389 17.76790389\n",
      " 17.76790389 17.76790389 17.76790389 17.76790389 17.76790389 17.76790389\n",
      " 17.76790389 17.76790389 17.76790389 17.76790389 17.76788244 17.76779744\n",
      " 17.76774063 17.76770526 17.76764741 17.76758656 17.76759276 17.76759276\n",
      " 17.76759896 17.7679832  17.76827017 17.76907007 17.76960753 17.77345877\n",
      " 17.92308275 18.4253924  20.20530711 22.71546133 22.71555934 22.71555934\n",
      " 22.71555934 22.71555934 22.71555934 22.71555934 22.71555934 22.71555934\n",
      " 22.71555934 22.71555934 22.71555934 22.71555934 22.71555934 22.71555934\n",
      " 22.71555934 22.71555934 22.71555934 22.71555934 22.71555934 22.71555934\n",
      " 22.71555934 22.71555934 22.71555934 22.71555934 22.71555934 22.71555934\n",
      " 22.71555934 22.71555934]\n"
     ]
    },
    {
     "data": {
      "image/png": "[encoded data removed]",
      "text/plain": [
       "<Figure size 900x360 with 1 Axes>"
      ]
     },
     "metadata": {
      "needs_background": "light"
     },
     "output_type": "display_data"
    }
   ],
   "source": [
    "figsize(12.5, 5)\n",
    "# tau_samples, lambda_1_samples, lambda_2_samples содержат\n",
    "# N выборок из соответствующего апостериорного распределения.\n",
    "N = tau_samples.shape[0]\n",
    "expected_texts_per_day = np.zeros(n_count_data) # Число точек данных\n",
    "for day in range(0, n_count_data):\n",
    "    # ix — булев индекс всех выборок tau, соответствующих точке\n",
    "    # ветвления, имевшей место ранее для значения \"дня\"\n",
    "    ix = day < tau_samples\n",
    "    # Каждая апостериорная выборка соответствует какому-то значению tau.\n",
    "    # Для каждого дня это значение tau указывает, находимся ли мы \"до\"\n",
    "    # (в режиме lambda_1) или \"после\" (в режиме lambda_2) точки ветвления.\n",
    "    # Путем взятия апостериорных выборок соответственно lambda_1/2\n",
    "    # можно посредством усреднения по всем выборкам\n",
    "     # получить математическое ожидание lambda для конкретного дня.\n",
    "    # Как я уже объяснял, случайная переменная для \"числа сообщений\"\n",
    "    # распределена по закону Пуассона, а значит, lambda (параметр закона\n",
    "    # Пуассона) равен математическому ожиданию \"числа сообщений\".\n",
    "    expected_texts_per_day[day] = (lambda_1_samples[ix].sum()\n",
    "                                   + lambda_2_samples[~ix].sum()) / N\n",
    "plt.plot(range(n_count_data), expected_texts_per_day, lw=4,\n",
    "         color=\"#E24A33\", label=u\"Ожидаемое число полученных сообщений\")\n",
    "plt.xlim(0, n_count_data)\n",
    "plt.xlabel(u\"День\")\n",
    "plt.ylabel(u\"Количество текстовых сообщений \")\n",
    "plt.title(u\"Число полученных текстовых сообщений по сравнению с ожидаемым\")\n",
    "plt.ylim(0, 60)\n",
    "plt.bar(np.arange(len(count_data)), count_data, color=\"#348ABD\",\n",
    "        alpha=0.65, label=u\"зарегистрированное число текстовых сообщений в день\")\n",
    "plt.legend(loc=\"upper left\")\n",
    "print (expected_texts_per_day)"
   ]
  },
  {
   "cell_type": "raw",
   "metadata": {},
   "source": [
    "Приведенные на рисунке результаты уверенно демонстрируют влияние точки ветвления. Впрочем, к этим результатам следует относиться с осторожностью; в линии, отражающей «ожидаемое число полученных сообщений», отсутствует неопределенность, а нам хотелось бы ее видеть. Наш анализ дает серьезные осно-\n",
    "вания полагать, что поведение пользователя менялось (если бы это было не так, то значение λ1 было бы ближе к λ2), причем изменение было резким, а не постепенным (что демонстрирует выраженный пик апостериорного распределения τ). Можно \n",
    "только догадываться, что привело к этому изменению: понижение стоимости текстовых сообщений, подписка на прогноз погоды в текстовых сообщениях или новые романтические отношения."
   ]
  },
  {
   "cell_type": "markdown",
   "metadata": {},
   "source": [
    "1.5.  Выводы"
   ]
  },
  {
   "cell_type": "raw",
   "metadata": {},
   "source": [
    "В этой главе мы поговорили о различиях между мировоззрением сторонников частотного подхода и байесовского толкования вероятностей. Вы познакомились с двумя важными распределениями вероятностей: пуассоновским и экспонен-\n",
    "циальным. Этими «кирпичиками» мы воспользуемся для создания новых байесовских моделей, подобно вышеприведенному примеру с обменом текстовыми сообщениями. В главе 2 мы рассмотрим еще несколько схем моделирования и применения PyMC."
   ]
  },
  {
   "cell_type": "markdown",
   "metadata": {},
   "source": [
    "1.6.  Приложение"
   ]
  },
  {
   "cell_type": "raw",
   "metadata": {},
   "source": [
    "1.6.1.Статистическое определение фактического различия двух параметров λ"
   ]
  },
  {
   "cell_type": "raw",
   "metadata": {},
   "source": [
    "В примере с обменом текстовыми сообщениями мы объявили параметры λ1 и λ2 различными на основе визуального изучения их апостериорных распределений. \n",
    "Этого было достаточно в силу визуальной отдаленности. А если бы это было не так? Что, если бы распределения частично пересекались? Как формализовать принятие этого решения?\n",
    "Одно из возможных решений: вычислить вероятность P(λ1 < λ2 | данные), то есть определить, какова вероятность того, что при наблюдаемых данных фактическое значение λ1 меньше, чем λ2. Если это число близко к 50 % (что не лучше гадания \n",
    "путем подбрасывания монеты), то уверенности в том, что они действительно различаются, нет. Если же оно близко к 100 %, то наша уверенность в сильном различии двух фактических значений очень сильна. Вычислить этот показатель с помощью выборок из апостериорных распределений очень просто — достаточно определить количество случаев, когда выборка из апостериорного распределения λ1 меньше, чем для λ2:"
   ]
  },
  {
   "cell_type": "code",
   "execution_count": 48,
   "metadata": {},
   "outputs": [
    {
     "name": "stdout",
     "output_type": "stream",
     "text": [
      "[ True  True  True ...  True  True  True]\n"
     ]
    }
   ],
   "source": [
    "print (lambda_1_samples < lambda_2_samples)\n",
    "# Булев массив: True, если lambda_1 меньше lambda_2."
   ]
  },
  {
   "cell_type": "code",
   "execution_count": 49,
   "metadata": {},
   "outputs": [
    {
     "name": "stdout",
     "output_type": "stream",
     "text": [
      "29989\n",
      "30000\n"
     ]
    }
   ],
   "source": [
    "# Насколько часто это имеет место?\n",
    "print ((lambda_1_samples < lambda_2_samples).sum())\n",
    "# Каково число выборок?\n",
    "print (lambda_1_samples.shape[0])"
   ]
  },
  {
   "cell_type": "code",
   "execution_count": 50,
   "metadata": {},
   "outputs": [
    {
     "data": {
      "text/plain": [
       "0.9996333333333334"
      ]
     },
     "execution_count": 50,
     "metadata": {},
     "output_type": "execute_result"
    }
   ],
   "source": [
    "# Полученное отношение равно искомой вероятности. \n",
    "# Или можно просто воспользоваться методом mean():\n",
    "(lambda_1_samples < lambda_2_samples).mean()"
   ]
  },
  {
   "cell_type": "raw",
   "metadata": {},
   "source": [
    "Итак, вероятность равна почти 100%, и мы можем быть твердо уверены в различии этих двух значений.\n",
    "Можно задаться и более сложными вопросами, например: «Какова вероятность того, что значения различаются по крайней мере на 1? На 2? На 5? На 10?»"
   ]
  },
  {
   "cell_type": "code",
   "execution_count": 51,
   "metadata": {},
   "outputs": [
    {
     "name": "stdout",
     "output_type": "stream",
     "text": [
      "Какова вероятность того, что значения различаются более           чем на 1? 1.00\n",
      "Какова вероятность того, что значения различаются более           чем на 2? 1.00\n",
      "Какова вероятность того, что значения различаются более           чем на 5? 0.49\n",
      "Какова вероятность того, что значения различаются более           чем на 10? 0.00\n"
     ]
    }
   ],
   "source": [
    "# Вектор abs(lambda_1_samples - lambda_2_samples) > 1 состоит\n",
    "# из булевых значений, True — если значения различаются \n",
    "# по крайней мере на 1, False — в противном случае.\n",
    "# Насколько часто это имеет место? Воспользуемся .mean()\n",
    "for d in [1,2,5,10]:\n",
    "    v = (abs(lambda_1_samples - lambda_2_samples) >= d).mean()\n",
    "    print (\"Какова вероятность того, что значения различаются более \\\n",
    "          чем на %d? %.2f\"%(d,v))"
   ]
  },
  {
   "cell_type": "markdown",
   "metadata": {},
   "source": [
    "1.6.2.  Обобщаем на случай двух точек ветвления"
   ]
  },
  {
   "cell_type": "raw",
   "metadata": {},
   "source": [
    "Возможно, вам интересно, как можно обобщить предыдущую модель на случай нескольких точек ветвления или, возможно, поставить под вопрос наличие только одной точки ветвления. Начнем с обобщения модели на две точки ветвления (что\n",
    "влечет за собой наличие трех параметров λi). Модель выглядит очень похожей на предыдущую:\n",
    "     _\n",
    "    |  λ1, если t < τ1\n",
    "λ = |  λ2, если τ1 =< t =< τ2\n",
    "    |_ λ3, если t >= τ2"
   ]
  },
  {
   "cell_type": "raw",
   "metadata": {},
   "source": [
    "где \n",
    "λ1 ∼ Exp(α), λ2 ∼ Exp(α),λ3 ∼ Exp(α) и\n",
    "\n",
    "τ1 ∼ DiscreteUniform(1, 69), τ2 ∼ DiscreteUniform(τ1, 70).\n",
    "\n",
    "Давайте запрограммируем эту модель. \n",
    "Код тоже очень похож на предыдущий:"
   ]
  },
  {
   "cell_type": "code",
   "execution_count": 73,
   "metadata": {},
   "outputs": [],
   "source": [
    "alpha = 1.0/count_data.mean() # α = 1/E[Z|α] ~ 1/Sum(Ci)/N. Напомню, что count_data — переменная, \n",
    "                              # хранящая количество текстовых сообщений"
   ]
  },
  {
   "cell_type": "code",
   "execution_count": 74,
   "metadata": {},
   "outputs": [
    {
     "data": {
      "text/plain": [
       "0.05065023956194388"
      ]
     },
     "execution_count": 74,
     "metadata": {},
     "output_type": "execute_result"
    }
   ],
   "source": [
    "alpha"
   ]
  },
  {
   "cell_type": "code",
   "execution_count": 75,
   "metadata": {},
   "outputs": [],
   "source": [
    "import numpy as np\n",
    "\n",
    "lambda_1 = pm.Exponential('lambda_1', alpha)# случ.перем-я ген.сл.чисел λi∼Exp(α)\n",
    "lambda_2 = pm.Exponential('lambda_2', alpha)\n",
    "lambda_3 = pm.Exponential('lambda_3', alpha)\n",
    "\n",
    "tau_1 = pm.DiscreteUniform('tau_1', lower = 0, upper = n_count_data - 1)\n",
    "tau_2 = pm.DiscreteUniform('tau_2', lower = tau_1, upper = n_count_data)\n",
    "\n",
    "@pm.deterministic\n",
    "def lambda_ (tau_1 = tau_1, tau_2 = tau_2,\n",
    "             lambda_1 = lambda_1, lambda_2 = lambda_2,\n",
    "             lambda_3 = lambda_3):\n",
    "    out = np.zeros(n_count_data)# Количество точек ветвления\n",
    "    out[:tau_1] = lambda_1 #lambda до точки tau равна lambda_1\n",
    "    out[tau_1:tau_2] = lambda_2 #lambda от точки tau_1 (включая) и до tau_2 равна lambda_2\n",
    "    out[tau_2:] = lambda_3 # lambda после tau_2 (включая её) равна lambda_3\n",
    "    return out"
   ]
  },
  {
   "cell_type": "code",
   "execution_count": 76,
   "metadata": {},
   "outputs": [
    {
     "name": "stderr",
     "output_type": "stream",
     "text": [
      "C:\\ProgramData\\Anaconda3\\lib\\site-packages\\pymc\\MCMC.py:81: UserWarning: Instantiating a Model object directly is deprecated. We recommend passing variables directly to the Model subclass.\n",
      "  warnings.warn(message)\n"
     ]
    },
    {
     "name": "stdout",
     "output_type": "stream",
     "text": [
      " [-----------------100%-----------------] 40000 of 40000 complete in 19.8 sec"
     ]
    }
   ],
   "source": [
    "observation = pm.Poisson('obs',lambda_,value = count_data, observed = True)\n",
    "model = pm.Model([observation, lambda_1, lambda_2, lambda_3, tau_1, tau_2])\n",
    "mcmc = pm.MCMC(model)\n",
    "mcmc.sample(40000,10000)"
   ]
  },
  {
   "cell_type": "code",
   "execution_count": 85,
   "metadata": {},
   "outputs": [
    {
     "ename": "ValueError",
     "evalue": "num must be 1 <= num <= 3, not 4",
     "output_type": "error",
     "traceback": [
      "\u001b[1;31m---------------------------------------------------------------------------\u001b[0m",
      "\u001b[1;31mValueError\u001b[0m                                Traceback (most recent call last)",
      "\u001b[1;32m<ipython-input-85-8945cfdcd715>\u001b[0m in \u001b[0;36m<module>\u001b[1;34m\u001b[0m\n\u001b[0;32m     52\u001b[0m \u001b[0mfigsize\u001b[0m\u001b[1;33m(\u001b[0m\u001b[1;36m14.5\u001b[0m\u001b[1;33m,\u001b[0m \u001b[1;36m10\u001b[0m\u001b[1;33m)\u001b[0m\u001b[1;33m\u001b[0m\u001b[1;33m\u001b[0m\u001b[0m\n\u001b[0;32m     53\u001b[0m \u001b[1;33m\u001b[0m\u001b[0m\n\u001b[1;32m---> 54\u001b[1;33m \u001b[0max1\u001b[0m \u001b[1;33m=\u001b[0m \u001b[0mplt\u001b[0m\u001b[1;33m.\u001b[0m\u001b[0msubplot\u001b[0m\u001b[1;33m(\u001b[0m\u001b[1;36m314\u001b[0m\u001b[1;33m)\u001b[0m\u001b[1;33m\u001b[0m\u001b[1;33m\u001b[0m\u001b[0m\n\u001b[0m\u001b[0;32m     55\u001b[0m \u001b[0max1\u001b[0m\u001b[1;33m.\u001b[0m\u001b[0mset_autoscaley_on\u001b[0m\u001b[1;33m(\u001b[0m\u001b[1;32mTrue\u001b[0m\u001b[1;33m)\u001b[0m\u001b[1;33m\u001b[0m\u001b[1;33m\u001b[0m\u001b[0m\n\u001b[0;32m     56\u001b[0m \u001b[1;33m\u001b[0m\u001b[0m\n",
      "\u001b[1;32mC:\\ProgramData\\Anaconda3\\lib\\site-packages\\matplotlib\\pyplot.py\u001b[0m in \u001b[0;36msubplot\u001b[1;34m(*args, **kwargs)\u001b[0m\n\u001b[0;32m   1140\u001b[0m \u001b[1;33m\u001b[0m\u001b[0m\n\u001b[0;32m   1141\u001b[0m     \u001b[0mfig\u001b[0m \u001b[1;33m=\u001b[0m \u001b[0mgcf\u001b[0m\u001b[1;33m(\u001b[0m\u001b[1;33m)\u001b[0m\u001b[1;33m\u001b[0m\u001b[1;33m\u001b[0m\u001b[0m\n\u001b[1;32m-> 1142\u001b[1;33m     \u001b[0max\u001b[0m \u001b[1;33m=\u001b[0m \u001b[0mfig\u001b[0m\u001b[1;33m.\u001b[0m\u001b[0madd_subplot\u001b[0m\u001b[1;33m(\u001b[0m\u001b[1;33m*\u001b[0m\u001b[0margs\u001b[0m\u001b[1;33m,\u001b[0m \u001b[1;33m**\u001b[0m\u001b[0mkwargs\u001b[0m\u001b[1;33m)\u001b[0m\u001b[1;33m\u001b[0m\u001b[1;33m\u001b[0m\u001b[0m\n\u001b[0m\u001b[0;32m   1143\u001b[0m     \u001b[0mbbox\u001b[0m \u001b[1;33m=\u001b[0m \u001b[0max\u001b[0m\u001b[1;33m.\u001b[0m\u001b[0mbbox\u001b[0m\u001b[1;33m\u001b[0m\u001b[1;33m\u001b[0m\u001b[0m\n\u001b[0;32m   1144\u001b[0m     \u001b[0maxes_to_delete\u001b[0m \u001b[1;33m=\u001b[0m \u001b[1;33m[\u001b[0m\u001b[1;33m]\u001b[0m\u001b[1;33m\u001b[0m\u001b[1;33m\u001b[0m\u001b[0m\n",
      "\u001b[1;32mC:\\ProgramData\\Anaconda3\\lib\\site-packages\\matplotlib\\figure.py\u001b[0m in \u001b[0;36madd_subplot\u001b[1;34m(self, *args, **kwargs)\u001b[0m\n\u001b[0;32m   1400\u001b[0m                     \u001b[1;31m# more similar to add_axes.\u001b[0m\u001b[1;33m\u001b[0m\u001b[1;33m\u001b[0m\u001b[1;33m\u001b[0m\u001b[0m\n\u001b[0;32m   1401\u001b[0m                     \u001b[0mself\u001b[0m\u001b[1;33m.\u001b[0m\u001b[0m_axstack\u001b[0m\u001b[1;33m.\u001b[0m\u001b[0mremove\u001b[0m\u001b[1;33m(\u001b[0m\u001b[0max\u001b[0m\u001b[1;33m)\u001b[0m\u001b[1;33m\u001b[0m\u001b[1;33m\u001b[0m\u001b[0m\n\u001b[1;32m-> 1402\u001b[1;33m             \u001b[0max\u001b[0m \u001b[1;33m=\u001b[0m \u001b[0msubplot_class_factory\u001b[0m\u001b[1;33m(\u001b[0m\u001b[0mprojection_class\u001b[0m\u001b[1;33m)\u001b[0m\u001b[1;33m(\u001b[0m\u001b[0mself\u001b[0m\u001b[1;33m,\u001b[0m \u001b[1;33m*\u001b[0m\u001b[0margs\u001b[0m\u001b[1;33m,\u001b[0m \u001b[1;33m**\u001b[0m\u001b[0mkwargs\u001b[0m\u001b[1;33m)\u001b[0m\u001b[1;33m\u001b[0m\u001b[1;33m\u001b[0m\u001b[0m\n\u001b[0m\u001b[0;32m   1403\u001b[0m \u001b[1;33m\u001b[0m\u001b[0m\n\u001b[0;32m   1404\u001b[0m         \u001b[1;32mreturn\u001b[0m \u001b[0mself\u001b[0m\u001b[1;33m.\u001b[0m\u001b[0m_add_axes_internal\u001b[0m\u001b[1;33m(\u001b[0m\u001b[0mkey\u001b[0m\u001b[1;33m,\u001b[0m \u001b[0max\u001b[0m\u001b[1;33m)\u001b[0m\u001b[1;33m\u001b[0m\u001b[1;33m\u001b[0m\u001b[0m\n",
      "\u001b[1;32mC:\\ProgramData\\Anaconda3\\lib\\site-packages\\matplotlib\\axes\\_subplots.py\u001b[0m in \u001b[0;36m__init__\u001b[1;34m(self, fig, *args, **kwargs)\u001b[0m\n\u001b[0;32m     37\u001b[0m \u001b[1;33m\u001b[0m\u001b[0m\n\u001b[0;32m     38\u001b[0m         \u001b[0mself\u001b[0m\u001b[1;33m.\u001b[0m\u001b[0mfigure\u001b[0m \u001b[1;33m=\u001b[0m \u001b[0mfig\u001b[0m\u001b[1;33m\u001b[0m\u001b[1;33m\u001b[0m\u001b[0m\n\u001b[1;32m---> 39\u001b[1;33m         \u001b[0mself\u001b[0m\u001b[1;33m.\u001b[0m\u001b[0m_subplotspec\u001b[0m \u001b[1;33m=\u001b[0m \u001b[0mSubplotSpec\u001b[0m\u001b[1;33m.\u001b[0m\u001b[0m_from_subplot_args\u001b[0m\u001b[1;33m(\u001b[0m\u001b[0mfig\u001b[0m\u001b[1;33m,\u001b[0m \u001b[0margs\u001b[0m\u001b[1;33m)\u001b[0m\u001b[1;33m\u001b[0m\u001b[1;33m\u001b[0m\u001b[0m\n\u001b[0m\u001b[0;32m     40\u001b[0m         \u001b[0mself\u001b[0m\u001b[1;33m.\u001b[0m\u001b[0mupdate_params\u001b[0m\u001b[1;33m(\u001b[0m\u001b[1;33m)\u001b[0m\u001b[1;33m\u001b[0m\u001b[1;33m\u001b[0m\u001b[0m\n\u001b[0;32m     41\u001b[0m         \u001b[1;31m# _axes_class is set in the subplot_class_factory\u001b[0m\u001b[1;33m\u001b[0m\u001b[1;33m\u001b[0m\u001b[1;33m\u001b[0m\u001b[0m\n",
      "\u001b[1;32mC:\\ProgramData\\Anaconda3\\lib\\site-packages\\matplotlib\\gridspec.py\u001b[0m in \u001b[0;36m_from_subplot_args\u001b[1;34m(figure, args)\u001b[0m\n\u001b[0;32m    687\u001b[0m                     \u001b[0mnum\u001b[0m \u001b[1;33m=\u001b[0m \u001b[0mint\u001b[0m\u001b[1;33m(\u001b[0m\u001b[0mnum\u001b[0m\u001b[1;33m)\u001b[0m\u001b[1;33m\u001b[0m\u001b[1;33m\u001b[0m\u001b[0m\n\u001b[0;32m    688\u001b[0m                 \u001b[1;32mif\u001b[0m \u001b[0mnum\u001b[0m \u001b[1;33m<\u001b[0m \u001b[1;36m1\u001b[0m \u001b[1;32mor\u001b[0m \u001b[0mnum\u001b[0m \u001b[1;33m>\u001b[0m \u001b[0mrows\u001b[0m\u001b[1;33m*\u001b[0m\u001b[0mcols\u001b[0m\u001b[1;33m:\u001b[0m\u001b[1;33m\u001b[0m\u001b[1;33m\u001b[0m\u001b[0m\n\u001b[1;32m--> 689\u001b[1;33m                     raise ValueError(\n\u001b[0m\u001b[0;32m    690\u001b[0m                         f\"num must be 1 <= num <= {rows*cols}, not {num}\")\n\u001b[0;32m    691\u001b[0m                 \u001b[1;32mreturn\u001b[0m \u001b[0mgs\u001b[0m\u001b[1;33m[\u001b[0m\u001b[0mnum\u001b[0m \u001b[1;33m-\u001b[0m \u001b[1;36m1\u001b[0m\u001b[1;33m]\u001b[0m   \u001b[1;31m# -1 due to MATLAB indexing.\u001b[0m\u001b[1;33m\u001b[0m\u001b[1;33m\u001b[0m\u001b[0m\n",
      "\u001b[1;31mValueError\u001b[0m: num must be 1 <= num <= 3, not 4"
     ]
    },
    {
     "data": {
      "image/png": "[encoded data removed]",
      "text/plain": [
       "<Figure size 1044x720 with 3 Axes>"
      ]
     },
     "metadata": {
      "needs_background": "light"
     },
     "output_type": "display_data"
    }
   ],
   "source": [
    "lambda_1_samples = mcmc.trace('lambda_1')[:]\n",
    "lambda_2_samples = mcmc.trace('lambda_2')[:]\n",
    "lambda_3_samples = mcmc.trace('lambda_3')[:]\n",
    "tau_1_samples = mcmc.trace('tau_1')[:]\n",
    "tau_2_samples = mcmc.trace('tau_2')[:]\n",
    "\n",
    "figsize(14.5, 10)\n",
    "\n",
    "# Гистограмма выборок\n",
    "#----------------------------lambda_1------------------------------------------- \n",
    "ax = plt.subplot(311)\n",
    "ax.set_autoscaley_on(True)\n",
    "\n",
    "plt.title(r\"Апостериорные распределения параметров $\\lambda_1; \\lambda_2; \\lambda_3; \\tau_1; \\tau_2 $\")\n",
    "\n",
    "plt.hist(lambda_1_samples, histtype='stepfilled', bins=30, alpha=0.85,\n",
    "         label=r\"апостериорное распределение $\\lambda_1$\", color=\"#A60628\",\n",
    "         )\n",
    "plt.legend(loc=\"upper left\")\n",
    "\n",
    "plt.xlim([15, 30])\n",
    "plt.xlabel(r\"Значение $\\lambda_1$\")\n",
    "plt.ylabel(\"Плотность\")\n",
    "\n",
    "\n",
    "#----------------------------lambda_2------------------------------------------- \n",
    "ax = plt.subplot(312)\n",
    "ax.set_autoscaley_on(True)\n",
    "plt.hist(lambda_2_samples, histtype='stepfilled', bins=30, alpha=0.85,\n",
    "         label=r\"апостериорное распределение $\\lambda_2$\", color=\"#7A68A6\",\n",
    "         )\n",
    "plt.legend(loc=\"upper left\")\n",
    "plt.xlim([15, 30])\n",
    "plt.xlabel(r\"Значение $\\lambda_2$\")\n",
    "plt.ylabel(\"Плотность\")\n",
    "\n",
    "#------------------------------lambda_3-----------------------------------------------\n",
    "\n",
    "plt.subplot(313)\n",
    "ax.set_autoscaley_on(True)\n",
    "\n",
    "plt.hist(lambda_3_samples, histtype='stepfilled', bins=30, alpha=0.85,\n",
    "         label=r\"апостериорное распределение $\\lambda_3$\", color=\"#3F153F\",\n",
    "         )\n",
    "plt.legend(loc=\"upper left\")\n",
    "plt.xlim([15, 30])\n",
    "plt.xlabel(r\"Значение $\\lambda_3$\")\n",
    "plt.ylabel(\"Плотность\")\n",
    "\n",
    "\n",
    "#------------------------tau_1----------------------------------------------\n",
    "figsize(14.5, 10)\n",
    "\n",
    "ax1 = plt.subplot(314)\n",
    "ax1.set_autoscaley_on(True)\n",
    "\n",
    "\n",
    "\n",
    "w = 1.0 / tau_1_samples.shape[0] * np.ones_like(tau_1_samples)\n",
    "plt.hist(tau_1_samples, bins=n_count_data, alpha=1,\n",
    "         label=r\"апостериорное распределение $\\tau_1$\", color=\"#A60628\",\n",
    "         weights=w, rwidth=2.)\n",
    "plt.xticks(np.arange(n_count_data))\n",
    "plt.legend(loc=\"upper left\")\n",
    "plt.ylim([0, .75])\n",
    "plt.xlim([35, len(count_data)-20])\n",
    "plt.xlabel(r\"$\\tau_1$ (в днях)\")\n",
    "plt.ylabel(\"Вероятность\");\n",
    "\n",
    "#----------------------------tau_2---------------------------------------------\n",
    "plt.subplot(315)\n",
    "\n",
    "w = 1.0 / tau_2_samples.shape[0] * np.ones_like(tau_2_samples)\n",
    "plt.hist(tau_2_samples, bins=n_count_data, alpha=1,\n",
    "         label=r\"апостериорное распределение $\\tau2$\", color=\"#2A2A00\",\n",
    "         weights=w, rwidth=2.)\n",
    "plt.xticks(np.arange(n_count_data))\n",
    "plt.legend(loc=\"upper left\")\n",
    "plt.ylim([0, .75])\n",
    "plt.xlim([35, len(count_data)-20])\n",
    "plt.xlabel(r\"$\\tau_2$ (в днях)\")\n",
    "plt.ylabel(\"Вероятность\");"
   ]
  },
  {
   "cell_type": "markdown",
   "metadata": {},
   "source": [
    "1.7.  Упражнения"
   ]
  },
  {
   "cell_type": "raw",
   "metadata": {},
   "source": [
    "1.  Каковы при заданных lambda_1_samples и lambda_2_samples средние значения апостериорных распределений λ1 и λ2?\n",
    "2.  Чему равно ожидаемое повышение (в процентах) частоты обмена сообщениями? Подсказка: вычислите среднее значение (lambda_2_samples – lambda_1_samples) / lambda_1_samples. Отмечу, что этот показатель существенно отличается от (lambda_2_samples.mean() – lambda_1_samples.mean()) / lambda_1_samples.mean().\n",
    "3.  Чему равно среднее значение λ1, если известно, что τ меньше 45? То есть предположим, что у нас появилась новая информация о том, что изменение поведения произошло ранее 45-го дня. Чему равно математическое ожидание λ1 в этом случае? (Нет необходимости повторять все действия с PyMC. Достаточно учесть все экземпляры с tau_samples < 45.)"
   ]
  }
 ],
 "metadata": {
  "kernelspec": {
   "display_name": "Python 3",
   "language": "python",
   "name": "python3"
  },
  "language_info": {
   "codemirror_mode": {
    "name": "ipython",
    "version": 3
   },
   "file_extension": ".py",
   "mimetype": "text/x-python",
   "name": "python",
   "nbconvert_exporter": "python",
   "pygments_lexer": "ipython3",
   "version": "3.8.8"
  }
 },
 "nbformat": 4,
 "nbformat_minor": 4
}
