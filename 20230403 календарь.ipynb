{
 "cells": [
  {
   "cell_type": "code",
   "execution_count": 119,
   "id": "3a948663",
   "metadata": {},
   "outputs": [],
   "source": [
    "ind_month = [6, 2, 2, 5, 0, 3, 5, 1, 4, 6, 2, 4]\n",
    "mDays = [31, 28, 31, 30, 31, 30, 31, 31, 30, 31, 30, 31]"
   ]
  },
  {
   "cell_type": "code",
   "execution_count": 120,
   "id": "f5246597",
   "metadata": {},
   "outputs": [],
   "source": [
    "month = 3"
   ]
  },
  {
   "cell_type": "code",
   "execution_count": 121,
   "id": "d4cdad0e",
   "metadata": {},
   "outputs": [],
   "source": [
    "year = 2001"
   ]
  },
  {
   "cell_type": "code",
   "execution_count": 122,
   "id": "9bd9ff18",
   "metadata": {},
   "outputs": [],
   "source": [
    "y = year%100"
   ]
  },
  {
   "cell_type": "code",
   "execution_count": 123,
   "id": "64663f21",
   "metadata": {},
   "outputs": [
    {
     "data": {
      "text/plain": [
       "3"
      ]
     },
     "execution_count": 123,
     "metadata": {},
     "output_type": "execute_result"
    }
   ],
   "source": [
    "# считает количество дней прошлого месяца в 1-й неделе текущего \n",
    "current = y//12 + y%12 + y%12//4 + ind_month[month-1] + (20-year//100)\n",
    "\n",
    "if ((year % 400 == 0) or (year % 4 == 0 and year % 100 != 0)) and month <= 2: \n",
    "    current -= 1\n",
    "current = current%7\n",
    "current"
   ]
  },
  {
   "cell_type": "code",
   "execution_count": 124,
   "id": "8e6bb473",
   "metadata": {},
   "outputs": [
    {
     "data": {
      "text/plain": [
       "31"
      ]
     },
     "execution_count": 124,
     "metadata": {},
     "output_type": "execute_result"
    }
   ],
   "source": [
    "if( month == 2 ): # 1 - это февраль месяц, так как счёт начинается с 0.\n",
    "    if (year % 400 == 0) or (year % 4 == 0 and year % 100 != 0):\n",
    "        days = 29; # Если високосный\n",
    "    else:\n",
    "        days = mDays[month - 1];\n",
    "else:\n",
    "    days = mDays[month - 1];\n",
    "    \n",
    "days"
   ]
  },
  {
   "cell_type": "code",
   "execution_count": 125,
   "id": "18721a62",
   "metadata": {},
   "outputs": [
    {
     "name": "stdout",
     "output_type": "stream",
     "text": [
      "Пн\tВт\tСр\tЧт\tПт\tСб\tВс\n",
      " \t \t \t1\t2\t3\t4\t\n",
      "5\t6\t7\t8\t9\t10\t11\t\n",
      "12\t13\t14\t15\t16\t17\t18\t\n",
      "19\t20\t21\t22\t23\t24\t25\t\n",
      "26\t27\t28\t29\t30\t31\t"
     ]
    }
   ],
   "source": [
    "print(\"Пн\\tВт\\tСр\\tЧт\\tПт\\tСб\\tВс\")\n",
    "\n",
    "for k in range(current):\n",
    "    print(\" \\t\", end = \"\")\n",
    "k+=1\n",
    "\n",
    "for j in range(1,days+1):\n",
    "    print(j, end = '\\t')\n",
    "    k+=1\n",
    "    if (k > 6):\n",
    "        k = 0\n",
    "        print()"
   ]
  },
  {
   "cell_type": "code",
   "execution_count": 128,
   "id": "4df580ca",
   "metadata": {},
   "outputs": [
    {
     "name": "stdout",
     "output_type": "stream",
     "text": [
      " \t \t \t1 Чт\t2 Пт\t3 Сб\t4 Вс\t\n",
      "5 Пн\t6 Вт\t7 Ср\t8 Чт\t9 Пт\t10 Сб\t11 Вс\t\n",
      "12 Пн\t13 Вт\t14 Ср\t15 Чт\t16 Пт\t17 Сб\t18 Вс\t\n",
      "19 Пн\t20 Вт\t21 Ср\t22 Чт\t23 Пт\t24 Сб\t25 Вс\t\n",
      "26 Пн\t27 Вт\t28 Ср\t29 Чт\t30 Пт\t31 Сб\t"
     ]
    }
   ],
   "source": [
    "week_day = ['Пн','Вт','Ср','Чт','Пт','Сб','Вс']\n",
    "\n",
    "for k in range(current):\n",
    "    print(\" \\t\", end = \"\")\n",
    "k+=1\n",
    "\n",
    "for j in range(1,days+1):\n",
    "    print(j,week_day[k], end = '\\t')\n",
    "    k+=1\n",
    "    if (k > 6):\n",
    "        k = 0\n",
    "        print()"
   ]
  },
  {
   "cell_type": "code",
   "execution_count": null,
   "id": "7a4f2f78",
   "metadata": {},
   "outputs": [],
   "source": []
  }
 ],
 "metadata": {
  "kernelspec": {
   "display_name": "Python 3 (ipykernel)",
   "language": "python",
   "name": "python3"
  },
  "language_info": {
   "codemirror_mode": {
    "name": "ipython",
    "version": 3
   },
   "file_extension": ".py",
   "mimetype": "text/x-python",
   "name": "python",
   "nbconvert_exporter": "python",
   "pygments_lexer": "ipython3",
   "version": "3.9.12"
  }
 },
 "nbformat": 4,
 "nbformat_minor": 5
}
