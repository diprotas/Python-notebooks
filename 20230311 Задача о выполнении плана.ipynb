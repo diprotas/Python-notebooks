{
 "cells": [
  {
   "cell_type": "markdown",
   "id": "e7b335e6",
   "metadata": {},
   "source": [
    "В отделе продаж работает $k$ менеджеров продаж. Каждый из них за период может обслужить (в среднем) определенное число клиентов, т.е. производительность $i$-го продажника за период - $\\lambda_i$. Вероятность того, что $i$-й продажник заключит сделку с клиентом равна $p_i$. Найти вероятность того, что отдел продаж за смену выполнит план — заключит не менее $N$ сделок. Найти мат. ожидание и дисперсию числа $X$ — заключенных сделок и числа $Y$ незаключенных сделок за смену."
   ]
  },
  {
   "cell_type": "markdown",
   "id": "37dab10a",
   "metadata": {},
   "source": [
    "# Ответ yndexGPT\n",
    "Вероятность того, что за период будет заключено не менее N сделок, можно найти через вероятность противоположного события - отдел продаж заключит менее N сделок. Используя формулу вероятности суммы независимых событий, мы можем выразить эту вероятность как произведение вероятностей каждого менеджера заключить хотя бы одну сделку:\n",
    "\n",
    "$P(X >= N) = 1 - P(X < N) = 1 - (1 - P(A_1))(1 - P(A_2))… (1 - P(A_k))$\n",
    "\n",
    "где $P(A_i)$ - вероятность $i$-го менеджера заключить сделку.\n",
    "\n",
    "Так как вероятность заключения сделки $i$-м менеджером равна $p_i$, то получим:\n",
    "\n",
    "$P(X >= N) = 1 - (1 - p_1)(1 - p_2)… (1 - p_k)$\n",
    "\n",
    "Математическое ожидание числа заключенных сделок равно сумме произведений вероятностей заключения сделки каждым менеджером на их среднюю производительность:\n",
    "\n",
    "$E(X) = Σ(λ_i * p_i)$\n",
    "\n",
    "Дисперсия числа заключенных сделок равна математическому ожиданию квадрата числа заключенных сделок минус квадрат математического ожидания числа заключенных сделок, то есть:\n",
    "$D(X) = E(X^2) - (E(X))^2$\n",
    "\n",
    "Для числа незаключенных сделок имеем:\n",
    "\n",
    "$E(Y) = k - E(X)$\n",
    "\n",
    "$D(Y) = D(X)$\n"
   ]
  },
  {
   "cell_type": "markdown",
   "id": "2542c3df",
   "metadata": {},
   "source": [
    "### Решение \n",
    "Здесь надо обратить внимание на то, что производственная деятельность отдела, производительность которого $\\sum_{i=0}^{k}\\lambda_i$ сделки, разбивается на две категории: <br> первая - производство успешных сделок, производительность которых  равна $\\sum_{i=0}^{k}\\lambda_i\\cdot p_i$ <br> и \n",
    "вторая - производство неудачных сделок, производительность которых $\\sum_{i=0}^{k}\\lambda_i\\cdot(1- p_i)$.\n",
    "\n",
    "Итак, пусть интенсивность заключения сделок $i$-м продавцом за период равна $\\lambda_i\\cdot p_i$. Тогда производительность (интенсивность) $S$ заключения сделок отделом, состоящим из $k$ продавцов, за период равна\n",
    "\n",
    "$$\\lambda_{sales} = \\sum_{i=1}^{k} \\lambda_i \\cdot p_i$$\n",
    "\n",
    "В соответствии с предельными теоремами теории потоков можно с достаточной для практики точностью считать, что число $S$ заключенных отделом продаж сделок за период, будет распределено по закону Пуассона с параметром $\\lambda_{sales}$. Отсюда найдем вероятность выполнения отделом плана $N$ за период:\n",
    "\n",
    "$$P(S \\geq N) = 1- P(S < N) = 1- \\sum_{i=0}^{N-1} \\frac{\\lambda_{sales}^i\\exp^{-\\lambda_{sales}}}{i!}$$\n",
    "\n",
    "$M[S] = D[S] = \\lambda_{sales}$.\n",
    "Дисперсия $\\sigma(S) = \\sqrt{D(S)} = \\sqrt{\\lambda_{sales}}$\n",
    "\n",
    "По той же причине случайная величина $F$ распределена по закону Пуассона с параметром $\\lambda_{NOsales}$ - интенсивность незаключения сделок в смену\n",
    "\n",
    "$$\\lambda_{NOsales} = \\sum_{i=1}^{k} \\lambda_i (1 - p_i) = \\sum_{i=1}^{k} \\lambda_i - \\lambda_{sales}$$\n",
    "\n",
    "$$P(F \\geq K) = 1- P(F < K) = 1- \\sum_{n=0}^{K-1} \\frac{\\lambda_{NOsales}^n\\exp^{-\\lambda_{NOsales}}}{n!}$$\n",
    "\n",
    "$M[F] = D[F] = \\lambda_{NOsales}$.\n",
    "Дисперсия $\\sigma(F) = \\sqrt{D(F)} =  \\sqrt{\\lambda_{NOsales}}$"
   ]
  },
  {
   "cell_type": "markdown",
   "id": "90edbcca",
   "metadata": {},
   "source": [
    "### Пример\n",
    "\n",
    "Пусть в отделе 5 продажников с производительностью (интенсивностью) $\\lambda_i$ клиентов за период и вероятностью заключения сделки $p_i$\n",
    "\n",
    "|           |1|2|3|4|5|\n",
    "|-----------|-|-|--|-|-|\n",
    "|$\\lambda_i$|4|4|6|5|4|\n",
    "|$p_i$|0.9|0.8|0.7|0.8|0.75|\n",
    "\n",
    "План продаж в смену $N = 14$<br>\n",
    "Введем следующие случайные величины:<br>\n",
    "$S$ - число успешных сделок за период <br>\n",
    "$F$ - число неудачных сделок за период <br>"
   ]
  },
  {
   "cell_type": "code",
   "execution_count": 9,
   "id": "f02cd75d",
   "metadata": {},
   "outputs": [],
   "source": [
    "import numpy as np\n",
    "\n",
    "lambda_sales = np.array([4,4,6,5,4]) #производительность (интенсивность) продажников ( = число клиентов|период)\n",
    "p = np.array([0.9,0.8,0.7,0.8,0.75]) #вероятность одной продажи для каждого продавца "
   ]
  },
  {
   "cell_type": "code",
   "execution_count": 10,
   "id": "bd0c6bbb",
   "metadata": {},
   "outputs": [
    {
     "data": {
      "text/plain": [
       "23"
      ]
     },
     "execution_count": 10,
     "metadata": {},
     "output_type": "execute_result"
    }
   ],
   "source": [
    "total_lmbd = sum(lambda_sales) #число потенциальных сделок за период\n",
    "total_lmbd"
   ]
  },
  {
   "cell_type": "code",
   "execution_count": 11,
   "id": "1ae02cf7",
   "metadata": {},
   "outputs": [
    {
     "data": {
      "text/plain": [
       "18.0"
      ]
     },
     "execution_count": 11,
     "metadata": {},
     "output_type": "execute_result"
    }
   ],
   "source": [
    "lmbd_sales_dpt = sum(lambda_sales*p) #интенсивность заключения сделок отделом за период\n",
    "lmbd_sales_dpt"
   ]
  },
  {
   "cell_type": "code",
   "execution_count": 12,
   "id": "d7e4e068",
   "metadata": {},
   "outputs": [
    {
     "data": {
      "text/plain": [
       "5.0"
      ]
     },
     "execution_count": 12,
     "metadata": {},
     "output_type": "execute_result"
    }
   ],
   "source": [
    "# число посетителей, которые НЕ станут клиентами\n",
    "lmbd_Nosales_dpt = total_lmbd - lmbd_sales_dpt #интенсивность НЕзаключения сделок за период\n",
    "lmbd_Nosales_dpt"
   ]
  },
  {
   "cell_type": "markdown",
   "id": "14617cee",
   "metadata": {},
   "source": [
    "Здесь надо учитывать, что обычно отдел готовит 23 сделки, среди которых 18 успешных и 5 неудачных."
   ]
  },
  {
   "cell_type": "code",
   "execution_count": 13,
   "id": "8e4be0ae",
   "metadata": {},
   "outputs": [],
   "source": [
    "import math\n",
    "\n",
    "def cumul_puasson(n,lambda_): #вероятность появления от 0 до n успехов\n",
    "    return np.array([(lambda_**i)*np.exp(-lambda_)/math.factorial(i) for i in range(n + 1)]).sum()  "
   ]
  },
  {
   "cell_type": "code",
   "execution_count": 14,
   "id": "47120b5d",
   "metadata": {},
   "outputs": [
    {
     "data": {
      "text/plain": [
       "0.14259775841259617"
      ]
     },
     "execution_count": 14,
     "metadata": {},
     "output_type": "execute_result"
    }
   ],
   "source": [
    "# вероятность заключения от 0 до 13 (включительно) сделок за период\n",
    "P_S_0_13 = cumul_puasson(13,18) # P(X \\geq N) \n",
    "P_S_0_13 "
   ]
  },
  {
   "cell_type": "markdown",
   "id": "103aabb9",
   "metadata": {},
   "source": [
    "вероятность выполнения отделом плана (=18 сделок) за период:\n",
    "$P(S \\geq N)$"
   ]
  },
  {
   "cell_type": "code",
   "execution_count": 15,
   "id": "dd3dcfc9",
   "metadata": {},
   "outputs": [],
   "source": [
    "plan = 14"
   ]
  },
  {
   "cell_type": "code",
   "execution_count": 16,
   "id": "022a75b5",
   "metadata": {},
   "outputs": [
    {
     "data": {
      "text/plain": [
       "0.8574022415874039"
      ]
     },
     "execution_count": 16,
     "metadata": {},
     "output_type": "execute_result"
    }
   ],
   "source": [
    "# вероятность заключения не менее 14 сделок за период\n",
    "P_S_ge_plan = 1 - cumul_puasson(plan - 1,18) # P(X \\geq N) \n",
    "P_S_ge_plan "
   ]
  },
  {
   "cell_type": "code",
   "execution_count": 18,
   "id": "1b9417c0",
   "metadata": {},
   "outputs": [
    {
     "data": {
      "text/plain": [
       "4.242640687119285"
      ]
     },
     "execution_count": 18,
     "metadata": {},
     "output_type": "execute_result"
    }
   ],
   "source": [
    "# дисперсия отдела\n",
    "std_sales = math.sqrt(lmbd_sales_dpt)\n",
    "std_sales"
   ]
  },
  {
   "cell_type": "markdown",
   "id": "63f23b8d",
   "metadata": {},
   "source": [
    "Обратим внимание на то, что хотя за период в среднем заключается 18 сделок, что намного больше плана (14 сделок), тем не менее вероятность того, что план будет выполнен, равна только 0,8574. Это объясняется тем, что имеется большой разброс числа успешных сделок ($\\sigma(S)  = 4.243$).\n",
    "\n",
    "Заметим, что если случайные величины $S$ и $F$ распределены по закону Пуассона, то общее число сделок $Z = S + F$, заключенных за период, будет тоже распределено по закону Пуассона; при этом случайные величины $S$ и $F$ будут независимы."
   ]
  },
  {
   "cell_type": "markdown",
   "id": "06a20693",
   "metadata": {},
   "source": [
    "$P(F \\le N)$"
   ]
  },
  {
   "cell_type": "code",
   "execution_count": 19,
   "id": "277b241b",
   "metadata": {},
   "outputs": [
    {
     "data": {
      "text/plain": [
       "0.785130387030405"
      ]
     },
     "execution_count": 19,
     "metadata": {},
     "output_type": "execute_result"
    }
   ],
   "source": [
    "# вероятность НЕзаключения от 0 до 4 сделок (включительно) за период\n",
    "P_F_0_4 = cumul_puasson(5,4) \n",
    "P_F_0_4 "
   ]
  },
  {
   "cell_type": "code",
   "execution_count": 20,
   "id": "3d61c707",
   "metadata": {},
   "outputs": [
    {
     "data": {
      "text/plain": [
       "0.21486961296959495"
      ]
     },
     "execution_count": 20,
     "metadata": {},
     "output_type": "execute_result"
    }
   ],
   "source": [
    "# вероятность НЕзаключения от 5 сделок за период\n",
    "P_F_ge_5 = 1 - cumul_puasson(5,4) \n",
    "P_F_ge_5 "
   ]
  },
  {
   "cell_type": "code",
   "execution_count": 21,
   "id": "f772152c",
   "metadata": {},
   "outputs": [
    {
     "data": {
      "text/plain": [
       "0.0028934650909455584"
      ]
     },
     "execution_count": 21,
     "metadata": {},
     "output_type": "execute_result"
    }
   ],
   "source": [
    "# вероятность заключения от 0 до 7 сделок за период\n",
    "cumul_puasson(7,18)"
   ]
  },
  {
   "cell_type": "code",
   "execution_count": 25,
   "id": "7b76801d",
   "metadata": {},
   "outputs": [
    {
     "data": {
      "text/plain": [
       "{0: 1.0,\n",
       " 1: 0.9999999847700203,\n",
       " 2: 0.9999997106303848,\n",
       " 3: 0.9999972433736662,\n",
       " 4: 0.9999824398333543,\n",
       " 5: 0.999915823901951,\n",
       " 6: 0.9996760065488989,\n",
       " 7: 0.9989565544897424,\n",
       " 8: 0.9971065349090544,\n",
       " 9: 0.9929439908525065,\n",
       " 10: 0.9846189027394107,\n",
       " 11: 0.9696337441358382,\n",
       " 12: 0.9451125755118106,\n",
       " 13: 0.908330822575769,\n",
       " 14: 0.8574022415874039,\n",
       " 15: 0.7919226374595058,\n",
       " 16: 0.713347112506028,\n",
       " 17: 0.6249496469333655,\n",
       " 18: 0.5313523304446641,\n",
       " 19: 0.4377550139559627,\n",
       " 20: 0.34908387201929825,\n",
       " 21: 0.26927984427630025,\n",
       " 22: 0.20087639192515905,\n",
       " 23: 0.144909930910589,\n",
       " 24: 0.10111009185570796,\n",
       " 25: 0.06826021256454728,\n",
       " 26: 0.04460829947491163,\n",
       " 27: 0.028233898105163857,\n",
       " 28: 0.017317630525331973,\n",
       " 29: 0.01030002993829715}"
      ]
     },
     "execution_count": 25,
     "metadata": {},
     "output_type": "execute_result"
    }
   ],
   "source": [
    "# вероятности заключения больше i сделок: P_S_ge_i = 1 - puasson(i,18)\n",
    "dct = dict([(i,1 - cumul_puasson(i-1,18)) for i in range (30)])\n",
    "dct"
   ]
  },
  {
   "cell_type": "code",
   "execution_count": 26,
   "id": "cccbe7fc",
   "metadata": {},
   "outputs": [
    {
     "data": {
      "image/png": "[encoded data removed]",
      "text/plain": [
       "<Figure size 640x480 with 1 Axes>"
      ]
     },
     "metadata": {},
     "output_type": "display_data"
    }
   ],
   "source": [
    "import seaborn as sns\n",
    "\n",
    "#sns.title('Вероятности заключения отделом больше i сделок:\\ $P(X \\geq x)$ при $\\lambda_{sales}=18$')\n",
    "sns.barplot(x=list(dct.keys()), y=list(dct.values()));\n",
    "sns.lineplot(x=list(dct.keys()), y=list(dct.values()));"
   ]
  },
  {
   "cell_type": "code",
   "execution_count": 27,
   "id": "f3a083e1",
   "metadata": {},
   "outputs": [
    {
     "data": {
      "image/png": "[encoded data removed]",
      "text/plain": [
       "<Figure size 640x480 with 1 Axes>"
      ]
     },
     "metadata": {},
     "output_type": "display_data"
    }
   ],
   "source": [
    "from matplotlib import pyplot as plt\n",
    "\n",
    "dct1 = dict([(i,1 - cumul_puasson(i,10)) for i in range (30)])\n",
    "dct2 = dict([(i,1 - cumul_puasson(i,28)) for i in range (30)])\n",
    "\n",
    "x=list(dct.keys())\n",
    "y=list(dct.values())\n",
    "y1=list(dct1.values())\n",
    "y2=list(dct2.values())\n",
    "plt.title('Вероятности заключения отделом больше i сделок:\\ $P(X \\geq x)$ при $\\lambda_{sales}=18$')\n",
    "\n",
    "plt.plot(x, y,'r', y1,'b', y2, 'g' )\n",
    "plt.legend('pdf '), \n",
    "plt.show()"
   ]
  },
  {
   "cell_type": "markdown",
   "id": "9df19236",
   "metadata": {},
   "source": [
    "### Итоговое решение"
   ]
  },
  {
   "cell_type": "code",
   "execution_count": 74,
   "id": "a5b7c4da",
   "metadata": {},
   "outputs": [],
   "source": [
    "import numpy as np\n",
    "import math\n",
    "\n",
    "def puasson(m,a): #вероятность появления от 0 до m успехов при интенсивности a\n",
    "    return sum(np.array([(a**k)*np.exp(-a)/math.factorial(k) for k in range(m + 1)])  )\n",
    "\n",
    "def prob_achiv_plan (lmbd,probabilities, plan):\n",
    "#     lmbd = np.array(lmbd) #производительность продажников\n",
    "#     probabilities = np.array(probabilities) #вероятность заключения сделки\n",
    "#     total_lmbd = sum(np.array(lmbd)) #число потенциальных сделок в смену\n",
    "#     lmbd_sales = sum(np.array(lmbd)*np.array(probabilities)) #интенсивность заключения сделок в смену\n",
    "    \n",
    "\n",
    "    # вероятность заключения не менее plan сделок за смену\n",
    "    return 1 - puasson(plan - 1,sum(np.array(lmbd)*np.array(probabilities))) "
   ]
  },
  {
   "cell_type": "code",
   "execution_count": 77,
   "id": "fb12314d",
   "metadata": {},
   "outputs": [],
   "source": [
    "def cumul_puasson(m,a): \n",
    "    #вероятность появления от 0 до m успехов при интенсивности a\n",
    "    return sum(np.array([(a**k)*np.exp(-a)/math.factorial(k) for k in range(m + 1)])  )\n",
    "\n",
    "def prob_achiv_plan (lmbd,probabilities, plan):\n",
    "    # вероятность заключения не менее plan сделок за смену\n",
    "    return 1 - cumul_puasson(plan - 1,np.array(lambda_i).dot(np.array(probabilities)).sum()) "
   ]
  },
  {
   "cell_type": "code",
   "execution_count": 78,
   "id": "03f5234a",
   "metadata": {},
   "outputs": [],
   "source": [
    "#дано:\n",
    "lambda_i = [4,4,6,5,4] #производительность продажников\n",
    "probabilities = [0.9,0.8,0.7,0.8,0.75] #вероятность заключения сделки\n",
    "plan = 14\n"
   ]
  },
  {
   "cell_type": "code",
   "execution_count": 79,
   "id": "6dfcb7e2",
   "metadata": {},
   "outputs": [
    {
     "data": {
      "text/plain": [
       "0.8574022415874039"
      ]
     },
     "execution_count": 79,
     "metadata": {},
     "output_type": "execute_result"
    }
   ],
   "source": [
    "# вероятность заключения не менее plan сделок за смену\n",
    "prob_achiv_plan (lambda_i,probabilities, plan)"
   ]
  },
  {
   "cell_type": "markdown",
   "id": "9aeae8c3",
   "metadata": {},
   "source": [
    "### Пытаюсь понять каким параметром поиграть"
   ]
  },
  {
   "cell_type": "code",
   "execution_count": 25,
   "id": "b6144462",
   "metadata": {},
   "outputs": [
    {
     "data": {
      "application/vnd.jupyter.widget-view+json": {
       "model_id": "bdec870bb8c14088b4ca0df322bd599e",
       "version_major": 2,
       "version_minor": 0
      },
      "text/plain": [
       "interactive(children=(IntSlider(value=0, description='n', max=30), Output()), _dom_classes=('widget-interact',…"
      ]
     },
     "metadata": {},
     "output_type": "display_data"
    }
   ],
   "source": [
    "import random\n",
    "from matplotlib import pyplot as plt\n",
    "import seaborn as sns\n",
    "from ipywidgets import *\n",
    "import ipywidgets as wg\n",
    "from IPython.display import display\n",
    "\n",
    "def interactive_graph(n = 0): \n",
    "    \n",
    "    #dct = dict([(i,1 - puasson(i,n)) for i in range (30)])\n",
    "    dct = dict([(i,1 - puasson(n,i)) for i in range (30)])\n",
    "    # x = np.linspace(0, 40, 42)\n",
    "    x=list(dct.keys())\n",
    "    y=list(dct.values())\n",
    "    plt.title(\"\"\"Вероятности выполнения отделом плана: \n",
    "               $P(X \\geq x)$ при $\\lambda_(sales)={}$\"\"\".format(n))\n",
    "\n",
    "    plt.plot(x, y, 'r')\n",
    "    plt.legend('p'), \n",
    "    plt.show()\n",
    "    \n",
    "w = interactive(interactive_graph, n = (0,30)) #интерактивно меняем объем плана\n",
    "display(w)"
   ]
  },
  {
   "cell_type": "code",
   "execution_count": null,
   "id": "fbc7683d",
   "metadata": {},
   "outputs": [],
   "source": []
  }
 ],
 "metadata": {
  "kernelspec": {
   "display_name": "Python 3 (ipykernel)",
   "language": "python",
   "name": "python3"
  },
  "language_info": {
   "codemirror_mode": {
    "name": "ipython",
    "version": 3
   },
   "file_extension": ".py",
   "mimetype": "text/x-python",
   "name": "python",
   "nbconvert_exporter": "python",
   "pygments_lexer": "ipython3",
   "version": "3.9.12"
  }
 },
 "nbformat": 4,
 "nbformat_minor": 5
}
