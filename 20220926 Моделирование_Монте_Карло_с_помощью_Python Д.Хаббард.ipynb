{
 "cells": [
  {
   "cell_type": "markdown",
   "metadata": {
    "id": "FRtaRAE3KW3A"
   },
   "source": [
    "# Моделирование Монте-Карло с помощью Python\n",
    "\n",
    "<a href=\"https://t.me/init_python\"><img src=\"https://dfedorov.spb.ru/pandas/logo-telegram.png\" width=\"35\" height=\"35\" alt=\"telegram\" align=\"left\"></a>"
   ]
  },
  {
   "cell_type": "markdown",
   "metadata": {
    "id": "waygWco8KW3H"
   },
   "source": [
    "<a href=\"https://colab.research.google.com/github/dm-fedorov/pandas_basic/blob/master/быстрое%20введение%20в%20pandas/Моделирование%20Монте-Карло%20с%20помощью%20Python.ipynb\"><img align=\"left\" src=\"https://colab.research.google.com/assets/colab-badge.svg\" alt=\"Open in Colab\" title=\"Open and Execute in Google Colaboratory\" target=\"_blank\"></a>"
   ]
  },
  {
   "cell_type": "markdown",
   "metadata": {
    "id": "6lJ-4nu2KW3J"
   },
   "source": [
    "## Введение\n",
    "\n",
    "Существует множество моделей, которые могут использоваться для решения задачи прогнозирования. Одним из подходов, который может дать лучшее понимание диапазона возможных результатов и помочь избежать [\"ошибки средних\"](https://hbr.org/2002/11/the-flaw-of-averages), является [*моделирование методом Монте-Карло*](https://ru.wikipedia.org/wiki/%D0%9C%D0%B5%D1%82%D0%BE%D0%B4_%D0%9C%D0%BE%D0%BD%D1%82%D0%B5-%D0%9A%D0%B0%D1%80%D0%BB%D0%BE). \n",
    "\n",
    "В оставшейся части этой статьи будет описано, как использовать *Python* с *pandas* и *NumPy* для прогнозирования диапазона потенциальных значений для бюджета комиссионных с продаж с помощью моделирования Монте-Карло. \n",
    "\n",
    "> Оригинал статьи Криса [тут](https://pbpython.com/monte-carlo.html)"
   ]
  },
  {
   "cell_type": "markdown",
   "metadata": {
    "id": "8WwaJyLbKW3P"
   },
   "source": [
    "## Проблема\n",
    "\n",
    "В следующем примере попытаемся предсказать, сколько денег необходимо выделить на комиссионные с продаж (поощрительные выплаты) в следующем году. Эта задача хорошо подходит для моделирования, т.к. у нас есть определенная формула для расчета комиссионных, и некоторый опыт с выплатой комиссионных за предыдущие годы.\n",
    "\n",
    "Эта проблема также важна с точки зрения бизнеса. Комиссионные с продаж могут оказаться большими расходами, и важно их правильно спланировать. Кроме того, использование моделирования Монте-Карло является относительно простым.\n",
    "\n",
    "Примерная комиссия с продаж будет выглядеть следующим образом для отдела продаж из `5` человек:\n",
    "\n",
    "![](https://github.com/dm-fedorov/pandas_basic/blob/master/pic/Excel_Table_1.png?raw=True)\n",
    "\n",
    "В этом примере комиссия рассчитывается по следующей формуле:\n",
    "\n",
    "`Commission Amount (Сумма комиссии) = Actual Sales (Фактические продажи) * Commission Rate (Ставка комиссионного вознаграждения)`\n",
    "\n",
    "Ставка комиссии основана на этой таблице `Percent To Plan (Процент к плану)`:\n",
    "\n",
    "![](https://github.com/dm-fedorov/pandas_basic/blob/master/pic/Excel_Table_4.png?raw=True)\n",
    "\n",
    "Прежде чем строить модель и запускать симуляцию, давайте рассмотрим простой подход к прогнозированию комиссионных расходов на следующий год."
   ]
  },
  {
   "cell_type": "markdown",
   "metadata": {
    "id": "7qdaWYzNKW3S"
   },
   "source": [
    "## Наивный подход к проблеме\n",
    "\n",
    "Представьте, что ваша задача в роли аналитика Эми или Энди состоит в том, чтобы сообщить финансовому отделу, сколько в бюджете необходимо выделить комиссионных с продаж на следующий год. Один из подходов заключается в том, чтобы предположить, что каждый выполняет `100%` своей цели и получает `4%` комиссионных. \n",
    "\n",
    "Вставка этих значений в *Excel* дает следующее:\n",
    "\n",
    "![](https://github.com/dm-fedorov/pandas_basic/blob/master/pic/Excel_Table_2.png?raw=True)\n",
    "\n",
    "Представьте, что вы представляете это финансовому отделу, и они говорят: \"У нас никогда не бывает одинаковых комиссионных. Нам нужна более точная модель\". \n",
    "\n",
    "Во втором раунде вы можете попробовать несколько диапазонов:\n",
    "\n",
    "![](https://github.com/dm-fedorov/pandas_basic/blob/master/pic/Excel_Table_5.png?raw=True)\n",
    "\n",
    "Или еще один:\n",
    "\n",
    "![](https://github.com/dm-fedorov/pandas_basic/blob/master/pic/Excel_Table_6.png?raw=True)\n",
    "\n",
    "Теперь у вас есть немного больше информации. На этот раз финансовый отдел говорит: \"Этот диапазон полезен, но каково ваше доверие к нему? Кроме того, нам нужно, чтобы вы провели расчет для отдела продаж из 500 человек и смоделировали несколько различных ставок, чтобы определить сумму бюджета\". Хммм… \n",
    "\n",
    "Этот простой подход иллюстрирует основной итерационный метод моделирования Монте-Карло. Вы повторяете процесс много раз, чтобы определить диапазон возможных значений комиссионных за год. Сделать это вручную сложно. К счастью, с Python процесс значительно упрощается."
   ]
  },
  {
   "cell_type": "markdown",
   "metadata": {
    "id": "WLwLvMFQKW3V"
   },
   "source": [
    "## Монте-Карло\n",
    "\n",
    "Теперь, когда мы обсудили проблему на высоком уровне, посмотрим, как метод Монте-Карло может быть применим для прогнозирования комиссионных расходов на следующий год. На простейшем уровне анализ (или моделирование) Монте-Карло выполняет множество сценариев с различными случайными входными данными и обобщение распределения результатов.\n",
    "\n",
    "Используя анализ комиссионных, мы можем продолжить ручной процесс, который мы начали выше, но запустить программу `100` или даже `1000` раз, и получим распределение потенциальных сумм комиссии. Это распределение может информировать о вероятности того, что расходы будут в пределах определенного окна. В конце концов, это прогноз, поэтому мы, скорее всего, никогда его точно не предскажем. Мы можем разработать более информативное представление о потенциальном риске недостаточного или завышенного бюджета.\n",
    "\n",
    "Запуск моделирования Монте-Карло состоит из двух компонентов:\n",
    "\n",
    "- уравнение для оценки;\n",
    "- случайные величины для входа.\n",
    "\n",
    "Уравнение мы рассмотрели выше. Теперь нужно подумать о том, как заполнить случайные величины.\n",
    "\n",
    "Один из простых подходов - взять случайное число от `0%` до `200%` (представляющее нашу интуицию о ставках комиссионных). Однако, поскольку мы выплачиваем комиссионные каждый год, мы понимаем нашу проблему немного подробнее и можем использовать эти предварительные знания для построения более точной модели.\n",
    "\n",
    "Поскольку мы выплачивали комиссионные в течение нескольких лет, мы можем взглянуть на типичное историческое распределение целевого процента:\n",
    "\n",
    "![](https://github.com/dm-fedorov/pandas_basic/blob/master/pic/monte_carlo_image_hist_pct.png?raw=True)\n",
    "\n",
    "Это распределение выглядит как нормальное распределение со средним значением `100%` и стандартным отклонением `10%`. Это понимание полезно, потому что мы можем моделировать наше распределение входных переменных так, чтобы оно было похоже на реальный опыт.\n",
    "\n",
    "Если вас интересуют дополнительные детали для оценки типа распределения, я рекомендую [эту статью](https://www.mikulskibartosz.name/monte-carlo-simulation-in-python/)."
   ]
  },
  {
   "cell_type": "markdown",
   "metadata": {
    "id": "9guEaL36KW3Y"
   },
   "source": [
    "## Построение модели Python\n",
    "\n",
    "Можем использовать *pandas* для построения модели, которая воспроизводит расчет таблицы *Excel*. Существуют и другие подходы к построению моделей Монте-Карло, но я считаю, что с помощью *pandas* легче понять, если вы ранее работали с *Excel*. \n",
    "\n",
    "Выполним импорт и установим стиль для графиков:"
   ]
  },
  {
   "cell_type": "code",
   "execution_count": null,
   "metadata": {
    "id": "Evpqwi2TKW3c"
   },
   "outputs": [],
   "source": [
    "import pandas as pd\n",
    "import numpy as np\n",
    "import seaborn as sns\n",
    "\n",
    "sns.set_style('whitegrid')"
   ]
  },
  {
   "cell_type": "markdown",
   "metadata": {
    "id": "4mfo6QndKW3i"
   },
   "source": [
    "Для этой модели мы будем использовать генерацию случайных чисел из *NumPy*. Преимущество *NumPy* заключается в том, что существует [несколько генераторов случайных чисел](https://numpy.org/doc/stable/reference/random/index.html), которые могут создавать случайные выборки на основе заранее заданного распределения.\n",
    "\n",
    "Как сказано выше, мы знаем, что исторический процент к целевой производительности сосредоточен вокруг среднего значения `100%` и стандартного отклонения `10%`. Давайте определим эти переменные, а также количество торговых представителей и число симуляций, которое мы моделируем:"
   ]
  },
  {
   "cell_type": "code",
   "execution_count": null,
   "metadata": {
    "id": "-D0R8U6LKW3m"
   },
   "outputs": [],
   "source": [
    "avg = 1\n",
    "std_dev = .1\n",
    "num_reps = 500\n",
    "num_simulations = 1000"
   ]
  },
  {
   "cell_type": "markdown",
   "metadata": {
    "id": "35gYtyy9KW3o"
   },
   "source": [
    "Теперь мы можем использовать *NumPy* для создания списка процентов, который будет воспроизводить историческое нормальное распределение:"
   ]
  },
  {
   "cell_type": "code",
   "execution_count": null,
   "metadata": {
    "id": "8TpbRIQ2KW3q"
   },
   "outputs": [],
   "source": [
    "pct_to_target = np.random.normal(avg, std_dev, num_reps).round(2)"
   ]
  },
  {
   "cell_type": "markdown",
   "metadata": {
    "id": "c6AaVrE5KW3t"
   },
   "source": [
    "В этом примере я решил округлить результат до двух знаков после запятой, чтобы было легче увидеть границы. \n",
    "\n",
    "Вот как выглядят первые `10` пунктов:"
   ]
  },
  {
   "cell_type": "code",
   "execution_count": null,
   "metadata": {
    "colab": {
     "base_uri": "https://localhost:8080/"
    },
    "id": "TDVRmwV4KW3v",
    "outputId": "b9361d28-3458-4130-efe7-d9ee6ee1669d"
   },
   "outputs": [
    {
     "data": {
      "text/plain": [
       "array([0.96, 1.14, 0.99, 0.98, 1.17, 1.02, 1.12, 0.84, 0.83, 0.92])"
      ]
     },
     "execution_count": 4,
     "metadata": {},
     "output_type": "execute_result"
    }
   ],
   "source": [
    "pct_to_target[:10]"
   ]
  },
  {
   "cell_type": "markdown",
   "metadata": {
    "id": "yt8fkEhOKW3v"
   },
   "source": [
    "Это хорошая проверка, чтобы убедиться, что диапазоны соответствуют ожиданиям.\n",
    "\n",
    "Поскольку мы пытаемся улучшить наш простой подход, то будем придерживаться нормального распределения целевого процента. Однако, используя *NumPy*, можно настроить и использовать другое распределение для будущих моделей, если это необходимо. Предупреждаю, что не надо использовать другие модели, не понимая их и, как они применимы к вашей ситуации.\n",
    "\n",
    "Есть еще одно значение, которое нужно смоделировать, и это фактическая цель продаж. Чтобы проиллюстрировать другое распределение, предположим, что наше целевое распределение продаж выглядит примерно так:\n",
    "\n",
    "![](https://github.com/dm-fedorov/pandas_basic/blob/master/pic/monte_carlo_sales_target.png?raw=True)\n",
    "\n",
    "Это определенно ненормальное распределение. Это распределение показывает нам, что цели продаж устанавливаются в `1` из `5` сегментов, и частота уменьшается с увеличением суммы. Такое распределение может свидетельствовать об очень простом процессе установления целевых показателей, при котором отдельные лица делятся на определенные группы и получают целевые показатели последовательно в зависимости от их срока пребывания (tenure), размера территории или воронки продаж.\n",
    "\n",
    "Для этого примера будем использовать равномерное распределение, но назначим более низкие уровни вероятности для некоторых значений.\n",
    "\n",
    "Вот как мы можем это построить, используя [`numpy.random.choice`](https://numpy.org/doc/stable/reference/random/generated/numpy.random.choice.html):"
   ]
  },
  {
   "cell_type": "code",
   "execution_count": null,
   "metadata": {
    "id": "ZdJu7_q_KW3x"
   },
   "outputs": [],
   "source": [
    "sales_target_values = [75_000, 100_000, 200_000, 300_000, 400_000, 500_000]\n",
    "sales_target_prob = [.3, .3, .2, .1, .05, .05]\n",
    "sales_target = np.random.choice(sales_target_values, num_reps, p=sales_target_prob)"
   ]
  },
  {
   "cell_type": "code",
   "execution_count": null,
   "metadata": {
    "colab": {
     "base_uri": "https://localhost:8080/"
    },
    "id": "OXo4tqLTOgYX",
    "outputId": "02c4677e-8ef1-4ce6-ad88-7d5339ef053f"
   },
   "outputs": [
    {
     "data": {
      "text/plain": [
       "1.0"
      ]
     },
     "execution_count": 6,
     "metadata": {},
     "output_type": "execute_result"
    }
   ],
   "source": [
    "sum(sales_target_prob)"
   ]
  },
  {
   "cell_type": "markdown",
   "metadata": {
    "id": "TY_-CtWFKW3x"
   },
   "source": [
    "По общему признанию, это несколько надуманный пример, но я хотел показать, как различные распределения могут быть включены в модель. \n",
    "\n",
    "Теперь, когда мы знаем, как создать два входных распределения, давайте создадим фрейм данных (*dataframe*) *pandas*:"
   ]
  },
  {
   "cell_type": "code",
   "execution_count": null,
   "metadata": {
    "id": "v54jsbdXKW3z"
   },
   "outputs": [],
   "source": [
    "df = pd.DataFrame(index=range(num_reps), \n",
    "                  data={'Pct_To_Target': pct_to_target,\n",
    "                        'Sales_Target': sales_target})"
   ]
  },
  {
   "cell_type": "code",
   "execution_count": null,
   "metadata": {
    "colab": {
     "base_uri": "https://localhost:8080/",
     "height": 424
    },
    "id": "NVDDcQt_PAJC",
    "outputId": "a8024cde-b3fa-4706-919c-ae702da7e565"
   },
   "outputs": [
    {
     "data": {
      "text/html": [
       "\n",
       "  <div id=\"df-58b78b74-726f-4dd0-bec7-a3f76e01ebf6\">\n",
       "    <div class=\"colab-df-container\">\n",
       "      <div>\n",
       "<style scoped>\n",
       "    .dataframe tbody tr th:only-of-type {\n",
       "        vertical-align: middle;\n",
       "    }\n",
       "\n",
       "    .dataframe tbody tr th {\n",
       "        vertical-align: top;\n",
       "    }\n",
       "\n",
       "    .dataframe thead th {\n",
       "        text-align: right;\n",
       "    }\n",
       "</style>\n",
       "<table border=\"1\" class=\"dataframe\">\n",
       "  <thead>\n",
       "    <tr style=\"text-align: right;\">\n",
       "      <th></th>\n",
       "      <th>Pct_To_Target</th>\n",
       "      <th>Sales_Target</th>\n",
       "    </tr>\n",
       "  </thead>\n",
       "  <tbody>\n",
       "    <tr>\n",
       "      <th>0</th>\n",
       "      <td>0.96</td>\n",
       "      <td>75000</td>\n",
       "    </tr>\n",
       "    <tr>\n",
       "      <th>1</th>\n",
       "      <td>1.14</td>\n",
       "      <td>75000</td>\n",
       "    </tr>\n",
       "    <tr>\n",
       "      <th>2</th>\n",
       "      <td>0.99</td>\n",
       "      <td>75000</td>\n",
       "    </tr>\n",
       "    <tr>\n",
       "      <th>3</th>\n",
       "      <td>0.98</td>\n",
       "      <td>500000</td>\n",
       "    </tr>\n",
       "    <tr>\n",
       "      <th>4</th>\n",
       "      <td>1.17</td>\n",
       "      <td>75000</td>\n",
       "    </tr>\n",
       "    <tr>\n",
       "      <th>...</th>\n",
       "      <td>...</td>\n",
       "      <td>...</td>\n",
       "    </tr>\n",
       "    <tr>\n",
       "      <th>495</th>\n",
       "      <td>1.14</td>\n",
       "      <td>75000</td>\n",
       "    </tr>\n",
       "    <tr>\n",
       "      <th>496</th>\n",
       "      <td>0.91</td>\n",
       "      <td>200000</td>\n",
       "    </tr>\n",
       "    <tr>\n",
       "      <th>497</th>\n",
       "      <td>1.29</td>\n",
       "      <td>100000</td>\n",
       "    </tr>\n",
       "    <tr>\n",
       "      <th>498</th>\n",
       "      <td>1.17</td>\n",
       "      <td>100000</td>\n",
       "    </tr>\n",
       "    <tr>\n",
       "      <th>499</th>\n",
       "      <td>1.17</td>\n",
       "      <td>400000</td>\n",
       "    </tr>\n",
       "  </tbody>\n",
       "</table>\n",
       "<p>500 rows × 2 columns</p>\n",
       "</div>\n",
       "      <button class=\"colab-df-convert\" onclick=\"convertToInteractive('df-58b78b74-726f-4dd0-bec7-a3f76e01ebf6')\"\n",
       "              title=\"Convert this dataframe to an interactive table.\"\n",
       "              style=\"display:none;\">\n",
       "        \n",
       "  <svg xmlns=\"http://www.w3.org/2000/svg\" height=\"24px\"viewBox=\"0 0 24 24\"\n",
       "       width=\"24px\">\n",
       "    <path d=\"M0 0h24v24H0V0z\" fill=\"none\"/>\n",
       "    <path d=\"M18.56 5.44l.94 2.06.94-2.06 2.06-.94-2.06-.94-.94-2.06-.94 2.06-2.06.94zm-11 1L8.5 8.5l.94-2.06 2.06-.94-2.06-.94L8.5 2.5l-.94 2.06-2.06.94zm10 10l.94 2.06.94-2.06 2.06-.94-2.06-.94-.94-2.06-.94 2.06-2.06.94z\"/><path d=\"M17.41 7.96l-1.37-1.37c-.4-.4-.92-.59-1.43-.59-.52 0-1.04.2-1.43.59L10.3 9.45l-7.72 7.72c-.78.78-.78 2.05 0 2.83L4 21.41c.39.39.9.59 1.41.59.51 0 1.02-.2 1.41-.59l7.78-7.78 2.81-2.81c.8-.78.8-2.07 0-2.86zM5.41 20L4 18.59l7.72-7.72 1.47 1.35L5.41 20z\"/>\n",
       "  </svg>\n",
       "      </button>\n",
       "      \n",
       "  <style>\n",
       "    .colab-df-container {\n",
       "      display:flex;\n",
       "      flex-wrap:wrap;\n",
       "      gap: 12px;\n",
       "    }\n",
       "\n",
       "    .colab-df-convert {\n",
       "      background-color: #E8F0FE;\n",
       "      border: none;\n",
       "      border-radius: 50%;\n",
       "      cursor: pointer;\n",
       "      display: none;\n",
       "      fill: #1967D2;\n",
       "      height: 32px;\n",
       "      padding: 0 0 0 0;\n",
       "      width: 32px;\n",
       "    }\n",
       "\n",
       "    .colab-df-convert:hover {\n",
       "      background-color: #E2EBFA;\n",
       "      box-shadow: 0px 1px 2px rgba(60, 64, 67, 0.3), 0px 1px 3px 1px rgba(60, 64, 67, 0.15);\n",
       "      fill: #174EA6;\n",
       "    }\n",
       "\n",
       "    [theme=dark] .colab-df-convert {\n",
       "      background-color: #3B4455;\n",
       "      fill: #D2E3FC;\n",
       "    }\n",
       "\n",
       "    [theme=dark] .colab-df-convert:hover {\n",
       "      background-color: #434B5C;\n",
       "      box-shadow: 0px 1px 3px 1px rgba(0, 0, 0, 0.15);\n",
       "      filter: drop-shadow(0px 1px 2px rgba(0, 0, 0, 0.3));\n",
       "      fill: #FFFFFF;\n",
       "    }\n",
       "  </style>\n",
       "\n",
       "      <script>\n",
       "        const buttonEl =\n",
       "          document.querySelector('#df-58b78b74-726f-4dd0-bec7-a3f76e01ebf6 button.colab-df-convert');\n",
       "        buttonEl.style.display =\n",
       "          google.colab.kernel.accessAllowed ? 'block' : 'none';\n",
       "\n",
       "        async function convertToInteractive(key) {\n",
       "          const element = document.querySelector('#df-58b78b74-726f-4dd0-bec7-a3f76e01ebf6');\n",
       "          const dataTable =\n",
       "            await google.colab.kernel.invokeFunction('convertToInteractive',\n",
       "                                                     [key], {});\n",
       "          if (!dataTable) return;\n",
       "\n",
       "          const docLinkHtml = 'Like what you see? Visit the ' +\n",
       "            '<a target=\"_blank\" href=https://colab.research.google.com/notebooks/data_table.ipynb>data table notebook</a>'\n",
       "            + ' to learn more about interactive tables.';\n",
       "          element.innerHTML = '';\n",
       "          dataTable['output_type'] = 'display_data';\n",
       "          await google.colab.output.renderOutput(dataTable, element);\n",
       "          const docLink = document.createElement('div');\n",
       "          docLink.innerHTML = docLinkHtml;\n",
       "          element.appendChild(docLink);\n",
       "        }\n",
       "      </script>\n",
       "    </div>\n",
       "  </div>\n",
       "  "
      ],
      "text/plain": [
       "     Pct_To_Target  Sales_Target\n",
       "0             0.96         75000\n",
       "1             1.14         75000\n",
       "2             0.99         75000\n",
       "3             0.98        500000\n",
       "4             1.17         75000\n",
       "..             ...           ...\n",
       "495           1.14         75000\n",
       "496           0.91        200000\n",
       "497           1.29        100000\n",
       "498           1.17        100000\n",
       "499           1.17        400000\n",
       "\n",
       "[500 rows x 2 columns]"
      ]
     },
     "execution_count": 8,
     "metadata": {},
     "output_type": "execute_result"
    }
   ],
   "source": [
    "df"
   ]
  },
  {
   "cell_type": "code",
   "execution_count": null,
   "metadata": {
    "colab": {
     "base_uri": "https://localhost:8080/",
     "height": 281
    },
    "id": "6lH-UKDBKW3z",
    "outputId": "573ef02d-8c91-42a5-bc4c-8cbf51e71fa5"
   },
   "outputs": [
    {
     "data": {
      "image/png": "[encoded data removed]",
      "text/plain": [
       "<Figure size 432x288 with 1 Axes>"
      ]
     },
     "metadata": {},
     "output_type": "display_data"
    }
   ],
   "source": [
    "# Простая гистограмма для подтверждения распределения\n",
    "df['Pct_To_Target'].plot(kind='hist', title='Historical % to Target Distribution');"
   ]
  },
  {
   "cell_type": "code",
   "execution_count": null,
   "metadata": {
    "colab": {
     "base_uri": "https://localhost:8080/",
     "height": 281
    },
    "id": "dpeLhJZPKW30",
    "outputId": "37e5a15b-ff35-4026-86e6-18711a8ac1c4"
   },
   "outputs": [
    {
     "data": {
      "image/png": "[encoded data removed]",
      "text/plain": [
       "<Figure size 432x288 with 1 Axes>"
      ]
     },
     "metadata": {},
     "output_type": "display_data"
    }
   ],
   "source": [
    "# Посмотрите на целевое распределение продаж\n",
    "df['Sales_Target'].plot(kind='hist', \n",
    "                        title='Historical Sales Target Distribution');"
   ]
  },
  {
   "cell_type": "code",
   "execution_count": null,
   "metadata": {
    "id": "T60JLzBjKW31"
   },
   "outputs": [],
   "source": [
    "# Фактическая сумма продаж\n",
    "df['Sales'] = df['Pct_To_Target'] * df['Sales_Target']"
   ]
  },
  {
   "cell_type": "markdown",
   "metadata": {
    "id": "AAzLWNGGKW32"
   },
   "source": [
    "Вот как выглядит новый фрейм данных:"
   ]
  },
  {
   "cell_type": "code",
   "execution_count": null,
   "metadata": {
    "colab": {
     "base_uri": "https://localhost:8080/",
     "height": 206
    },
    "id": "XDgBjLxqKW33",
    "outputId": "307dfc75-54e1-45db-c00c-f2c6beac7534"
   },
   "outputs": [
    {
     "data": {
      "text/html": [
       "\n",
       "  <div id=\"df-8b39a344-ac0c-42be-9509-bae82a9a557e\">\n",
       "    <div class=\"colab-df-container\">\n",
       "      <div>\n",
       "<style scoped>\n",
       "    .dataframe tbody tr th:only-of-type {\n",
       "        vertical-align: middle;\n",
       "    }\n",
       "\n",
       "    .dataframe tbody tr th {\n",
       "        vertical-align: top;\n",
       "    }\n",
       "\n",
       "    .dataframe thead th {\n",
       "        text-align: right;\n",
       "    }\n",
       "</style>\n",
       "<table border=\"1\" class=\"dataframe\">\n",
       "  <thead>\n",
       "    <tr style=\"text-align: right;\">\n",
       "      <th></th>\n",
       "      <th>Pct_To_Target</th>\n",
       "      <th>Sales_Target</th>\n",
       "      <th>Sales</th>\n",
       "    </tr>\n",
       "  </thead>\n",
       "  <tbody>\n",
       "    <tr>\n",
       "      <th>0</th>\n",
       "      <td>0.96</td>\n",
       "      <td>75000</td>\n",
       "      <td>72000.0</td>\n",
       "    </tr>\n",
       "    <tr>\n",
       "      <th>1</th>\n",
       "      <td>1.14</td>\n",
       "      <td>75000</td>\n",
       "      <td>85500.0</td>\n",
       "    </tr>\n",
       "    <tr>\n",
       "      <th>2</th>\n",
       "      <td>0.99</td>\n",
       "      <td>75000</td>\n",
       "      <td>74250.0</td>\n",
       "    </tr>\n",
       "    <tr>\n",
       "      <th>3</th>\n",
       "      <td>0.98</td>\n",
       "      <td>500000</td>\n",
       "      <td>490000.0</td>\n",
       "    </tr>\n",
       "    <tr>\n",
       "      <th>4</th>\n",
       "      <td>1.17</td>\n",
       "      <td>75000</td>\n",
       "      <td>87750.0</td>\n",
       "    </tr>\n",
       "  </tbody>\n",
       "</table>\n",
       "</div>\n",
       "      <button class=\"colab-df-convert\" onclick=\"convertToInteractive('df-8b39a344-ac0c-42be-9509-bae82a9a557e')\"\n",
       "              title=\"Convert this dataframe to an interactive table.\"\n",
       "              style=\"display:none;\">\n",
       "        \n",
       "  <svg xmlns=\"http://www.w3.org/2000/svg\" height=\"24px\"viewBox=\"0 0 24 24\"\n",
       "       width=\"24px\">\n",
       "    <path d=\"M0 0h24v24H0V0z\" fill=\"none\"/>\n",
       "    <path d=\"M18.56 5.44l.94 2.06.94-2.06 2.06-.94-2.06-.94-.94-2.06-.94 2.06-2.06.94zm-11 1L8.5 8.5l.94-2.06 2.06-.94-2.06-.94L8.5 2.5l-.94 2.06-2.06.94zm10 10l.94 2.06.94-2.06 2.06-.94-2.06-.94-.94-2.06-.94 2.06-2.06.94z\"/><path d=\"M17.41 7.96l-1.37-1.37c-.4-.4-.92-.59-1.43-.59-.52 0-1.04.2-1.43.59L10.3 9.45l-7.72 7.72c-.78.78-.78 2.05 0 2.83L4 21.41c.39.39.9.59 1.41.59.51 0 1.02-.2 1.41-.59l7.78-7.78 2.81-2.81c.8-.78.8-2.07 0-2.86zM5.41 20L4 18.59l7.72-7.72 1.47 1.35L5.41 20z\"/>\n",
       "  </svg>\n",
       "      </button>\n",
       "      \n",
       "  <style>\n",
       "    .colab-df-container {\n",
       "      display:flex;\n",
       "      flex-wrap:wrap;\n",
       "      gap: 12px;\n",
       "    }\n",
       "\n",
       "    .colab-df-convert {\n",
       "      background-color: #E8F0FE;\n",
       "      border: none;\n",
       "      border-radius: 50%;\n",
       "      cursor: pointer;\n",
       "      display: none;\n",
       "      fill: #1967D2;\n",
       "      height: 32px;\n",
       "      padding: 0 0 0 0;\n",
       "      width: 32px;\n",
       "    }\n",
       "\n",
       "    .colab-df-convert:hover {\n",
       "      background-color: #E2EBFA;\n",
       "      box-shadow: 0px 1px 2px rgba(60, 64, 67, 0.3), 0px 1px 3px 1px rgba(60, 64, 67, 0.15);\n",
       "      fill: #174EA6;\n",
       "    }\n",
       "\n",
       "    [theme=dark] .colab-df-convert {\n",
       "      background-color: #3B4455;\n",
       "      fill: #D2E3FC;\n",
       "    }\n",
       "\n",
       "    [theme=dark] .colab-df-convert:hover {\n",
       "      background-color: #434B5C;\n",
       "      box-shadow: 0px 1px 3px 1px rgba(0, 0, 0, 0.15);\n",
       "      filter: drop-shadow(0px 1px 2px rgba(0, 0, 0, 0.3));\n",
       "      fill: #FFFFFF;\n",
       "    }\n",
       "  </style>\n",
       "\n",
       "      <script>\n",
       "        const buttonEl =\n",
       "          document.querySelector('#df-8b39a344-ac0c-42be-9509-bae82a9a557e button.colab-df-convert');\n",
       "        buttonEl.style.display =\n",
       "          google.colab.kernel.accessAllowed ? 'block' : 'none';\n",
       "\n",
       "        async function convertToInteractive(key) {\n",
       "          const element = document.querySelector('#df-8b39a344-ac0c-42be-9509-bae82a9a557e');\n",
       "          const dataTable =\n",
       "            await google.colab.kernel.invokeFunction('convertToInteractive',\n",
       "                                                     [key], {});\n",
       "          if (!dataTable) return;\n",
       "\n",
       "          const docLinkHtml = 'Like what you see? Visit the ' +\n",
       "            '<a target=\"_blank\" href=https://colab.research.google.com/notebooks/data_table.ipynb>data table notebook</a>'\n",
       "            + ' to learn more about interactive tables.';\n",
       "          element.innerHTML = '';\n",
       "          dataTable['output_type'] = 'display_data';\n",
       "          await google.colab.output.renderOutput(dataTable, element);\n",
       "          const docLink = document.createElement('div');\n",
       "          docLink.innerHTML = docLinkHtml;\n",
       "          element.appendChild(docLink);\n",
       "        }\n",
       "      </script>\n",
       "    </div>\n",
       "  </div>\n",
       "  "
      ],
      "text/plain": [
       "   Pct_To_Target  Sales_Target     Sales\n",
       "0           0.96         75000   72000.0\n",
       "1           1.14         75000   85500.0\n",
       "2           0.99         75000   74250.0\n",
       "3           0.98        500000  490000.0\n",
       "4           1.17         75000   87750.0"
      ]
     },
     "execution_count": 12,
     "metadata": {},
     "output_type": "execute_result"
    }
   ],
   "source": [
    "df.head()"
   ]
  },
  {
   "cell_type": "markdown",
   "metadata": {
    "id": "Bpq6YjGAKW34"
   },
   "source": [
    "Вы могли заметить, что я проделал небольшой трюк, чтобы вычислить фактическую сумму продаж (*actual sales amount*). Для этой задачи фактическая сумма продаж может сильно меняться с годами, но распределение производительности остается удивительно стабильным. Поэтому я использую случайные распределения для генерации исходных данных и поддержки фактических продаж.\n",
    "\n",
    "Последний фрагмент кода, который нужно создать, - это способ вычисления на основании `Pct_To_Target` ставки комиссии. \n",
    "\n",
    "Вот функция:"
   ]
  },
  {
   "cell_type": "code",
   "execution_count": null,
   "metadata": {
    "id": "PPxdWzWwKW34"
   },
   "outputs": [],
   "source": [
    "def calc_commission_rate(x):\n",
    "    \"\"\" Вернуть комиссию по таблице:\n",
    "    0-90% = 2%\n",
    "    91-99% = 3%\n",
    "    >= 100 = 4%\n",
    "    \"\"\"\n",
    "    if x <= .90:\n",
    "        return .02\n",
    "    if x <= .99:\n",
    "        return .03\n",
    "    else:\n",
    "        return .04"
   ]
  },
  {
   "cell_type": "markdown",
   "metadata": {
    "id": "fb4MWervKW36"
   },
   "source": [
    "> Дополнительное преимущество использования *Python* вместо *Excel* заключается в том, что мы можем создать гораздо более сложную логику, которую легче понять, чем если бы мы пытались создать сложный вложенный оператор *if* в *Excel*.\n",
    "\n",
    "Теперь мы создаем ставку комиссии и умножаем ее на продажи:"
   ]
  },
  {
   "cell_type": "code",
   "execution_count": null,
   "metadata": {
    "id": "qUrk49hFKW36"
   },
   "outputs": [],
   "source": [
    "df['Commission_Rate'] = df['Pct_To_Target'].apply(calc_commission_rate)"
   ]
  },
  {
   "cell_type": "code",
   "execution_count": null,
   "metadata": {
    "id": "IvQluSiqKW37"
   },
   "outputs": [],
   "source": [
    "# Рассчитайте комиссии\n",
    "df['Commission_Amount'] = df['Commission_Rate'] * df['Sales']"
   ]
  },
  {
   "cell_type": "markdown",
   "metadata": {
    "id": "LPB5Wyg7KW38"
   },
   "source": [
    "Результат похож на модель, построенную в *Excel*:"
   ]
  },
  {
   "cell_type": "code",
   "execution_count": null,
   "metadata": {
    "colab": {
     "base_uri": "https://localhost:8080/",
     "height": 206
    },
    "id": "gh__hAwkKW39",
    "outputId": "d6b6b6df-2d11-47a1-dfac-60979fa51125"
   },
   "outputs": [
    {
     "data": {
      "text/html": [
       "\n",
       "  <div id=\"df-266b8d5d-0d1f-49ff-8890-9a5ba2e15ec5\">\n",
       "    <div class=\"colab-df-container\">\n",
       "      <div>\n",
       "<style scoped>\n",
       "    .dataframe tbody tr th:only-of-type {\n",
       "        vertical-align: middle;\n",
       "    }\n",
       "\n",
       "    .dataframe tbody tr th {\n",
       "        vertical-align: top;\n",
       "    }\n",
       "\n",
       "    .dataframe thead th {\n",
       "        text-align: right;\n",
       "    }\n",
       "</style>\n",
       "<table border=\"1\" class=\"dataframe\">\n",
       "  <thead>\n",
       "    <tr style=\"text-align: right;\">\n",
       "      <th></th>\n",
       "      <th>Pct_To_Target</th>\n",
       "      <th>Sales_Target</th>\n",
       "      <th>Sales</th>\n",
       "      <th>Commission_Rate</th>\n",
       "      <th>Commission_Amount</th>\n",
       "    </tr>\n",
       "  </thead>\n",
       "  <tbody>\n",
       "    <tr>\n",
       "      <th>0</th>\n",
       "      <td>0.96</td>\n",
       "      <td>75000</td>\n",
       "      <td>72000.0</td>\n",
       "      <td>0.03</td>\n",
       "      <td>2160.0</td>\n",
       "    </tr>\n",
       "    <tr>\n",
       "      <th>1</th>\n",
       "      <td>1.14</td>\n",
       "      <td>75000</td>\n",
       "      <td>85500.0</td>\n",
       "      <td>0.04</td>\n",
       "      <td>3420.0</td>\n",
       "    </tr>\n",
       "    <tr>\n",
       "      <th>2</th>\n",
       "      <td>0.99</td>\n",
       "      <td>75000</td>\n",
       "      <td>74250.0</td>\n",
       "      <td>0.03</td>\n",
       "      <td>2227.5</td>\n",
       "    </tr>\n",
       "    <tr>\n",
       "      <th>3</th>\n",
       "      <td>0.98</td>\n",
       "      <td>500000</td>\n",
       "      <td>490000.0</td>\n",
       "      <td>0.03</td>\n",
       "      <td>14700.0</td>\n",
       "    </tr>\n",
       "    <tr>\n",
       "      <th>4</th>\n",
       "      <td>1.17</td>\n",
       "      <td>75000</td>\n",
       "      <td>87750.0</td>\n",
       "      <td>0.04</td>\n",
       "      <td>3510.0</td>\n",
       "    </tr>\n",
       "  </tbody>\n",
       "</table>\n",
       "</div>\n",
       "      <button class=\"colab-df-convert\" onclick=\"convertToInteractive('df-266b8d5d-0d1f-49ff-8890-9a5ba2e15ec5')\"\n",
       "              title=\"Convert this dataframe to an interactive table.\"\n",
       "              style=\"display:none;\">\n",
       "        \n",
       "  <svg xmlns=\"http://www.w3.org/2000/svg\" height=\"24px\"viewBox=\"0 0 24 24\"\n",
       "       width=\"24px\">\n",
       "    <path d=\"M0 0h24v24H0V0z\" fill=\"none\"/>\n",
       "    <path d=\"M18.56 5.44l.94 2.06.94-2.06 2.06-.94-2.06-.94-.94-2.06-.94 2.06-2.06.94zm-11 1L8.5 8.5l.94-2.06 2.06-.94-2.06-.94L8.5 2.5l-.94 2.06-2.06.94zm10 10l.94 2.06.94-2.06 2.06-.94-2.06-.94-.94-2.06-.94 2.06-2.06.94z\"/><path d=\"M17.41 7.96l-1.37-1.37c-.4-.4-.92-.59-1.43-.59-.52 0-1.04.2-1.43.59L10.3 9.45l-7.72 7.72c-.78.78-.78 2.05 0 2.83L4 21.41c.39.39.9.59 1.41.59.51 0 1.02-.2 1.41-.59l7.78-7.78 2.81-2.81c.8-.78.8-2.07 0-2.86zM5.41 20L4 18.59l7.72-7.72 1.47 1.35L5.41 20z\"/>\n",
       "  </svg>\n",
       "      </button>\n",
       "      \n",
       "  <style>\n",
       "    .colab-df-container {\n",
       "      display:flex;\n",
       "      flex-wrap:wrap;\n",
       "      gap: 12px;\n",
       "    }\n",
       "\n",
       "    .colab-df-convert {\n",
       "      background-color: #E8F0FE;\n",
       "      border: none;\n",
       "      border-radius: 50%;\n",
       "      cursor: pointer;\n",
       "      display: none;\n",
       "      fill: #1967D2;\n",
       "      height: 32px;\n",
       "      padding: 0 0 0 0;\n",
       "      width: 32px;\n",
       "    }\n",
       "\n",
       "    .colab-df-convert:hover {\n",
       "      background-color: #E2EBFA;\n",
       "      box-shadow: 0px 1px 2px rgba(60, 64, 67, 0.3), 0px 1px 3px 1px rgba(60, 64, 67, 0.15);\n",
       "      fill: #174EA6;\n",
       "    }\n",
       "\n",
       "    [theme=dark] .colab-df-convert {\n",
       "      background-color: #3B4455;\n",
       "      fill: #D2E3FC;\n",
       "    }\n",
       "\n",
       "    [theme=dark] .colab-df-convert:hover {\n",
       "      background-color: #434B5C;\n",
       "      box-shadow: 0px 1px 3px 1px rgba(0, 0, 0, 0.15);\n",
       "      filter: drop-shadow(0px 1px 2px rgba(0, 0, 0, 0.3));\n",
       "      fill: #FFFFFF;\n",
       "    }\n",
       "  </style>\n",
       "\n",
       "      <script>\n",
       "        const buttonEl =\n",
       "          document.querySelector('#df-266b8d5d-0d1f-49ff-8890-9a5ba2e15ec5 button.colab-df-convert');\n",
       "        buttonEl.style.display =\n",
       "          google.colab.kernel.accessAllowed ? 'block' : 'none';\n",
       "\n",
       "        async function convertToInteractive(key) {\n",
       "          const element = document.querySelector('#df-266b8d5d-0d1f-49ff-8890-9a5ba2e15ec5');\n",
       "          const dataTable =\n",
       "            await google.colab.kernel.invokeFunction('convertToInteractive',\n",
       "                                                     [key], {});\n",
       "          if (!dataTable) return;\n",
       "\n",
       "          const docLinkHtml = 'Like what you see? Visit the ' +\n",
       "            '<a target=\"_blank\" href=https://colab.research.google.com/notebooks/data_table.ipynb>data table notebook</a>'\n",
       "            + ' to learn more about interactive tables.';\n",
       "          element.innerHTML = '';\n",
       "          dataTable['output_type'] = 'display_data';\n",
       "          await google.colab.output.renderOutput(dataTable, element);\n",
       "          const docLink = document.createElement('div');\n",
       "          docLink.innerHTML = docLinkHtml;\n",
       "          element.appendChild(docLink);\n",
       "        }\n",
       "      </script>\n",
       "    </div>\n",
       "  </div>\n",
       "  "
      ],
      "text/plain": [
       "   Pct_To_Target  Sales_Target     Sales  Commission_Rate  Commission_Amount\n",
       "0           0.96         75000   72000.0             0.03             2160.0\n",
       "1           1.14         75000   85500.0             0.04             3420.0\n",
       "2           0.99         75000   74250.0             0.03             2227.5\n",
       "3           0.98        500000  490000.0             0.03            14700.0\n",
       "4           1.17         75000   87750.0             0.04             3510.0"
      ]
     },
     "execution_count": 17,
     "metadata": {},
     "output_type": "execute_result"
    }
   ],
   "source": [
    "df.head()"
   ]
  },
  {
   "cell_type": "markdown",
   "metadata": {
    "id": "OL9W6b9HKW39"
   },
   "source": [
    "Просуммируем значения в каждом из столбцов (нужный нам результат в столбце `Commission_Amount`):"
   ]
  },
  {
   "cell_type": "code",
   "execution_count": null,
   "metadata": {
    "colab": {
     "base_uri": "https://localhost:8080/"
    },
    "id": "kb5vkp59KW3-",
    "outputId": "5d1501c9-4941-444b-c658-7676a4f34df1"
   },
   "outputs": [
    {
     "data": {
      "text/plain": [
       "(87058000.0, 3027895.0, 86175000)"
      ]
     },
     "execution_count": 18,
     "metadata": {},
     "output_type": "execute_result"
    }
   ],
   "source": [
    "df['Sales'].sum(), df['Commission_Amount'].sum(), df['Sales_Target'].sum()"
   ]
  },
  {
   "cell_type": "markdown",
   "metadata": {
    "id": "OCMZy_XnKW3_"
   },
   "source": [
    "Вот и все!\n",
    "\n",
    "Мы воспроизвели модель, аналогичную той, что сделали в *Excel*, но использовали несколько более сложных распределений, чем просто добавление в задачу набора случайных чисел."
   ]
  },
  {
   "cell_type": "markdown",
   "metadata": {
    "id": "74dKr2JuKW4A"
   },
   "source": [
    "## Запустим цикл\n",
    "\n",
    "Настоящая \"магия\" моделирования Монте-Карло заключается в том, что, если мы запускаем моделирование много раз, то начинаем формировать картину вероятного распределения результатов. В *Excel* понадобится *VBA* для выполнения нескольких итераций. В *Python* мы можем использовать `цикл for` для запуска любого количества симуляций.\n",
    "\n",
    "Помимо запуска каждой симуляции, сохраняем результаты, которые нам интересны, в списке, который превратим во фрейм данных для дальнейшего анализа распределения результатов.\n",
    "\n",
    "Вот полный код цикла:"
   ]
  },
  {
   "cell_type": "code",
   "execution_count": null,
   "metadata": {
    "id": "U7FQtUfRKW4B"
   },
   "outputs": [],
   "source": [
    "# Определите список, чтобы сохранить результаты каждой симуляции, которую хотим проанализировать\n",
    "all_stats = []\n",
    "\n",
    "# Пройдите через множество симуляций\n",
    "for i in range(num_simulations):\n",
    "\n",
    "    # Выберите случайные входные данные для целей продаж и процент для целей\n",
    "    sales_target = np.random.choice(sales_target_values, num_reps, p=sales_target_prob)\n",
    "    pct_to_target = np.random.normal(avg, std_dev, num_reps).round(2)\n",
    "\n",
    "    # Создайте фрейм данных на основе входных значений и количества повторений\n",
    "    df = pd.DataFrame(index=range(num_reps), data={'Pct_To_Target': pct_to_target,\n",
    "                                                   'Sales_Target': sales_target})\n",
    "\n",
    "    # Вернитесь к количеству продаж, используя процент для целевой ставки\n",
    "    df['Sales'] = df['Pct_To_Target'] * df['Sales_Target']\n",
    "\n",
    "    # Определите ставку комиссии и рассчитайте ее\n",
    "    df['Commission_Rate'] = df['Pct_To_Target'].apply(calc_commission_rate)\n",
    "    df['Commission_Amount'] = df['Commission_Rate'] * df['Sales']\n",
    "\n",
    "    # Мы хотим отслеживать продажи, суммы комиссионных и целевые показатели продаж по всем симуляциям\n",
    "    all_stats.append([df['Sales'].sum().round(0),\n",
    "                      df['Commission_Amount'].sum().round(0),\n",
    "                      df['Sales_Target'].sum().round(0)])"
   ]
  },
  {
   "cell_type": "markdown",
   "metadata": {
    "id": "ohRC2droKW4C"
   },
   "source": [
    "Результаты `1 миллиона` симуляций не всегда более полезны, чем `10 000`. Попробуйте разное количества и посмотрите, как изменится результат.\n",
    "\n",
    "Чтобы проанализировать результаты моделирования, я построю фрейм данных из `all_stats`:"
   ]
  },
  {
   "cell_type": "code",
   "execution_count": null,
   "metadata": {
    "id": "zfLDIWLXKW4D"
   },
   "outputs": [],
   "source": [
    "results_df = pd.DataFrame.from_records(all_stats, columns=['Sales',\n",
    "                                                           'Commission_Amount',\n",
    "                                                           'Sales_Target'])"
   ]
  },
  {
   "cell_type": "code",
   "execution_count": null,
   "metadata": {
    "colab": {
     "base_uri": "https://localhost:8080/",
     "height": 424
    },
    "id": "ihJznKkHQcIR",
    "outputId": "c7557d48-1723-41f2-e715-b21e9a248e0d"
   },
   "outputs": [
    {
     "data": {
      "text/html": [
       "\n",
       "  <div id=\"df-c593f2e8-6345-4581-91a1-52e72eac4bd0\">\n",
       "    <div class=\"colab-df-container\">\n",
       "      <div>\n",
       "<style scoped>\n",
       "    .dataframe tbody tr th:only-of-type {\n",
       "        vertical-align: middle;\n",
       "    }\n",
       "\n",
       "    .dataframe tbody tr th {\n",
       "        vertical-align: top;\n",
       "    }\n",
       "\n",
       "    .dataframe thead th {\n",
       "        text-align: right;\n",
       "    }\n",
       "</style>\n",
       "<table border=\"1\" class=\"dataframe\">\n",
       "  <thead>\n",
       "    <tr style=\"text-align: right;\">\n",
       "      <th></th>\n",
       "      <th>Sales</th>\n",
       "      <th>Commission_Amount</th>\n",
       "      <th>Sales_Target</th>\n",
       "    </tr>\n",
       "  </thead>\n",
       "  <tbody>\n",
       "    <tr>\n",
       "      <th>0</th>\n",
       "      <td>88160000.0</td>\n",
       "      <td>3053635.0</td>\n",
       "      <td>87425000</td>\n",
       "    </tr>\n",
       "    <tr>\n",
       "      <th>1</th>\n",
       "      <td>79275000.0</td>\n",
       "      <td>2716790.0</td>\n",
       "      <td>78925000</td>\n",
       "    </tr>\n",
       "    <tr>\n",
       "      <th>2</th>\n",
       "      <td>84729750.0</td>\n",
       "      <td>2930335.0</td>\n",
       "      <td>84325000</td>\n",
       "    </tr>\n",
       "    <tr>\n",
       "      <th>3</th>\n",
       "      <td>83809000.0</td>\n",
       "      <td>2875735.0</td>\n",
       "      <td>83275000</td>\n",
       "    </tr>\n",
       "    <tr>\n",
       "      <th>4</th>\n",
       "      <td>81747500.0</td>\n",
       "      <td>2733195.0</td>\n",
       "      <td>82350000</td>\n",
       "    </tr>\n",
       "    <tr>\n",
       "      <th>...</th>\n",
       "      <td>...</td>\n",
       "      <td>...</td>\n",
       "      <td>...</td>\n",
       "    </tr>\n",
       "    <tr>\n",
       "      <th>995</th>\n",
       "      <td>86340000.0</td>\n",
       "      <td>2910118.0</td>\n",
       "      <td>86650000</td>\n",
       "    </tr>\n",
       "    <tr>\n",
       "      <th>996</th>\n",
       "      <td>84327500.0</td>\n",
       "      <td>2916530.0</td>\n",
       "      <td>83775000</td>\n",
       "    </tr>\n",
       "    <tr>\n",
       "      <th>997</th>\n",
       "      <td>85031500.0</td>\n",
       "      <td>2907348.0</td>\n",
       "      <td>84900000</td>\n",
       "    </tr>\n",
       "    <tr>\n",
       "      <th>998</th>\n",
       "      <td>82147750.0</td>\n",
       "      <td>2777318.0</td>\n",
       "      <td>82325000</td>\n",
       "    </tr>\n",
       "    <tr>\n",
       "      <th>999</th>\n",
       "      <td>83742500.0</td>\n",
       "      <td>2870648.0</td>\n",
       "      <td>84025000</td>\n",
       "    </tr>\n",
       "  </tbody>\n",
       "</table>\n",
       "<p>1000 rows × 3 columns</p>\n",
       "</div>\n",
       "      <button class=\"colab-df-convert\" onclick=\"convertToInteractive('df-c593f2e8-6345-4581-91a1-52e72eac4bd0')\"\n",
       "              title=\"Convert this dataframe to an interactive table.\"\n",
       "              style=\"display:none;\">\n",
       "        \n",
       "  <svg xmlns=\"http://www.w3.org/2000/svg\" height=\"24px\"viewBox=\"0 0 24 24\"\n",
       "       width=\"24px\">\n",
       "    <path d=\"M0 0h24v24H0V0z\" fill=\"none\"/>\n",
       "    <path d=\"M18.56 5.44l.94 2.06.94-2.06 2.06-.94-2.06-.94-.94-2.06-.94 2.06-2.06.94zm-11 1L8.5 8.5l.94-2.06 2.06-.94-2.06-.94L8.5 2.5l-.94 2.06-2.06.94zm10 10l.94 2.06.94-2.06 2.06-.94-2.06-.94-.94-2.06-.94 2.06-2.06.94z\"/><path d=\"M17.41 7.96l-1.37-1.37c-.4-.4-.92-.59-1.43-.59-.52 0-1.04.2-1.43.59L10.3 9.45l-7.72 7.72c-.78.78-.78 2.05 0 2.83L4 21.41c.39.39.9.59 1.41.59.51 0 1.02-.2 1.41-.59l7.78-7.78 2.81-2.81c.8-.78.8-2.07 0-2.86zM5.41 20L4 18.59l7.72-7.72 1.47 1.35L5.41 20z\"/>\n",
       "  </svg>\n",
       "      </button>\n",
       "      \n",
       "  <style>\n",
       "    .colab-df-container {\n",
       "      display:flex;\n",
       "      flex-wrap:wrap;\n",
       "      gap: 12px;\n",
       "    }\n",
       "\n",
       "    .colab-df-convert {\n",
       "      background-color: #E8F0FE;\n",
       "      border: none;\n",
       "      border-radius: 50%;\n",
       "      cursor: pointer;\n",
       "      display: none;\n",
       "      fill: #1967D2;\n",
       "      height: 32px;\n",
       "      padding: 0 0 0 0;\n",
       "      width: 32px;\n",
       "    }\n",
       "\n",
       "    .colab-df-convert:hover {\n",
       "      background-color: #E2EBFA;\n",
       "      box-shadow: 0px 1px 2px rgba(60, 64, 67, 0.3), 0px 1px 3px 1px rgba(60, 64, 67, 0.15);\n",
       "      fill: #174EA6;\n",
       "    }\n",
       "\n",
       "    [theme=dark] .colab-df-convert {\n",
       "      background-color: #3B4455;\n",
       "      fill: #D2E3FC;\n",
       "    }\n",
       "\n",
       "    [theme=dark] .colab-df-convert:hover {\n",
       "      background-color: #434B5C;\n",
       "      box-shadow: 0px 1px 3px 1px rgba(0, 0, 0, 0.15);\n",
       "      filter: drop-shadow(0px 1px 2px rgba(0, 0, 0, 0.3));\n",
       "      fill: #FFFFFF;\n",
       "    }\n",
       "  </style>\n",
       "\n",
       "      <script>\n",
       "        const buttonEl =\n",
       "          document.querySelector('#df-c593f2e8-6345-4581-91a1-52e72eac4bd0 button.colab-df-convert');\n",
       "        buttonEl.style.display =\n",
       "          google.colab.kernel.accessAllowed ? 'block' : 'none';\n",
       "\n",
       "        async function convertToInteractive(key) {\n",
       "          const element = document.querySelector('#df-c593f2e8-6345-4581-91a1-52e72eac4bd0');\n",
       "          const dataTable =\n",
       "            await google.colab.kernel.invokeFunction('convertToInteractive',\n",
       "                                                     [key], {});\n",
       "          if (!dataTable) return;\n",
       "\n",
       "          const docLinkHtml = 'Like what you see? Visit the ' +\n",
       "            '<a target=\"_blank\" href=https://colab.research.google.com/notebooks/data_table.ipynb>data table notebook</a>'\n",
       "            + ' to learn more about interactive tables.';\n",
       "          element.innerHTML = '';\n",
       "          dataTable['output_type'] = 'display_data';\n",
       "          await google.colab.output.renderOutput(dataTable, element);\n",
       "          const docLink = document.createElement('div');\n",
       "          docLink.innerHTML = docLinkHtml;\n",
       "          element.appendChild(docLink);\n",
       "        }\n",
       "      </script>\n",
       "    </div>\n",
       "  </div>\n",
       "  "
      ],
      "text/plain": [
       "          Sales  Commission_Amount  Sales_Target\n",
       "0    88160000.0          3053635.0      87425000\n",
       "1    79275000.0          2716790.0      78925000\n",
       "2    84729750.0          2930335.0      84325000\n",
       "3    83809000.0          2875735.0      83275000\n",
       "4    81747500.0          2733195.0      82350000\n",
       "..          ...                ...           ...\n",
       "995  86340000.0          2910118.0      86650000\n",
       "996  84327500.0          2916530.0      83775000\n",
       "997  85031500.0          2907348.0      84900000\n",
       "998  82147750.0          2777318.0      82325000\n",
       "999  83742500.0          2870648.0      84025000\n",
       "\n",
       "[1000 rows x 3 columns]"
      ]
     },
     "execution_count": 21,
     "metadata": {},
     "output_type": "execute_result"
    }
   ],
   "source": [
    "results_df"
   ]
  },
  {
   "cell_type": "markdown",
   "metadata": {
    "id": "tHNHHhL7KW4E"
   },
   "source": [
    "Теперь легко увидеть, как выглядит диапазон результатов:"
   ]
  },
  {
   "cell_type": "code",
   "execution_count": null,
   "metadata": {
    "colab": {
     "base_uri": "https://localhost:8080/",
     "height": 300
    },
    "id": "LE-Dl2b9KW4E",
    "outputId": "2bdf195a-7a4b-4027-92b7-5311daa776ef"
   },
   "outputs": [
    {
     "data": {
      "text/html": [
       "<style type=\"text/css\">\n",
       "</style>\n",
       "<table id=\"T_30acf_\" class=\"dataframe\">\n",
       "  <thead>\n",
       "    <tr>\n",
       "      <th class=\"blank level0\" >&nbsp;</th>\n",
       "      <th class=\"col_heading level0 col0\" >Sales</th>\n",
       "      <th class=\"col_heading level0 col1\" >Commission_Amount</th>\n",
       "      <th class=\"col_heading level0 col2\" >Sales_Target</th>\n",
       "    </tr>\n",
       "  </thead>\n",
       "  <tbody>\n",
       "    <tr>\n",
       "      <th id=\"T_30acf_level0_row0\" class=\"row_heading level0 row0\" >count</th>\n",
       "      <td id=\"T_30acf_row0_col0\" class=\"data row0 col0\" >1,000.0</td>\n",
       "      <td id=\"T_30acf_row0_col1\" class=\"data row0 col1\" >1,000.0</td>\n",
       "      <td id=\"T_30acf_row0_col2\" class=\"data row0 col2\" >1,000.0</td>\n",
       "    </tr>\n",
       "    <tr>\n",
       "      <th id=\"T_30acf_level0_row1\" class=\"row_heading level0 row1\" >mean</th>\n",
       "      <td id=\"T_30acf_row1_col0\" class=\"data row1 col0\" >83,676,486.0</td>\n",
       "      <td id=\"T_30acf_row1_col1\" class=\"data row1 col1\" >2,856,455.914</td>\n",
       "      <td id=\"T_30acf_row1_col2\" class=\"data row1 col2\" >83,677,475.0</td>\n",
       "    </tr>\n",
       "    <tr>\n",
       "      <th id=\"T_30acf_level0_row2\" class=\"row_heading level0 row2\" >std</th>\n",
       "      <td id=\"T_30acf_row2_col0\" class=\"data row2 col0\" >2,600,751.9583146865</td>\n",
       "      <td id=\"T_30acf_row2_col1\" class=\"data row2 col1\" >97,379.18074585214</td>\n",
       "      <td id=\"T_30acf_row2_col2\" class=\"data row2 col2\" >2,595,960.517878765</td>\n",
       "    </tr>\n",
       "    <tr>\n",
       "      <th id=\"T_30acf_level0_row3\" class=\"row_heading level0 row3\" >min</th>\n",
       "      <td id=\"T_30acf_row3_col0\" class=\"data row3 col0\" >75,420,250.0</td>\n",
       "      <td id=\"T_30acf_row3_col1\" class=\"data row3 col1\" >2,583,680.0</td>\n",
       "      <td id=\"T_30acf_row3_col2\" class=\"data row3 col2\" >75,575,000.0</td>\n",
       "    </tr>\n",
       "    <tr>\n",
       "      <th id=\"T_30acf_level0_row4\" class=\"row_heading level0 row4\" >25%</th>\n",
       "      <td id=\"T_30acf_row4_col0\" class=\"data row4 col0\" >81,891,687.5</td>\n",
       "      <td id=\"T_30acf_row4_col1\" class=\"data row4 col1\" >2,789,401.5</td>\n",
       "      <td id=\"T_30acf_row4_col2\" class=\"data row4 col2\" >81,850,000.0</td>\n",
       "    </tr>\n",
       "    <tr>\n",
       "      <th id=\"T_30acf_level0_row5\" class=\"row_heading level0 row5\" >50%</th>\n",
       "      <td id=\"T_30acf_row5_col0\" class=\"data row5 col0\" >83,689,500.0</td>\n",
       "      <td id=\"T_30acf_row5_col1\" class=\"data row5 col1\" >2,855,613.0</td>\n",
       "      <td id=\"T_30acf_row5_col2\" class=\"data row5 col2\" >83,700,000.0</td>\n",
       "    </tr>\n",
       "    <tr>\n",
       "      <th id=\"T_30acf_level0_row6\" class=\"row_heading level0 row6\" >75%</th>\n",
       "      <td id=\"T_30acf_row6_col0\" class=\"data row6 col0\" >85,450,750.0</td>\n",
       "      <td id=\"T_30acf_row6_col1\" class=\"data row6 col1\" >2,926,000.25</td>\n",
       "      <td id=\"T_30acf_row6_col2\" class=\"data row6 col2\" >85,381,250.0</td>\n",
       "    </tr>\n",
       "    <tr>\n",
       "      <th id=\"T_30acf_level0_row7\" class=\"row_heading level0 row7\" >max</th>\n",
       "      <td id=\"T_30acf_row7_col0\" class=\"data row7 col0\" >92,264,750.0</td>\n",
       "      <td id=\"T_30acf_row7_col1\" class=\"data row7 col1\" >3,224,112.0</td>\n",
       "      <td id=\"T_30acf_row7_col2\" class=\"data row7 col2\" >92,075,000.0</td>\n",
       "    </tr>\n",
       "  </tbody>\n",
       "</table>\n"
      ],
      "text/plain": [
       "<pandas.io.formats.style.Styler at 0x7f234f117f90>"
      ]
     },
     "execution_count": 22,
     "metadata": {},
     "output_type": "execute_result"
    }
   ],
   "source": [
    "results_df.describe().style.format('{:,}')"
   ]
  },
  {
   "cell_type": "markdown",
   "metadata": {
    "id": "qR2cNHkuKW4G"
   },
   "source": [
    "Графически это выглядит так:"
   ]
  },
  {
   "cell_type": "code",
   "execution_count": null,
   "metadata": {
    "colab": {
     "base_uri": "https://localhost:8080/",
     "height": 294
    },
    "id": "nqMuF7bWKW4H",
    "outputId": "ed39ab0a-ebfb-47a3-81e5-bf6fb2c0f95c"
   },
   "outputs": [
    {
     "data": {
      "image/png": "[encoded data removed]",
      "text/plain": [
       "<Figure size 432x288 with 1 Axes>"
      ]
     },
     "metadata": {},
     "output_type": "display_data"
    }
   ],
   "source": [
    "results_df['Commission_Amount'].plot(kind='hist', \n",
    "                                     title=\"Total Commission Amount\");"
   ]
  },
  {
   "cell_type": "markdown",
   "metadata": {
    "id": "b9TqKoGyKW4H"
   },
   "source": [
    "Итак, о чем говорит эта диаграмма и результат описания? \n",
    "\n",
    "Видим, что средние комиссионные расходы составляют `2,85 миллиона долларов`, а стандартное отклонение составляет `103 тысячи долларов`. Мы также видим, что размер комиссионных может составлять от `2,5` до `3,2 млн долларов`.\n",
    "\n",
    "Исходя из этих результатов, насколько вы уверены, что расходы на комиссионные будут меньше `3 миллионов долларов`? Или, если кто-то скажет: \"Давайте выделим только `2,7 миллиона долларов`\", почувствуете ли вы, что ваши расходы будут меньше этой суммы? Возможно нет.\n",
    "\n",
    "В этом заключается одно из преимуществ моделирования Монте-Карло. Вы лучше понимаете распределение вероятных результатов и можете использовать эти знания, а также свою деловую хватку, чтобы сделать обоснованную оценку.\n",
    "\n",
    "Другая ценность этой модели состоит в том, что вы можете моделировать множество различных предположений и смотреть, что происходит. Вот несколько простых изменений, которые вы можете внести, чтобы увидеть, как меняются результаты:\n",
    "\n",
    "- увеличить максимальную комиссию до 5%;\n",
    "- уменьшите количество продавцов;\n",
    "- измените ожидаемое стандартное отклонение на большее значение;\n",
    "- изменить распределение целей.\n",
    "\n",
    "Теперь, когда модель создана, внести эти изменения так же просто, как настроить несколько переменных и повторно запустить код. \n",
    "\n",
    "Еще одно наблюдение, касающееся моделирования методом Монте-Карло, заключается в том, что его относительно легко объяснить конечному пользователю. Человек, получающий эту оценку, может не иметь глубоких математических знаний, но способен интуитивно понять, что делает это моделирование и как оценить вероятность диапазона возможных результатов.\n",
    "\n",
    "Наконец, я думаю, что показанный здесь подход легче понять и воспроизвести, чем некоторые решения *Excel*, с которыми вы можете столкнуться. \n",
    "\n",
    "## Заключение\n",
    "\n",
    "*Моделирование методом Монте-Карло* - полезный инструмент для прогнозирования будущих результатов путем многократного вычисления формулы с различными случайными входными данными. \n",
    "\n",
    "Дополнительным преимуществом *Python* является то, что аналитики могут запускать множество сценариев, изменяя исходные данные, и переходить к гораздо более сложным моделям в будущем, если возникнут потребности. Наконец, результатами можно поделиться с нетехническими пользователями и облегчить обсуждение неопределенности конечных результатов."
   ]
  },
  {
   "cell_type": "markdown",
   "metadata": {
    "id": "VDEPx2EGKW4J"
   },
   "source": [
    "### Обновления 19 марта 2019 г. \n",
    "> Основываясь на [комментариях Reddit](https://www.reddit.com/r/Python/comments/arxwkm/monte_carlo_simulation_with_python/), я сделал еще одну [реализацию](https://colab.research.google.com/github/chris1610/pbpython/blob/master/notebooks/Monte_Carlo_Simulationv2.ipynb), которая работает быстрее. См. ниже"
   ]
  },
  {
   "cell_type": "markdown",
   "metadata": {
    "id": "iie8GCpuKW4J"
   },
   "source": [
    "<a href=\"https://t.me/init_python\"><img src=\"https://dfedorov.spb.ru/pandas/logo-telegram.png\" width=\"35\" height=\"35\" alt=\"telegram\" align=\"left\"></a>"
   ]
  },
  {
   "cell_type": "markdown",
   "metadata": {
    "id": "SYoOhr4mMQdO"
   },
   "source": [
    "### Monte Carlo Simulation with Python II\n",
    "\n",
    "Notebook to accompany article on [Practical Business Python](https://pbpython.com/monte-carlo.html)\n",
    "\n",
    "Update to use numpy for faster loops based on comments [here](https://www.reddit.com/r/Python/comments/arxwkm/monte_carlo_simulation_with_python/)"
   ]
  },
  {
   "cell_type": "code",
   "execution_count": null,
   "metadata": {
    "id": "2j9TuXMlMQdm"
   },
   "outputs": [],
   "source": [
    "import pandas as pd\n",
    "import numpy as np\n",
    "import seaborn as sns"
   ]
  },
  {
   "cell_type": "code",
   "execution_count": null,
   "metadata": {
    "id": "-LhwJzTWMQds"
   },
   "outputs": [],
   "source": [
    "sns.set_style('whitegrid')"
   ]
  },
  {
   "cell_type": "code",
   "execution_count": null,
   "metadata": {
    "id": "i2J7Y19UMQdv"
   },
   "outputs": [],
   "source": [
    "# Define the variables for the Percent to target based on historical results\n",
    "avg = 1\n",
    "std_dev = .1\n",
    "num_reps = 500\n",
    "num_simulations = 100000"
   ]
  },
  {
   "cell_type": "code",
   "execution_count": null,
   "metadata": {
    "id": "rhWfRJ-XMQdy"
   },
   "outputs": [],
   "source": [
    "# Show an example of calculating the percent to target\n",
    "pct_to_target = np.random.normal(\n",
    "    avg,\n",
    "    std_dev,\n",
    "    size=(num_reps, num_simulations)\n",
    ")"
   ]
  },
  {
   "cell_type": "code",
   "execution_count": null,
   "metadata": {
    "colab": {
     "base_uri": "https://localhost:8080/"
    },
    "id": "Sld1YNIsMQd1",
    "outputId": "27f77161-ed92-4093-c2e1-050c66711cfe"
   },
   "outputs": [
    {
     "data": {
      "text/plain": [
       "array([[0.9997651 , 1.09994229, 1.05178416, ..., 0.99340482, 0.90188913,\n",
       "        0.93783077],\n",
       "       [0.95528656, 1.07620953, 0.80324495, ..., 1.07895963, 0.98580228,\n",
       "        0.80715527],\n",
       "       [0.9509499 , 1.04047365, 1.13367182, ..., 1.08312434, 0.90090913,\n",
       "        1.23517809],\n",
       "       ...,\n",
       "       [0.8689671 , 0.8715995 , 0.89249232, ..., 0.96423141, 0.9505922 ,\n",
       "        0.96143733],\n",
       "       [0.80264301, 1.12098251, 0.87688543, ..., 1.09888677, 0.90133742,\n",
       "        0.86946373],\n",
       "       [1.04021928, 0.98600112, 0.96411866, ..., 0.85341598, 0.96192711,\n",
       "        1.0615466 ]])"
      ]
     },
     "execution_count": 5,
     "metadata": {},
     "output_type": "execute_result"
    }
   ],
   "source": [
    "pct_to_target[0:10]"
   ]
  },
  {
   "cell_type": "code",
   "execution_count": null,
   "metadata": {
    "id": "P34TPPuHMQd3"
   },
   "outputs": [],
   "source": [
    "# Another example for the sales target distribution\n",
    "sales_target_values = [75_000, 100_000, 200_000, 300_000, 400_000, 500_000]\n",
    "sales_target_prob = [.3, .3, .2, .1, .05, .05]\n",
    "sales_target = np.random.choice(sales_target_values, p=sales_target_prob, \n",
    "                                size=(num_reps, num_simulations))"
   ]
  },
  {
   "cell_type": "code",
   "execution_count": null,
   "metadata": {
    "colab": {
     "base_uri": "https://localhost:8080/"
    },
    "id": "e3W_xG9OMQd5",
    "outputId": "44fefbe5-bc0a-4c22-a5c3-8531b1d111c1"
   },
   "outputs": [
    {
     "data": {
      "text/plain": [
       "array([[200000,  75000, 300000, ..., 500000, 200000, 300000],\n",
       "       [100000, 200000,  75000, ..., 300000,  75000,  75000],\n",
       "       [200000, 100000, 200000, ...,  75000, 100000, 200000],\n",
       "       ...,\n",
       "       [100000, 300000, 100000, ...,  75000, 100000, 100000],\n",
       "       [100000, 200000,  75000, ...,  75000, 300000, 300000],\n",
       "       [ 75000, 500000,  75000, ...,  75000, 100000, 200000]])"
      ]
     },
     "execution_count": 7,
     "metadata": {},
     "output_type": "execute_result"
    }
   ],
   "source": [
    "sales_target[0:10]"
   ]
  },
  {
   "cell_type": "code",
   "execution_count": null,
   "metadata": {
    "id": "06vJXTZPMQd8"
   },
   "outputs": [],
   "source": [
    "commission_percentages = np.take(\n",
    "    np.array([0.02, 0.03, 0.04]),\n",
    "    np.digitize(pct_to_target, bins=[.9, .99, 10])\n",
    ")"
   ]
  },
  {
   "cell_type": "code",
   "execution_count": null,
   "metadata": {
    "colab": {
     "base_uri": "https://localhost:8080/"
    },
    "id": "CJ3VPNZvMQeC",
    "outputId": "f7961fc4-ef13-4e3c-8239-54e91f428bb8"
   },
   "outputs": [
    {
     "data": {
      "text/plain": [
       "array([[0.04, 0.04, 0.04, ..., 0.04, 0.03, 0.03],\n",
       "       [0.03, 0.04, 0.02, ..., 0.04, 0.03, 0.02],\n",
       "       [0.03, 0.04, 0.04, ..., 0.04, 0.03, 0.04],\n",
       "       ...,\n",
       "       [0.02, 0.02, 0.02, ..., 0.03, 0.03, 0.03],\n",
       "       [0.02, 0.04, 0.02, ..., 0.04, 0.03, 0.02],\n",
       "       [0.04, 0.03, 0.03, ..., 0.02, 0.03, 0.04]])"
      ]
     },
     "execution_count": 9,
     "metadata": {},
     "output_type": "execute_result"
    }
   ],
   "source": [
    "commission_percentages[0:10]"
   ]
  },
  {
   "cell_type": "code",
   "execution_count": null,
   "metadata": {
    "id": "dZYpICdHMQeN"
   },
   "outputs": [],
   "source": [
    "total_commissions = (commission_percentages * sales_target).sum(axis=0)"
   ]
  },
  {
   "cell_type": "code",
   "execution_count": null,
   "metadata": {
    "colab": {
     "base_uri": "https://localhost:8080/"
    },
    "id": "d4CW7HVVMQeR",
    "outputId": "77597331-6bb1-4fbc-88ae-6cf2c0a851a3"
   },
   "outputs": [
    {
     "data": {
      "text/plain": [
       "96260.29248781023"
      ]
     },
     "execution_count": 11,
     "metadata": {},
     "output_type": "execute_result"
    }
   ],
   "source": [
    "total_commissions.std()"
   ]
  },
  {
   "cell_type": "code",
   "execution_count": null,
   "metadata": {
    "colab": {
     "base_uri": "https://localhost:8080/",
     "height": 206
    },
    "id": "2hz3NQniMQeU",
    "outputId": "3db2ee67-5d5e-44c4-b858-c8503812d053"
   },
   "outputs": [
    {
     "data": {
      "text/html": [
       "\n",
       "  <div id=\"df-8e7c7403-7715-4e8d-a24b-35b61c258518\">\n",
       "    <div class=\"colab-df-container\">\n",
       "      <div>\n",
       "<style scoped>\n",
       "    .dataframe tbody tr th:only-of-type {\n",
       "        vertical-align: middle;\n",
       "    }\n",
       "\n",
       "    .dataframe tbody tr th {\n",
       "        vertical-align: top;\n",
       "    }\n",
       "\n",
       "    .dataframe thead th {\n",
       "        text-align: right;\n",
       "    }\n",
       "</style>\n",
       "<table border=\"1\" class=\"dataframe\">\n",
       "  <thead>\n",
       "    <tr style=\"text-align: right;\">\n",
       "      <th></th>\n",
       "      <th>Total_Commissions</th>\n",
       "    </tr>\n",
       "  </thead>\n",
       "  <tbody>\n",
       "    <tr>\n",
       "      <th>0</th>\n",
       "      <td>2817750.0</td>\n",
       "    </tr>\n",
       "    <tr>\n",
       "      <th>1</th>\n",
       "      <td>2770500.0</td>\n",
       "    </tr>\n",
       "    <tr>\n",
       "      <th>2</th>\n",
       "      <td>3008750.0</td>\n",
       "    </tr>\n",
       "    <tr>\n",
       "      <th>3</th>\n",
       "      <td>2963750.0</td>\n",
       "    </tr>\n",
       "    <tr>\n",
       "      <th>4</th>\n",
       "      <td>2833500.0</td>\n",
       "    </tr>\n",
       "  </tbody>\n",
       "</table>\n",
       "</div>\n",
       "      <button class=\"colab-df-convert\" onclick=\"convertToInteractive('df-8e7c7403-7715-4e8d-a24b-35b61c258518')\"\n",
       "              title=\"Convert this dataframe to an interactive table.\"\n",
       "              style=\"display:none;\">\n",
       "        \n",
       "  <svg xmlns=\"http://www.w3.org/2000/svg\" height=\"24px\"viewBox=\"0 0 24 24\"\n",
       "       width=\"24px\">\n",
       "    <path d=\"M0 0h24v24H0V0z\" fill=\"none\"/>\n",
       "    <path d=\"M18.56 5.44l.94 2.06.94-2.06 2.06-.94-2.06-.94-.94-2.06-.94 2.06-2.06.94zm-11 1L8.5 8.5l.94-2.06 2.06-.94-2.06-.94L8.5 2.5l-.94 2.06-2.06.94zm10 10l.94 2.06.94-2.06 2.06-.94-2.06-.94-.94-2.06-.94 2.06-2.06.94z\"/><path d=\"M17.41 7.96l-1.37-1.37c-.4-.4-.92-.59-1.43-.59-.52 0-1.04.2-1.43.59L10.3 9.45l-7.72 7.72c-.78.78-.78 2.05 0 2.83L4 21.41c.39.39.9.59 1.41.59.51 0 1.02-.2 1.41-.59l7.78-7.78 2.81-2.81c.8-.78.8-2.07 0-2.86zM5.41 20L4 18.59l7.72-7.72 1.47 1.35L5.41 20z\"/>\n",
       "  </svg>\n",
       "      </button>\n",
       "      \n",
       "  <style>\n",
       "    .colab-df-container {\n",
       "      display:flex;\n",
       "      flex-wrap:wrap;\n",
       "      gap: 12px;\n",
       "    }\n",
       "\n",
       "    .colab-df-convert {\n",
       "      background-color: #E8F0FE;\n",
       "      border: none;\n",
       "      border-radius: 50%;\n",
       "      cursor: pointer;\n",
       "      display: none;\n",
       "      fill: #1967D2;\n",
       "      height: 32px;\n",
       "      padding: 0 0 0 0;\n",
       "      width: 32px;\n",
       "    }\n",
       "\n",
       "    .colab-df-convert:hover {\n",
       "      background-color: #E2EBFA;\n",
       "      box-shadow: 0px 1px 2px rgba(60, 64, 67, 0.3), 0px 1px 3px 1px rgba(60, 64, 67, 0.15);\n",
       "      fill: #174EA6;\n",
       "    }\n",
       "\n",
       "    [theme=dark] .colab-df-convert {\n",
       "      background-color: #3B4455;\n",
       "      fill: #D2E3FC;\n",
       "    }\n",
       "\n",
       "    [theme=dark] .colab-df-convert:hover {\n",
       "      background-color: #434B5C;\n",
       "      box-shadow: 0px 1px 3px 1px rgba(0, 0, 0, 0.15);\n",
       "      filter: drop-shadow(0px 1px 2px rgba(0, 0, 0, 0.3));\n",
       "      fill: #FFFFFF;\n",
       "    }\n",
       "  </style>\n",
       "\n",
       "      <script>\n",
       "        const buttonEl =\n",
       "          document.querySelector('#df-8e7c7403-7715-4e8d-a24b-35b61c258518 button.colab-df-convert');\n",
       "        buttonEl.style.display =\n",
       "          google.colab.kernel.accessAllowed ? 'block' : 'none';\n",
       "\n",
       "        async function convertToInteractive(key) {\n",
       "          const element = document.querySelector('#df-8e7c7403-7715-4e8d-a24b-35b61c258518');\n",
       "          const dataTable =\n",
       "            await google.colab.kernel.invokeFunction('convertToInteractive',\n",
       "                                                     [key], {});\n",
       "          if (!dataTable) return;\n",
       "\n",
       "          const docLinkHtml = 'Like what you see? Visit the ' +\n",
       "            '<a target=\"_blank\" href=https://colab.research.google.com/notebooks/data_table.ipynb>data table notebook</a>'\n",
       "            + ' to learn more about interactive tables.';\n",
       "          element.innerHTML = '';\n",
       "          dataTable['output_type'] = 'display_data';\n",
       "          await google.colab.output.renderOutput(dataTable, element);\n",
       "          const docLink = document.createElement('div');\n",
       "          docLink.innerHTML = docLinkHtml;\n",
       "          element.appendChild(docLink);\n",
       "        }\n",
       "      </script>\n",
       "    </div>\n",
       "  </div>\n",
       "  "
      ],
      "text/plain": [
       "   Total_Commissions\n",
       "0          2817750.0\n",
       "1          2770500.0\n",
       "2          3008750.0\n",
       "3          2963750.0\n",
       "4          2833500.0"
      ]
     },
     "execution_count": 12,
     "metadata": {},
     "output_type": "execute_result"
    }
   ],
   "source": [
    "# Show how to create the dataframe\n",
    "df = pd.DataFrame(data={'Total_Commissions': total_commissions})\n",
    "df.head()"
   ]
  },
  {
   "cell_type": "code",
   "execution_count": null,
   "metadata": {
    "colab": {
     "base_uri": "https://localhost:8080/",
     "height": 312
    },
    "id": "uVqZVX-eMQeX",
    "outputId": "f28f7852-5e72-45c8-dcaf-03524ead919e"
   },
   "outputs": [
    {
     "data": {
      "text/plain": [
       "<matplotlib.axes._subplots.AxesSubplot at 0x7f3b85d47f50>"
      ]
     },
     "execution_count": 13,
     "metadata": {},
     "output_type": "execute_result"
    },
    {
     "data": {
      "image/png": "[encoded data removed]",
      "text/plain": [
       "<Figure size 432x288 with 1 Axes>"
      ]
     },
     "metadata": {},
     "output_type": "display_data"
    }
   ],
   "source": [
    "df.plot(kind='hist', title='Commissions Distribution')"
   ]
  },
  {
   "cell_type": "code",
   "execution_count": null,
   "metadata": {
    "colab": {
     "base_uri": "https://localhost:8080/",
     "height": 300
    },
    "id": "wSJ-utO9MQed",
    "outputId": "186b2b59-73bd-40b5-bbbb-53eda7a3dafe"
   },
   "outputs": [
    {
     "data": {
      "text/html": [
       "\n",
       "  <div id=\"df-82a286ac-875a-4b82-8498-f370db036889\">\n",
       "    <div class=\"colab-df-container\">\n",
       "      <div>\n",
       "<style scoped>\n",
       "    .dataframe tbody tr th:only-of-type {\n",
       "        vertical-align: middle;\n",
       "    }\n",
       "\n",
       "    .dataframe tbody tr th {\n",
       "        vertical-align: top;\n",
       "    }\n",
       "\n",
       "    .dataframe thead th {\n",
       "        text-align: right;\n",
       "    }\n",
       "</style>\n",
       "<table border=\"1\" class=\"dataframe\">\n",
       "  <thead>\n",
       "    <tr style=\"text-align: right;\">\n",
       "      <th></th>\n",
       "      <th>Total_Commissions</th>\n",
       "    </tr>\n",
       "  </thead>\n",
       "  <tbody>\n",
       "    <tr>\n",
       "      <th>count</th>\n",
       "      <td>1.000000e+05</td>\n",
       "    </tr>\n",
       "    <tr>\n",
       "      <th>mean</th>\n",
       "      <td>2.831506e+06</td>\n",
       "    </tr>\n",
       "    <tr>\n",
       "      <th>std</th>\n",
       "      <td>9.626077e+04</td>\n",
       "    </tr>\n",
       "    <tr>\n",
       "      <th>min</th>\n",
       "      <td>2.439750e+06</td>\n",
       "    </tr>\n",
       "    <tr>\n",
       "      <th>25%</th>\n",
       "      <td>2.766000e+06</td>\n",
       "    </tr>\n",
       "    <tr>\n",
       "      <th>50%</th>\n",
       "      <td>2.830500e+06</td>\n",
       "    </tr>\n",
       "    <tr>\n",
       "      <th>75%</th>\n",
       "      <td>2.895562e+06</td>\n",
       "    </tr>\n",
       "    <tr>\n",
       "      <th>max</th>\n",
       "      <td>3.303750e+06</td>\n",
       "    </tr>\n",
       "  </tbody>\n",
       "</table>\n",
       "</div>\n",
       "      <button class=\"colab-df-convert\" onclick=\"convertToInteractive('df-82a286ac-875a-4b82-8498-f370db036889')\"\n",
       "              title=\"Convert this dataframe to an interactive table.\"\n",
       "              style=\"display:none;\">\n",
       "        \n",
       "  <svg xmlns=\"http://www.w3.org/2000/svg\" height=\"24px\"viewBox=\"0 0 24 24\"\n",
       "       width=\"24px\">\n",
       "    <path d=\"M0 0h24v24H0V0z\" fill=\"none\"/>\n",
       "    <path d=\"M18.56 5.44l.94 2.06.94-2.06 2.06-.94-2.06-.94-.94-2.06-.94 2.06-2.06.94zm-11 1L8.5 8.5l.94-2.06 2.06-.94-2.06-.94L8.5 2.5l-.94 2.06-2.06.94zm10 10l.94 2.06.94-2.06 2.06-.94-2.06-.94-.94-2.06-.94 2.06-2.06.94z\"/><path d=\"M17.41 7.96l-1.37-1.37c-.4-.4-.92-.59-1.43-.59-.52 0-1.04.2-1.43.59L10.3 9.45l-7.72 7.72c-.78.78-.78 2.05 0 2.83L4 21.41c.39.39.9.59 1.41.59.51 0 1.02-.2 1.41-.59l7.78-7.78 2.81-2.81c.8-.78.8-2.07 0-2.86zM5.41 20L4 18.59l7.72-7.72 1.47 1.35L5.41 20z\"/>\n",
       "  </svg>\n",
       "      </button>\n",
       "      \n",
       "  <style>\n",
       "    .colab-df-container {\n",
       "      display:flex;\n",
       "      flex-wrap:wrap;\n",
       "      gap: 12px;\n",
       "    }\n",
       "\n",
       "    .colab-df-convert {\n",
       "      background-color: #E8F0FE;\n",
       "      border: none;\n",
       "      border-radius: 50%;\n",
       "      cursor: pointer;\n",
       "      display: none;\n",
       "      fill: #1967D2;\n",
       "      height: 32px;\n",
       "      padding: 0 0 0 0;\n",
       "      width: 32px;\n",
       "    }\n",
       "\n",
       "    .colab-df-convert:hover {\n",
       "      background-color: #E2EBFA;\n",
       "      box-shadow: 0px 1px 2px rgba(60, 64, 67, 0.3), 0px 1px 3px 1px rgba(60, 64, 67, 0.15);\n",
       "      fill: #174EA6;\n",
       "    }\n",
       "\n",
       "    [theme=dark] .colab-df-convert {\n",
       "      background-color: #3B4455;\n",
       "      fill: #D2E3FC;\n",
       "    }\n",
       "\n",
       "    [theme=dark] .colab-df-convert:hover {\n",
       "      background-color: #434B5C;\n",
       "      box-shadow: 0px 1px 3px 1px rgba(0, 0, 0, 0.15);\n",
       "      filter: drop-shadow(0px 1px 2px rgba(0, 0, 0, 0.3));\n",
       "      fill: #FFFFFF;\n",
       "    }\n",
       "  </style>\n",
       "\n",
       "      <script>\n",
       "        const buttonEl =\n",
       "          document.querySelector('#df-82a286ac-875a-4b82-8498-f370db036889 button.colab-df-convert');\n",
       "        buttonEl.style.display =\n",
       "          google.colab.kernel.accessAllowed ? 'block' : 'none';\n",
       "\n",
       "        async function convertToInteractive(key) {\n",
       "          const element = document.querySelector('#df-82a286ac-875a-4b82-8498-f370db036889');\n",
       "          const dataTable =\n",
       "            await google.colab.kernel.invokeFunction('convertToInteractive',\n",
       "                                                     [key], {});\n",
       "          if (!dataTable) return;\n",
       "\n",
       "          const docLinkHtml = 'Like what you see? Visit the ' +\n",
       "            '<a target=\"_blank\" href=https://colab.research.google.com/notebooks/data_table.ipynb>data table notebook</a>'\n",
       "            + ' to learn more about interactive tables.';\n",
       "          element.innerHTML = '';\n",
       "          dataTable['output_type'] = 'display_data';\n",
       "          await google.colab.output.renderOutput(dataTable, element);\n",
       "          const docLink = document.createElement('div');\n",
       "          docLink.innerHTML = docLinkHtml;\n",
       "          element.appendChild(docLink);\n",
       "        }\n",
       "      </script>\n",
       "    </div>\n",
       "  </div>\n",
       "  "
      ],
      "text/plain": [
       "       Total_Commissions\n",
       "count       1.000000e+05\n",
       "mean        2.831506e+06\n",
       "std         9.626077e+04\n",
       "min         2.439750e+06\n",
       "25%         2.766000e+06\n",
       "50%         2.830500e+06\n",
       "75%         2.895562e+06\n",
       "max         3.303750e+06"
      ]
     },
     "execution_count": 14,
     "metadata": {},
     "output_type": "execute_result"
    }
   ],
   "source": [
    "df.describe()"
   ]
  },
  {
   "cell_type": "markdown",
   "metadata": {
    "id": "QC5ZnZjLkw-l"
   },
   "source": [
    "# Monte Carlo simulation in Python  “How to measure anything” Douglas W. Hubbard\n",
    "\n",
    "https://www.mikulskibartosz.name/monte-carlo-simulation-in-python/\n",
    "\n",
    "В книге «Как измерить что-либо» Дуглас У. Хаббард использует симуляцию Монте-Карло для решения следующей задачи:\n",
    "\n",
    "Вы планируете арендовать машину для какого-то производственного процесса. Годовая аренда стоит вам 400 000 долларов, и вы не можете отменить досрочно. Вы задаетесь вопросом, достаточно ли высоки годовой уровень производства и экономия на техническом обслуживании, рабочей силе и сырье, чтобы оправдать аренду машины.\n",
    "\n",
    "В этой статье мы собираемся реализовать симуляцию Монте-Карло на Python, чтобы решить проблему, описанную Д.В. Хаббард.\n",
    "\n",
    "## Распределения вероятностей\n",
    "\n",
    "В задаче, описанной в книге, все переменные распределены нормально. Что делать, если вы не знаете, каково распределение ваших переменных?\n",
    "\n",
    "Я собираюсь использовать набор данных Титаника, чтобы показать вам некоторые распределения вероятностей:"
   ]
  },
  {
   "cell_type": "code",
   "execution_count": 24,
   "metadata": {
    "id": "e8Dg8_XDMQef"
   },
   "outputs": [],
   "source": [
    "RANDOM_STATE = 31415\n",
    "import matplotlib.pyplot as plt\n",
    "import numpy as np\n",
    "import pandas as pd\n",
    "import seaborn\n",
    "dataset = seaborn.load_dataset('titanic')\n",
    "# I want only the age column, but I don't want to deal with missing values\n",
    "ages = dataset.age.dropna()"
   ]
  },
  {
   "cell_type": "code",
   "execution_count": 25,
   "metadata": {
    "colab": {
     "base_uri": "https://localhost:8080/",
     "height": 488
    },
    "id": "ev4ktWMmlW0G",
    "outputId": "e48d0eaf-7ba5-4a24-ac2f-79b3ac5c952f"
   },
   "outputs": [
    {
     "data": {
      "text/html": [
       "\n",
       "  <div id=\"df-895d0220-0dd0-4aa5-89de-05a92801a199\">\n",
       "    <div class=\"colab-df-container\">\n",
       "      <div>\n",
       "<style scoped>\n",
       "    .dataframe tbody tr th:only-of-type {\n",
       "        vertical-align: middle;\n",
       "    }\n",
       "\n",
       "    .dataframe tbody tr th {\n",
       "        vertical-align: top;\n",
       "    }\n",
       "\n",
       "    .dataframe thead th {\n",
       "        text-align: right;\n",
       "    }\n",
       "</style>\n",
       "<table border=\"1\" class=\"dataframe\">\n",
       "  <thead>\n",
       "    <tr style=\"text-align: right;\">\n",
       "      <th></th>\n",
       "      <th>survived</th>\n",
       "      <th>pclass</th>\n",
       "      <th>sex</th>\n",
       "      <th>age</th>\n",
       "      <th>sibsp</th>\n",
       "      <th>parch</th>\n",
       "      <th>fare</th>\n",
       "      <th>embarked</th>\n",
       "      <th>class</th>\n",
       "      <th>who</th>\n",
       "      <th>adult_male</th>\n",
       "      <th>deck</th>\n",
       "      <th>embark_town</th>\n",
       "      <th>alive</th>\n",
       "      <th>alone</th>\n",
       "    </tr>\n",
       "  </thead>\n",
       "  <tbody>\n",
       "    <tr>\n",
       "      <th>0</th>\n",
       "      <td>0</td>\n",
       "      <td>3</td>\n",
       "      <td>male</td>\n",
       "      <td>22.0</td>\n",
       "      <td>1</td>\n",
       "      <td>0</td>\n",
       "      <td>7.2500</td>\n",
       "      <td>S</td>\n",
       "      <td>Third</td>\n",
       "      <td>man</td>\n",
       "      <td>True</td>\n",
       "      <td>NaN</td>\n",
       "      <td>Southampton</td>\n",
       "      <td>no</td>\n",
       "      <td>False</td>\n",
       "    </tr>\n",
       "    <tr>\n",
       "      <th>1</th>\n",
       "      <td>1</td>\n",
       "      <td>1</td>\n",
       "      <td>female</td>\n",
       "      <td>38.0</td>\n",
       "      <td>1</td>\n",
       "      <td>0</td>\n",
       "      <td>71.2833</td>\n",
       "      <td>C</td>\n",
       "      <td>First</td>\n",
       "      <td>woman</td>\n",
       "      <td>False</td>\n",
       "      <td>C</td>\n",
       "      <td>Cherbourg</td>\n",
       "      <td>yes</td>\n",
       "      <td>False</td>\n",
       "    </tr>\n",
       "    <tr>\n",
       "      <th>2</th>\n",
       "      <td>1</td>\n",
       "      <td>3</td>\n",
       "      <td>female</td>\n",
       "      <td>26.0</td>\n",
       "      <td>0</td>\n",
       "      <td>0</td>\n",
       "      <td>7.9250</td>\n",
       "      <td>S</td>\n",
       "      <td>Third</td>\n",
       "      <td>woman</td>\n",
       "      <td>False</td>\n",
       "      <td>NaN</td>\n",
       "      <td>Southampton</td>\n",
       "      <td>yes</td>\n",
       "      <td>True</td>\n",
       "    </tr>\n",
       "    <tr>\n",
       "      <th>3</th>\n",
       "      <td>1</td>\n",
       "      <td>1</td>\n",
       "      <td>female</td>\n",
       "      <td>35.0</td>\n",
       "      <td>1</td>\n",
       "      <td>0</td>\n",
       "      <td>53.1000</td>\n",
       "      <td>S</td>\n",
       "      <td>First</td>\n",
       "      <td>woman</td>\n",
       "      <td>False</td>\n",
       "      <td>C</td>\n",
       "      <td>Southampton</td>\n",
       "      <td>yes</td>\n",
       "      <td>False</td>\n",
       "    </tr>\n",
       "    <tr>\n",
       "      <th>4</th>\n",
       "      <td>0</td>\n",
       "      <td>3</td>\n",
       "      <td>male</td>\n",
       "      <td>35.0</td>\n",
       "      <td>0</td>\n",
       "      <td>0</td>\n",
       "      <td>8.0500</td>\n",
       "      <td>S</td>\n",
       "      <td>Third</td>\n",
       "      <td>man</td>\n",
       "      <td>True</td>\n",
       "      <td>NaN</td>\n",
       "      <td>Southampton</td>\n",
       "      <td>no</td>\n",
       "      <td>True</td>\n",
       "    </tr>\n",
       "    <tr>\n",
       "      <th>...</th>\n",
       "      <td>...</td>\n",
       "      <td>...</td>\n",
       "      <td>...</td>\n",
       "      <td>...</td>\n",
       "      <td>...</td>\n",
       "      <td>...</td>\n",
       "      <td>...</td>\n",
       "      <td>...</td>\n",
       "      <td>...</td>\n",
       "      <td>...</td>\n",
       "      <td>...</td>\n",
       "      <td>...</td>\n",
       "      <td>...</td>\n",
       "      <td>...</td>\n",
       "      <td>...</td>\n",
       "    </tr>\n",
       "    <tr>\n",
       "      <th>886</th>\n",
       "      <td>0</td>\n",
       "      <td>2</td>\n",
       "      <td>male</td>\n",
       "      <td>27.0</td>\n",
       "      <td>0</td>\n",
       "      <td>0</td>\n",
       "      <td>13.0000</td>\n",
       "      <td>S</td>\n",
       "      <td>Second</td>\n",
       "      <td>man</td>\n",
       "      <td>True</td>\n",
       "      <td>NaN</td>\n",
       "      <td>Southampton</td>\n",
       "      <td>no</td>\n",
       "      <td>True</td>\n",
       "    </tr>\n",
       "    <tr>\n",
       "      <th>887</th>\n",
       "      <td>1</td>\n",
       "      <td>1</td>\n",
       "      <td>female</td>\n",
       "      <td>19.0</td>\n",
       "      <td>0</td>\n",
       "      <td>0</td>\n",
       "      <td>30.0000</td>\n",
       "      <td>S</td>\n",
       "      <td>First</td>\n",
       "      <td>woman</td>\n",
       "      <td>False</td>\n",
       "      <td>B</td>\n",
       "      <td>Southampton</td>\n",
       "      <td>yes</td>\n",
       "      <td>True</td>\n",
       "    </tr>\n",
       "    <tr>\n",
       "      <th>888</th>\n",
       "      <td>0</td>\n",
       "      <td>3</td>\n",
       "      <td>female</td>\n",
       "      <td>NaN</td>\n",
       "      <td>1</td>\n",
       "      <td>2</td>\n",
       "      <td>23.4500</td>\n",
       "      <td>S</td>\n",
       "      <td>Third</td>\n",
       "      <td>woman</td>\n",
       "      <td>False</td>\n",
       "      <td>NaN</td>\n",
       "      <td>Southampton</td>\n",
       "      <td>no</td>\n",
       "      <td>False</td>\n",
       "    </tr>\n",
       "    <tr>\n",
       "      <th>889</th>\n",
       "      <td>1</td>\n",
       "      <td>1</td>\n",
       "      <td>male</td>\n",
       "      <td>26.0</td>\n",
       "      <td>0</td>\n",
       "      <td>0</td>\n",
       "      <td>30.0000</td>\n",
       "      <td>C</td>\n",
       "      <td>First</td>\n",
       "      <td>man</td>\n",
       "      <td>True</td>\n",
       "      <td>C</td>\n",
       "      <td>Cherbourg</td>\n",
       "      <td>yes</td>\n",
       "      <td>True</td>\n",
       "    </tr>\n",
       "    <tr>\n",
       "      <th>890</th>\n",
       "      <td>0</td>\n",
       "      <td>3</td>\n",
       "      <td>male</td>\n",
       "      <td>32.0</td>\n",
       "      <td>0</td>\n",
       "      <td>0</td>\n",
       "      <td>7.7500</td>\n",
       "      <td>Q</td>\n",
       "      <td>Third</td>\n",
       "      <td>man</td>\n",
       "      <td>True</td>\n",
       "      <td>NaN</td>\n",
       "      <td>Queenstown</td>\n",
       "      <td>no</td>\n",
       "      <td>True</td>\n",
       "    </tr>\n",
       "  </tbody>\n",
       "</table>\n",
       "<p>891 rows × 15 columns</p>\n",
       "</div>\n",
       "      <button class=\"colab-df-convert\" onclick=\"convertToInteractive('df-895d0220-0dd0-4aa5-89de-05a92801a199')\"\n",
       "              title=\"Convert this dataframe to an interactive table.\"\n",
       "              style=\"display:none;\">\n",
       "        \n",
       "  <svg xmlns=\"http://www.w3.org/2000/svg\" height=\"24px\"viewBox=\"0 0 24 24\"\n",
       "       width=\"24px\">\n",
       "    <path d=\"M0 0h24v24H0V0z\" fill=\"none\"/>\n",
       "    <path d=\"M18.56 5.44l.94 2.06.94-2.06 2.06-.94-2.06-.94-.94-2.06-.94 2.06-2.06.94zm-11 1L8.5 8.5l.94-2.06 2.06-.94-2.06-.94L8.5 2.5l-.94 2.06-2.06.94zm10 10l.94 2.06.94-2.06 2.06-.94-2.06-.94-.94-2.06-.94 2.06-2.06.94z\"/><path d=\"M17.41 7.96l-1.37-1.37c-.4-.4-.92-.59-1.43-.59-.52 0-1.04.2-1.43.59L10.3 9.45l-7.72 7.72c-.78.78-.78 2.05 0 2.83L4 21.41c.39.39.9.59 1.41.59.51 0 1.02-.2 1.41-.59l7.78-7.78 2.81-2.81c.8-.78.8-2.07 0-2.86zM5.41 20L4 18.59l7.72-7.72 1.47 1.35L5.41 20z\"/>\n",
       "  </svg>\n",
       "      </button>\n",
       "      \n",
       "  <style>\n",
       "    .colab-df-container {\n",
       "      display:flex;\n",
       "      flex-wrap:wrap;\n",
       "      gap: 12px;\n",
       "    }\n",
       "\n",
       "    .colab-df-convert {\n",
       "      background-color: #E8F0FE;\n",
       "      border: none;\n",
       "      border-radius: 50%;\n",
       "      cursor: pointer;\n",
       "      display: none;\n",
       "      fill: #1967D2;\n",
       "      height: 32px;\n",
       "      padding: 0 0 0 0;\n",
       "      width: 32px;\n",
       "    }\n",
       "\n",
       "    .colab-df-convert:hover {\n",
       "      background-color: #E2EBFA;\n",
       "      box-shadow: 0px 1px 2px rgba(60, 64, 67, 0.3), 0px 1px 3px 1px rgba(60, 64, 67, 0.15);\n",
       "      fill: #174EA6;\n",
       "    }\n",
       "\n",
       "    [theme=dark] .colab-df-convert {\n",
       "      background-color: #3B4455;\n",
       "      fill: #D2E3FC;\n",
       "    }\n",
       "\n",
       "    [theme=dark] .colab-df-convert:hover {\n",
       "      background-color: #434B5C;\n",
       "      box-shadow: 0px 1px 3px 1px rgba(0, 0, 0, 0.15);\n",
       "      filter: drop-shadow(0px 1px 2px rgba(0, 0, 0, 0.3));\n",
       "      fill: #FFFFFF;\n",
       "    }\n",
       "  </style>\n",
       "\n",
       "      <script>\n",
       "        const buttonEl =\n",
       "          document.querySelector('#df-895d0220-0dd0-4aa5-89de-05a92801a199 button.colab-df-convert');\n",
       "        buttonEl.style.display =\n",
       "          google.colab.kernel.accessAllowed ? 'block' : 'none';\n",
       "\n",
       "        async function convertToInteractive(key) {\n",
       "          const element = document.querySelector('#df-895d0220-0dd0-4aa5-89de-05a92801a199');\n",
       "          const dataTable =\n",
       "            await google.colab.kernel.invokeFunction('convertToInteractive',\n",
       "                                                     [key], {});\n",
       "          if (!dataTable) return;\n",
       "\n",
       "          const docLinkHtml = 'Like what you see? Visit the ' +\n",
       "            '<a target=\"_blank\" href=https://colab.research.google.com/notebooks/data_table.ipynb>data table notebook</a>'\n",
       "            + ' to learn more about interactive tables.';\n",
       "          element.innerHTML = '';\n",
       "          dataTable['output_type'] = 'display_data';\n",
       "          await google.colab.output.renderOutput(dataTable, element);\n",
       "          const docLink = document.createElement('div');\n",
       "          docLink.innerHTML = docLinkHtml;\n",
       "          element.appendChild(docLink);\n",
       "        }\n",
       "      </script>\n",
       "    </div>\n",
       "  </div>\n",
       "  "
      ],
      "text/plain": [
       "     survived  pclass     sex   age  sibsp  parch     fare embarked   class  \\\n",
       "0           0       3    male  22.0      1      0   7.2500        S   Third   \n",
       "1           1       1  female  38.0      1      0  71.2833        C   First   \n",
       "2           1       3  female  26.0      0      0   7.9250        S   Third   \n",
       "3           1       1  female  35.0      1      0  53.1000        S   First   \n",
       "4           0       3    male  35.0      0      0   8.0500        S   Third   \n",
       "..        ...     ...     ...   ...    ...    ...      ...      ...     ...   \n",
       "886         0       2    male  27.0      0      0  13.0000        S  Second   \n",
       "887         1       1  female  19.0      0      0  30.0000        S   First   \n",
       "888         0       3  female   NaN      1      2  23.4500        S   Third   \n",
       "889         1       1    male  26.0      0      0  30.0000        C   First   \n",
       "890         0       3    male  32.0      0      0   7.7500        Q   Third   \n",
       "\n",
       "       who  adult_male deck  embark_town alive  alone  \n",
       "0      man        True  NaN  Southampton    no  False  \n",
       "1    woman       False    C    Cherbourg   yes  False  \n",
       "2    woman       False  NaN  Southampton   yes   True  \n",
       "3    woman       False    C  Southampton   yes  False  \n",
       "4      man        True  NaN  Southampton    no   True  \n",
       "..     ...         ...  ...          ...   ...    ...  \n",
       "886    man        True  NaN  Southampton    no   True  \n",
       "887  woman       False    B  Southampton   yes   True  \n",
       "888  woman       False  NaN  Southampton    no  False  \n",
       "889    man        True    C    Cherbourg   yes   True  \n",
       "890    man        True  NaN   Queenstown    no   True  \n",
       "\n",
       "[891 rows x 15 columns]"
      ]
     },
     "execution_count": 25,
     "metadata": {},
     "output_type": "execute_result"
    }
   ],
   "source": [
    "dataset"
   ]
  },
  {
   "cell_type": "markdown",
   "metadata": {
    "id": "5IhbPNEulhSh"
   },
   "source": [
    "### Равномерное распределение\n",
    "\n",
    "В простейшем случае все значения имеют одинаковую вероятность. Давайте создадим равномерное распределение значений от 0 до 20 и построим график функции плотности вероятности."
   ]
  },
  {
   "cell_type": "code",
   "execution_count": 26,
   "metadata": {
    "colab": {
     "base_uri": "https://localhost:8080/",
     "height": 281
    },
    "id": "nGzWko3fljnY",
    "outputId": "20bc304b-4ade-4289-ab8b-6f18d18cc735"
   },
   "outputs": [
    {
     "data": {
      "image/png": "[encoded data removed]",
      "text/plain": [
       "<Figure size 432x288 with 1 Axes>"
      ]
     },
     "metadata": {},
     "output_type": "display_data"
    }
   ],
   "source": [
    "from scipy.stats import uniform\n",
    "uniform_dist = uniform(loc = 0, scale = 20)\n",
    "uniform_dist.rvs(size = 10, random_state = RANDOM_STATE)\n",
    "x = np.linspace(-5, 25, 100)\n",
    "_, ax = plt.subplots(1, 1)\n",
    "ax.plot(x, uniform_dist.pdf(x), 'r-', lw = 2)\n",
    "plt.title('Uniform distribution of values between 0 and 20')\n",
    "plt.show()"
   ]
  },
  {
   "cell_type": "markdown",
   "metadata": {
    "id": "6ntElEjhlrOC"
   },
   "source": [
    "### Распределение Бернулли\n",
    "\n",
    "Распределение Бернулли используется, когда есть только два возможных исхода. Я загрузил набор данных Титаника, поэтому в следующем примере я собираюсь рассчитать вероятность выживания в аварии и построить ее график."
   ]
  },
  {
   "cell_type": "code",
   "execution_count": 27,
   "metadata": {
    "colab": {
     "base_uri": "https://localhost:8080/",
     "height": 281
    },
    "id": "SgynQasxlyOi",
    "outputId": "a8f2f520-e32b-4688-ba3c-27dcb3b122e4"
   },
   "outputs": [
    {
     "data": {
      "image/png": "[encoded data removed]",
      "text/plain": [
       "<Figure size 432x288 with 1 Axes>"
      ]
     },
     "metadata": {},
     "output_type": "display_data"
    }
   ],
   "source": [
    "from scipy.stats import bernoulli\n",
    "countSurvived = dataset[dataset.survived == 1].survived.count()\n",
    "countAll = dataset.survived.count()\n",
    "survived_dist = bernoulli(countSurvived / countAll)\n",
    "# the given value is the probability of outcome 1 (survival) (let's call it p). # The probability of the opposite outcome (0 - death) is 1 - p.\n",
    "_, ax = plt.subplots(1, 1)\n",
    "ax.vlines(0, 0, survived_dist.pmf(0), colors='r', linestyles='-', lw=5, label=\"probability of death\")\n",
    "ax.vlines(1, 0, survived_dist.pmf(1), colors='b', linestyles='-', lw=5, label=\"probability of survival\")\n",
    "ax.legend(loc='best', frameon=False)\n",
    "plt.title(\"Bernoulli distribution of survival variable\")\n",
    "plt.show()"
   ]
  },
  {
   "cell_type": "markdown",
   "metadata": {
    "id": "CVhW4HQGl-F1"
   },
   "source": [
    "### Дискретная случайная величина\n",
    "\n",
    "Иногда у нас есть дискретная переменная, которая имеет более двух возможных состояний. В этом примере я буду использовать переменную pclass из набора данных Titanic:\n",
    "(Обратите внимание, что только 1, 2 и 3 имеют вероятность выше 0. Других значений в данном наборе данных не существует. Следовательно, их вероятность равна 0:)"
   ]
  },
  {
   "cell_type": "code",
   "execution_count": 30,
   "metadata": {
    "colab": {
     "base_uri": "https://localhost:8080/",
     "height": 281
    },
    "id": "HolvfEivl_xm",
    "outputId": "1f5445f1-6749-4fc6-eaf8-a778a7eedd54"
   },
   "outputs": [
    {
     "data": {
      "image/png": "[encoded data removed]",
      "text/plain": [
       "<Figure size 432x288 with 1 Axes>"
      ]
     },
     "metadata": {},
     "output_type": "display_data"
    }
   ],
   "source": [
    "from scipy.stats import rv_discrete\n",
    "pclass_probability = pd.DataFrame({'probability': dataset.groupby(by = \"pclass\").size() / dataset.pclass.count()}).reset_index()\n",
    "values = pclass_probability.pclass\n",
    "probabilities = pclass_probability.probability\n",
    "custom_discrete_dist = rv_discrete(values=(values, probabilities))\n",
    "x = [0, 0.9, 1, 2, 2.5, 3, 4]\n",
    "_, ax = plt.subplots(1, 1)\n",
    "ax.plot(x, custom_discrete_dist.pmf(x), 'ro', lw=2)\n",
    "plt.title('Custom discrete distribution of values between 0 and 4')\n",
    "plt.show()"
   ]
  },
  {
   "cell_type": "markdown",
   "metadata": {
    "id": "4xpq0kktnZCe"
   },
   "source": [
    "### Нормальное распределение\n",
    "\n",
    "Думаю, все знают, что сейчас будет ;)"
   ]
  },
  {
   "cell_type": "code",
   "execution_count": 31,
   "metadata": {
    "colab": {
     "base_uri": "https://localhost:8080/",
     "height": 281
    },
    "id": "Z7pZaynHncPR",
    "outputId": "f0f309cb-3072-4eb4-8dd4-662519da1c9f"
   },
   "outputs": [
    {
     "data": {
      "image/png": "[encoded data removed]",
      "text/plain": [
       "<Figure size 432x288 with 1 Axes>"
      ]
     },
     "metadata": {},
     "output_type": "display_data"
    }
   ],
   "source": [
    "from scipy.stats import norm\n",
    "mean = 3\n",
    "st_dev = 2\n",
    "normal_distribution = norm(loc = mean, scale = st_dev)\n",
    "x = np.linspace(-6, 12, 200)\n",
    "_, ax = plt.subplots(1, 1)\n",
    "ax.plot(x, normal_distribution.pdf(x), '-', lw=2)\n",
    "plt.title(f'Normal distribution with mean = {mean} and standard deviation = {st_dev}')\n",
    "plt.show()"
   ]
  },
  {
   "cell_type": "markdown",
   "metadata": {
    "id": "jyVoISxDn3TW"
   },
   "source": [
    "### Гамма-распределение\n",
    "\n",
    "Гамма-распределение выглядит странно, но в некоторых случаях оно полезно. Например, я мог бы смоделировать поведение пользователя на типичном веб-сайте. Большинство пользователей собираются посетить одну страницу и уйти. Некоторые собираются щелкнуть другую ссылку и просмотреть еще немного. Лишь немногие из них будут продолжать нажимать и посещать более двух страниц. В этом случае я должен установить loc в 1, чтобы начать распределение в точке x = 1."
   ]
  },
  {
   "cell_type": "code",
   "execution_count": 32,
   "metadata": {
    "colab": {
     "base_uri": "https://localhost:8080/",
     "height": 281
    },
    "id": "9WfH_FAtn51Y",
    "outputId": "011d7512-ea41-4698-f4b7-46aa65513b9a"
   },
   "outputs": [
    {
     "data": {
      "image/png": "[encoded data removed]",
      "text/plain": [
       "<Figure size 432x288 with 1 Axes>"
      ]
     },
     "metadata": {},
     "output_type": "display_data"
    }
   ],
   "source": [
    "from scipy.stats import gamma\n",
    "gamma_distribution = gamma(loc = 3, scale = 3, a = 1)\n",
    "x = np.linspace(0, 12, 200)\n",
    "_, ax = plt.subplots(1, 1)\n",
    "ax.plot(x, gamma_distribution.pdf(x), '-', lw=2)\n",
    "plt.title('Exponential distribution (gamma with a = 1)')\n",
    "plt.show()"
   ]
  },
  {
   "cell_type": "markdown",
   "metadata": {
    "id": "MswXcIBxoF6k"
   },
   "source": [
    "### Функция плотности вероятности или функция массы вероятности?\n",
    "\n",
    "Я использую две разные функции для вычисления вероятностей. В чем разница между функцией плотности вероятности (PDF) и функцией массы вероятности (PMF)? Функция массы вероятности используется для вычисления вероятности дискретных значений. Функция плотности вероятности возвращает вероятность непрерывной случайной величины.\n",
    "\n",
    "## Подгонка распределения к данным\n",
    "\n",
    "Круто, мы можем определить некоторые распределения, но никто не будет угадывать значения параметров, чтобы получить распределение, соответствующее их данным. Итак, как мы можем сделать это автоматически?\n",
    "\n",
    "К счастью, большинство реализаций распределения в scikit-learn имеют функцию «подгонки», которая получает данные в качестве параметра и возвращает параметры распределения.\n",
    "\n",
    "Теперь пришло время подогнать распределение к столбцу возраста пассажиров «Титаника», отобразить гистограмму переменной возраста и построить график функции плотности вероятности распределения:"
   ]
  },
  {
   "cell_type": "code",
   "execution_count": 33,
   "metadata": {
    "id": "UDANiFFPoTNA"
   },
   "outputs": [],
   "source": [
    "def fit_and_plot(dist):\n",
    "    params = dist.fit(ages)\n",
    "    arg = params[:-2]\n",
    "    loc = params[-2]\n",
    "    scale = params[-1]\n",
    "    x = np.linspace(0, 80, 80)\n",
    "    _, ax = plt.subplots(1, 1)\n",
    "    plt.hist(ages, bins = 80, range=(0, 80))\n",
    "    ax2 = ax.twinx()\n",
    "    ax2.plot(x, dist.pdf(x, loc=loc, scale=scale, *arg), '-', color = \"r\", lw=2)\n",
    "    plt.show()\n",
    "    return dist, loc, scale, arg"
   ]
  },
  {
   "cell_type": "markdown",
   "metadata": {
    "id": "tk6iKF8aohiY"
   },
   "source": [
    "Давайте попробуем подогнать два распределения:"
   ]
  },
  {
   "cell_type": "code",
   "execution_count": 35,
   "metadata": {
    "colab": {
     "base_uri": "https://localhost:8080/",
     "height": 336
    },
    "id": "y8hkjL6_ocka",
    "outputId": "c227c9e8-e11b-466f-e721-7ae65027720f"
   },
   "outputs": [
    {
     "data": {
      "image/png": "[encoded data removed]",
      "text/plain": [
       "<Figure size 432x288 with 2 Axes>"
      ]
     },
     "metadata": {},
     "output_type": "display_data"
    },
    {
     "data": {
      "text/plain": [
       "(<scipy.stats._continuous_distns.norm_gen at 0x7f2352239e50>,\n",
       " 29.69911764705882,\n",
       " 14.516321150817316,\n",
       " ())"
      ]
     },
     "execution_count": 35,
     "metadata": {},
     "output_type": "execute_result"
    }
   ],
   "source": [
    "fit_and_plot(norm)   "
   ]
  },
  {
   "cell_type": "code",
   "execution_count": 36,
   "metadata": {
    "colab": {
     "base_uri": "https://localhost:8080/",
     "height": 336
    },
    "id": "prmW-P4uo20H",
    "outputId": "2ae3377c-db31-4df3-e769-f0dc53a17abb"
   },
   "outputs": [
    {
     "data": {
      "image/png": "[encoded data removed]",
      "text/plain": [
       "<Figure size 432x288 with 2 Axes>"
      ]
     },
     "metadata": {},
     "output_type": "display_data"
    },
    {
     "data": {
      "text/plain": [
       "(<scipy.stats._continuous_distns.gamma_gen at 0x7f2351acf550>,\n",
       " -45.37307548137508,\n",
       " 2.806622890786299,\n",
       " (26.748229688039117,))"
      ]
     },
     "execution_count": 36,
     "metadata": {},
     "output_type": "execute_result"
    }
   ],
   "source": [
    "fit_and_plot(gamma)"
   ]
  },
  {
   "cell_type": "markdown",
   "metadata": {
    "id": "ZWPezv2YpJfu"
   },
   "source": [
    "## Как выбрать лучшее распределение с помощью теста Колмогорова-Смирнова\n",
    "\n",
    "Согласно определению, статистика Колмогорова – Смирнова количественно определяет расстояние между эмпирической функцией распределения выборки и кумулятивной функцией распределения эталонного распределения.\n",
    "\n",
    "### Что это значит?\n",
    "Это означает, что мы можем использовать этот тест, чтобы проверить, соответствует ли распределение вероятностей данным. Для этого необходимо указать уровень значимости. Обычно используется 0,05. Как и в любом статистическом тесте, если p-значение (вычисленное тестом) меньше уровня значимости, мы отклоняем нулевую гипотезу.\n",
    "\n",
    "### Что такое гипотеза?\n",
    "Нулевая гипотеза: данные соответствуют заданному распределению (нет разницы между обоими распределениями). Альтернативная гипотеза: хотя бы одно значение не соответствует указанному распределению (распределения различаются, я использую двусторонний тест, поэтому значения либо меньше, либо больше).\n",
    "\n",
    "Я буду использовать ранее определенную функцию, чтобы подогнать нормальное распределение к заданному набору данных, а затем выполнить тест Колмогорова-Смирнова, чтобы проверить, соответствует ли оно распределению."
   ]
  },
  {
   "cell_type": "code",
   "execution_count": 55,
   "metadata": {
    "colab": {
     "base_uri": "https://localhost:8080/",
     "height": 283
    },
    "id": "AR4LlmNipS6z",
    "outputId": "9d29be32-4d5a-4ce0-d6d0-db8ec6857858"
   },
   "outputs": [
    {
     "data": {
      "image/png": "[encoded data removed]",
      "text/plain": [
       "<Figure size 432x288 with 2 Axes>"
      ]
     },
     "metadata": {},
     "output_type": "display_data"
    },
    {
     "name": "stdout",
     "output_type": "stream",
     "text": [
      "pvalue= 0.00496347192487969\n"
     ]
    }
   ],
   "source": [
    "from scipy.stats import kstest\n",
    "dist, loс, scale, arg = fit_and_plot(norm)\n",
    "d, pvalue = kstest(ages.tolist(), lambda x: dist.cdf(x, loc = loс, scale = scale, *arg), alternative=\"two-sided\")\n",
    "print('pvalue=',pvalue)"
   ]
  },
  {
   "cell_type": "markdown",
   "metadata": {
    "id": "P2gmKHSzp0NR"
   },
   "source": [
    "На диаграмме мы видим, что данные выглядят нормально распределенными, но существует огромная разница между фактическими значениями и нормальным распределением.\n",
    "\n",
    "Это не тот сюжет, на который мы должны смотреть. Критерий Колмогорова-Смирнова вычисляет максимальную вертикальную разницу между эмпирическими кумулятивными распределениями. Построим кумулятивные распределения:"
   ]
  },
  {
   "cell_type": "code",
   "execution_count": 41,
   "metadata": {
    "id": "lOti653Hp5YU"
   },
   "outputs": [],
   "source": [
    "def fit_and_plot_cdf(dist):\n",
    "    params = dist.fit(ages)\n",
    "    arg = params[:-2]\n",
    "    loc = params[-2]\n",
    "    scale = params[-1]\n",
    "    x = np.linspace(0, 80, 80)\n",
    "    _, ax = plt.subplots(1, 1)\n",
    "    counts, bin_edges = np.histogram(ages, bins=80, normed=True)\n",
    "    cdf = np.cumsum(counts)\n",
    "    plt.plot(bin_edges[1:], cdf)\n",
    "    ax2 = ax.twinx()\n",
    "    ax2.plot(x, dist.cdf(x, loc=loc, scale=scale, *arg), '-', color = \"r\", lw=2)\n",
    "    plt.show()\n",
    "    return dist, loc, scale, arg"
   ]
  },
  {
   "cell_type": "markdown",
   "metadata": {
    "id": "ABzCI-xHp-jc"
   },
   "source": [
    "Результат выглядит следующим образом:"
   ]
  },
  {
   "cell_type": "code",
   "execution_count": 49,
   "metadata": {
    "colab": {
     "base_uri": "https://localhost:8080/",
     "height": 392
    },
    "id": "miw18VhdqAt_",
    "outputId": "f4ad0dce-122e-47a8-9761-ebdf11268271"
   },
   "outputs": [
    {
     "name": "stderr",
     "output_type": "stream",
     "text": [
      "/usr/local/lib/python3.7/dist-packages/ipykernel_launcher.py:8: VisibleDeprecationWarning: Passing `normed=True` on non-uniform bins has always been broken, and computes neither the probability density function nor the probability mass function. The result is only correct if the bins are uniform, when density=True will produce the same result anyway. The argument will be removed in a future version of numpy.\n",
      "  \n"
     ]
    },
    {
     "data": {
      "image/png": "[encoded data removed]",
      "text/plain": [
       "<Figure size 432x288 with 2 Axes>"
      ]
     },
     "metadata": {},
     "output_type": "display_data"
    },
    {
     "data": {
      "text/plain": [
       "(<scipy.stats._continuous_distns.norm_gen at 0x7f2352239e50>,\n",
       " 29.69911764705882,\n",
       " 14.516321150817316,\n",
       " ())"
      ]
     },
     "execution_count": 49,
     "metadata": {},
     "output_type": "execute_result"
    }
   ],
   "source": [
    "fit_and_plot_cdf(norm)"
   ]
  },
  {
   "cell_type": "markdown",
   "metadata": {
    "id": "_ACowVQZqWSK"
   },
   "source": [
    "Похоже, но немного странно. Как всегда, если p-значение низкое, нуль гипотеза должна уйти. Значение p равно 0,004, поэтому я должен отклонить нулевую гипотезу, поскольку данное нормальное распределение не соответствует данным.\n",
    "\n",
    "Теперь я должен выбрать другое распределение вероятностей, подобрать его к данным и выполнить еще один тест, пока, наконец, не получу то, которое соответствует данным. Представьте, что я это сделал, и переходите к захватывающей части ;)\n",
    "\n",
    "На всякий случай проверим происходит ли выборка из гамма-распределения"
   ]
  },
  {
   "cell_type": "code",
   "execution_count": 54,
   "metadata": {
    "colab": {
     "base_uri": "https://localhost:8080/",
     "height": 283
    },
    "id": "f_xTb7qLw3g5",
    "outputId": "308b2ce6-fccd-4a57-8704-70b4f47a554f"
   },
   "outputs": [
    {
     "data": {
      "image/png": "[encoded data removed]",
      "text/plain": [
       "<Figure size 432x288 with 2 Axes>"
      ]
     },
     "metadata": {},
     "output_type": "display_data"
    },
    {
     "name": "stdout",
     "output_type": "stream",
     "text": [
      "pvalue= 0.01722614936676394\n"
     ]
    }
   ],
   "source": [
    "from scipy.stats import kstest\n",
    "dist, log, scale, arg = fit_and_plot(gamma)\n",
    "d, pvalue = kstest(ages.tolist(), lambda x: dist.cdf(x, loc = log, scale = scale, *arg), alternative=\"two-sided\")\n",
    "print('pvalue=',pvalue)"
   ]
  },
  {
   "cell_type": "code",
   "execution_count": 50,
   "metadata": {
    "colab": {
     "base_uri": "https://localhost:8080/",
     "height": 392
    },
    "id": "1TcwLDKTwyf7",
    "outputId": "7c5e1018-4aec-4fca-ddb5-a2c8ce0f21e5"
   },
   "outputs": [
    {
     "name": "stderr",
     "output_type": "stream",
     "text": [
      "/usr/local/lib/python3.7/dist-packages/ipykernel_launcher.py:8: VisibleDeprecationWarning: Passing `normed=True` on non-uniform bins has always been broken, and computes neither the probability density function nor the probability mass function. The result is only correct if the bins are uniform, when density=True will produce the same result anyway. The argument will be removed in a future version of numpy.\n",
      "  \n"
     ]
    },
    {
     "data": {
      "image/png": "[encoded data removed]",
      "text/plain": [
       "<Figure size 432x288 with 2 Axes>"
      ]
     },
     "metadata": {},
     "output_type": "display_data"
    },
    {
     "data": {
      "text/plain": [
       "(<scipy.stats._continuous_distns.gamma_gen at 0x7f2351acf550>,\n",
       " -45.37307548137508,\n",
       " 2.806622890786299,\n",
       " (26.748229688039117,))"
      ]
     },
     "execution_count": 50,
     "metadata": {},
     "output_type": "execute_result"
    }
   ],
   "source": [
    "fit_and_plot_cdf(gamma)"
   ]
  },
  {
   "cell_type": "markdown",
   "metadata": {
    "id": "XN7TnhKAyGvG"
   },
   "source": [
    "Значение p = 0,017 < 0,05, поэтому я должен отклонить нулевую гипотезу, поскольку данное нормальное распределение не соответствует данным."
   ]
  },
  {
   "cell_type": "markdown",
   "metadata": {
    "id": "Bzm0eyu6rS0_"
   },
   "source": [
    "# Моделирование Монте-Карло\n",
    "\n",
    "Что такое моделирование Монте-Карло? Это процесс, который генерирует большое количество случайных сценариев на основе вероятности входных данных. Он вычисляет, что произойдет, когда ввод будет применен к тестовой функции. В конце концов, вероятность результатов показывает, какой исход наиболее вероятен.\n",
    "\n",
    "Наконец, у нас есть все необходимое для моделирования чего-либо с помощью метода Монте-Карло. Я не могу подогнать какое-либо распределение к данным Дугласа У. Хаббарда, потому что он ими не делился, так что я должен доверять ему и просто использовать значение из книги.\n",
    "\n",
    "Пример задачи из книги «Как измерить что угодно»: вы рассматриваете возможность аренды машины для какого-то производственного процесса. Годовая аренда стоит вам 400 000 долларов, и вы не можете отменить досрочно. Вы задаетесь вопросом, достаточно ли высоки годовой уровень производства и экономия на техническом обслуживании, рабочей силе и сырье, чтобы оправдать аренду машины.\n",
    "\n",
    "От ваших экспертов-людей вы получили следующие диапазоны переменных (обратите внимание, что все диапазоны имеют доверительный интервал 90%, а значения распределены нормально):\n",
    "\n",
    "    экономия на обслуживании: 10−20 долларов США за единицу\n",
    "\n",
    "    экономия труда: -2–8 долларов США за единицу\n",
    "\n",
    "    экономия сырья: 3−9 долларов США за единицу\n",
    "\n",
    "    уровень производства: 15 000–35 000 единиц в год\n",
    "\n",
    "    годовая аренда: $400000\n",
    "\n",
    "    годовая экономия = (экономия на обслуживании + экономия труда + экономия сырья) * уровень производства\n",
    "\n",
    "Что означают 90% доверительный интервал и нормальное распределение? \n",
    "\n",
    "Ваши эксперты говорят, что на 90% уверены, что значение будет где-то между нижней и верхней границей. Среднее значение — это среднее значение между верхней и нижней границей, поэтому в случае экономии на обслуживании среднее = 15 долларов. Стандартное отклонение определяется как (верхняя граница — нижняя граница) / 3,29. 3.29 стандартное отклонение, равное 90 % значений нормального распределения.\n",
    "\n",
    "Что будем считать? Мы хотим знать, какова вероятность отказа (годовая экономия меньше стоимости машины)."
   ]
  },
  {
   "cell_type": "code",
   "execution_count": 43,
   "metadata": {
    "id": "bOCsl1SarbNg"
   },
   "outputs": [],
   "source": [
    "_90_conf_interval = 3.29\n",
    "maintenance = norm(loc = (20 + 10) / 2, scale = (20 - 10) / _90_conf_interval)\n",
    "labor = norm(loc = (8 + -2) / 2, scale = (8 - -2) / _90_conf_interval)\n",
    "raw_material = norm(loc = (9 + 3) / 2, scale = (9 - 3) / _90_conf_interval)\n",
    "prod_level = norm(loc = (35000 + 15000) / 2, scale = (35000 - 15000) / _90_conf_interval)\n",
    "number_of_simulations = 1000000\n",
    "maintenance_results = maintenance.rvs(number_of_simulations)\n",
    "labor_results = labor.rvs(number_of_simulations)\n",
    "raw_materials_results = raw_material.rvs(number_of_simulations)\n",
    "prod_level_results = prod_level.rvs(number_of_simulations)\n",
    "data = pd.DataFrame({\n",
    "    \"maintenance_savings_per_unit\": maintenance_results,\n",
    "    \"labor_savings_per_unit\": labor_results,\n",
    "    \"raw_materials_savings_per_unit\": raw_materials_results,\n",
    "    \"production_level\": prod_level_results\n",
    "})\n",
    "data[\"total_savings\"] = (data.maintenance_savings_per_unit + data.labor_savings_per_unit + data.raw_materials_savings_per_unit) * data.production_level"
   ]
  },
  {
   "cell_type": "markdown",
   "metadata": {
    "id": "AXQP7MIdrpsk"
   },
   "source": [
    "Кстати, вы видите ошибку? Я не устанавливал параметр random_state функции rvs, поэтому не могу воспроизвести свои результаты. Каждый раз, когда я запускаю код, я получаю другой результат!\n",
    "\n",
    "Говоря о результате, мы можем построить его. Я добавил вертикальную линию на нашем пороге рентабельности:"
   ]
  },
  {
   "cell_type": "code",
   "execution_count": 44,
   "metadata": {
    "colab": {
     "base_uri": "https://localhost:8080/",
     "height": 278
    },
    "id": "UNM2yyW7ro6F",
    "outputId": "d133c093-2da5-4eb4-e4fb-8ed58627829f"
   },
   "outputs": [
    {
     "data": {
      "image/png": "[encoded data removed]",
      "text/plain": [
       "<Figure size 432x288 with 1 Axes>"
      ]
     },
     "metadata": {},
     "output_type": "display_data"
    }
   ],
   "source": [
    "plt.hist(data.total_savings, bins = 100)\n",
    "plt.axvline(x = 400000, c = \"r\")\n",
    "plt.show()"
   ]
  },
  {
   "cell_type": "markdown",
   "metadata": {
    "id": "gKS7BEuar3MT"
   },
   "source": [
    "Теперь мы можем подсчитать отказы: data[data[\"total_savings\"] < 400000].count() и легко вычислить вероятность годовой экономии меньше стоимости машины (вероятность потери денег)."
   ]
  },
  {
   "cell_type": "code",
   "execution_count": 47,
   "metadata": {
    "colab": {
     "base_uri": "https://localhost:8080/"
    },
    "id": "gKgG7MdasRyQ",
    "outputId": "f5c8957c-3b02-45de-973b-f3fe494dd7fa"
   },
   "outputs": [
    {
     "data": {
      "text/plain": [
       "maintenance_savings_per_unit      141393\n",
       "labor_savings_per_unit            141393\n",
       "raw_materials_savings_per_unit    141393\n",
       "production_level                  141393\n",
       "total_savings                     141393\n",
       "dtype: int64"
      ]
     },
     "execution_count": 47,
     "metadata": {},
     "output_type": "execute_result"
    }
   ],
   "source": [
    "data[data[\"total_savings\"] < 400000].count() # количество значений < 400000"
   ]
  },
  {
   "cell_type": "code",
   "execution_count": 45,
   "metadata": {
    "colab": {
     "base_uri": "https://localhost:8080/"
    },
    "id": "A86zlb6rr6gk",
    "outputId": "af1202ea-b70b-4aab-c06d-66979885c076"
   },
   "outputs": [
    {
     "data": {
      "text/plain": [
       "0.141393"
      ]
     },
     "execution_count": 45,
     "metadata": {},
     "output_type": "execute_result"
    }
   ],
   "source": [
    "data[data[\"total_savings\"] < 400000].count()[\"total_savings\"] / 1000000"
   ]
  },
  {
   "cell_type": "markdown",
   "metadata": {
    "id": "_2jN_kH5sEab"
   },
   "source": [
    "В моем случае в результате я получил 0,140153. Следовательно, вероятность потери денег составляет около 14%."
   ]
  }
 ],
 "metadata": {
  "colab": {
   "provenance": []
  },
  "kernelspec": {
   "display_name": "Python 3 (ipykernel)",
   "language": "python",
   "name": "python3"
  },
  "language_info": {
   "codemirror_mode": {
    "name": "ipython",
    "version": 3
   },
   "file_extension": ".py",
   "mimetype": "text/x-python",
   "name": "python",
   "nbconvert_exporter": "python",
   "pygments_lexer": "ipython3",
   "version": "3.9.12"
  }
 },
 "nbformat": 4,
 "nbformat_minor": 1
}
