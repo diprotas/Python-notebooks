{
 "cells": [
  {
   "cell_type": "markdown",
   "metadata": {
    "id": "VbHaBm5d8oJv"
   },
   "source": [
    "https://machinelearningmastery.ru/monte-carlo-simulations-with-python-part-1-f5627b7d60b0/\n",
    "\n",
    "https://www.ias.ac.in/article/fulltext/reso/019/08/0713-0739"
   ]
  },
  {
   "cell_type": "code",
   "execution_count": 1,
   "metadata": {
    "id": "aLReTVPr7qdS"
   },
   "outputs": [],
   "source": [
    "import numpy as np\n",
    "import math\n",
    "import random\n",
    "from matplotlib import pyplot as plt \n",
    "from IPython.display import clear_output\n",
    "PI = 3.1415926\n",
    "e = 2.71828"
   ]
  },
  {
   "cell_type": "markdown",
   "metadata": {},
   "source": [
    "Численно вычислить интеграл $$ \\int_0^5 \\frac{e^{(-x)}}{1+(x-1)^2} dx$$"
   ]
  },
  {
   "cell_type": "code",
   "execution_count": 102,
   "metadata": {
    "id": "muPGLvYo8J3D"
   },
   "outputs": [],
   "source": [
    "def f1_of_x(x): # задаём подыинтегральную функцию\n",
    "    \"\"\"\n",
    "    This is the main function we want to integrate over.\n",
    "    Args:\n",
    "    - x (float) : input to function; must be in radians\n",
    "    Return:\n",
    "    - output of function f(x) (float)\n",
    "    \"\"\"\n",
    "    return (e**(-1*x))/(1+(x-1)**2)"
   ]
  },
  {
   "cell_type": "code",
   "execution_count": 103,
   "metadata": {
    "colab": {
     "base_uri": "https://localhost:8080/",
     "height": 281
    },
    "id": "KQ1-f9YSFAPR",
    "outputId": "f4cd766c-be27-48a8-f0db-bc0d14f95f78"
   },
   "outputs": [
    {
     "name": "stdout",
     "output_type": "stream",
     "text": [
      "CPU times: total: 188 ms\n",
      "Wall time: 205 ms\n"
     ]
    },
    {
     "data": {
      "text/plain": [
       "Text(0.5, 1.0, 'f(x)')"
      ]
     },
     "execution_count": 103,
     "metadata": {},
     "output_type": "execute_result"
    },
    {
     "data": {
      "image/png": "[encoded data removed]",
      "text/plain": [
       "<Figure size 432x288 with 1 Axes>"
      ]
     },
     "metadata": {
      "needs_background": "light"
     },
     "output_type": "display_data"
    }
   ],
   "source": [
    "%%time\n",
    "xs = np.array([float(i/50) for i in range(-500,500)])\n",
    "ys = f1_of_x(xs)\n",
    "plt.plot(xs,ys)\n",
    "plt.title(\"f(x)\");"
   ]
  },
  {
   "cell_type": "markdown",
   "metadata": {},
   "source": [
    "Численно вычислить интеграл $$ \\int_0^5 \\sqrt{x+\\sqrt{x}} dx$$"
   ]
  },
  {
   "cell_type": "code",
   "execution_count": 100,
   "metadata": {},
   "outputs": [],
   "source": [
    "# определяем подинтегральную функцию\n",
    "def f2_of_x(x):\n",
    "    return (x+x**0.5)**0.5"
   ]
  },
  {
   "cell_type": "code",
   "execution_count": 101,
   "metadata": {
    "colab": {
     "base_uri": "https://localhost:8080/",
     "height": 281
    },
    "id": "KQ1-f9YSFAPR",
    "outputId": "f4cd766c-be27-48a8-f0db-bc0d14f95f78"
   },
   "outputs": [
    {
     "name": "stdout",
     "output_type": "stream",
     "text": [
      "CPU times: total: 31.2 ms\n",
      "Wall time: 29 ms\n"
     ]
    },
    {
     "data": {
      "text/plain": [
       "Text(0.5, 1.0, 'f(x)')"
      ]
     },
     "execution_count": 101,
     "metadata": {},
     "output_type": "execute_result"
    },
    {
     "data": {
      "image/png": "[encoded data removed]",
      "text/plain": [
       "<Figure size 432x288 with 1 Axes>"
      ]
     },
     "metadata": {
      "needs_background": "light"
     },
     "output_type": "display_data"
    }
   ],
   "source": [
    "%%time\n",
    "xs = np.array([float(i/50) for i in range(0,500)])\n",
    "ys = f2_of_x(xs)\n",
    "plt.plot(xs,ys)\n",
    "plt.title(\"f(x)\");"
   ]
  },
  {
   "cell_type": "code",
   "execution_count": 141,
   "metadata": {
    "colab": {
     "base_uri": "https://localhost:8080/",
     "height": 281
    },
    "id": "KQ1-f9YSFAPR",
    "outputId": "f4cd766c-be27-48a8-f0db-bc0d14f95f78"
   },
   "outputs": [
    {
     "name": "stdout",
     "output_type": "stream",
     "text": [
      "CPU times: total: 31.2 ms\n",
      "Wall time: 29 ms\n"
     ]
    },
    {
     "data": {
      "text/plain": [
       "Text(0.5, 1.0, 'f(x)')"
      ]
     },
     "execution_count": 141,
     "metadata": {},
     "output_type": "execute_result"
    },
    {
     "data": {
      "image/png": "[encoded data removed]",
      "text/plain": [
       "<Figure size 432x288 with 1 Axes>"
      ]
     },
     "metadata": {
      "needs_background": "light"
     },
     "output_type": "display_data"
    }
   ],
   "source": [
    "%%time\n",
    "#xs = np.array([float(i/50) for i in range(0,500)])\n",
    "xs = np.linspace(-10,10,100)\n",
    "ys = f1_of_x(xs)\n",
    "plt.plot(xs,ys)\n",
    "plt.title(\"f(x)\");"
   ]
  },
  {
   "cell_type": "code",
   "execution_count": 119,
   "metadata": {
    "id": "FXKQj5LH8Tgu"
   },
   "outputs": [],
   "source": [
    "def crude_monte_carlo(f_of_x,upper_bound,lower_bound = 0,num_samples=500000):\n",
    "    \"\"\"\n",
    "    This function performs the Crude Monte Carlo for our\n",
    "    specific function f(x) on the range x=0 to x=5.\n",
    "    Notice that this bound is sufficient because f(x)\n",
    "    approaches 0 at around PI.\n",
    "    Args:\n",
    "    - num_samples (float) : number of samples\n",
    "    Return:\n",
    "    - Crude Monte Carlo estimation (float)\n",
    "    \n",
    "    \"\"\"\n",
    "    #lower_bound = 0 # нижний предел\n",
    "    #upper_bound = 5 # верхний предел   \n",
    "    \n",
    "#     sum_of_samples = 0\n",
    "#     for i in range(num_samples):\n",
    "#         x = np.random.uniform(lower_bound, upper_bound) # генерим случайное число в пределах интегрирования\n",
    "#         sum_of_samples += f_of_x(x)\n",
    "    \n",
    "    #return (upper_bound - lower_bound) * float(sum_of_samples/num_samples)\n",
    "    res = np.vectorize(f_of_x)(np.random.uniform(0, upper_bound,num_samples)).mean()\n",
    "    return (upper_bound - lower_bound) * res"
   ]
  },
  {
   "cell_type": "code",
   "execution_count": 121,
   "metadata": {
    "colab": {
     "base_uri": "https://localhost:8080/"
    },
    "id": "LQA1cZz882L2",
    "outputId": "120bdaf1-ab32-4cc0-a65d-9249bc877db7"
   },
   "outputs": [
    {
     "name": "stdout",
     "output_type": "stream",
     "text": [
      "0.6954963341077841\n"
     ]
    }
   ],
   "source": [
    "print(crude_monte_carlo(f1_of_x,5))"
   ]
  },
  {
   "cell_type": "code",
   "execution_count": 124,
   "metadata": {},
   "outputs": [],
   "source": [
    "crude_monte_carlo1 = lambda x: crude_monte_carlo(f2_of_x,x)"
   ]
  },
  {
   "cell_type": "code",
   "execution_count": 125,
   "metadata": {},
   "outputs": [
    {
     "data": {
      "text/plain": [
       "9.602243244306276"
      ]
     },
     "execution_count": 125,
     "metadata": {},
     "output_type": "execute_result"
    }
   ],
   "source": [
    "crude_monte_carlo1(5)"
   ]
  },
  {
   "cell_type": "code",
   "execution_count": 138,
   "metadata": {},
   "outputs": [
    {
     "data": {
      "image/png": "[encoded data removed]",
      "text/plain": [
       "<Figure size 432x288 with 1 Axes>"
      ]
     },
     "metadata": {
      "needs_background": "light"
     },
     "output_type": "display_data"
    }
   ],
   "source": [
    "xs = np.linspace(0.1,5,15)\n",
    "ys = np.vectorize(crude_monte_carlo1)(xs)\n",
    "plt.plot(xs,ys)\n",
    "plt.title(r\"f(x)=$ \\int_0^x \\sqrt{x+\\sqrt{x}} dx$\");"
   ]
  },
  {
   "cell_type": "markdown",
   "metadata": {},
   "source": [
    "## Численно вычислить интеграл вероятности Муавра-Лапласа\n",
    "$$\\frac{1}{\\sqrt{2\\pi}} \\int_{-\\infty}^x e^{-z^2 /2} dz \\approx \\frac{1}{\\sqrt{2\\pi}} \\int_{-100}^x e^{-z^2 /2} dz$$"
   ]
  },
  {
   "cell_type": "code",
   "execution_count": 4,
   "metadata": {},
   "outputs": [],
   "source": [
    "# определяем функцию плотности вероятности нормального распределения\n",
    "# probability density function (PDF)\n",
    "def normal_Gaussian_pdf(x,mu,sigma):\n",
    "    return np.exp(-0.5*(x-mu)**2/sigma**2)/np.sqrt(2*np.pi+sigma**2)"
   ]
  },
  {
   "cell_type": "code",
   "execution_count": 10,
   "metadata": {
    "colab": {
     "base_uri": "https://localhost:8080/",
     "height": 281
    },
    "id": "KQ1-f9YSFAPR",
    "outputId": "f4cd766c-be27-48a8-f0db-bc0d14f95f78"
   },
   "outputs": [
    {
     "data": {
      "image/png": "[encoded data removed]",
      "text/plain": [
       "<Figure size 432x288 with 1 Axes>"
      ]
     },
     "metadata": {
      "needs_background": "light"
     },
     "output_type": "display_data"
    }
   ],
   "source": [
    "#xs = np.array([i/50 for i in range(-500,500)])\n",
    "xs = np.linspace(-10,10,500)\n",
    "ys = normal_Gaussian_pdf(xs,1,2)\n",
    "plt.plot(xs,ys)\n",
    "plt.title(\"нормальная PDF\");"
   ]
  },
  {
   "cell_type": "code",
   "execution_count": 2,
   "metadata": {},
   "outputs": [],
   "source": [
    "# определяем подинтегральную функцию интеграла \n",
    "# вероятности Муавра-Лапласа \n",
    "def standard_Gaussian_pdf(x):\n",
    "    return np.exp(-0.5*x**2)/np.sqrt(2*np.pi)"
   ]
  },
  {
   "cell_type": "code",
   "execution_count": 7,
   "metadata": {
    "colab": {
     "base_uri": "https://localhost:8080/",
     "height": 281
    },
    "id": "KQ1-f9YSFAPR",
    "outputId": "f4cd766c-be27-48a8-f0db-bc0d14f95f78"
   },
   "outputs": [
    {
     "data": {
      "image/png": "[encoded data removed]",
      "text/plain": [
       "<Figure size 432x288 with 1 Axes>"
      ]
     },
     "metadata": {
      "needs_background": "light"
     },
     "output_type": "display_data"
    }
   ],
   "source": [
    "xs = np.array([i/50 for i in range(-500,500)])\n",
    "ys = standard_Gaussian_pdf(xs)\n",
    "plt.plot(xs,ys)\n",
    "plt.title(\"standard_Gaussian_pdf\");"
   ]
  },
  {
   "cell_type": "code",
   "execution_count": 74,
   "metadata": {},
   "outputs": [],
   "source": [
    "def integr_Muavr_Laplas(upper_bound,num_samples=500000):\n",
    "    lower_bound = -50\n",
    "#     sum_of_samples = 0\n",
    "#     for i in range(num_samples):\n",
    "#         y = np.random.uniform(lower_bound, upper_bound) # генерим случайное число в пределах интегрирования\n",
    "#         sum_of_samples += 1/(2*PI)*e**(-0.5*y**2)\n",
    "#     return (upper_bound - lower_bound) * float(sum_of_samples/num_samples)\n",
    "    res = np.exp(-0.5*(np.random.uniform(lower_bound, upper_bound,num_samples))**2).mean()\n",
    "    \n",
    "    return (upper_bound-lower_bound)*res/np.sqrt(2*PI)-0.5"
   ]
  },
  {
   "cell_type": "code",
   "execution_count": 75,
   "metadata": {},
   "outputs": [
    {
     "data": {
      "text/plain": [
       "0.5003515827141467"
      ]
     },
     "execution_count": 75,
     "metadata": {},
     "output_type": "execute_result"
    }
   ],
   "source": [
    "integr_Muavr_Laplas(3)"
   ]
  },
  {
   "cell_type": "markdown",
   "metadata": {},
   "source": [
    "## Функция (интегральная) Лапласа\n",
    "\n",
    "$$\\Phi(x) = \\frac{1}{\\sqrt{2\\pi}}\\int_{0}^{x}e^{-\\frac{t^2}{2}}dt$$\n",
    "\n",
    "Функция Лапласа обладает следующими свойствами:\n",
    "1. $\\Phi(0) = 0$\n",
    "2. $\\Phi(-x) =- \\Phi(x)$\n",
    "3. $\\Phi(\\infty) = 0.5$\n"
   ]
  },
  {
   "cell_type": "code",
   "execution_count": 78,
   "metadata": {},
   "outputs": [
    {
     "data": {
      "image/png": "[encoded data removed]",
      "text/plain": [
       "<Figure size 432x288 with 1 Axes>"
      ]
     },
     "metadata": {
      "needs_background": "light"
     },
     "output_type": "display_data"
    }
   ],
   "source": [
    "#xs = np.array([i/50 for i in range(-250,250)])\n",
    "xs = np.linspace(-5,5,500)\n",
    "vectorized_integr_Muavr_Laplas = np.vectorize(integr_Muavr_Laplas)\n",
    "ys = vectorized_integr_Muavr_Laplas(xs)\n",
    "# ys1 = Phi(xs)\n",
    "# plt.plot(xs,ys1)\n",
    "plt.plot(xs,ys)\n",
    "plt.title(\"интеграл вероятности Муавра-Лапласа \");"
   ]
  },
  {
   "cell_type": "code",
   "execution_count": 2,
   "metadata": {},
   "outputs": [],
   "source": [
    "from scipy.special import erf\n",
    "\n",
    "def Phi(z): # интегральная функция Лапласа (значения совпадают с таблицами Брадиса)\n",
    "    return 0.5*erf(z/np.sqrt(2))"
   ]
  },
  {
   "cell_type": "code",
   "execution_count": 16,
   "metadata": {},
   "outputs": [
    {
     "data": {
      "text/plain": [
       "(0.4986501019683699, 0.45818486238640505, 0.12551583472332)"
      ]
     },
     "execution_count": 16,
     "metadata": {},
     "output_type": "execute_result"
    }
   ],
   "source": [
    "Phi(3),Phi(1.73),Phi(0.32)"
   ]
  },
  {
   "cell_type": "code",
   "execution_count": 13,
   "metadata": {},
   "outputs": [
    {
     "data": {
      "image/png": "[encoded data removed]",
      "text/plain": [
       "<Figure size 432x288 with 1 Axes>"
      ]
     },
     "metadata": {
      "needs_background": "light"
     },
     "output_type": "display_data"
    }
   ],
   "source": [
    "xs = np.array([i/50 for i in range(-500,500)])\n",
    "ys = Phi(xs)\n",
    "plt.plot(xs,ys)\n",
    "plt.title(\"интегральная функция Лапласа\");"
   ]
  },
  {
   "cell_type": "code",
   "execution_count": 34,
   "metadata": {},
   "outputs": [],
   "source": [
    "from scipy.stats import norm\n",
    "\n",
    "def func_Lalpas(x,loc=0, scale=1):# интегральная функция Лапласа (значения совпадают с таблицами Брадиса)    \n",
    "    return norm(loc, scale).cdf(x)-0.5"
   ]
  },
  {
   "cell_type": "code",
   "execution_count": 35,
   "metadata": {},
   "outputs": [
    {
     "data": {
      "image/png": "[encoded data removed]",
      "text/plain": [
       "<Figure size 640x480 with 1 Axes>"
      ]
     },
     "metadata": {},
     "output_type": "display_data"
    }
   ],
   "source": [
    "import numpy as np\n",
    "from scipy import stats\n",
    "import matplotlib.pyplot as plt\n",
    "\n",
    "\n",
    "x = np.arange(-5,5,0.1)\n",
    "y = stats.norm.cdf(x)-0.5#,loc = 0,scale = 1) # интегральная функция Лапласа (значения совпадают с таблицами Брадиса)\n",
    "y1 = Phi(x)\n",
    "y2 = func_Lalpas(x)\n",
    "\n",
    "plt.plot(x,y,'ob')\n",
    "plt.plot(x,y1,'-b')\n",
    "plt.plot(x,y2,'.r')\n",
    "plt.title(\"Нормальная функция распределения \\n интеграл вероятности Муавра-Лапласа \");"
   ]
  },
  {
   "cell_type": "code",
   "execution_count": 143,
   "metadata": {},
   "outputs": [
    {
     "data": {
      "text/plain": [
       "0.4986501019683699"
      ]
     },
     "execution_count": 143,
     "metadata": {},
     "output_type": "execute_result"
    }
   ],
   "source": [
    "stats.norm.cdf(3)-0.5"
   ]
  },
  {
   "cell_type": "markdown",
   "metadata": {
    "id": "fqDC_vnd9OAm"
   },
   "source": [
    "## Определим точность нашей оценки"
   ]
  },
  {
   "cell_type": "markdown",
   "metadata": {
    "id": "AiQnoOnn9QuV"
   },
   "source": [
    "Насколько мы уверены в нашем ответе? Откуда мы знаем, что 10000 итераций  достаточно, чтобы получить хорошее приближение. Мы можем измерить нашу точность, найдя дисперсию наших оценок. Дисперсия определяется как «Среднее квадрата расстояний от среднего». Можно показать равным этому уравнению:\n",
    "$$σ^2 = [\\frac{b-a}{N}\\sum_{i=1}^{N}f^2(x_i)] - [\\sum_{i=1}^{N}\\frac{b-a}{N}f(x_i)]^2$$\n",
    "поскольку если $X$ - случайная величина, распределенная равномерно на отрезке $[b,a]$. А $f$ - некоторая функция, то $f(X)$ - элементарная случайная функция и её дисперсия равна $$ D(f) = M(f^2(X)) - M^2(f(X)) = [\\sum_{i=1}^{N}f^2(x_i)\\cdot p_i] - [\\sum_{i=1}^{N}f(x_i)\\cdot p_i]^2$$\n",
    "Т.к. в нашем случае с.в.$X$ распределена равномерно на отрезке $[a,b]$, то $p_i = \\frac{b-a}{N}$ и получаем \n",
    "$$σ^2 = D(f) = [\\frac{b-a}{N}\\sum_{i=1}^{N}f^2(x_i)] - [\\sum_{i=1}^{N}\\frac{b-a}{N}f(x_i)]^2$$"
   ]
  },
  {
   "cell_type": "code",
   "execution_count": 90,
   "metadata": {
    "id": "91ZaEWoS9nwd"
   },
   "outputs": [],
   "source": [
    "def get_crude_MC_variance_numpy(num_samples,lower_bound = 0,upper_bound = 5):\n",
    "    \"\"\"\n",
    "    This function returns the variance for the Crude Monte Carlo.\n",
    "    Note that the inputed number of samples does not neccissarily\n",
    "    need to correspond to number of samples used in the Monte\n",
    "    Carlo Simulation.\n",
    "    Args:\n",
    "    - num_samples (int)\n",
    "    Return:\n",
    "    - Variance for Crude Monte Carlo approximation of f(x) (float)\n",
    "    \"\"\"   \n",
    "    \n",
    "    running_total = np.vectorize(integr_Muavr_Laplas)(np.random.uniform(0, upper_bound,num_samples))\n",
    "    \n",
    "    return running_total.var()"
   ]
  },
  {
   "cell_type": "markdown",
   "metadata": {
    "id": "MDYtPj98_bJX"
   },
   "source": [
    "Дисперсия дает нам представление о том, на сколько F(X) варьируется в области Икс. Оно зависит от объема выборки. А далее мы можем вычислить ошибку интегрирования рассчитав стандартную ошибку среднего, взяв квадратный корень из дисперсии, деленную на объем выборки. "
   ]
  },
  {
   "cell_type": "code",
   "execution_count": 91,
   "metadata": {
    "colab": {
     "base_uri": "https://localhost:8080/"
    },
    "id": "t_d-1_oC97py",
    "outputId": "7ee54eed-0605-40a9-d792-5a24aa52e0bc"
   },
   "outputs": [
    {
     "data": {
      "text/plain": [
       "(0.017083292236793907, 0.0013070306896471064)"
      ]
     },
     "execution_count": 91,
     "metadata": {},
     "output_type": "execute_result"
    }
   ],
   "source": [
    "res_10_4 = get_crude_MC_variance_numpy(10000)\n",
    "res_10_4, np.sqrt(res_10_4/10000)\n",
    "# (19.961567881788657, 0.04467837047362925)"
   ]
  },
  {
   "cell_type": "code",
   "execution_count": 22,
   "metadata": {
    "colab": {
     "base_uri": "https://localhost:8080/"
    },
    "id": "pFEBKPdi9_yj",
    "outputId": "a0698790-1424-4c19-984d-137307d83be6"
   },
   "outputs": [
    {
     "data": {
      "text/plain": [
       "(0.03373251675843387, 0.0005807970106537556)"
      ]
     },
     "execution_count": 22,
     "metadata": {},
     "output_type": "execute_result"
    }
   ],
   "source": [
    "# res_10_5 = get_crude_MC_variance_numpy(100000)\n",
    "# res_10_5, np.sqrt(res_10_5/100000)\n",
    "# (19.98456827314877, 0.014136678631541699)"
   ]
  },
  {
   "cell_type": "code",
   "execution_count": 23,
   "metadata": {
    "colab": {
     "base_uri": "https://localhost:8080/"
    },
    "id": "TlJcExj2AckV",
    "outputId": "cf7f62e7-529d-4ccb-e8e8-3bc887ae687a"
   },
   "outputs": [
    {
     "data": {
      "text/plain": [
       "(0.03391226488817629, 0.00018415283024753187)"
      ]
     },
     "execution_count": 23,
     "metadata": {},
     "output_type": "execute_result"
    }
   ],
   "source": [
    "# res_10_6 = get_crude_MC_variance_numpy(1000000)\n",
    "# res_10_6, np.sqrt(res_10_6/1000000)\n",
    "# (19.95827719434609, 0.00446746876814445)"
   ]
  },
  {
   "cell_type": "code",
   "execution_count": null,
   "metadata": {},
   "outputs": [],
   "source": []
  },
  {
   "cell_type": "code",
   "execution_count": 6,
   "metadata": {},
   "outputs": [],
   "source": []
  },
  {
   "cell_type": "code",
   "execution_count": null,
   "metadata": {},
   "outputs": [],
   "source": []
  }
 ],
 "metadata": {
  "colab": {
   "provenance": []
  },
  "kernelspec": {
   "display_name": "Python 3 (ipykernel)",
   "language": "python",
   "name": "python3"
  },
  "language_info": {
   "codemirror_mode": {
    "name": "ipython",
    "version": 3
   },
   "file_extension": ".py",
   "mimetype": "text/x-python",
   "name": "python",
   "nbconvert_exporter": "python",
   "pygments_lexer": "ipython3",
   "version": "3.9.12"
  }
 },
 "nbformat": 4,
 "nbformat_minor": 1
}
