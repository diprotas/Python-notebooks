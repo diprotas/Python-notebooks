{
 "cells": [
  {
   "cell_type": "markdown",
   "metadata": {},
   "source": [
    "# Explicit Matrix Factorization: ALS, SGD, and All That Jazz"
   ]
  },
  {
   "cell_type": "raw",
   "metadata": {},
   "source": [
    "https://blog.insightdatascience.com/explicit-matrix-factorization-als-sgd-and-all-that-jazz-b00e4d9b21ea#5386"
   ]
  },
  {
   "cell_type": "raw",
   "metadata": {},
   "source": [
    "Работая в компании, занимающейся электронной коммерцией, я много времени думаю о рекомендательных системах. Цель модели рекомендаций - представить ранжированный список объектов с учетом входного объекта. Обычно это ранжирование основывается на сходстве между входным объектом и перечисленными объектами. Чтобы быть менее расплывчатым, часто хочется либо представить продукты, аналогичные данному продукту, либо представить продукты, которые лично рекомендуются для данного пользователя.\n",
    "\n",
    "Поразительно то, что если у вас достаточно данных о взаимодействии между пользователем и продуктом (рейтинги, покупки, клики и т. Д.), то никакой другой информации для того, чтобы давать достойные рекомендации, не требуется. Это сильно отличается от задач регрессии и классификации, в которых нужно исследовать различные особенности, чтобы повысить предсказательную способность модели.\n",
    "\n",
    "Часто первое знакомство с рекомендательными системами - это совместная фильтрация; в частности, изучается совместная фильтрация на основе пользователей и элементов. Это относительно старые методы, и через призму современного машинного обучения эти методы могут показаться немного неуместными. \n",
    "Для меня машинное обучение почти всегда имеет дело с какой-то функцией, которую мы пытаемся максимизировать или минимизировать. В простой линейной регрессии мы минимизируем среднеквадратичное расстояние между нашими прогнозами и истинными значениями. Логистическая регрессия предполагает максимизацию функции правдоподобия. Однако при совместной фильтрации на основе пользователей и элементов каждый случайным образом пробует набор различных параметров и наблюдает, что происходит с метрикой ошибки. Это совсем не похоже на машинное обучение. Чтобы увидеть это в действии, ознакомьтесь с моим сообщением в блоге об этих методах.\n",
    "\n",
    "Чтобы придать некоторую техническую строгость рекомендательным системам, я хотел бы поговорить о матричной факторизации, когда мы фактически изучаем параметры модели, чтобы напрямую минимизировать функцию.\n",
    "\n",
    "Эта статья будет организована следующим образом: мы начнем с сбора хорошо известного набора данных с рейтингами фильмов, на котором будем обучать наших моделей. Затем я представлю и выведу два разных алгоритма обучения матричной факторизации. Далее мы потратим некоторое время на оптимизацию параметров модели. Наконец, мы воспользуемся бесплатным API для визуализации наших рекомендаций и упрощения оценки результатов.\n",
    "\n",
    "Захват и анализ набора данных MovieLens\n",
    "\n",
    "Для этого введения я буду использовать набор данных MovieLens - классический набор данных для обучения моделей рекомендаций. Его можно получить на сайте GroupLens. Существуют различные наборы данных, но тот, который я буду использовать ниже, состоит из 100 000 оценок фильмов пользователями (по шкале от 1 до 5). Обратите внимание, что это считается набором данных явной обратной связи. Пользователи прямо говорят нам, как они оценили бы фильм. Это отличается от набора данных неявной обратной связи, такого как клики или покупки, где мы надеемся, что данные являются подходящими для оценки предпочтений пользователя. Для таких наборов данных должны использоваться разные алгоритмы.\n",
    "\n",
    "Основной файл данных состоит из списка, разделенного табуляцией, с идентификатором пользователя (начиная с 1), идентификатором элемента (начиная с 1), рейтингом и отметкой о времени в четырех полях. Мы можем использовать команды bash в записной книжке Jupyter, чтобы загрузить файл, а затем прочитать его с помощью pandas. Затем мы построим матрицу оценок, в которой пользователи будут отображаться в виде номеров строк, элементы (фильмы) - в виде номеров столбцов и рейтинги являются элементами матрицы.\n",
    "\n",
    "В этом наборе данных каждый пользователь оценил не менее 20 фильмов, что дает разумную разреженность в 6,3%. Это означает, что 6,3% оценок пользовательских элементов имеют ценность. Обратите внимание, что, хотя мы заполнили недостающие оценки нулями, мы не должны предполагать, что эти значения действительно равны нулю. Более уместно, это просто пустые записи (пропуски).\n",
    "\n",
    "Мы разделим наши данные на обучающий и тестовый наборы (матрицы train n test), удалив 10 оценок для каждого пользователя из обучающего набора и поместив их в набор тестов."
   ]
  },
  {
   "cell_type": "code",
   "execution_count": 2,
   "metadata": {},
   "outputs": [],
   "source": [
    "import numpy as np\n",
    "import pandas as pd\n",
    "np.set_printoptions(precision=1, suppress=True)\n",
    "np.random.seed(0)"
   ]
  },
  {
   "cell_type": "raw",
   "metadata": {},
   "source": [
    "!curl -O http://files.grouplens.org/datasets/movielens/ml-100k.zip\n",
    "!unzip ml-100k.zip\n",
    "!cd ml-100k/"
   ]
  },
  {
   "cell_type": "code",
   "execution_count": 27,
   "metadata": {},
   "outputs": [
    {
     "data": {
      "text/html": [
       "<div>\n",
       "<style scoped>\n",
       "    .dataframe tbody tr th:only-of-type {\n",
       "        vertical-align: middle;\n",
       "    }\n",
       "\n",
       "    .dataframe tbody tr th {\n",
       "        vertical-align: top;\n",
       "    }\n",
       "\n",
       "    .dataframe thead th {\n",
       "        text-align: right;\n",
       "    }\n",
       "</style>\n",
       "<table border=\"1\" class=\"dataframe\">\n",
       "  <thead>\n",
       "    <tr style=\"text-align: right;\">\n",
       "      <th></th>\n",
       "      <th>user_id</th>\n",
       "      <th>item_id</th>\n",
       "      <th>rating</th>\n",
       "      <th>timestamp</th>\n",
       "    </tr>\n",
       "  </thead>\n",
       "  <tbody>\n",
       "    <tr>\n",
       "      <th>0</th>\n",
       "      <td>196</td>\n",
       "      <td>242</td>\n",
       "      <td>3</td>\n",
       "      <td>881250949</td>\n",
       "    </tr>\n",
       "    <tr>\n",
       "      <th>1</th>\n",
       "      <td>186</td>\n",
       "      <td>302</td>\n",
       "      <td>3</td>\n",
       "      <td>891717742</td>\n",
       "    </tr>\n",
       "    <tr>\n",
       "      <th>2</th>\n",
       "      <td>22</td>\n",
       "      <td>377</td>\n",
       "      <td>1</td>\n",
       "      <td>878887116</td>\n",
       "    </tr>\n",
       "    <tr>\n",
       "      <th>3</th>\n",
       "      <td>244</td>\n",
       "      <td>51</td>\n",
       "      <td>2</td>\n",
       "      <td>880606923</td>\n",
       "    </tr>\n",
       "    <tr>\n",
       "      <th>4</th>\n",
       "      <td>166</td>\n",
       "      <td>346</td>\n",
       "      <td>1</td>\n",
       "      <td>886397596</td>\n",
       "    </tr>\n",
       "  </tbody>\n",
       "</table>\n",
       "</div>"
      ],
      "text/plain": [
       "   user_id  item_id  rating  timestamp\n",
       "0      196      242       3  881250949\n",
       "1      186      302       3  891717742\n",
       "2       22      377       1  878887116\n",
       "3      244       51       2  880606923\n",
       "4      166      346       1  886397596"
      ]
     },
     "execution_count": 27,
     "metadata": {},
     "output_type": "execute_result"
    }
   ],
   "source": [
    "names = ['user_id', 'item_id', 'rating', 'timestamp']\n",
    "df = pd.read_csv('data/ml-100k/u.data', sep='\\t', names=names) # читаем файл в датафрейм\n",
    "df.head()"
   ]
  },
  {
   "cell_type": "code",
   "execution_count": null,
   "metadata": {},
   "outputs": [],
   "source": [
    "#======================изучаю pandas==================================="
   ]
  },
  {
   "cell_type": "code",
   "execution_count": 50,
   "metadata": {},
   "outputs": [
    {
     "data": {
      "text/plain": [
       "array([1, 2, 3, 4, 5, 6, 7])"
      ]
     },
     "execution_count": 50,
     "metadata": {},
     "output_type": "execute_result"
    }
   ],
   "source": [
    "np.arange(1,8)"
   ]
  },
  {
   "cell_type": "code",
   "execution_count": 81,
   "metadata": {},
   "outputs": [
    {
     "data": {
      "text/html": [
       "<div>\n",
       "<style scoped>\n",
       "    .dataframe tbody tr th:only-of-type {\n",
       "        vertical-align: middle;\n",
       "    }\n",
       "\n",
       "    .dataframe tbody tr th {\n",
       "        vertical-align: top;\n",
       "    }\n",
       "\n",
       "    .dataframe thead th {\n",
       "        text-align: right;\n",
       "    }\n",
       "</style>\n",
       "<table border=\"1\" class=\"dataframe\">\n",
       "  <thead>\n",
       "    <tr style=\"text-align: right;\">\n",
       "      <th></th>\n",
       "      <th>user</th>\n",
       "      <th>rating</th>\n",
       "    </tr>\n",
       "  </thead>\n",
       "  <tbody>\n",
       "    <tr>\n",
       "      <th>film1</th>\n",
       "      <td>6</td>\n",
       "      <td>3</td>\n",
       "    </tr>\n",
       "    <tr>\n",
       "      <th>film2</th>\n",
       "      <td>2</td>\n",
       "      <td>4</td>\n",
       "    </tr>\n",
       "    <tr>\n",
       "      <th>film3</th>\n",
       "      <td>2</td>\n",
       "      <td>5</td>\n",
       "    </tr>\n",
       "    <tr>\n",
       "      <th>film4</th>\n",
       "      <td>5</td>\n",
       "      <td>1</td>\n",
       "    </tr>\n",
       "    <tr>\n",
       "      <th>film6</th>\n",
       "      <td>1</td>\n",
       "      <td>3</td>\n",
       "    </tr>\n",
       "    <tr>\n",
       "      <th>film6</th>\n",
       "      <td>6</td>\n",
       "      <td>4</td>\n",
       "    </tr>\n",
       "    <tr>\n",
       "      <th>film7</th>\n",
       "      <td>1</td>\n",
       "      <td>4</td>\n",
       "    </tr>\n",
       "    <tr>\n",
       "      <th>film8</th>\n",
       "      <td>4</td>\n",
       "      <td>2</td>\n",
       "    </tr>\n",
       "    <tr>\n",
       "      <th>film9</th>\n",
       "      <td>3</td>\n",
       "      <td>4</td>\n",
       "    </tr>\n",
       "    <tr>\n",
       "      <th>film10</th>\n",
       "      <td>4</td>\n",
       "      <td>5</td>\n",
       "    </tr>\n",
       "    <tr>\n",
       "      <th>film11</th>\n",
       "      <td>3</td>\n",
       "      <td>4</td>\n",
       "    </tr>\n",
       "    <tr>\n",
       "      <th>film12</th>\n",
       "      <td>5</td>\n",
       "      <td>4</td>\n",
       "    </tr>\n",
       "    <tr>\n",
       "      <th>film13</th>\n",
       "      <td>4</td>\n",
       "      <td>2</td>\n",
       "    </tr>\n",
       "    <tr>\n",
       "      <th>film14</th>\n",
       "      <td>6</td>\n",
       "      <td>2</td>\n",
       "    </tr>\n",
       "    <tr>\n",
       "      <th>film15</th>\n",
       "      <td>6</td>\n",
       "      <td>2</td>\n",
       "    </tr>\n",
       "    <tr>\n",
       "      <th>film16</th>\n",
       "      <td>4</td>\n",
       "      <td>4</td>\n",
       "    </tr>\n",
       "    <tr>\n",
       "      <th>film17</th>\n",
       "      <td>1</td>\n",
       "      <td>3</td>\n",
       "    </tr>\n",
       "    <tr>\n",
       "      <th>film18</th>\n",
       "      <td>4</td>\n",
       "      <td>3</td>\n",
       "    </tr>\n",
       "    <tr>\n",
       "      <th>film19</th>\n",
       "      <td>1</td>\n",
       "      <td>5</td>\n",
       "    </tr>\n",
       "    <tr>\n",
       "      <th>film20</th>\n",
       "      <td>5</td>\n",
       "      <td>4</td>\n",
       "    </tr>\n",
       "  </tbody>\n",
       "</table>\n",
       "</div>"
      ],
      "text/plain": [
       "        user  rating\n",
       "film1      6       3\n",
       "film2      2       4\n",
       "film3      2       5\n",
       "film4      5       1\n",
       "film6      1       3\n",
       "film6      6       4\n",
       "film7      1       4\n",
       "film8      4       2\n",
       "film9      3       4\n",
       "film10     4       5\n",
       "film11     3       4\n",
       "film12     5       4\n",
       "film13     4       2\n",
       "film14     6       2\n",
       "film15     6       2\n",
       "film16     4       4\n",
       "film17     1       3\n",
       "film18     4       3\n",
       "film19     1       5\n",
       "film20     5       4"
      ]
     },
     "execution_count": 81,
     "metadata": {},
     "output_type": "execute_result"
    }
   ],
   "source": [
    "# тестовый датафрейм\n",
    "df1 = pd.DataFrame({'user': np.random.randint(1,7,20), \n",
    "                    'rating': np.random.randint(1,6,20)},\n",
    "                  index=['film1', 'film2', 'film3','film4', 'film6', 'film6','film7','film8',\n",
    "                        'film9', 'film10', 'film11','film12', 'film13', 'film14','film15','film16',\n",
    "                        'film17', 'film18','film19','film20'])\n",
    "\n",
    "df1"
   ]
  },
  {
   "cell_type": "code",
   "execution_count": 82,
   "metadata": {},
   "outputs": [
    {
     "name": "stdout",
     "output_type": "stream",
     "text": [
      "6 3\n",
      "2 4\n",
      "2 5\n",
      "5 1\n",
      "1 3\n",
      "6 4\n",
      "1 4\n",
      "4 2\n",
      "3 4\n",
      "4 5\n",
      "3 4\n",
      "5 4\n",
      "4 2\n",
      "6 2\n",
      "6 2\n",
      "4 4\n",
      "1 3\n",
      "4 3\n",
      "1 5\n",
      "5 4\n"
     ]
    },
    {
     "data": {
      "text/plain": [
       "array([[ 0.,  0.,  4.,  5.,  6.],\n",
       "       [ 0.,  0.,  0.,  6.,  7.],\n",
       "       [ 0.,  0.,  0.,  7.,  0.],\n",
       "       [ 0.,  6.,  7.,  8.,  9.],\n",
       "       [ 6.,  0.,  0.,  9.,  0.],\n",
       "       [ 0.,  8.,  9., 10.,  0.]])"
      ]
     },
     "execution_count": 82,
     "metadata": {},
     "output_type": "execute_result"
    }
   ],
   "source": [
    "n_user1 = df1.user.unique().shape[0] #количество уникальных значений\n",
    "n_rating2 = df1.rating.unique().shape[0]\n",
    "film_ratings = np.zeros((n_user1, n_rating2))\n",
    "\n",
    "for row in df1.itertuples(): # itertuples перебирает все строки датафрейма\n",
    "    print(row[1], row[2])\n",
    "    film_ratings[row[1]-1, row[2]-1] = row[1]+row[2]\n",
    "film_ratings"
   ]
  },
  {
   "cell_type": "code",
   "execution_count": 93,
   "metadata": {},
   "outputs": [
    {
     "data": {
      "text/plain": [
       "array([[ 0.,  0.,  4.,  5.,  6.],\n",
       "       [ 0.,  0.,  0.,  6.,  7.],\n",
       "       [ 0.,  0.,  0.,  7.,  0.],\n",
       "       [ 0.,  0.,  7.,  0.,  0.],\n",
       "       [ 6.,  0.,  0.,  9.,  0.],\n",
       "       [ 0.,  8.,  9., 10.,  0.]])"
      ]
     },
     "execution_count": 93,
     "metadata": {},
     "output_type": "execute_result"
    }
   ],
   "source": [
    "tst_ratings1 = np.random.choice(film_ratings[3, :].nonzero()[0], #выбираем 10 ненулевых\n",
    "                                        size=3, # рейтингов \n",
    "                                        replace=False)\n",
    "train00 = film_ratings.copy()\n",
    " # array([1, 3, 2], dtype=int64)\n",
    "train00[3, tst_ratings1] = 0.\n",
    "train00"
   ]
  },
  {
   "cell_type": "code",
   "execution_count": 94,
   "metadata": {},
   "outputs": [
    {
     "data": {
      "text/plain": [
       "array([1, 2, 3, 4], dtype=int64)"
      ]
     },
     "execution_count": 94,
     "metadata": {},
     "output_type": "execute_result"
    }
   ],
   "source": [
    "film_ratings[3, :].nonzero()[0]"
   ]
  },
  {
   "cell_type": "code",
   "execution_count": 95,
   "metadata": {},
   "outputs": [
    {
     "data": {
      "text/plain": [
       "array([4, 2, 1], dtype=int64)"
      ]
     },
     "execution_count": 95,
     "metadata": {},
     "output_type": "execute_result"
    }
   ],
   "source": [
    "np.random.choice(film_ratings[3, :].nonzero()[0], #выбираем 10 ненулевых\n",
    "                                        size=3, # рейтингов \n",
    "                                        replace=False)"
   ]
  },
  {
   "cell_type": "code",
   "execution_count": 87,
   "metadata": {},
   "outputs": [
    {
     "data": {
      "text/plain": [
       "50.0"
      ]
     },
     "execution_count": 87,
     "metadata": {},
     "output_type": "execute_result"
    }
   ],
   "source": [
    "sparsity = 100 * float(len(film_ratings.nonzero()[0]))/(n_user1*n_rating2)\n",
    "sparsity"
   ]
  },
  {
   "cell_type": "code",
   "execution_count": 25,
   "metadata": {},
   "outputs": [
    {
     "data": {
      "text/plain": [
       "((3,), (2,))"
      ]
     },
     "execution_count": 25,
     "metadata": {},
     "output_type": "execute_result"
    }
   ],
   "source": [
    "df1.num_legs.unique().shape, df1.num_wings.unique().shape"
   ]
  },
  {
   "cell_type": "code",
   "execution_count": null,
   "metadata": {},
   "outputs": [],
   "source": [
    "print('Количество элементов=',len(ratings))\n",
    "print('Количество ненулевых элементов=',len(ratings.nonzero()))"
   ]
  },
  {
   "cell_type": "code",
   "execution_count": 12,
   "metadata": {},
   "outputs": [
    {
     "name": "stdout",
     "output_type": "stream",
     "text": [
      "[ 2  6 12]\n"
     ]
    },
    {
     "data": {
      "text/plain": [
       "(20, 20, 20)"
      ]
     },
     "execution_count": 12,
     "metadata": {},
     "output_type": "execute_result"
    }
   ],
   "source": [
    "# скалярное произведение одномерных массивов (векторов)\n",
    "a11 = np.array([2, 3, 4])\n",
    "b11 = np.array([1, 2, 3])\n",
    "\n",
    "print(a11*b11)\n",
    "np.dot(a11, b11), a11.T.dot(b11), (a11*b11).sum() "
   ]
  },
  {
   "cell_type": "code",
   "execution_count": null,
   "metadata": {},
   "outputs": [],
   "source": [
    "#====================закончил=изучать=pandas==================================="
   ]
  },
  {
   "cell_type": "code",
   "execution_count": 29,
   "metadata": {},
   "outputs": [
    {
     "name": "stdout",
     "output_type": "stream",
     "text": [
      "n_users= 943\n",
      "n_items= 1682\n",
      "Количество элементов= 943\n",
      "Количество ненулевых элементов= 2\n"
     ]
    },
    {
     "data": {
      "text/plain": [
       "array([[5., 3., 4., ..., 0., 0., 0.],\n",
       "       [4., 0., 0., ..., 0., 0., 0.],\n",
       "       [0., 0., 0., ..., 0., 0., 0.],\n",
       "       ...,\n",
       "       [5., 0., 0., ..., 0., 0., 0.],\n",
       "       [0., 0., 0., ..., 0., 0., 0.],\n",
       "       [0., 5., 0., ..., 0., 0., 0.]])"
      ]
     },
     "execution_count": 29,
     "metadata": {},
     "output_type": "execute_result"
    }
   ],
   "source": [
    "# создаём матрицу user-item\n",
    "\n",
    "n_users = df.user_id.unique().shape[0]\n",
    "print('n_users=',n_users)\n",
    "n_items = df.item_id.unique().shape[0]\n",
    "print('n_items=',n_items)\n",
    "ratings = np.zeros((n_users, n_items)) # создаем нулевую матрицу размера n_users X n_items\n",
    "\n",
    "for row in df.itertuples():\n",
    "    ratings[row[1]-1, row[2]-1] = row[3] # перебрали все строки и \n",
    "    # значения уменьшенные на 1 сделали индексами элемента матрицы рейтингов ratings и этому\n",
    "    # элементу присвоили значение рейтинга\n",
    "print('Количество элементов=',len(ratings))\n",
    "print('Количество ненулевых элементов=',len(ratings.nonzero()))\n",
    "ratings"
   ]
  },
  {
   "cell_type": "code",
   "execution_count": 11,
   "metadata": {},
   "outputs": [
    {
     "name": "stdout",
     "output_type": "stream",
     "text": [
      "943 users\n",
      "1682 items\n",
      "Разреженность Sparsity: 6.30%\n"
     ]
    }
   ],
   "source": [
    "print (str(n_users) + ' users')\n",
    "print (str(n_items) + ' items')\n",
    "sparsity = float(len(ratings.nonzero()[0])) #количество ненулевых элементов\n",
    "sparsity /= (ratings.shape[0] * ratings.shape[1]) #доля ненулевых элементов \n",
    "sparsity *= 100 #процент ненулевых элементов\n",
    "print ('Разреженность Sparsity: {:4.2f}%'.format(sparsity))"
   ]
  },
  {
   "cell_type": "code",
   "execution_count": 14,
   "metadata": {},
   "outputs": [],
   "source": [
    "# создаём две матрицы train и test\n",
    "# Мы разделим наши данные на обучающую и тестовую матрицу, \n",
    "# удалив 10 оценок для каждого пользователя из обучающего набора и поместив их в набор тестов.\n",
    "\n",
    "def train_test_split(ratings):\n",
    "    test = np.zeros(ratings.shape) #создаём нулевую матрицу рамера матрицы ratings\n",
    "    train = ratings.copy() # в train копируем матрицу рейтингов\n",
    "    for user in range(ratings.shape[0]): # для каждого номера usera\n",
    "        test_ratings = np.random.choice(ratings[user, :].nonzero()[0], #выбираем 10 ненулевых\n",
    "                                        size=10, # рейтингов и \n",
    "                                        replace=False)\n",
    "        train[user, test_ratings] = 0. # вместо этих 10 ненулевых рейтингов вставляем ноль\n",
    "        test[user, test_ratings] = ratings[user, test_ratings] # вместо нулей на эти места всавляем \n",
    "                                                               # 10 ненулевых рейтингов\n",
    "        \n",
    "    # Test and training are truly disjoint\n",
    "    # Assert — это специальная конструкция, позволяющая проверять предположения \n",
    "    # о значениях произвольных данных в произвольном месте программы.\n",
    "    # np.all проверяет все ли элементы массива вдоль данной оси имеют значение True.\n",
    "    assert(np.all((train * test) == 0)) \n",
    "    return train, test"
   ]
  },
  {
   "cell_type": "code",
   "execution_count": 15,
   "metadata": {},
   "outputs": [],
   "source": [
    "train, test = train_test_split(ratings) # получили две матрицы train и test"
   ]
  },
  {
   "cell_type": "code",
   "execution_count": 16,
   "metadata": {},
   "outputs": [
    {
     "data": {
      "text/plain": [
       "(array([[5., 3., 4., ..., 0., 0., 0.],\n",
       "        [4., 0., 0., ..., 0., 0., 0.],\n",
       "        [0., 0., 0., ..., 0., 0., 0.],\n",
       "        ...,\n",
       "        [0., 0., 0., ..., 0., 0., 0.],\n",
       "        [0., 0., 0., ..., 0., 0., 0.],\n",
       "        [0., 5., 0., ..., 0., 0., 0.]]),\n",
       " array([[0., 0., 0., ..., 0., 0., 0.],\n",
       "        [0., 0., 0., ..., 0., 0., 0.],\n",
       "        [0., 0., 0., ..., 0., 0., 0.],\n",
       "        ...,\n",
       "        [5., 0., 0., ..., 0., 0., 0.],\n",
       "        [0., 0., 0., ..., 0., 0., 0.],\n",
       "        [0., 0., 0., ..., 0., 0., 0.]]))"
      ]
     },
     "execution_count": 16,
     "metadata": {},
     "output_type": "execute_result"
    }
   ],
   "source": [
    "train, test"
   ]
  },
  {
   "cell_type": "markdown",
   "metadata": {},
   "source": [
    "## Введение  в матричную факторизацию для рекомендательных систем"
   ]
  },
  {
   "cell_type": "raw",
   "metadata": {},
   "source": [
    "Имея в наличии наши матрицы рейтингов обучения и тестирования, мы можем перейти к обучению системы рекомендаций. Объяснения матричной факторизации часто начинаются с разговоров о «матрицах низкого ранга» и «сингулярном разложении». Хотя они важны для фундаментального понимания этой темы, я не считаю, что математика слишком полезна для понимания основных концепций различных алгоритмов. Позвольте мне просто сформулировать предположения, которые делает базовая матричная факторизация.\n",
    "\n",
    "Факторизация матрицы предполагает, что:\n",
    "\n",
    "- Каждого пользователя можно описать k атрибутами или характеристиками. Например, параметр 1 может быть числом, которое говорит о том, насколько каждому пользователю нравятся научно-фантастические фильмы.\n",
    "\n",
    "- Каждый элемент (фильм) можно описать аналогичным набором из k атрибутов или параметров. Чтобы соответствовать приведенному выше примеру, параметр 1 для фильма может быть числом, которое говорит о том, насколько фильм близок к чистой научной фантастике.\n",
    "\n",
    "- Если мы умножим каждую характеристику пользователя на соответствующую характеристику фильма и сложим все вместе, это будет хорошим приближением для оценки, которую пользователь дал бы этому фильму.\n",
    "\n",
    "Это оно. Прелесть в том, что мы не знаем, что это за параметры. Мы также не знаем, сколько (k) параметров  актуально. Мы просто выбираем число для k и изучаем соответствующие значения для всех функций для всех пользователей и элементов. Как мы учимся? Конечно, минимизируя функцию потерь!\n",
    "\n",
    "Мы можем превратить нашу аппроксимацию матричной факторизации пользователя с k-атрибутом в математику, позволив пользователю u принять форму k-мерного вектора x_u. Аналогично, элемент(фильм) i может стать k-мерным вектором y_i. Прогнозируемый пользователем u рейтинг для элемента i - это просто скалярное произведение двух этих векторов.\n",
    "\n",
    "r^ui = xTu x yi = SUM_k x_uk y_ki - наша оценка рейтинга u-го пользователя присвоенный i-му фильму\n",
    "\n",
    "где r^_ui hat представляет наш прогноз для истинного рейтинга r_ui, а y_i (x⊺_u) предполагается вектором-столбцом (строкой). Эти векторы пользователей и элементов (фильмов) в литературе часто называют скрытыми векторами или низкоразмерными вложениями. Атрибуты k часто называют скрытыми факторами. Мы выберем минимизацию квадрата разницы между всеми рейтингами в нашем наборе данных (S) и нашими прогнозами. Это дает функцию потерь вида\n",
    "\n",
    "L = ∑_{u,i ∈ S}(r_ui - xTu x yi)**2 \n",
    "    + λx ∑_u ||xu||**2 + λy ∑_i ||yi||**2 (два условия регуляризации)\n",
    "    \n",
    "Обратите внимание, что в конце мы добавили два условия регуляризации L2 (регуляризация Тихонова), чтобы предотвратить переобучение (переподгонку) векторов пользователей и элементов. \n",
    "\n",
    "Регуляризация нужна для борьбы с переобучением — явлением, когда построенная модель хорошо объясняет примеры из обучающей выборки, но достаточно плохо работает на примерах, не участвовавших в обучении. Вообще, методов борьбы с переобучением существует несколько, хочется отметить два из них. \n",
    "Во-первых, нужно выбирать простые модели. Чем проще модель, тем лучше она обобщается на будущие данные (это похоже на известный принцип бритвы Оккама). \n",
    "\n",
    "А второй метод — это как раз регуляризация. Когда мы настраиваем модель для обучающей выборки, мы оптимизируем ошибку. Регуляризация заключается в том, что мы оптимизируем не просто ошибку, а ошибку плюс некоторая функция от параметров (например, норма вектора параметров). Это позволяет ограничить размер параметров в решении, уменьшает степень свободы модели.\n",
    "\n",
    "\n",
    "Наша цель сейчас - минимизировать эту функцию потерь. Производные - очевидный инструмент для минимизации функций, поэтому я расскажу о двух самых популярных методах, основанных на производных. Начнем с чередования наименьших квадратов (ALS)."
   ]
  },
  {
   "cell_type": "markdown",
   "metadata": {},
   "source": [
    "## Чередование наименьших квадратов для обучения модели"
   ]
  },
  {
   "cell_type": "raw",
   "metadata": {},
   "source": [
    "Для минимизации ALS мы держим один набор скрытых векторов фиксированным (постоянным). В этом примере мы выберем векторы элементов (фильмов). Затем мы берем производную функции потерь по другому набору векторов (пользовательским векторам). Мы устанавливаем производную равной нулю (мы ищем минимум) и находим непостоянные векторы (пользовательские векторы). Теперь переходим к чередующейся части: с этими новыми, решенными для пользователя векторами в руках мы вместо этого сохраняем их постоянными и берем производную функции потерь по отношению к ранее постоянным векторам (векторам элементов). Мы чередуем векторы пользователей и объектов снова и снова и выполняем этот двухэтапный танец до сходимости."
   ]
  },
  {
   "cell_type": "markdown",
   "metadata": {},
   "source": [
    "### Производные ALS"
   ]
  },
  {
   "cell_type": "raw",
   "metadata": {},
   "source": [
    "Чтобы объяснить вещи с помощью математики, давайте возьмем за константу вектора элементов (y_i) и возьмем производную функции потерь по векторам пользователя (x_u)."
   ]
  },
  {
   "cell_type": "markdown",
   "metadata": {},
   "source": [
    "![ALSderivative.png](ALSderivative.png \"Производные по векторам\")"
   ]
  },
  {
   "cell_type": "raw",
   "metadata": {},
   "source": [
    "Выше произошло несколько вещей: предположим, что у нас есть n пользователей и m элементов, поэтому наша матрица оценок равна n × m. Мы вводим символ Y (с размерами m × k) для представления всех векторов строк элементов, вертикально уложенных друг на друга. Кроме того, вектор-строка r_u просто представляет строку пользователя u из матрицы рейтингов со всеми рейтингами для всех элементов (поэтому он имеет размерность 1 × m). Наконец, I - это просто единичная матрица, размерность которой здесь k × k.\n",
    "\n",
    "Чтобы убедиться, что все работает, давайте проверим наши размерности. Мне нравится делать это в обозначениях Эйнштейна. Хотя это похоже на эзотерическую физику, была причина, по которой это было изобретено - это делает жизнь действительно простой! Основной смысл состоит в том, что если вы видите у переменной матричный индекс более одного раза, то неявно предполагается, что вы должны суммировать по этому индексу. Включая индексы в последнем утверждении из вышеприведенного вывода, это выглядит следующим образом для одного измерения пользователя k"
   ]
  },
  {
   "cell_type": "code",
   "execution_count": null,
   "metadata": {},
   "outputs": [],
   "source": []
  },
  {
   "cell_type": "raw",
   "metadata": {},
   "source": [
    "Когда вы выполняете все суммирования по всем индексам в правой части приведенного выше оператора, все, что осталось, - это взять u в качестве номера строки и k - номера столбца. Хорошо пошло!\n",
    "\n",
    "Получение векторов элементов аналогично.\n",
    "Теперь, когда у нас есть все уравнения, давайте все это закодим."
   ]
  },
  {
   "cell_type": "markdown",
   "metadata": {},
   "source": [
    "## Вычисления: превращение математики в код"
   ]
  },
  {
   "cell_type": "raw",
   "metadata": {},
   "source": [
    "Вдохновленный репозиторием implicit-mf Криса Джонсона, я написал класс, который обучает модель матричной факторизации с использованием ALS. В попытке ограничить это и без того длинное сообщение в блоге, код перенесен в эту суть GitHub - не стесняйтесь проверить его и поиграть с ним самостоятельно. Класс также имеет функциональные возможности для расчета кривой обучения, где мы строим нашу метрику оптимизации в зависимости от количества итераций нашего алгоритма обучения."
   ]
  },
  {
   "cell_type": "code",
   "execution_count": 27,
   "metadata": {},
   "outputs": [],
   "source": [
    "from numpy.linalg import solve\n",
    "\n",
    "class ExplicitMF():\n",
    "    def __init__(self, \n",
    "                 ratings, \n",
    "                 n_factors=40, \n",
    "                 item_reg=0.0, \n",
    "                 user_reg=0.0,\n",
    "                 verbose=False):\n",
    "        \"\"\"\n",
    "        Train a matrix factorization model to predict empty \n",
    "        entries in a matrix. The terminology assumes a \n",
    "        ratings matrix which is ~ user x item\n",
    "        \n",
    "        Params\n",
    "        ======\n",
    "        ratings : (ndarray)\n",
    "            Матрица размером User x Item содержащая соответствующие рейтинги\n",
    "        \n",
    "        n_factors : (int)\n",
    "            Количество скрытых факторов модели\n",
    "            Number of latent factors to use in matrix \n",
    "            factorization model\n",
    "        \n",
    "        item_reg : (float)\n",
    "            Регуляризация для скрытых факторов объектов (что за хрень?)\n",
    "            Regularization term for item latent factors\n",
    "        \n",
    "        user_reg : (float)\n",
    "            Регуляризация для скрытых факторов объектов\n",
    "            Regularization term for user latent factors\n",
    "        \n",
    "        verbose : (bool)\n",
    "            Следует ли распечатывать прогресс обучения\n",
    "            Whether or not to printout training progress\n",
    "        \"\"\"\n",
    "        \n",
    "        self.ratings = ratings\n",
    "        self.n_users, self.n_items = ratings.shape\n",
    "        self.n_factors = n_factors\n",
    "        self.item_reg = item_reg\n",
    "        self.user_reg = user_reg\n",
    "        self._v = verbose\n",
    "\n",
    "    def als_step(self,\n",
    "                 latent_vectors,\n",
    "                 fixed_vecs,\n",
    "                 ratings,\n",
    "                 _lambda,\n",
    "                 type='user'):\n",
    "        \"\"\"\n",
    "        One of the two ALS steps. Solve for the latent vectors\n",
    "        specified by type.\n",
    "        \"\"\"\n",
    "        if type == 'user':\n",
    "            # Precompute\n",
    "            YTY = fixed_vecs.T.dot(fixed_vecs)\n",
    "            lambdaI = np.eye(YTY.shape[0]) * _lambda\n",
    "\n",
    "            for u in range(latent_vectors.shape[0]):\n",
    "                latent_vectors[u, :] = solve((YTY + lambdaI), \n",
    "                                             ratings[u, :].dot(fixed_vecs))\n",
    "        elif type == 'item':\n",
    "            # Precompute\n",
    "            XTX = fixed_vecs.T.dot(fixed_vecs) # скалярное произведение одномерных массивов (векторов)\n",
    "            lambdaI = np.eye(XTX.shape[0]) * _lambda\n",
    "            \n",
    "            for i in range(latent_vectors.shape[0]):\n",
    "                latent_vectors[i, :] = solve((XTX + lambdaI), \n",
    "                                             ratings[:, i].T.dot(fixed_vecs))\n",
    "        return latent_vectors\n",
    "\n",
    "    def train(self, n_iter=10):\n",
    "        \"\"\" Train model for n_iter iterations from scratch.\"\"\"\n",
    "        # initialize latent vectors\n",
    "        self.user_vecs = np.random.random((self.n_users, self.n_factors))\n",
    "        self.item_vecs = np.random.random((self.n_items, self.n_factors))\n",
    "        \n",
    "        self.partial_train(n_iter)\n",
    "    \n",
    "    def partial_train(self, n_iter):\n",
    "        \"\"\" \n",
    "        Train model for n_iter iterations. Can be \n",
    "        called multiple times for further training.\n",
    "        \"\"\"\n",
    "        ctr = 1\n",
    "        while ctr <= n_iter:\n",
    "            if ctr % 10 == 0 and self._v:\n",
    "                print ('\\tтекущая итерация: {}'.format(ctr))\n",
    "            self.user_vecs = self.als_step(self.user_vecs, \n",
    "                                           self.item_vecs, \n",
    "                                           self.ratings, \n",
    "                                           self.user_reg, \n",
    "                                           type='user')\n",
    "            self.item_vecs = self.als_step(self.item_vecs, \n",
    "                                           self.user_vecs, \n",
    "                                           self.ratings, \n",
    "                                           self.item_reg, \n",
    "                                           type='item')\n",
    "            ctr += 1\n",
    "    \n",
    "    def predict_all(self):\n",
    "        \"\"\" Predict ratings for every user and item. \"\"\"\n",
    "        predictions = np.zeros((self.user_vecs.shape[0], \n",
    "                                self.item_vecs.shape[0]))\n",
    "        for u in range(self.user_vecs.shape[0]):\n",
    "            for i in range(self.item_vecs.shape[0]):\n",
    "                predictions[u, i] = self.predict(u, i)                \n",
    "        return predictions\n",
    "    \n",
    "    # r^ui = xTu x yi = SUM_k x_uk y_ki - оценка рейтинга \n",
    "    # u-го пользователя присвоенный i-му фильму\n",
    "    def predict(self, u, i):\n",
    "        \"\"\" Single user and item prediction. \"\"\"\n",
    "        return self.user_vecs[u, :].dot(self.item_vecs[i, :].T)\n",
    "    \n",
    "    \n",
    "    def calculate_learning_curve(self, iter_array, test):\n",
    "        \"\"\"\n",
    "        Keep track of MSE as a function of training iterations.\n",
    "        \n",
    "        Params\n",
    "        ======\n",
    "        iter_array : (list)\n",
    "            List of numbers of iterations to train for each step of \n",
    "            the learning curve. e.g. [1, 5, 10, 20]\n",
    "        test : (2D ndarray)\n",
    "            Testing dataset (assumed to be user x item).\n",
    "        \n",
    "        The function creates two new class attributes:\n",
    "        \n",
    "        train_mse : (list)\n",
    "            Training data MSE values for each value of iter_array\n",
    "        test_mse : (list)\n",
    "            Test data MSE values for each value of iter_array\n",
    "        \"\"\"\n",
    "        iter_array.sort()\n",
    "        self.train_mse =[]\n",
    "        self.test_mse = []\n",
    "        iter_diff = 0\n",
    "        for (i, n_iter) in enumerate(iter_array):\n",
    "            if self._v:\n",
    "                print ('Iteration: {}'.format(n_iter))\n",
    "            if i == 0:\n",
    "                self.train(n_iter - iter_diff)\n",
    "            else:\n",
    "                self.partial_train(n_iter - iter_diff)\n",
    "\n",
    "            predictions = self.predict_all()\n",
    "\n",
    "            self.train_mse += [get_mse(predictions, self.ratings)]\n",
    "            self.test_mse += [get_mse(predictions, test)]\n",
    "            if self._v:\n",
    "                print ('Train mse: ' + str(self.train_mse[-1]))\n",
    "                print ('Test mse: ' + str(self.test_mse[-1]))\n",
    "            iter_diff = n_iter"
   ]
  },
  {
   "cell_type": "code",
   "execution_count": 25,
   "metadata": {},
   "outputs": [],
   "source": [
    "from sklearn.metrics import mean_squared_error\n",
    "\n",
    "def get_mse(pred, actual):\n",
    "    # Ignore nonzero terms.\n",
    "    pred = pred[actual.nonzero()].flatten()\n",
    "    actual = actual[actual.nonzero()].flatten()\n",
    "    return mean_squared_error(pred, actual)"
   ]
  },
  {
   "cell_type": "code",
   "execution_count": 28,
   "metadata": {},
   "outputs": [],
   "source": [
    "MF_ALS = ExplicitMF(train, n_factors=40, \\\n",
    "                    user_reg=0.0, item_reg=0.0)\n",
    "iter_array = [1, 2, 5, 10, 25, 50, 100]\n",
    "MF_ALS.calculate_learning_curve(iter_array, test)"
   ]
  },
  {
   "cell_type": "code",
   "execution_count": 29,
   "metadata": {},
   "outputs": [],
   "source": [
    "%matplotlib inline\n",
    "import matplotlib.pyplot as plt\n",
    "import seaborn as sns\n",
    "sns.set()\n",
    "\n",
    "def plot_learning_curve(iter_array, model):\n",
    "    plt.plot(iter_array, model.train_mse, \\\n",
    "             label='Training', linewidth=5)\n",
    "    plt.plot(iter_array, model.test_mse, \\\n",
    "             label='Test', linewidth=5)\n",
    "\n",
    "\n",
    "    plt.xticks(fontsize=16);\n",
    "    plt.yticks(fontsize=16);\n",
    "    plt.xlabel('iterations', fontsize=30);\n",
    "    plt.ylabel('MSE', fontsize=30);\n",
    "    plt.legend(loc='best', fontsize=20);"
   ]
  },
  {
   "cell_type": "code",
   "execution_count": 30,
   "metadata": {},
   "outputs": [
    {
     "data": {
      "image/png": "[encoded data removed]",
      "text/plain": [
       "<Figure size 432x288 with 1 Axes>"
      ]
     },
     "metadata": {},
     "output_type": "display_data"
    }
   ],
   "source": [
    "plot_learning_curve(iter_array, MF_ALS)"
   ]
  },
  {
   "cell_type": "markdown",
   "metadata": {},
   "source": [
    "### Оптимизация параметров модели ALS"
   ]
  },
  {
   "cell_type": "raw",
   "metadata": {},
   "source": [
    "Похоже, у нас есть разумное количество переобучений (наша тестовая MSE примерно на 50% больше, чем наша обучающая MSE). Кроме того, тестовая MSE достигает дна около 5 итераций, а затем фактически увеличивается после этого (еще больше переобучения). Мы можем попробовать добавить некоторую регуляризацию, чтобы увидеть, помогает ли это уменьшить некоторое переобучение."
   ]
  },
  {
   "cell_type": "code",
   "execution_count": 31,
   "metadata": {},
   "outputs": [],
   "source": [
    "MF_ALS = ExplicitMF(train, n_factors=40, \\\n",
    "                    user_reg=30., item_reg=30.)\n",
    "\n",
    "iter_array = [1, 2, 5, 10, 25, 50, 100]\n",
    "MF_ALS.calculate_learning_curve(iter_array, test)"
   ]
  },
  {
   "cell_type": "code",
   "execution_count": 32,
   "metadata": {},
   "outputs": [
    {
     "data": {
      "image/png": "[encoded data removed]",
      "text/plain": [
       "<Figure size 432x288 with 1 Axes>"
      ]
     },
     "metadata": {},
     "output_type": "display_data"
    }
   ],
   "source": [
    "plot_learning_curve(iter_array, MF_ALS)"
   ]
  },
  {
   "cell_type": "raw",
   "metadata": {},
   "source": [
    "Хммм, регуляризация сократила разрыв между нашим обучением и тестовой MSE, но не слишком сильно уменьшила тестовую MSE. Мы могли потратить целый день на поиск оптимальных гиперпараметров. Мы просто настроим поиск по небольшой сетке и настроим как условия регуляризации, так и количество скрытых факторов. Условия регуляризации элемента и пользователя будут ограничены, чтобы быть равными друг другу."
   ]
  },
  {
   "cell_type": "code",
   "execution_count": 34,
   "metadata": {},
   "outputs": [
    {
     "name": "stdout",
     "output_type": "stream",
     "text": [
      "Factors: 5\n",
      "Regularization: 0.1\n",
      "New optimal hyperparameters\n",
      "n_factors                                                    5\n",
      "reg                                                        0.1\n",
      "n_iter                                                       5\n",
      "train_mse                                              6.14742\n",
      "test_mse                                               8.79834\n",
      "model        <__main__.ExplicitMF object at 0x000000000B445...\n",
      "dtype: object\n",
      "Regularization: 1.0\n",
      "Regularization: 10.0\n",
      "Regularization: 100.0\n",
      "Factors: 10\n",
      "Regularization: 0.1\n",
      "New optimal hyperparameters\n",
      "n_factors                                                   10\n",
      "reg                                                        0.1\n",
      "n_iter                                                     100\n",
      "train_mse                                              5.40215\n",
      "test_mse                                               8.21184\n",
      "model        <__main__.ExplicitMF object at 0x000000000B41A...\n",
      "dtype: object\n",
      "Regularization: 1.0\n",
      "Regularization: 10.0\n",
      "Regularization: 100.0\n",
      "Factors: 20\n",
      "Regularization: 0.1\n",
      "New optimal hyperparameters\n",
      "n_factors                                                   20\n",
      "reg                                                        0.1\n",
      "n_iter                                                     100\n",
      "train_mse                                               4.7607\n",
      "test_mse                                               8.07725\n",
      "model        <__main__.ExplicitMF object at 0x000000000B32A...\n",
      "dtype: object\n",
      "Regularization: 1.0\n",
      "Regularization: 10.0\n",
      "Regularization: 100.0\n",
      "Factors: 40\n",
      "Regularization: 0.1\n",
      "Regularization: 1.0\n",
      "Regularization: 10.0\n",
      "Regularization: 100.0\n",
      "Factors: 80\n",
      "Regularization: 0.1\n",
      "Regularization: 1.0\n",
      "Regularization: 10.0\n",
      "Regularization: 100.0\n"
     ]
    }
   ],
   "source": [
    "latent_factors = [5, 10, 20, 40, 80]\n",
    "regularizations = [0.1, 1., 10., 100.]\n",
    "regularizations.sort()\n",
    "iter_array = [1, 2, 5, 10, 25, 50, 100]\n",
    "\n",
    "best_params = {}\n",
    "best_params['n_factors'] = latent_factors[0]\n",
    "best_params['reg'] = regularizations[0]\n",
    "best_params['n_iter'] = 0\n",
    "best_params['train_mse'] = np.inf\n",
    "best_params['test_mse'] = np.inf\n",
    "best_params['model'] = None\n",
    "\n",
    "for fact in latent_factors:\n",
    "    print ('Factors: {}'.format(fact))\n",
    "    for reg in regularizations:\n",
    "        print ('Regularization: {}'.format(reg))\n",
    "        MF_ALS = ExplicitMF(train, n_factors=fact, \\\n",
    "                            user_reg=reg, item_reg=reg)\n",
    "        MF_ALS.calculate_learning_curve(iter_array, test)\n",
    "        min_idx = np.argmin(MF_ALS.test_mse)\n",
    "        if MF_ALS.test_mse[min_idx] < best_params['test_mse']:\n",
    "            best_params['n_factors'] = fact\n",
    "            best_params['reg'] = reg\n",
    "            best_params['n_iter'] = iter_array[min_idx]\n",
    "            best_params['train_mse'] = MF_ALS.train_mse[min_idx]\n",
    "            best_params['test_mse'] = MF_ALS.test_mse[min_idx]\n",
    "            best_params['model'] = MF_ALS\n",
    "            print ('New optimal hyperparameters')\n",
    "            print (pd.Series(best_params))"
   ]
  },
  {
   "cell_type": "code",
   "execution_count": 35,
   "metadata": {},
   "outputs": [
    {
     "data": {
      "image/png": "[encoded data removed]",
      "text/plain": [
       "<Figure size 432x288 with 1 Axes>"
      ]
     },
     "metadata": {},
     "output_type": "display_data"
    }
   ],
   "source": [
    "best_als_model = best_params['model']\n",
    "plot_learning_curve(iter_array, best_als_model)"
   ]
  },
  {
   "cell_type": "code",
   "execution_count": 37,
   "metadata": {},
   "outputs": [
    {
     "data": {
      "text/plain": [
       "{'n_factors': 20,\n",
       " 'reg': 0.1,\n",
       " 'n_iter': 100,\n",
       " 'train_mse': 4.760697883028721,\n",
       " 'test_mse': 8.07724633572245,\n",
       " 'model': <__main__.ExplicitMF at 0xb32abb0>}"
      ]
     },
     "execution_count": 37,
     "metadata": {},
     "output_type": "execute_result"
    }
   ],
   "source": [
    "best_params"
   ]
  },
  {
   "cell_type": "raw",
   "metadata": {},
   "source": [
    "Таким образом, похоже, что наиболее эффективными параметрами были 10 факторов и значение регуляризации 0.1. Меня немного пугает, что ошибка тестового набора на самом деле ниже, чем ошибка обучения, но пусть будет так. Прежде чем визуализировать результаты рекомендаций нашего алгоритма ALS, давайте сначала рассмотрим другой алгоритм минимизации: стохастический градиентный спуск (SGD)."
   ]
  }
 ],
 "metadata": {
  "celltoolbar": "Отсутствует",
  "kernelspec": {
   "display_name": "Python 3",
   "language": "python",
   "name": "python3"
  },
  "language_info": {
   "codemirror_mode": {
    "name": "ipython",
    "version": 3
   },
   "file_extension": ".py",
   "mimetype": "text/x-python",
   "name": "python",
   "nbconvert_exporter": "python",
   "pygments_lexer": "ipython3",
   "version": "3.8.5"
  }
 },
 "nbformat": 4,
 "nbformat_minor": 1
}
