{
 "cells": [
  {
   "cell_type": "markdown",
   "metadata": {
    "id": "VbHaBm5d8oJv"
   },
   "source": [
    "https://machinelearningmastery.ru/monte-carlo-simulations-with-python-part-1-f5627b7d60b0/"
   ]
  },
  {
   "cell_type": "code",
   "execution_count": 1,
   "metadata": {
    "id": "aLReTVPr7qdS"
   },
   "outputs": [],
   "source": [
    "import numpy as np\n",
    "import math\n",
    "import random\n",
    "from matplotlib import pyplot as plt \n",
    "from IPython.display import clear_output\n",
    "PI = 3.1415926\n",
    "e = 2.71828"
   ]
  },
  {
   "cell_type": "code",
   "execution_count": 2,
   "metadata": {
    "id": "XiK0Rd0V8F1J"
   },
   "outputs": [],
   "source": [
    "def get_rand_number(min_value, max_value):\n",
    "    \"\"\"\n",
    "    This function gets a random number from a uniform distribution between\n",
    "    the two input values [min_value, max_value] inclusively\n",
    "    Args:\n",
    "    - min_value (float)\n",
    "    - max_value (float)\n",
    "    Return:\n",
    "    - Random number between this range (float)\n",
    "    \"\"\"\n",
    "    range = max_value - min_value\n",
    "    choice = random.uniform(0,1)\n",
    "    return min_value + range*choice"
   ]
  },
  {
   "cell_type": "code",
   "execution_count": null,
   "metadata": {},
   "outputs": [],
   "source": [
    "min_value + range*np.random.uniform(0,1)"
   ]
  },
  {
   "cell_type": "code",
   "execution_count": 120,
   "metadata": {},
   "outputs": [
    {
     "data": {
      "text/plain": [
       "0.2993956596141273"
      ]
     },
     "execution_count": 120,
     "metadata": {},
     "output_type": "execute_result"
    }
   ],
   "source": [
    "get_rand_number(0,5)"
   ]
  },
  {
   "cell_type": "markdown",
   "metadata": {},
   "source": [
    "Численно вычислить интеграл $$ \\int_0^5 \\frac{e^{(-x)}}{1+(x-1)^2} dx$$"
   ]
  },
  {
   "cell_type": "code",
   "execution_count": 3,
   "metadata": {
    "id": "muPGLvYo8J3D"
   },
   "outputs": [],
   "source": [
    "def f_of_x(x): # задаём подыинтегральную функцию\n",
    "    \"\"\"\n",
    "    This is the main function we want to integrate over.\n",
    "    Args:\n",
    "    - x (float) : input to function; must be in radians\n",
    "    Return:\n",
    "    - output of function f(x) (float)\n",
    "    \"\"\"\n",
    "    return (e**(-1*x))/(1+(x-1)**2)"
   ]
  },
  {
   "cell_type": "markdown",
   "metadata": {},
   "source": [
    "Численно вычислить интеграл $$ \\int_0^5 \\sqrt{x+\\sqrt{x}} dx$$"
   ]
  },
  {
   "cell_type": "code",
   "execution_count": 6,
   "metadata": {
    "colab": {
     "base_uri": "https://localhost:8080/",
     "height": 281
    },
    "id": "KQ1-f9YSFAPR",
    "outputId": "f4cd766c-be27-48a8-f0db-bc0d14f95f78"
   },
   "outputs": [
    {
     "data": {
      "image/png": "[encoded data removed]",
      "text/plain": [
       "<Figure size 432x288 with 1 Axes>"
      ]
     },
     "metadata": {
      "needs_background": "light"
     },
     "output_type": "display_data"
    }
   ],
   "source": [
    "xs = [float(i/50) for i in range(-500,500)]\n",
    "ys = [f_of_x(x) for x in xs]\n",
    "plt.plot(xs,ys)\n",
    "plt.title(\"f(x)\");"
   ]
  },
  {
   "cell_type": "code",
   "execution_count": 97,
   "metadata": {},
   "outputs": [],
   "source": [
    "# определяем подинтегральную функцию\n",
    "def f_of_x(x):\n",
    "    return (x+x**0.5)**0.5"
   ]
  },
  {
   "cell_type": "code",
   "execution_count": 4,
   "metadata": {
    "id": "FXKQj5LH8Tgu"
   },
   "outputs": [],
   "source": [
    "def crude_monte_carlo(num_samples=500000,lower_bound = 0,upper_bound = 5):\n",
    "    \"\"\"\n",
    "    This function performs the Crude Monte Carlo for our\n",
    "    specific function f(x) on the range x=0 to x=5.\n",
    "    Notice that this bound is sufficient because f(x)\n",
    "    approaches 0 at around PI.\n",
    "    Args:\n",
    "    - num_samples (float) : number of samples\n",
    "    Return:\n",
    "    - Crude Monte Carlo estimation (float)\n",
    "    \n",
    "    \"\"\"\n",
    "    #lower_bound = 0 # нижний предел\n",
    "    #upper_bound = 5 # верхний предел\n",
    "    \n",
    "    sum_of_samples = 0\n",
    "    for i in range(num_samples):\n",
    "        x = get_rand_number(lower_bound, upper_bound) # генерим случайное число в пределах интегрирования\n",
    "        sum_of_samples += f_of_x(x)\n",
    "    \n",
    "    return (upper_bound - lower_bound) * float(sum_of_samples/num_samples)"
   ]
  },
  {
   "cell_type": "code",
   "execution_count": 5,
   "metadata": {
    "colab": {
     "base_uri": "https://localhost:8080/"
    },
    "id": "LQA1cZz882L2",
    "outputId": "120bdaf1-ab32-4cc0-a65d-9249bc877db7"
   },
   "outputs": [
    {
     "name": "stdout",
     "output_type": "stream",
     "text": [
      "0.696447515365912\n"
     ]
    }
   ],
   "source": [
    "print(crude_monte_carlo())"
   ]
  },
  {
   "cell_type": "markdown",
   "metadata": {},
   "source": [
    "Численно вычислить интеграл вероятности Муавра-Лапласа\n",
    "$$\\frac{1}{2\\pi} \\int_{-\\infty}^x e^{-z^2 /2} dz \\approx \\frac{1}{2\\pi} \\int_{-100}^x e^{-z^2 /2} dz$$"
   ]
  },
  {
   "cell_type": "code",
   "execution_count": 17,
   "metadata": {},
   "outputs": [],
   "source": [
    "# определяем подинтегральную функцию интеграла \n",
    "# вероятности Муавра-Лапласа \n",
    "def f_of_x(x):\n",
    "    return 1/(2*PI)*e**(-0.5*x**2)"
   ]
  },
  {
   "cell_type": "code",
   "execution_count": 24,
   "metadata": {
    "colab": {
     "base_uri": "https://localhost:8080/",
     "height": 281
    },
    "id": "KQ1-f9YSFAPR",
    "outputId": "f4cd766c-be27-48a8-f0db-bc0d14f95f78"
   },
   "outputs": [
    {
     "data": {
      "image/png": "[encoded data removed]",
      "text/plain": [
       "<Figure size 432x288 with 1 Axes>"
      ]
     },
     "metadata": {
      "needs_background": "light"
     },
     "output_type": "display_data"
    }
   ],
   "source": [
    "xs = [float(i/50) for i in range(-500,500)]\n",
    "ys = [f_of_x(x) for x in xs]\n",
    "plt.plot(xs,ys)\n",
    "plt.title(\"f(x)\");"
   ]
  },
  {
   "cell_type": "code",
   "execution_count": 2,
   "metadata": {},
   "outputs": [],
   "source": [
    "def integr_Muavr_Laplas(x,num_samples=100000,lower_bound = -10):\n",
    "    sum_of_samples = 0\n",
    "    for i in range(num_samples):\n",
    "        y = np.random.uniform(lower_bound, x) # генерим случайное число в пределах интегрирования\n",
    "        sum_of_samples += 1/(2*PI)*e**(-0.5*y**2)\n",
    "    \n",
    "    return (x - lower_bound) * float(sum_of_samples/num_samples)\n",
    "    "
   ]
  },
  {
   "cell_type": "code",
   "execution_count": null,
   "metadata": {},
   "outputs": [],
   "source": [
    "np.random.uniform(0,1)"
   ]
  },
  {
   "cell_type": "code",
   "execution_count": 56,
   "metadata": {},
   "outputs": [
    {
     "data": {
      "text/plain": [
       "0.39736591683323813"
      ]
     },
     "execution_count": 56,
     "metadata": {},
     "output_type": "execute_result"
    }
   ],
   "source": [
    "integr_Muavr_Laplas(3)"
   ]
  },
  {
   "cell_type": "code",
   "execution_count": 52,
   "metadata": {},
   "outputs": [
    {
     "data": {
      "image/png": "[encoded data removed]",
      "text/plain": [
       "<Figure size 432x288 with 1 Axes>"
      ]
     },
     "metadata": {
      "needs_background": "light"
     },
     "output_type": "display_data"
    }
   ],
   "source": [
    "xs = [i for i in range(-5,5)]\n",
    "ys = [integr_Muavr_Laplas(x) for x in xs]\n",
    "plt.plot(xs,ys)\n",
    "plt.title(\"интеграл вероятности Муавра-Лапласа \");"
   ]
  },
  {
   "cell_type": "code",
   "execution_count": 3,
   "metadata": {},
   "outputs": [
    {
     "data": {
      "image/png": "[encoded data removed]",
      "text/plain": [
       "<Figure size 432x288 with 1 Axes>"
      ]
     },
     "metadata": {
      "needs_background": "light"
     },
     "output_type": "display_data"
    }
   ],
   "source": [
    "xs = [float(i/50) for i in range(-250,250)]\n",
    "ys = [integr_Muavr_Laplas(x) for x in xs]\n",
    "plt.plot(xs,ys)\n",
    "plt.title(\"интеграл вероятности Муавра-Лапласа \");"
   ]
  },
  {
   "cell_type": "markdown",
   "metadata": {
    "id": "fqDC_vnd9OAm"
   },
   "source": [
    "## Определим точность нашей оценки"
   ]
  },
  {
   "cell_type": "markdown",
   "metadata": {
    "id": "AiQnoOnn9QuV"
   },
   "source": [
    "Насколько мы уверены в нашем ответе? Откуда мы знаем, что 10000 итераций  достаточно, чтобы получить хорошее приближение. Мы можем измерить нашу точность, найдя дисперсию наших оценок. Дисперсия определяется как «Среднее квадрата расстояний от среднего». Можно показать равным этому уравнению:\n",
    "$$σ^2 = [\\frac{b-a}{N}\\sum_{i=1}^{N}f^2(x_i)] - [\\sum_{i=1}^{N}\\frac{b-a}{N}f(x_i)]^2$$\n",
    "поскольку если $X$ - случайная величина, распределенная равномерно на отрезке $[b,a]$. А $f$ - некоторая функция, то $f(X)$ - элементарная случайная функция и её дисперсия равна $$ D(f) = M(f^2(X)) - M^2(f(X)) = [\\sum_{i=1}^{N}f^2(x_i)\\cdot p_i] - [\\sum_{i=1}^{N}f(x_i)\\cdot p_i]^2$$\n",
    "Т.к. в нашем случае с.в.$X$ распределена равномерно на отрезке $[a,b]$, то $p_i = \\frac{b-a}{N}$ и получаем \n",
    "$$σ^2 = D(f) = [\\frac{b-a}{N}\\sum_{i=1}^{N}f^2(x_i)] - [\\sum_{i=1}^{N}\\frac{b-a}{N}f(x_i)]^2$$"
   ]
  },
  {
   "cell_type": "code",
   "execution_count": 126,
   "metadata": {
    "id": "91ZaEWoS9nwd"
   },
   "outputs": [],
   "source": [
    "# НЕВЕРНО и затратно\n",
    "# def get_crude_MC_variance(num_samples):\n",
    "#     \"\"\"\n",
    "#     This function returns the variance fo the Crude Monte Carlo.\n",
    "#     Note that the inputed number of samples does not neccissarily\n",
    "#     need to correspond to number of samples used in the Monte\n",
    "#     Carlo Simulation.\n",
    "#     Args:\n",
    "#     - num_samples (int)\n",
    "#     Return:\n",
    "#     - Variance for Crude Monte Carlo approximation of f(x) (float)\n",
    "#     \"\"\"\n",
    "#     int_max = 5 # this is the max of our integration range\n",
    "    \n",
    "#     # get the average of squares\n",
    "#     running_total = 0\n",
    "#     for i in range(num_samples):\n",
    "#         x = get_rand_number(0, int_max)\n",
    "#         running_total += f_of_x(x)**2\n",
    "#     sum_of_sqs = running_total*int_max / num_samples # [𝑏−𝑎\\𝑁∑𝑓^2(𝑥𝑖)]\n",
    "    \n",
    "#     # get square of average\n",
    "#     running_total = 0\n",
    "#     for i in range(num_samples):\n",
    "#         x = get_rand_number(0, int_max)\n",
    "#         running_total += f_of_x(x)\n",
    "#     sq_ave = (int_max*running_total/num_samples)**2 # [𝑏−𝑎/𝑁*∑𝑓(𝑥𝑖)]2\n",
    "    \n",
    "#     return sum_of_sqs - sq_ave"
   ]
  },
  {
   "cell_type": "code",
   "execution_count": 7,
   "metadata": {
    "id": "91ZaEWoS9nwd"
   },
   "outputs": [],
   "source": [
    "# не работает\n",
    "# def get_crude_MC_variance_new(num_samples):\n",
    "#     \"\"\"\n",
    "#     This function returns the variance fo the Crude Monte Carlo.\n",
    "#     Note that the inputed number of samples does not neccissarily\n",
    "#     need to correspond to number of samples used in the Monte\n",
    "#     Carlo Simulation.\n",
    "#     Args:\n",
    "#     - num_samples (int)\n",
    "#     Return:\n",
    "#     - Variance for Crude Monte Carlo approximation of f(x) (float)\n",
    "#     \"\"\"\n",
    "#     int_max = 5 # this is the max of our integration range\n",
    "    \n",
    "#     running_total_sq = running_total = 0\n",
    "    \n",
    "#     for i in range(num_samples):\n",
    "#         x = get_rand_number(0, int_max)\n",
    "#         y = f_of_x(x)\n",
    "#         running_total_sq += y**2\n",
    "#         running_total += y\n",
    "#     # get the average of squares\n",
    "#     sum_of_sqs = running_total_sq*int_max / num_samples\n",
    "#     print(sum_of_sqs)\n",
    "    \n",
    "#     # get square of average    \n",
    "#     sq_ave = (int_max*running_total/num_samples)**2\n",
    "#     print(sq_ave)\n",
    "#     return sum_of_sqs - sq_ave"
   ]
  },
  {
   "cell_type": "code",
   "execution_count": 39,
   "metadata": {
    "id": "91ZaEWoS9nwd"
   },
   "outputs": [],
   "source": [
    "# не работает\n",
    "# def get_crude_MC_variance_numpy(num_samples):\n",
    "#     \"\"\"\n",
    "#     This function returns the variance for the Crude Monte Carlo.\n",
    "#     Note that the inputed number of samples does not neccissarily\n",
    "#     need to correspond to number of samples used in the Monte\n",
    "#     Carlo Simulation.\n",
    "#     Args:\n",
    "#     - num_samples (int)\n",
    "#     Return:\n",
    "#     - Variance for Crude Monte Carlo approximation of f(x) (float)\n",
    "#     \"\"\"\n",
    "#     int_max = 5 # this is the max of our integration range       \n",
    "    \n",
    "#     running_total = np.array([f_of_x(np.random.uniform(0, int_max)) for i in range(num_samples)])\n",
    "#     print(running_total.var())\n",
    "#     running_total_mean = running_total.mean()\n",
    "#     running_total_sq_mean = (running_total**2).mean()\n",
    "        \n",
    "#     # get the average of squares\n",
    "#     sum_of_sqs = running_total_sq_mean*int_max # \n",
    "#     print(sum_of_sqs)\n",
    "    \n",
    "#     # get square of average    \n",
    "#     sq_ave = (running_total_mean*int_max)**2\n",
    "#     print(sq_ave)\n",
    "#     return sum_of_sqs - sq_ave"
   ]
  },
  {
   "cell_type": "code",
   "execution_count": 41,
   "metadata": {
    "id": "91ZaEWoS9nwd"
   },
   "outputs": [],
   "source": [
    "def get_crude_MC_variance_numpy(num_samples,lower_bound = 0,upper_bound = 5):\n",
    "    \"\"\"\n",
    "    This function returns the variance for the Crude Monte Carlo.\n",
    "    Note that the inputed number of samples does not neccissarily\n",
    "    need to correspond to number of samples used in the Monte\n",
    "    Carlo Simulation.\n",
    "    Args:\n",
    "    - num_samples (int)\n",
    "    Return:\n",
    "    - Variance for Crude Monte Carlo approximation of f(x) (float)\n",
    "    \"\"\"   \n",
    "    \n",
    "    running_total = np.array([f_of_x(np.random.uniform(0, upper_bound)) for i in range(num_samples)])\n",
    "    \n",
    "    return running_total.var()"
   ]
  },
  {
   "cell_type": "markdown",
   "metadata": {
    "id": "MDYtPj98_bJX"
   },
   "source": [
    "Дисперсия дает нам представление о том, на сколько F(X) варьируется в области Икс. Оно зависит от объема выборки. А далее мы можем вычислить ошибку интегрирования рассчитав стандартную ошибку среднего, взяв квадратный корень из дисперсии, деленную на объем выборки. "
   ]
  },
  {
   "cell_type": "code",
   "execution_count": 42,
   "metadata": {
    "colab": {
     "base_uri": "https://localhost:8080/"
    },
    "id": "t_d-1_oC97py",
    "outputId": "7ee54eed-0605-40a9-d792-5a24aa52e0bc"
   },
   "outputs": [
    {
     "data": {
      "text/plain": [
       "(0.03308160864560855, 0.0018188350295067596)"
      ]
     },
     "execution_count": 42,
     "metadata": {},
     "output_type": "execute_result"
    }
   ],
   "source": [
    "res_10_4 = get_crude_MC_variance_numpy(10000)\n",
    "res_10_4, np.sqrt(res_10_4/10000)\n",
    "# (19.961567881788657, 0.04467837047362925)"
   ]
  },
  {
   "cell_type": "code",
   "execution_count": 43,
   "metadata": {
    "colab": {
     "base_uri": "https://localhost:8080/"
    },
    "id": "pFEBKPdi9_yj",
    "outputId": "a0698790-1424-4c19-984d-137307d83be6"
   },
   "outputs": [
    {
     "data": {
      "text/plain": [
       "(0.033823158218088095, 0.0005815768067769561)"
      ]
     },
     "execution_count": 43,
     "metadata": {},
     "output_type": "execute_result"
    }
   ],
   "source": [
    "res_10_5 = get_crude_MC_variance_numpy(100000)\n",
    "res_10_5, np.sqrt(res_10_5/100000)\n",
    "# (19.98456827314877, 0.014136678631541699)"
   ]
  },
  {
   "cell_type": "code",
   "execution_count": 44,
   "metadata": {
    "colab": {
     "base_uri": "https://localhost:8080/"
    },
    "id": "TlJcExj2AckV",
    "outputId": "cf7f62e7-529d-4ccb-e8e8-3bc887ae687a"
   },
   "outputs": [
    {
     "data": {
      "text/plain": [
       "(0.03397052293880247, 0.0001843109409091128)"
      ]
     },
     "execution_count": 44,
     "metadata": {},
     "output_type": "execute_result"
    }
   ],
   "source": [
    "res_10_6 = get_crude_MC_variance_numpy(1000000)\n",
    "res_10_6, np.sqrt(res_10_6/1000000)\n",
    "# (19.95827719434609, 0.00446746876814445)"
   ]
  },
  {
   "cell_type": "code",
   "execution_count": 107,
   "metadata": {},
   "outputs": [],
   "source": [
    "def integr_Muavr_Laplas_variance(num_samples):\n",
    "    \"\"\"\n",
    "    This function returns the variance fo the Crude Monte Carlo.\n",
    "    Note that the inputed number of samples does not neccissarily\n",
    "    need to correspond to number of samples used in the Monte\n",
    "    Carlo Simulation.\n",
    "    Args:\n",
    "    - num_samples (int)\n",
    "    Return:\n",
    "    - Variance for Crude Monte Carlo approximation of f(x) (float)\n",
    "    \"\"\"\n",
    "    int_max = 5 # this is the max of our integration range\n",
    "    \n",
    "    running_total_sq = 0\n",
    "    running_total = 0\n",
    "    for i in range(num_samples):\n",
    "        x = get_rand_number(0, int_max)\n",
    "        y = integr_Muavr_Laplas(x)\n",
    "        running_total_sq += y**2\n",
    "        running_total += y\n",
    "    # get the average of squares\n",
    "    sum_of_sqs = running_total_sq*int_max / num_samples\n",
    "    \n",
    "    # get square of average    \n",
    "    sq_ave = (int_max*running_total/num_samples)**2\n",
    "    print(sum_of_sqs)\n",
    "    print(sq_ave)\n",
    "    return sum_of_sqs - sq_ave"
   ]
  },
  {
   "cell_type": "code",
   "execution_count": 104,
   "metadata": {},
   "outputs": [],
   "source": [
    "# integr_Muavr_Laplas_variance(10000)"
   ]
  },
  {
   "cell_type": "code",
   "execution_count": 108,
   "metadata": {},
   "outputs": [
    {
     "name": "stdout",
     "output_type": "stream",
     "text": [
      "0.023052127576725867\n",
      "0.04133806268678585\n"
     ]
    },
    {
     "data": {
      "text/plain": [
       "-0.018285935110059985"
      ]
     },
     "execution_count": 108,
     "metadata": {},
     "output_type": "execute_result"
    }
   ],
   "source": [
    "res_10_4 = integr_Muavr_Laplas_variance(10000)\n",
    "res_10_4"
   ]
  },
  {
   "cell_type": "code",
   "execution_count": null,
   "metadata": {},
   "outputs": [],
   "source": []
  }
 ],
 "metadata": {
  "colab": {
   "provenance": []
  },
  "kernelspec": {
   "display_name": "Python 3 (ipykernel)",
   "language": "python",
   "name": "python3"
  },
  "language_info": {
   "codemirror_mode": {
    "name": "ipython",
    "version": 3
   },
   "file_extension": ".py",
   "mimetype": "text/x-python",
   "name": "python",
   "nbconvert_exporter": "python",
   "pygments_lexer": "ipython3",
   "version": "3.9.12"
  }
 },
 "nbformat": 4,
 "nbformat_minor": 1
}
