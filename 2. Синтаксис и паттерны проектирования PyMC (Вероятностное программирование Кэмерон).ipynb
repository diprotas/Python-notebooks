{
 "cells": [
  {
   "cell_type": "markdown",
   "metadata": {},
   "source": [
    "Знакомство с синтаксисом и паттернами проектирования PyMC"
   ]
  },
  {
   "cell_type": "raw",
   "metadata": {},
   "source": [
    "В этой главе мы продолжим знакомство с синтаксисом и паттернами проектирования PyMC, а также поговорим о моделировании системы с байесовской точки зрения. Здесь вы найдете описание способов визуализации данных для \n",
    "определения критерия согласия байесовской модели, а также советы по их использованию."
   ]
  },
  {
   "cell_type": "markdown",
   "metadata": {},
   "source": [
    "2.1.1.  Связи «предок — потомок»"
   ]
  },
  {
   "cell_type": "raw",
   "metadata": {},
   "source": [
    " Переменные-предки — переменные, которые влияют на другие переменные.\n",
    " Переменные-потомки — переменные, на которые влияют другие переменные, то есть зависимые от переменных-предков.\n",
    "Переменная может быть одновременно и предком, и потомком. "
   ]
  },
  {
   "cell_type": "code",
   "execution_count": 1,
   "metadata": {},
   "outputs": [],
   "source": [
    "import pymc as pm\n",
    "lambda_ = pm.Exponential(\"poisson_param\", 1)\n",
    "# Используется при обращении к следующей переменной...\n",
    "data_generator = pm.Poisson(\"data_generator\", lambda_)\n",
    "data_plus_one = data_generator + 1"
   ]
  },
  {
   "cell_type": "code",
   "execution_count": 3,
   "metadata": {},
   "outputs": [
    {
     "data": {
      "text/plain": [
       "(<pymc.distributions.new_dist_class.<locals>.new_class 'poisson_param' at 0x0000000004E46640>,\n",
       " <pymc.distributions.new_dist_class.<locals>.new_class 'data_generator' at 0x0000000004E466A0>,\n",
       " <pymc.PyMCObjects.Deterministic '(data_generator_add_1)' at 0x0000000004E46730>)"
      ]
     },
     "execution_count": 3,
     "metadata": {},
     "output_type": "execute_result"
    }
   ],
   "source": [
    "lambda_ , data_generator, data_plus_one"
   ]
  },
  {
   "cell_type": "raw",
   "metadata": {},
   "source": [
    "Переменная lambda_ представляет собой параметр переменной data_generator, а потому влияет на ее значения. Первая является предком последней. И наоборот, data_generator — потомок lambda_.\n",
    "Аналогично data_generator — предок переменной data_plus_one (что делает data_generator одновременно и предком, и потомком (для разных переменных)). \n",
    "data_plus_one следует рассматривать как переменную PyMC, хотя она на таковую и не похожа, поскольку является функцией от другой переменной PyMC, а значит, переменной-потомком по отношению к data_generator.\n",
    "Конечно, у потомка может быть несколько предков, а у предка может быть один или несколько потомков.\n",
    "\n",
    "Данная терминология призвана помочь в описании связей при моделировании PyMC. Обращаться к переменным-предкам и переменным-потомкам заданной переменной можно с помощью ее атрибутов children и parents."
   ]
  },
  {
   "cell_type": "code",
   "execution_count": 5,
   "metadata": {},
   "outputs": [
    {
     "name": "stdout",
     "output_type": "stream",
     "text": [
      "Потомки 'lambda_': \n",
      "{<pymc.distributions.new_dist_class.<locals>.new_class 'data_generator' at 0x0000000004E466A0>}\n",
      "\n",
      "Предки 'data_generator': \n",
      "{'mu': <pymc.distributions.new_dist_class.<locals>.new_class 'poisson_param' at 0x0000000004E46640>}\n",
      "\n",
      "Потомки 'data_generator': \n",
      "{<pymc.PyMCObjects.Deterministic '(data_generator_add_1)' at 0x0000000004E46730>}\n"
     ]
    }
   ],
   "source": [
    "print (\"Потомки 'lambda_': \")\n",
    "print (lambda_.children)\n",
    "print (\"\\nПредки 'data_generator': \")\n",
    "print (data_generator.parents)\n",
    "print (\"\\nПотомки 'data_generator': \")\n",
    "print (data_generator.children)"
   ]
  },
  {
   "cell_type": "markdown",
   "metadata": {},
   "source": [
    "2.1.2.  Переменные PyMC"
   ]
  },
  {
   "cell_type": "raw",
   "metadata": {},
   "source": [
    "Для всех переменных PyMC доступно свойство value. Оно содержит текущее (возможно, случайное) внутреннее значение переменной. Если переменная — потомок, то ее значение меняется при изменении значений родительских переменных. \n",
    "На примере тех переменных, что и выше:"
   ]
  },
  {
   "cell_type": "code",
   "execution_count": 6,
   "metadata": {},
   "outputs": [
    {
     "name": "stdout",
     "output_type": "stream",
     "text": [
      "lambda_.value = 1.6565571036888975\n",
      "data_generator.value = 1\n",
      "data_plus_one.value = 2\n"
     ]
    }
   ],
   "source": [
    "print (\"lambda_.value =\", lambda_.value)\n",
    "print (\"data_generator.value =\", data_generator.value)\n",
    "print (\"data_plus_one.value =\", data_plus_one.value)"
   ]
  },
  {
   "cell_type": "raw",
   "metadata": {},
   "source": [
    "Для PyMC важны два типа переменных: детерминистические (класс Deterministic) и стохастические (класс Stochastic).\n",
    " Детерминистическая переменная — такая, значение которой не случайно, а четко определено значениями ее переменных-предков. Чтобы не запутаться, можно провести быструю мысленную проверку: если я знаю значения всех переменных-предков переменной foo, то могу точно определить значение foo.\n",
    " Стохастическая переменная — недетерминистическая, то есть такая, что даже при известных значениях всех ее переменных-предков (если у нее вообще есть предки) ее значение все равно может оказаться произвольным. К этой категории можно отнести экземпляры классов Poisson, DiscreteUniform \n",
    "и Exponential."
   ]
  },
  {
   "cell_type": "markdown",
   "metadata": {},
   "source": [
    "Инициализация стохастических переменных"
   ]
  },
  {
   "cell_type": "raw",
   "metadata": {},
   "source": [
    "Первый аргумент при инициализации стохастической переменной — строка с именем этой переменной. За ней следуют дополнительные аргументы, зависящие от класса. Например:"
   ]
  },
  {
   "cell_type": "code",
   "execution_count": 13,
   "metadata": {},
   "outputs": [],
   "source": [
    "some_variable = pm.DiscreteUniform(\"discrete_uni_var\",0,4)"
   ]
  },
  {
   "cell_type": "code",
   "execution_count": 10,
   "metadata": {},
   "outputs": [
    {
     "data": {
      "text/plain": [
       "array(3)"
      ]
     },
     "execution_count": 10,
     "metadata": {},
     "output_type": "execute_result"
    }
   ],
   "source": [
    "some_variable.value"
   ]
  },
  {
   "cell_type": "raw",
   "metadata": {},
   "source": [
    "где 0 и 4 — нижняя и верхняя границы случайной переменной, специфические параметры для класса DiscreteUniform. В документации PyMC приведен список соответствующих параметров для стохастических переменных (вы можете воспользоваться командой ?? pm.Poisson).\n",
    "Аргументом-именем при дальнейшем анализе можно воспользоваться для извлечения апостериорного распределения, так что желательно, чтобы это имя было информативным. Обычно я применяю с этой целью название переменной Python."
   ]
  },
  {
   "cell_type": "raw",
   "metadata": {},
   "source": [
    "Для задач с несколькими переменными вместо создания массива Python стохастических переменных лучше указать при обращении к стохастической переменной ключевое слово size, в результате чего будет создан массив (независимых) \n",
    "стохастических переменных. Этот массив ведет себя аналогично массиву NumPy, и ссылка на его атрибут value возвращает массив NumPy.\n",
    "Аргумент size также решает неприятную проблему с необходимостью моделирования большого количества случайных переменных βi, i = 1, ..., N. Вместо произвольных названий и переменных для каждой из них вот так:\n",
    "beta_1 = pm.DiscreteUniform(\"beta_1\", 0, 10)\n",
    "beta_2 = pm.DiscreteUniform(\"beta_2\", 0, 10)\n",
    "...\n",
    "можно обернуть их в одну переменную:\n",
    "betas = pm.DiscreteUniform(\"betas\", 0, 10, size=N)"
   ]
  },
  {
   "cell_type": "code",
   "execution_count": 22,
   "metadata": {},
   "outputs": [],
   "source": [
    "betas = pm.DiscreteUniform(\"betas\", 0, 10, size=10)"
   ]
  },
  {
   "cell_type": "code",
   "execution_count": 23,
   "metadata": {},
   "outputs": [
    {
     "data": {
      "text/plain": [
       "<pymc.distributions.new_dist_class.<locals>.new_class 'betas' at 0x000000000C563FD0>"
      ]
     },
     "execution_count": 23,
     "metadata": {},
     "output_type": "execute_result"
    }
   ],
   "source": [
    "betas"
   ]
  },
  {
   "cell_type": "code",
   "execution_count": 24,
   "metadata": {},
   "outputs": [
    {
     "data": {
      "text/plain": [
       "array([ 5, 10,  5,  0,  3,  7,  9,  4,  3,  2])"
      ]
     },
     "execution_count": 24,
     "metadata": {},
     "output_type": "execute_result"
    }
   ],
   "source": [
    "betas.value"
   ]
  },
  {
   "cell_type": "code",
   "execution_count": 25,
   "metadata": {},
   "outputs": [
    {
     "data": {
      "text/plain": [
       "3"
      ]
     },
     "execution_count": 25,
     "metadata": {},
     "output_type": "execute_result"
    }
   ],
   "source": [
    "betas.value[4]"
   ]
  },
  {
   "cell_type": "markdown",
   "metadata": {},
   "source": [
    "Вызов метода random()"
   ]
  },
  {
   "cell_type": "raw",
   "metadata": {},
   "source": [
    "Можно также вызвать метод random() стохастической переменной, который (по заданным значениям-предкам) возвращает новое, случайное значение. \n",
    "Вызов метода random() приводит к сохранению нового значения в атрибуте value переменной. (Мне это напомнило функцию next() у итераторов)\n",
    "\n",
    "Продемонстрируем это на примере с обменом текстовыми сообщениями из главы 1."
   ]
  },
  {
   "cell_type": "code",
   "execution_count": 2,
   "metadata": {},
   "outputs": [
    {
     "name": "stdout",
     "output_type": "stream",
     "text": [
      "Инициализированные значения...\n",
      "lambda_1.value: 1.844\n",
      "lambda_2.value: 0.305\n",
      "tau.value: 5.000\n",
      "0.6838229599489438 0.3388510957498572 0\n",
      "После вызова метода random() для этих переменных...\n",
      "lambda_1.value: 0.684\n",
      "lambda_2.value: 0.339\n",
      "tau.value: 0.000\n"
     ]
    }
   ],
   "source": [
    "lambda_1 = pm.Exponential('lambda_1',1) # априорное распределение для первого варианта поведения\n",
    "lambda_2 = pm.Exponential(\"lambda_2\", 1) # априорное распределение для второго варианта поведения\n",
    "tau = pm.DiscreteUniform(\"tau\", lower=0, upper=10)  # априорное распределение при смене поведения\n",
    "print (\"Инициализированные значения...\")\n",
    "print (\"lambda_1.value: %.3f\" % lambda_1.value)\n",
    "print (\"lambda_2.value: %.3f\" % lambda_2.value)\n",
    "print (\"tau.value: %.3f\" % tau.value)\n",
    "print (lambda_1.random(), lambda_2.random(), tau.random())\n",
    "print (\"После вызова метода random() для этих переменных...\")\n",
    "print (\"lambda_1.value: %.3f\" % lambda_1.value)\n",
    "print (\"lambda_2.value: %.3f\" % lambda_2.value)\n",
    "print (\"tau.value: %.3f\" % tau.value)"
   ]
  },
  {
   "cell_type": "code",
   "execution_count": 41,
   "metadata": {},
   "outputs": [
    {
     "data": {
      "text/plain": [
       "array(0.98218924)"
      ]
     },
     "execution_count": 41,
     "metadata": {},
     "output_type": "execute_result"
    }
   ],
   "source": [
    "samples = [lambda_1.random() for i in range(20)]\n",
    "samples[2]"
   ]
  },
  {
   "cell_type": "code",
   "execution_count": 42,
   "metadata": {},
   "outputs": [
    {
     "data": {
      "text/plain": [
       "0.9821892353914539"
      ]
     },
     "execution_count": 42,
     "metadata": {},
     "output_type": "execute_result"
    }
   ],
   "source": [
    "float(samples[2])"
   ]
  },
  {
   "cell_type": "code",
   "execution_count": 43,
   "metadata": {},
   "outputs": [
    {
     "data": {
      "text/plain": [
       "array(2.24047657)"
      ]
     },
     "execution_count": 43,
     "metadata": {},
     "output_type": "execute_result"
    }
   ],
   "source": [
    "max(samples)"
   ]
  },
  {
   "cell_type": "markdown",
   "metadata": {},
   "source": [
    "Детерминистические переменные"
   ]
  },
  {
   "cell_type": "raw",
   "metadata": {},
   "source": [
    "Поскольку большинство моделируемых нами переменных будут стохастическими, мы будем выделять детерминистические переменные с помощью адаптера pymc.deterministic (если вы еще не сталкивались с адаптерами Python, которые также называются декораторами, не проблема. Просто вставьте декоратор pymc.deterministic перед объявлением переменной, и можно работать дальше). \n",
    "Детерминистическая переменная объявляется в виде функции языка Python:\n",
    "\n",
    "@pm.deterministic\n",
    "def some_deterministic_var(v1=v1,):\n",
    "    #код...\n",
    "\n",
    "Фактически заданну таким образом some_deterministic_var можно рассматривать как переменную, а не функцию языка Python.\n",
    "Добавление перед объявлением адаптера — простейший, но не единственный способ создания детерминистических переменных. Элементарные операции, к примеру сложение, возведение в степень и т. п., приводят к неявному созданию детерминистических переменных. Например, следующее выражение возвращает детерминистическую переменную:"
   ]
  },
  {
   "cell_type": "code",
   "execution_count": 28,
   "metadata": {},
   "outputs": [
    {
     "data": {
      "text/plain": [
       "pymc.PyMCObjects.Deterministic"
      ]
     },
     "execution_count": 28,
     "metadata": {},
     "output_type": "execute_result"
    }
   ],
   "source": [
    "type(lambda_1 + lambda_2)"
   ]
  },
  {
   "cell_type": "raw",
   "metadata": {},
   "source": [
    "Мы уже сталкивались с использованием адаптера deterministic в примере с обменом текстовыми сообщениями в главе 1. Тогда модель для λ выглядела так:\n",
    "       ___\n",
    "      |λ1 (до τ)\n",
    "  λ = |\n",
    "      |λ2 (после τ) \n",
    "В виде кода PyMC:     "
   ]
  },
  {
   "cell_type": "code",
   "execution_count": 29,
   "metadata": {},
   "outputs": [],
   "source": [
    "import numpy as np\n",
    "n_data_points = 5 # в главе 1 было ˜70 точек данных\n",
    "\n",
    "@pm.deterministic\n",
    "def lambda_(tau=tau, lambda_1=lambda_1, lambda_2=lambda_2):\n",
    "    out = np.zeros(n_data_points)\n",
    "    out[:tau] = lambda_1 # lambda до точки tau равна 1\n",
    "    out[tau:] = lambda_2 # lambda после точки tau равна 2\n",
    "    return out"
   ]
  },
  {
   "cell_type": "raw",
   "metadata": {},
   "source": [
    "Очевидно, что при известных τ, λ1 и λ2 значение переменной λ тоже всегда известно; следовательно, она является детерминистической.\n",
    "Внутри декоратора deterministic передаваемые стохастические переменные ведут себя как скалярные значения или массивы NumPy (в случае нескольких переменных), а не как стохастические переменные. Например, при выполнении \n",
    "следующего кода:\n",
    "\n",
    "@pm.deterministic\n",
    "def some_deterministic(stoch=some_variable):\n",
    "    return stoch.value**2\n",
    "    \n",
    "будет возвращена ошибка AttributeError с уточнением, что у переменной stoch отсутствует атрибут value. Во время этапа обучения всякий раз передается value стохастической переменной, а не она сама."
   ]
  },
  {
   "cell_type": "code",
   "execution_count": 38,
   "metadata": {},
   "outputs": [],
   "source": [
    "@pm.deterministic\n",
    "def some_deterministic(stoch=some_variable):\n",
    "    return stoch**2"
   ]
  },
  {
   "cell_type": "code",
   "execution_count": 39,
   "metadata": {},
   "outputs": [
    {
     "data": {
      "text/plain": [
       "array(1)"
      ]
     },
     "execution_count": 39,
     "metadata": {},
     "output_type": "execute_result"
    }
   ],
   "source": [
    "some_variable.value"
   ]
  },
  {
   "cell_type": "code",
   "execution_count": 36,
   "metadata": {},
   "outputs": [
    {
     "data": {
      "text/plain": [
       "1"
      ]
     },
     "execution_count": 36,
     "metadata": {},
     "output_type": "execute_result"
    }
   ],
   "source": [
    "some_deterministic.value"
   ]
  },
  {
   "cell_type": "raw",
   "metadata": {},
   "source": [
    "Обратите внимание, что при создании детерминистической функции мы применяли именованные аргументы (keyword arguments) для каждой используемой в функции переменной. Это обязательный шаг — все переменные должны задаваться с помощью именованных аргументов."
   ]
  },
  {
   "cell_type": "markdown",
   "metadata": {},
   "source": [
    "2.1.3.  Учет наблюдений в модели"
   ]
  },
  {
   "cell_type": "raw",
   "metadata": {},
   "source": [
    "На текущий момент, хотя это и не очевидно, наши априорные распределения полностью определены. Например, можно ставить вопросы вроде «Каково априорное распределение λ1?» и успешно отвечать на них (рис. 2.1)."
   ]
  },
  {
   "cell_type": "code",
   "execution_count": 50,
   "metadata": {},
   "outputs": [
    {
     "data": {
      "image/png": "[encoded data removed]",
      "text/plain": [
       "<Figure size 900x288 with 1 Axes>"
      ]
     },
     "metadata": {
      "needs_background": "light"
     },
     "output_type": "display_data"
    }
   ],
   "source": [
    "%matplotlib inline\n",
    "from IPython.core.pylabtools import figsize\n",
    "import matplotlib.pyplot as plt\n",
    "\n",
    "figsize(12.5,4)\n",
    "#plt.rcParams['savefig.dpi'] = 300\n",
    "#plt.rcParams['figure.dpi'] = 300\n",
    "lambda_1 = pm.Exponential('lambda_1',1)\n",
    "\n",
    "samples = [float(lambda_1.random()) for i in range(20000)]\n",
    "plt.hist(samples, bins=70, alpha = 0.33)\n",
    "plt.title(\"Априорное распределение $\\lambda_1$\")\n",
    "plt.xlabel(\"Значение\")\n",
    "plt.ylabel(\"Плотность распределения\")\n",
    "plt.xlim(0, 8)\n",
    "plt.show()"
   ]
  },
  {
   "cell_type": "markdown",
   "metadata": {},
   "source": [
    "Наша следующая задача — учесть данные/факты/наблюдения X \n",
    "в нашей модели."
   ]
  },
  {
   "cell_type": "raw",
   "metadata": {},
   "source": [
    "У стохастических переменных PyMC есть дополнительный именованный аргумент observed, принимающий булево значение (по умолчанию False). Роль ключевого слова observed очень проста: зафиксировать текущее значение переменной, то есть сделать value неизменяемым. При этом при создании переменной необходимо задать начальное value, соответствующее наблюдениям, которые мы хотим учесть, обычно в виде \n",
    "массива (и ради повышения производительности — массива NumPy). В следующем примере начальное value = data, где data - массив имеющихся у нас наблюдений."
   ]
  },
  {
   "cell_type": "code",
   "execution_count": 51,
   "metadata": {},
   "outputs": [
    {
     "name": "stdout",
     "output_type": "stream",
     "text": [
      "значение:  [10  5]\n",
      "вызываем .random()\n",
      "значение:  [10  5]\n"
     ]
    }
   ],
   "source": [
    "data = np.array([10, 5])\n",
    "fixed_variable = pm.Poisson(\"fxd\", 1, value=data, observed=True)\n",
    "print (\"значение: \", fixed_variable.value)\n",
    "print (\"вызываем .random()\")\n",
    "fixed_variable.random()\n",
    "print (\"значение: \", fixed_variable.value)"
   ]
  },
  {
   "cell_type": "raw",
   "metadata": {},
   "source": [
    "Именно путем инициализации (используя констукцию value=data, observed=True) стохастической переменной с фиксированным значением и учитываются данные data в моделях.\n",
    "\n",
    "В завершение нашего примера с обменом текстовыми сообщениями привяжем переменную PyMC observations к набору полученных при наблюдении данных."
   ]
  },
  {
   "cell_type": "code",
   "execution_count": 52,
   "metadata": {},
   "outputs": [
    {
     "name": "stdout",
     "output_type": "stream",
     "text": [
      "[10 25 15 20 35]\n"
     ]
    }
   ],
   "source": [
    "# Воспользуемся фиктивными данными\n",
    "data = np.array([10, 25, 15, 20, 35])\n",
    "obs = pm.Poisson(\"obs\", lambda_, value=data, observed=True)#априорное распределение λ\n",
    "print (obs.value)"
   ]
  },
  {
   "cell_type": "markdown",
   "metadata": {},
   "source": [
    "2.1.4.   класс pm.Model"
   ]
  },
  {
   "cell_type": "raw",
   "metadata": {},
   "source": [
    "Мы обернули все созданные переменные в класс pm.Model: \n",
    "model = pm.Model([obs, lambda_, lambda_1, lambda_2, tau])\n",
    "Благодаря ему можно анализировать переменные как единое целое. Этот шаг необязательный, поскольку вместо объекта класса Model можно передать в алгоритм обучения массив пере-\n",
    "менных. В последующих примерах мы иногда будем использовать этот шаг, а иногда — нет."
   ]
  },
  {
   "cell_type": "markdown",
   "metadata": {},
   "source": [
    "# 2.2.  Подходы к моделированию"
   ]
  },
  {
   "cell_type": "raw",
   "metadata": {},
   "source": [
    "Перед тем как приступить к байесовскому моделированию, неплохо бы задуматься, каким образом могли быть сгенерированы данные. Поставьте себя на место эдакого \n",
    "всеведущего наблюдателя и попытайтесь представить, как бы вы воссоздали этот набор данных.\n",
    "В главе 1 мы изучали данные, полученные в результате обмена текстовыми сообщениями. И начали с того, что задали себе вопрос: а как могли быть сгенерированы наши наблюдения?\n",
    "\n",
    "1.  Мы начали с размышлений: «Какая случайная переменная лучше всего подходит для описания этих данных?» Хороший кандидат на эту роль — пуассоновская случайная переменная, поскольку она может хорошо отражать подобные данные. Поэтому мы смоделировали число полученных текстовых сообщений \n",
    "на основе пуассоновского распределения.\n",
    "2.  Далее мы задумались: «Хорошо. Если допустить, что число текстовых сообщений распределено по закону Пуассона, то что нам нужно для пуассоновского распределения?» Что ж, у пуассоновского распределения есть параметр λ.\n",
    "3.  Известен ли нам параметр λ? Нет. На самом деле мы даже подозреваем, что значений λ может быть два, одно — для первого варианта поведения, а второе — для последующего поведения. Мы не знаем, когда происходит смена поведения, но \n",
    "назовем точку ветвления τ.\n",
    "4.  Какое распределение хорошо подходит для двух λ? Неплохо подходит экспоненциальное — оно задает вероятности положительных вещественных чисел. Что ж, у экспоненциального распределения тоже есть параметр — назовем его α.\n",
    "5.  Известно ли нам возможное значение параметра α? Нет. Мы можем продолжить и выбрать распределение для α, но лучше будет остановиться по достижении заданного уровня неведения. Хотя относительно λ у нас есть определенная \n",
    "априорная уверенность («Вероятно, λ меняется с течением времени», «Вероятно, значение λ — от 10 до 30» и т. д.), никакой уверенности относительно α у нас нет. Так что лучше на этом прекратить моделирование. \n",
    "    Какое значение в таком случае хорошо подойдет для α? Мы предполагаем, что значения параметров λ находятся между 10 и 30, так что очень низкое значение α (соответствующее большей вероятности высоких значений) плохо отражает нашу \n",
    "априорную уверенность. Точно так же нашу априорную уверенность плохо отражает слишком высокое значение α. Все это было продемонстрировано в главе 1.\n",
    "6.  У нас нет экспертного мнения о возможном дне τ. Так что предположим, что величина τ равномерно дискретно распределена по всему промежутку времени."
   ]
  },
  {
   "cell_type": "markdown",
   "metadata": {},
   "source": [
    "2.2.1.  Та же история, но с другой концовкой"
   ]
  },
  {
   "cell_type": "raw",
   "metadata": {},
   "source": [
    "Что интересно, путем пересказа историй можно создавать новые наборы данных. \n",
    "Например, если пройти по шести вышеописанным шагам в обратном направлении, можно смоделировать вероятную реализацию нашего набора данных.\n",
    "В дальнейшем мы воспользуемся внутренними функциями PyMC для генерации случайных (но не стохастических) переменных. Функция rdiscrete_uniform служит для генерации случайных результатов, взятых из равномерного дискретного распределения (аналогично методу numpy.random.randint)."
   ]
  },
  {
   "cell_type": "code",
   "execution_count": 2,
   "metadata": {},
   "outputs": [
    {
     "name": "stdout",
     "output_type": "stream",
     "text": [
      "37\n"
     ]
    }
   ],
   "source": [
    "import pymc as pm\n",
    "\n",
    "# 1. Указываем момент смены характера поведения пользователя \n",
    "# с помощью выборки из DiscreteUniform(0, 80).\n",
    "\n",
    "tau = pm.rdiscrete_uniform(0, 80)\n",
    "print (tau)"
   ]
  },
  {
   "cell_type": "code",
   "execution_count": 3,
   "metadata": {},
   "outputs": [
    {
     "name": "stdout",
     "output_type": "stream",
     "text": [
      "42.54196823133008 11.32036550015598\n"
     ]
    }
   ],
   "source": [
    "# 2.  Берем λ1 и λ2 из распределения Exp(α):\n",
    "alpha = 1./20.\n",
    "lambda_1, lambda_2 = pm.rexponential(alpha, 2)\n",
    "print (lambda_1, lambda_2)"
   ]
  },
  {
   "cell_type": "code",
   "execution_count": 5,
   "metadata": {},
   "outputs": [
    {
     "name": "stdout",
     "output_type": "stream",
     "text": [
      "[42.54196823 42.54196823 42.54196823 42.54196823 42.54196823 42.54196823\n",
      " 42.54196823 42.54196823 42.54196823 42.54196823 42.54196823 42.54196823\n",
      " 42.54196823 42.54196823 42.54196823 42.54196823 42.54196823 42.54196823\n",
      " 42.54196823 42.54196823 42.54196823 42.54196823 42.54196823 42.54196823\n",
      " 42.54196823 42.54196823 42.54196823 42.54196823 42.54196823 42.54196823\n",
      " 42.54196823 42.54196823 42.54196823 42.54196823 42.54196823 42.54196823\n",
      " 42.54196823 11.3203655  11.3203655  11.3203655  11.3203655  11.3203655\n",
      " 11.3203655  11.3203655  11.3203655  11.3203655  11.3203655  11.3203655\n",
      " 11.3203655  11.3203655  11.3203655  11.3203655  11.3203655  11.3203655\n",
      " 11.3203655  11.3203655  11.3203655  11.3203655  11.3203655  11.3203655\n",
      " 11.3203655  11.3203655  11.3203655  11.3203655  11.3203655  11.3203655\n",
      " 11.3203655  11.3203655  11.3203655  11.3203655  11.3203655  11.3203655\n",
      " 11.3203655  11.3203655  11.3203655  11.3203655  11.3203655  11.3203655\n",
      " 11.3203655  11.3203655 ]\n"
     ]
    }
   ],
   "source": [
    "import numpy as np\n",
    "# 3.  Для предшествующих τ дней λ = λ1; \n",
    "# для следующих за τ дней λ = λ2:\n",
    "lambda_ = np.r_[lambda_1*np.ones(tau), lambda_2*np.ones(80-tau)]\n",
    "print(lambda_)"
   ]
  },
  {
   "cell_type": "code",
   "execution_count": 6,
   "metadata": {},
   "outputs": [
    {
     "name": "stdout",
     "output_type": "stream",
     "text": [
      "[39 54 38 42 44 40 46 47 38 33 31 53 50 36 49 50 40 46 25 33 35 44 50 28\n",
      " 41 40 49 49 61 46 57 44 40 40 48 41 56  9  6 12 10 18 14 13 10 11 16  9\n",
      " 13  8 15 14  4  4 14 16 10 13 10 10 10  8 10  6  7  9  9 14 13 12 12 12\n",
      " 14 15 11 14 18 11 13 10]\n"
     ]
    }
   ],
   "source": [
    "# 4.  Производим выборку из Poi(λ1)  для дней, предшествующих τ, и \n",
    "#Poi(λ2) для следующих за τ дней. Например:\n",
    "data = pm.rpoisson(lambda_)\n",
    "print (data)"
   ]
  },
  {
   "cell_type": "code",
   "execution_count": 12,
   "metadata": {},
   "outputs": [
    {
     "data": {
      "image/png": "[encoded data removed]",
      "text/plain": [
       "<Figure size 900x288 with 1 Axes>"
      ]
     },
     "metadata": {
      "needs_background": "light"
     },
     "output_type": "display_data"
    }
   ],
   "source": [
    "from IPython.core.pylabtools import figsize\n",
    "import matplotlib.pyplot as plt\n",
    "# 5. Строим график искусственно созданного набора данных\n",
    "figsize(12.5,4)\n",
    "\n",
    "plt.bar(np.arange(80), data, color=\"#348ABD\")\n",
    "plt.bar(tau-1, data[tau - 1], color=\"r\", label=u\"момент изменения поведения пользователя\")\n",
    "plt.xlabel(\"Время (дней)\")\n",
    "plt.ylabel(\"Получено текстовых сообщений\")\n",
    "plt.title(\"Искусственный набор данных, полученный путем иммитационного моделирования\")\n",
    "plt.xlim(0, 80)\n",
    "plt.legend()\n",
    "plt.show()"
   ]
  },
  {
   "cell_type": "raw",
   "metadata": {},
   "source": [
    "Ничего удивительного, что наш фиктивный набор данных с рисунка не похож на данные наблюдений; более того, вероятность подобного сходства невероятно мала. Движок PyMC ориентирован на поиск хороших значений параметров λi, τ, которые бы максимизировали эту вероятность.\n",
    "\n",
    "Возможность генерации искусственных наборов данных — интересный побочный эффект моделирования, и, как мы увидим, она представляет собой важный метод байесовского вывода. "
   ]
  },
  {
   "cell_type": "markdown",
   "metadata": {},
   "source": [
    "сгенерируем еще несколько наборов данных "
   ]
  },
  {
   "cell_type": "code",
   "execution_count": 14,
   "metadata": {},
   "outputs": [
    {
     "data": {
      "image/png": "[encoded data removed]",
      "text/plain": [
       "<Figure size 900x360 with 4 Axes>"
      ]
     },
     "metadata": {
      "needs_background": "light"
     },
     "output_type": "display_data"
    }
   ],
   "source": [
    "def plot_artifical_sms_dataset():\n",
    "    tau = pm.rdiscrete_uniform(0, 80)\n",
    "    alpha = 1./20.\n",
    "    lambda_1, lambda_2 = pm.rexponential(alpha, 2)\n",
    "    data = np.r_[pm.rpoisson(lambda_1, tau),pm.rpoisson(lambda_2, 80 - tau)]\n",
    "    plt.bar(np.arange(80), data, color='#348ABD')\n",
    "    plt.bar(tau - 1, data[tau - 1], color='r', label = 'изменение поведения пользователя')\n",
    "    plt.xlim(0, 80)\n",
    "    plt.xlabel('Время (дней)')\n",
    "    plt.ylabel('Получено текстовых сообщений')\n",
    "    \n",
    "figsize(12.5, 5)\n",
    "plt.title('Еще несколько искуственных датасетов, полученных в результате иммитационного моделирования')\n",
    "for i in range(4):\n",
    "    plt.subplot(4, 1, i+1)\n",
    "    plt.xlabel('Время (дней)')\n",
    "    plt.ylabel('Получено текстовых сообщений')\n",
    "    plot_artifical_sms_dataset()"
   ]
  },
  {
   "cell_type": "markdown",
   "metadata": {},
   "source": [
    "# Как на основе этого выполнять предсказания и проверять пригодность моделей"
   ]
  },
  {
   "cell_type": "markdown",
   "metadata": {},
   "source": [
    "2.2.2.  Пример: байесовское A/B-тестирование"
   ]
  },
  {
   "cell_type": "markdown",
   "metadata": {},
   "source": [
    "A/B-тестирование — статистический паттерн проектирования для определения различий эффективности двух разных методов лечения."
   ]
  },
  {
   "cell_type": "raw",
   "metadata": {},
   "source": [
    "Пример1. Фармацевтической компании требуется сравнить эффективность лекарства A с эффективностью лекарства B. Компания тестирует лекарство A на одной части группы пациентов, а лекарство B — на остальных (обычно группа разбивается пополам, 50/50, но мы снимем это ограничение). После достаточного количества клинических испытаний \n",
    "статистики компании оценивают эффективность, чтобы решить, какое лекарство демонстрирует лучшие результаты."
   ]
  },
  {
   "cell_type": "raw",
   "metadata": {},
   "source": [
    "Пример2. Аналогично веб-разработчиков клиентской части интересует, при каком дизайне их сайта количество конверсий 1  (conversion) будет выше, причем конверсией может быть регистрация пользователя, покупка чего-либо или какое-то другое действие. Для этого часть пользователей перенаправляется на сайт A, а другая часть — на сайт B (с другим дизайном). В то же время фиксируется, привело ли \n",
    "посещение сайта к конверсии. Вся эта информация в дальнейшем также фиксируется и анализируется."
   ]
  },
  {
   "cell_type": "raw",
   "metadata": {},
   "source": [
    "Главное в A/B-тестах то, что между группами есть только одно различие. Следовательно, любое существенное изменение метрик (эффективности лекарств или количества конверсий) можно приписать непосредственно этому различию.\n",
    "Зачастую анализ после эксперимента производится с помощью так называемой проверки статистической гипотезы, например проверки различия средних значений (difference of means test) или проверки различия долей (difference of proportions test). \n",
    "Это требует использования такого запутанного понятия, как «Z-оценка», и еще более запутанных малопонятных «p-значений» (даже не спрашивайте, что это такое). \n",
    "Если вы слушали курс статистики, то вас, возможно, обучали этой методике (хотя вовсе не факт, что вы в ней разобрались). И если мы с вами в этом схожи, то их вывод отнюдь не доставляет вам радости. Если так — отлично. Байесовский подход к решению этой задачи гораздо более естественен."
   ]
  },
  {
   "cell_type": "markdown",
   "metadata": {},
   "source": [
    "2.2.3.  Разберем пример с конверсией сайта"
   ]
  },
  {
   "cell_type": "raw",
   "metadata": {},
   "source": [
    "Поскольку книга предназначена для программистов, то мы возьмем за основу пример с разработкой сайтов. Пока мы сосредоточим наши усилия на анализе сайта A. \n",
    "Допустим, что существует вероятность, равная pA, конверсии пользователей, которым продемонстрировали сайт A. Это показатель его фактической эффективности. \n",
    "Пока данная величина нам неизвестна.\n",
    "\n",
    "Допустим, что сайт A показали N людям, из которых n совершили конверсию. \n",
    "Можно необдуманно решить, что pA = n/N. К сожалению, это - наблюдаемая частота n/N и она вовсе не обязательно должна быть равна pA; наблюдаемая частота (observed frequency) и фактическая частота (true frequency) наступления событий — разные вещи. \n",
    "Фактическая частота — это вероятность наступления события, и она отнюдь не всегда равна наблюдаемой частоте. Например, фактическая частота выпадения 1 на шестигранном кубике равна 1/6, но если бросить кубик шесть раз, то единица может вовсе ни разу не выпасть (наблюдаемая частота = 0)! \n",
    "\n",
    "В большинстве случаев приходится определять фактическую частоту событий как:\n",
    " долю пользователей, которые купили товары;\n",
    " долю в генеральной совокупности особей с какой-то характерной особенностью;\n",
    " процент интернет-пользователей, у которых есть кошки;\n",
    " вероятность того, что завтра пойдет дождь.\n",
    "\n",
    "К сожалению, помехи и прочие сложности скрывают от нас фактическую частоту и ее приходится выводить из наблюдаемых данных."
   ]
  },
  {
   "cell_type": "markdown",
   "metadata": {},
   "source": [
    "Вывод вероятных значений фактической частоты"
   ]
  },
  {
   "cell_type": "raw",
   "metadata": {},
   "source": [
    "Для вывода вероятных значений фактической частоты мы воспользуемся байесовскими статистическими методами на основе соответствующих априорных распределений и наблюдаемых \n",
    "данных. Применительно к нашему примеру с конверсиями хотелось бы оценить возможное значение pA — фактической частоты конверсий — с помощью имеющейся информации, а именно: N (общего количества посетителей) и n (числа \n",
    "конверсий).\n",
    "Для создания байесовской модели необходимо задать априорные распределения для наших неизвестных величин. \n",
    "\n",
    "Как вы полагаете, какой может быть априори pA? \n",
    "В данном примере у нас нет четкой уверенности относительно pA, так что пока предположим, что pA распределена равномерно по отрезку [0; 1]:"
   ]
  },
  {
   "cell_type": "code",
   "execution_count": 15,
   "metadata": {},
   "outputs": [],
   "source": [
    "# pA распределена равномерно по отрезку [0; 1]\n",
    "import pymc as pm\n",
    "# Параметры представляют собой границы равномерного распределения.\n",
    "p = pm.Uniform('p', lower=0, upper=1)"
   ]
  },
  {
   "cell_type": "raw",
   "metadata": {},
   "source": [
    "Предположим в нашем примере, что pA = 0,05, а сайт A был показан N = 1500 пользователям. Проведем имитационное моделирование того, совершил ли пользователь покупку. Для этого моделирования при N испытаниях мы воспользуемся \n",
    "распределением Бернулли (Bernoulli distribution). Оно представляет собой бинарную случайную переменную (которая может принимать только значения 0 или 1). \n",
    "Оно подходит для нашего случая, поскольку наши наблюдения также бинарны (имела место конверсия или нет). На более формальном языке: если X ∼ Ber(p), то X = 1 с вероятностью p и 0 с вероятностью 1 – p. Конечно, на практике величина pA\n",
    "нам неизвестна, но мы воспользуемся ею здесь для имитационного моделирования искусственных данных."
   ]
  },
  {
   "cell_type": "code",
   "execution_count": 33,
   "metadata": {},
   "outputs": [
    {
     "name": "stdout",
     "output_type": "stream",
     "text": [
      "[False False  True ... False False False]\n",
      "80\n"
     ]
    }
   ],
   "source": [
    "# Задаем ограничения\n",
    "p_true = 0.05 # Помните, что на практике это значение неизвестно\n",
    "N = 1500 # сайт показан 1500 пользователям\n",
    "# Выбираем N бернуллиевых случайных переменных из распределения Ber(0,05).\n",
    "# Вероятность быть равной 1 для каждой из них составляет 0,05.\n",
    "# Шаг генерации данных.\n",
    "occurrences = pm.rbernoulli(p_true, N)\n",
    "print (occurrences) # Помните: язык Python считает True == 1, а False == 0.\n",
    "print (occurrences.sum())"
   ]
  },
  {
   "cell_type": "raw",
   "metadata": {},
   "source": [
    "Наблюдаемая частота (матожидание):"
   ]
  },
  {
   "cell_type": "code",
   "execution_count": 34,
   "metadata": {},
   "outputs": [
    {
     "name": "stdout",
     "output_type": "stream",
     "text": [
      "Наблюдаемая частота в группе A = 0.0533\n",
      "Равна ли наблюдаемая частота фактической? False\n"
     ]
    }
   ],
   "source": [
    "# Occurrences.mean() равна n/N.\n",
    "print (\"Наблюдаемая частота в группе A = %.4f\" % occurrences.mean())\n",
    "print (\"Равна ли наблюдаемая частота фактической? %s\" % (occurrences.mean() == p_true))"
   ]
  },
  {
   "cell_type": "raw",
   "metadata": {},
   "source": [
    "Объединяем наблюдаемые данные в переменную PyMC с аргументом observed = True и запускаем алгоритм вывода:"
   ]
  },
  {
   "cell_type": "code",
   "execution_count": 35,
   "metadata": {},
   "outputs": [
    {
     "name": "stdout",
     "output_type": "stream",
     "text": [
      " [-----------------100%-----------------] 20000 of 20000 complete in 6.4 sec"
     ]
    }
   ],
   "source": [
    "# Учитываем данные, распределенные по закону Бернулли.\n",
    "obs = pm.Bernoulli(\"obs\", p, value=occurrences, observed=True)\n",
    "\n",
    "# Будет объяснено в главе 3\n",
    "mcmc = pm.MCMC([p, obs])\n",
    "mcmc.sample(20000, 1000)"
   ]
  },
  {
   "cell_type": "raw",
   "metadata": {},
   "source": [
    "Строим график апостериорного распределения неизвестной величины pA (фактической частоты конверсий)"
   ]
  },
  {
   "cell_type": "code",
   "execution_count": 40,
   "metadata": {},
   "outputs": [
    {
     "data": {
      "image/png": "[encoded data removed]",
      "text/plain": [
       "<Figure size 900x288 with 1 Axes>"
      ]
     },
     "metadata": {
      "needs_background": "light"
     },
     "output_type": "display_data"
    }
   ],
   "source": [
    "figsize(12.5, 4)\n",
    "plt.title(\"Апостериорное распределение $p_A$, фактическая эффективность сайта A\")\n",
    "plt.vlines(p_true, 0, 90, linestyle=\"--\", label=u\"фактическая $p_A$ (неизвестна)\", color ='r')\n",
    "plt.hist(mcmc.trace(\"p\")[:], bins=35, density=True, histtype=\"stepfilled\")\n",
    "plt.xlabel(\"Значение $p_A$\")\n",
    "plt.ylabel(\"Плотность\")\n",
    "plt.legend()\n",
    "plt.show()"
   ]
  },
  {
   "cell_type": "raw",
   "metadata": {},
   "source": [
    "Основная «масса» нашего апостериорного распределения сконцентрирована возле вероятного, судя по данным, фактического значения pA: чем выше график распределения, тем вероятнее, что фактическое значение именно здесь. Попробуйте \n",
    "поменять число наблюдений N и посмотрите, как будет меняться апостериорное распределение.\n",
    "Почему ось Y больше 1? Прекрасный ответ на этот вопрос можно найти на веб-странице [2] из списка литературы."
   ]
  },
  {
   "cell_type": "markdown",
   "metadata": {},
   "source": [
    "2.2.4.  A и B вместе"
   ]
  },
  {
   "cell_type": "raw",
   "metadata": {},
   "source": [
    "Можно провести аналогичный анализ и для характеристик сайта B, чтобы узнать апостериорное распределение pB. \n",
    "Выведем pA, pB и delta = pA – pB одновременно. Это можно сделать с помощью детерминистических переменных PyMC. Предположим, что pB = 0,04 (хотя мы этого не знаем), так что delta = 0,01, NB = 750 (только половина от NA), а данные сайта B мы получим путем имитационного моделирования аналогично тому, как мы сделали для сайта A."
   ]
  },
  {
   "cell_type": "code",
   "execution_count": 41,
   "metadata": {},
   "outputs": [
    {
     "name": "stdout",
     "output_type": "stream",
     "text": [
      "Наблюдения с сайта A:  [0 0 0 0 0 0 0 0 0 0 0 0 0 0 0 0 0 0 0 0 0 0 0 0 0 0 0 0 0 0] ...\n",
      "Наблюдения с сайта B:  [0 0 0 0 0 0 0 0 0 0 0 0 1 0 0 0 0 0 0 0 0 0 0 0 0 1 0 0 0 0] ...\n"
     ]
    }
   ],
   "source": [
    "import pymc as pm\n",
    "figsize(12, 4)\n",
    "# Эти две величины нам неизвестны.\n",
    "true_p_A = 0.05\n",
    "true_p_B = 0.04\n",
    "# Обратите внимание, что неодинаковые размеры выборок не доставляют\n",
    "# никаких сложностей при байесовском анализе.\n",
    "N_A = 1500\n",
    "N_B = 750\n",
    "# Генерируем наблюдения.\n",
    "observations_A = pm.rbernoulli(true_p_A, N_A)\n",
    "observations_B = pm.rbernoulli(true_p_B, N_B)\n",
    "print (\"Наблюдения с сайта A: \", observations_A[:30].astype(int), \"...\")\n",
    "print (\"Наблюдения с сайта B: \", observations_B[:30].astype(int), \"...\")"
   ]
  },
  {
   "cell_type": "code",
   "execution_count": 42,
   "metadata": {},
   "outputs": [
    {
     "name": "stdout",
     "output_type": "stream",
     "text": [
      "0.046\n",
      "0.04133333333333333\n"
     ]
    }
   ],
   "source": [
    "print (observations_A.mean())\n",
    "print (observations_B.mean())"
   ]
  },
  {
   "cell_type": "markdown",
   "metadata": {},
   "source": [
    "Создаем модель PyMC."
   ]
  },
  {
   "cell_type": "code",
   "execution_count": 43,
   "metadata": {},
   "outputs": [
    {
     "name": "stdout",
     "output_type": "stream",
     "text": [
      " [-----------------100%-----------------] 25000 of 25000 complete in 7.4 sec"
     ]
    }
   ],
   "source": [
    "#  Опять предполагаем, что априорные\n",
    "# распределения p_A и p_B — равномерные.\n",
    "p_A = pm.Uniform('p_A', 0, 1)\n",
    "p_B = pm.Uniform('p_B', 0, 1)\n",
    "\n",
    "# Описываем детерминистическую функцию delta. Это и есть интересующая нас\n",
    "# неизвестная величина.\n",
    "@pm.deterministic\n",
    "def delta(p_A = p_A, p_B = p_B):\n",
    "    return p_A - p_B\n",
    "\n",
    "# Набор данных наблюдений; в этом случае у нас два набора данных наблюдений.\n",
    "obs_A = pm.Bernoulli(\"obs_A\", p_A, value=observations_A, observed=True)\n",
    "obs_B = pm.Bernoulli(\"obs_B\", p_B, value=observations_B, observed=True)\n",
    "\n",
    "# будет объяснено в главе 3\n",
    "mcmc = pm.MCMC([p_A, p_B, delta, obs_A, obs_B])\n",
    "mcmc.sample(25000, 5000)"
   ]
  },
  {
   "cell_type": "markdown",
   "metadata": {},
   "source": [
    "Графики апостериорных распределений для трех неизвестных"
   ]
  },
  {
   "cell_type": "code",
   "execution_count": 45,
   "metadata": {},
   "outputs": [
    {
     "data": {
      "text/plain": [
       "<matplotlib.legend.Legend at 0x115f7e50>"
      ]
     },
     "execution_count": 45,
     "metadata": {},
     "output_type": "execute_result"
    },
    {
     "data": {
      "image/png": "[encoded data removed]",
      "text/plain": [
       "<Figure size 900x720 with 3 Axes>"
      ]
     },
     "metadata": {
      "needs_background": "light"
     },
     "output_type": "display_data"
    }
   ],
   "source": [
    "p_A_samples = mcmc.trace(\"p_A\")[:]\n",
    "p_B_samples = mcmc.trace(\"p_B\")[:]\n",
    "delta_samples = mcmc.trace(\"delta\")[:]\n",
    "figsize(12.5, 10)\n",
    "# Гистограмма апостериорных распределений\n",
    "ax = plt.subplot(311)\n",
    "plt.xlim(0, .1)\n",
    "plt.hist(p_A_samples, histtype='stepfilled', bins=30, alpha=0.85,\n",
    "         label=\"апостериорное распределение $p_A$\", color=\"#A60628\",\n",
    "         density=True)\n",
    "plt.vlines(true_p_A, 0, 80, linestyle=\"--\",\n",
    "           label=\"фактическая $p_A$ (неизвестна)\")\n",
    "plt.legend(loc=\"upper right\")\n",
    "plt.title(\"Апостериорные распределения неизвестных величин $p_A$, $p_B$ и\\\n",
    "          delta\")\n",
    "plt.ylim(0,80)\n",
    "ax = plt.subplot(312)\n",
    "plt.xlim(0, .1)\n",
    "plt.hist(p_B_samples, histtype='stepfilled', bins=30, alpha=0.85,\n",
    "         label=\"апостериорное распределение $p_B$\", color=\"#467821\",\n",
    "         density=True)\n",
    "plt.vlines(true_p_B, 0, 80, linestyle=\"--\",\n",
    "           label=\"фактическая $p_B$ (неизвестна)\")\n",
    "plt.legend(loc=\"upper right\")\n",
    "plt.ylim(0,80)\n",
    "ax = plt.subplot(313)\n",
    "plt.hist(delta_samples, histtype='stepfilled', bins=30, alpha=0.85,\n",
    "         label=\"апостериорное распределение delta\", color=\"#7A68A6\",\n",
    "         density=True)\n",
    "plt.vlines(true_p_A - true_p_B, 0, 60, linestyle=\"--\",\n",
    "           label=\"фактическая delta (неизвестна)\")\n",
    "plt.vlines(0, 0, 60, color=\"black\", alpha=0.2)\n",
    "plt.xlabel(\"Значение\")\n",
    "plt.ylabel(\"Плотность\")\n",
    "plt.legend(loc=\"upper right\")\n"
   ]
  },
  {
   "cell_type": "raw",
   "metadata": {},
   "source": [
    "Обратите внимание, что N_B < N_A, то есть данных с сайта B меньше, чем с сайта A, — апостериорное распределение pB\n",
    "более размытое, а значит, наша уверенность в фактическом значении pB слабее, чем в pA. Чтобы это было легче заметить, \n",
    "построим два апостериорных распределения на одном графике (рис. 2.7):"
   ]
  },
  {
   "cell_type": "code",
   "execution_count": 50,
   "metadata": {},
   "outputs": [
    {
     "data": {
      "text/plain": [
       "(0.0, 80.0)"
      ]
     },
     "execution_count": 50,
     "metadata": {},
     "output_type": "execute_result"
    },
    {
     "data": {
      "image/png": "[encoded data removed]",
      "text/plain": [
       "<Figure size 900x216 with 1 Axes>"
      ]
     },
     "metadata": {
      "needs_background": "light"
     },
     "output_type": "display_data"
    }
   ],
   "source": [
    "figsize(12.5, 3)\n",
    "# Гистограмма апостериорных распределений\n",
    "plt.xlim(0, .1)\n",
    "plt.hist(p_A_samples, histtype='stepfilled', bins=30, alpha=0.80,\n",
    "         label=u\"апостериорное распределение $p_A$\", color=\"#A60628\",\n",
    "         density=True)\n",
    "plt.hist(p_B_samples, histtype='stepfilled', bins=30, alpha=0.80,\n",
    "         label=u\"апостериорное распределение $p_B$\", color=\"#348abd\",\n",
    "         density=True)\n",
    "plt.legend(loc=\"upper right\")\n",
    "plt.xlabel(u\"Значение\")\n",
    "plt.ylabel(u\"Плотность\")\n",
    "plt.title(\"Апостериорные распределения неизвестных $p_A$ и $p_B$\")\n",
    "plt.ylim(0,80)"
   ]
  },
  {
   "cell_type": "raw",
   "metadata": {},
   "source": [
    "С учетом апостериорного распределения delta на рис. 2.7 видно, что основная часть распределения находится выше уровня delta = 0, а значит, напрашивается вывод, что эффективность сайта A выше, чем сайта B. Можно легко вычислить вероятность того, что этот вывод неверен:"
   ]
  },
  {
   "cell_type": "code",
   "execution_count": 47,
   "metadata": {},
   "outputs": [
    {
     "name": "stdout",
     "output_type": "stream",
     "text": [
      "Вероятность того, что сайт A ХУЖЕ сайта B: 0.321\n",
      "Вероятность того, что сайт A ЛУЧШЕ сайта B: 0.679\n"
     ]
    }
   ],
   "source": [
    "# Подсчитываем число выборок < 0, то есть площадь под кривой до 0,\n",
    "# отражающую вероятность того, что сайт A хуже сайта B.\n",
    "print (\"Вероятность того, что сайт A ХУЖЕ сайта B: %.3f\" % \\\n",
    "    (delta_samples < 0).mean())\n",
    "print (\"Вероятность того, что сайт A ЛУЧШЕ сайта B: %.3f\" % \\\n",
    "    (delta_samples > 0).mean())"
   ]
  },
  {
   "cell_type": "code",
   "execution_count": 49,
   "metadata": {},
   "outputs": [
    {
     "data": {
      "text/plain": [
       "array([ True, False, False, ...,  True,  True, False])"
      ]
     },
     "execution_count": 49,
     "metadata": {},
     "output_type": "execute_result"
    }
   ],
   "source": [
    "delta_samples < 0"
   ]
  },
  {
   "cell_type": "code",
   "execution_count": null,
   "metadata": {},
   "outputs": [],
   "source": []
  }
 ],
 "metadata": {
  "kernelspec": {
   "display_name": "Python 3",
   "language": "python",
   "name": "python3"
  },
  "language_info": {
   "codemirror_mode": {
    "name": "ipython",
    "version": 3
   },
   "file_extension": ".py",
   "mimetype": "text/x-python",
   "name": "python",
   "nbconvert_exporter": "python",
   "pygments_lexer": "ipython3",
   "version": "3.8.5"
  }
 },
 "nbformat": 4,
 "nbformat_minor": 4
}
