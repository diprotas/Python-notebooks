{
 "cells": [
  {
   "cell_type": "code",
   "execution_count": null,
   "id": "6305883f",
   "metadata": {},
   "outputs": [],
   "source": [
    "# https://vc.ru/u/1389654-machine-learning/576592-instrukciya-kak-ispolzovat-chatgpt-s-python"
   ]
  },
  {
   "cell_type": "code",
   "execution_count": 1,
   "id": "1cf92fe1",
   "metadata": {},
   "outputs": [],
   "source": [
    "# pip install openai"
   ]
  },
  {
   "cell_type": "code",
   "execution_count": null,
   "id": "b94a6236",
   "metadata": {},
   "outputs": [],
   "source": [
    "# Настройка окружения:Первое, давайте импортируем необходимые библиотеки и настроим ключ\n",
    "import openai\n",
    "\n",
    "# Replace YOUR_API_KEY with your OpenAI API key\n",
    "openai.api_key = \"YOUR_API_KEY\""
   ]
  },
  {
   "cell_type": "markdown",
   "id": "54491e47",
   "metadata": {},
   "source": [
    "Отправка запроса API:Теперь, когда у нас есть ключ API, мы можем начать делать запросы к API. Мы будем использовать функцию openai.Completion.create() со следующими параметрами:model_engine: имя модели, которую вы хотите использовать. В этом уроке мы будем использовать модель text-davinci-003. Это самая мощная модель gpt-3. Подробнее здесь. prompt: prompt или контекст для разговора. Это может быть одна строка текста или многострочное описани, разделенное символами новой строки. max_tokens: максимальное количество токенов (слов и знаков препинания) для генерации в ответе. Минимум 1, максимум 2048. И еще несколько параметров, которые вы можете использовать для настройки ответа. Вот пример того, как задать вопрос API:Вот пример того, как задать вопрос API:(Мы попросили написать стихи о крутости читателей сайта Uproger)"
   ]
  },
  {
   "cell_type": "code",
   "execution_count": null,
   "id": "6aa8d66f",
   "metadata": {},
   "outputs": [],
   "source": [
    "# задаем модель \n",
    "model_engine = \"text-davinci-003\"\n",
    "\n",
    "# задаём вопрос\n",
    "prompt = \"Write poem about how cool readers of uproger website\"\n",
    "\n",
    "while prompt != '':\n",
    "    \n",
    "\n",
    "    # задаем макс кол-во слов\n",
    "    max_tokens = 128\n",
    "\n",
    "    # генерируем ответ\n",
    "    completion = openai.Completion.create(\n",
    "        engine=model_engine,\n",
    "        prompt=prompt,\n",
    "        max_tokens=1024,\n",
    "        temperature=0.5,\n",
    "        top_p=1,\n",
    "        frequency_penalty=0,\n",
    "        presence_penalty=0\n",
    "    )\n",
    "\n",
    "    # выводим ответ\n",
    "    print(completion.choices[0].text)\n",
    "    prompt = input()"
   ]
  }
 ],
 "metadata": {
  "kernelspec": {
   "display_name": "Python 3 (ipykernel)",
   "language": "python",
   "name": "python3"
  },
  "language_info": {
   "codemirror_mode": {
    "name": "ipython",
    "version": 3
   },
   "file_extension": ".py",
   "mimetype": "text/x-python",
   "name": "python",
   "nbconvert_exporter": "python",
   "pygments_lexer": "ipython3",
   "version": "3.9.12"
  }
 },
 "nbformat": 4,
 "nbformat_minor": 5
}
