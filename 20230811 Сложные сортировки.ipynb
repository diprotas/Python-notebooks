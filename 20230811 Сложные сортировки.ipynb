{
 "cells": [
  {
   "cell_type": "markdown",
   "id": "a2523cb2",
   "metadata": {},
   "source": [
    "# Вы также можете передать свою функцию MyFunc в качестве ключевой функции, например:"
   ]
  },
  {
   "cell_type": "code",
   "execution_count": 2,
   "id": "6ba8cac1",
   "metadata": {},
   "outputs": [
    {
     "name": "stdout",
     "output_type": "stream",
     "text": [
      "['wa', 'zb', 'xc', 'yd']\n"
     ]
    }
   ],
   "source": [
    "## Say we have a list of strings we want to sort by the last letter of the string.\n",
    "strings = ['xc', 'zb', 'yd' ,'wa']\n",
    "\n",
    "## Write a little function that takes a string, and returns its last letter.\n",
    "## This will be the key function (takes in 1 value, returns 1 value).\n",
    "def MyFunc(s):\n",
    "    return s[-1]\n",
    "\n",
    "## Now pass key=MyFn to sorted() to sort by the last letter:\n",
    "print(sorted(strings, key=MyFunc))  ## ['wa', 'zb', 'xc', 'yd']\n"
   ]
  },
  {
   "cell_type": "markdown",
   "id": "90d5b92d",
   "metadata": {},
   "source": [
    "Сортировка в Python – устойчива. Это значит, что порядок элементов с одинаковыми ключами будет сохранен в сортированной последовательности:"
   ]
  },
  {
   "cell_type": "code",
   "execution_count": 14,
   "id": "b923f777",
   "metadata": {},
   "outputs": [
    {
     "data": {
      "text/plain": [
       "['Tim', 'Max', 'John', 'Bill']"
      ]
     },
     "execution_count": 14,
     "metadata": {},
     "output_type": "execute_result"
    }
   ],
   "source": [
    "names = [\"John\", \"Tim\", \"Bill\", \"Max\"]\n",
    "sorted(names, key=len)"
   ]
  },
  {
   "cell_type": "markdown",
   "id": "fb8f423b",
   "metadata": {},
   "source": [
    "# Для более сложной сортировки, такой как сортировка по фамилии, а затем по имени, вы можете использовать функции itemgetter или attrgetter, например:"
   ]
  },
  {
   "cell_type": "code",
   "execution_count": 37,
   "id": "978a4b28",
   "metadata": {},
   "outputs": [
    {
     "data": {
      "text/plain": [
       "[('Alex', 'Pavlov', 100), ('Igor', 'Sidorov', 24), ('Sergei', 'Stepanov', 3)]"
      ]
     },
     "execution_count": 37,
     "metadata": {},
     "output_type": "execute_result"
    }
   ],
   "source": [
    "from operator import itemgetter\n",
    "\n",
    "# (first name, last name, score) tuples\n",
    "grade = [('Sergei', 'Stepanov', 3), ('Alex', 'Pavlov', 100), ('Igor', 'Sidorov', 24)]\n",
    "\n",
    "sorted_by_name = sorted(grade, key=itemgetter(0))\n",
    "sorted_by_name"
   ]
  },
  {
   "cell_type": "code",
   "execution_count": 38,
   "id": "2b170b09",
   "metadata": {},
   "outputs": [
    {
     "data": {
      "text/plain": [
       "[('Alex', 'Pavlov', 100), ('Igor', 'Sidorov', 24), ('Sergei', 'Stepanov', 3)]"
      ]
     },
     "execution_count": 38,
     "metadata": {},
     "output_type": "execute_result"
    }
   ],
   "source": [
    "sorted(sorted_by_name, key=itemgetter(1))"
   ]
  },
  {
   "cell_type": "code",
   "execution_count": 35,
   "id": "d82be9a9",
   "metadata": {},
   "outputs": [
    {
     "data": {
      "text/plain": [
       "[('Freddy', 'Frank', 3), ('Anil', 'Wang', 24), ('Anil', 'Frank', 100)]"
      ]
     },
     "execution_count": 35,
     "metadata": {},
     "output_type": "execute_result"
    }
   ],
   "source": [
    "# (first name, last name, score) tuples\n",
    "grade = [('Freddy', 'Frank', 3), ('Anil', 'Frank', 100), ('Anil', 'Wang', 24)]\n",
    "\n",
    "grade.sort(key=itemgetter(2))\n",
    "grade"
   ]
  },
  {
   "cell_type": "markdown",
   "id": "fdc64fdd",
   "metadata": {},
   "source": [
    "Первичный признак – оценка ученика. Вторичный – имя. Внимание: сначала сортируем по вторичному, потому по первичному:\n"
   ]
  },
  {
   "cell_type": "code",
   "execution_count": 28,
   "id": "f42d4d3d",
   "metadata": {},
   "outputs": [
    {
     "data": {
      "text/plain": [
       "[(5, 'Abby'), (3, 'Georg'), (5, 'Kate'), (5, 'Max'), (3, 'Sergei')]"
      ]
     },
     "execution_count": 28,
     "metadata": {},
     "output_type": "execute_result"
    }
   ],
   "source": [
    "students = [(3, \"Sergei\"), (5, \"Kate\"), (5, \"Max\"), (3, \"Georg\"), (5, \"Abby\")]\n",
    "students_by_name = sorted(students, key=itemgetter(1))\n",
    "students_by_name"
   ]
  },
  {
   "cell_type": "code",
   "execution_count": 29,
   "id": "104408c1",
   "metadata": {},
   "outputs": [
    {
     "data": {
      "text/plain": [
       "[(3, 'Georg'), (3, 'Sergei'), (5, 'Abby'), (5, 'Kate'), (5, 'Max')]"
      ]
     },
     "execution_count": 29,
     "metadata": {},
     "output_type": "execute_result"
    }
   ],
   "source": [
    "sorted(students_by_name, key=itemgetter(0))"
   ]
  },
  {
   "cell_type": "markdown",
   "id": "e5b1beae",
   "metadata": {},
   "source": [
    "# Сортировка словаря"
   ]
  },
  {
   "cell_type": "code",
   "execution_count": 49,
   "id": "c3dbb49b",
   "metadata": {},
   "outputs": [
    {
     "data": {
      "text/plain": [
       "[(1, 'abc'), (3, 'foo'), (-1, 'baz')]"
      ]
     },
     "execution_count": 49,
     "metadata": {},
     "output_type": "execute_result"
    }
   ],
   "source": [
    "dct = {1: \"abc\", 3: \"foo\", -1: \"baz\"}\n",
    "list(dct.items())"
   ]
  },
  {
   "cell_type": "markdown",
   "id": "671d78bf",
   "metadata": {},
   "source": [
    "по ключу"
   ]
  },
  {
   "cell_type": "code",
   "execution_count": 51,
   "id": "ff953635",
   "metadata": {},
   "outputs": [
    {
     "data": {
      "text/plain": [
       "{-1: 'baz', 1: 'abc', 3: 'foo'}"
      ]
     },
     "execution_count": 51,
     "metadata": {},
     "output_type": "execute_result"
    }
   ],
   "source": [
    "lst = list(dct.items())\n",
    "lst.sort(key=itemgetter(0))\n",
    "dict(lst)"
   ]
  },
  {
   "cell_type": "markdown",
   "id": "11480092",
   "metadata": {},
   "source": [
    "по значениям"
   ]
  },
  {
   "cell_type": "code",
   "execution_count": 50,
   "id": "aee49f9d",
   "metadata": {},
   "outputs": [
    {
     "data": {
      "text/plain": [
       "{1: 'abc', -1: 'baz', 3: 'foo'}"
      ]
     },
     "execution_count": 50,
     "metadata": {},
     "output_type": "execute_result"
    }
   ],
   "source": [
    "lst = list(dct.items())\n",
    "lst.sort(key=itemgetter(1))\n",
    "dict(lst)"
   ]
  },
  {
   "cell_type": "code",
   "execution_count": null,
   "id": "46fc3630",
   "metadata": {},
   "outputs": [],
   "source": []
  }
 ],
 "metadata": {
  "kernelspec": {
   "display_name": "Python 3 (ipykernel)",
   "language": "python",
   "name": "python3"
  },
  "language_info": {
   "codemirror_mode": {
    "name": "ipython",
    "version": 3
   },
   "file_extension": ".py",
   "mimetype": "text/x-python",
   "name": "python",
   "nbconvert_exporter": "python",
   "pygments_lexer": "ipython3",
   "version": "3.9.12"
  }
 },
 "nbformat": 4,
 "nbformat_minor": 5
}
