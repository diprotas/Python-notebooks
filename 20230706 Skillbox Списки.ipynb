{
 "cells": [
  {
   "cell_type": "markdown",
   "id": "e1c01ed9",
   "metadata": {},
   "source": [
    "### Skillbox Списки"
   ]
  },
  {
   "cell_type": "markdown",
   "id": "de5f9921",
   "metadata": {},
   "source": [
    "Список в Python — это расширяемая последовательность элементов, к которым можно обращаться по их номерам. Эти номера называют индексами. \n",
    "\n",
    "Важно: в программировании считают с нуля. То есть первый элемент списка — это его нулевой элемент, второй — это первый и так далее. Последний элемент списка — это количество элементов в списке минус один.\n",
    "\n",
    "Список в Python — это переменная типа list. Чтобы создать такую переменную, используйте квадратные скобки: "
   ]
  },
  {
   "cell_type": "code",
   "execution_count": 5,
   "id": "b9620e66",
   "metadata": {},
   "outputs": [],
   "source": [
    "lst1 = []"
   ]
  },
  {
   "cell_type": "code",
   "execution_count": 6,
   "id": "202799f8",
   "metadata": {},
   "outputs": [
    {
     "data": {
      "text/plain": [
       "0"
      ]
     },
     "execution_count": 6,
     "metadata": {},
     "output_type": "execute_result"
    }
   ],
   "source": [
    "len(lst1)"
   ]
  },
  {
   "cell_type": "markdown",
   "id": "9fbf089b",
   "metadata": {},
   "source": [
    "Это пустой список, в нём нет ни одного элемента (его длина равна нулю). \n",
    "\n",
    "Чтобы в списке появились элементы, перечислите их в квадратных скобках через запятую. В списке могут быть элементы любых типов.\n"
   ]
  },
  {
   "cell_type": "code",
   "execution_count": 7,
   "id": "64463536",
   "metadata": {},
   "outputs": [],
   "source": [
    "lst2 = [1, 2, 3, 4, 5]"
   ]
  },
  {
   "cell_type": "markdown",
   "id": "dff2b290",
   "metadata": {},
   "source": [
    "Чтобы вызвать конкретный элемент из созданного списка, напечатайте его индекс в квадратных скобках:"
   ]
  },
  {
   "cell_type": "code",
   "execution_count": 8,
   "id": "461bb526",
   "metadata": {},
   "outputs": [
    {
     "name": "stdout",
     "output_type": "stream",
     "text": [
      "1\n",
      "3\n",
      "5\n"
     ]
    }
   ],
   "source": [
    "print(lst2[0]) # Печать первого элемента списка\n",
    "print(lst2[2]) # Печать третьего элемента списка\n",
    "print(lst2[len(lst2)-1]) # Печать последнего элемента списка"
   ]
  },
  {
   "cell_type": "markdown",
   "id": "60921a8d",
   "metadata": {},
   "source": [
    "Кроме того, можно использовать отрицательные индексы: "
   ]
  },
  {
   "cell_type": "code",
   "execution_count": 9,
   "id": "d48b4929",
   "metadata": {},
   "outputs": [
    {
     "name": "stdout",
     "output_type": "stream",
     "text": [
      "5\n",
      "4\n"
     ]
    }
   ],
   "source": [
    "print(lst2[-1]) # Печать последнего элемента списка\n",
    "print(lst2[-2]) # Печать предпоследнего элемента списка\n"
   ]
  },
  {
   "cell_type": "markdown",
   "id": "35bc285a",
   "metadata": {},
   "source": [
    "Самый распространённый сценарий использования списка — это цикл: проходите по элементам списка и что-либо с ними делаете. Например, умножаете каждый элемент списка на два и в конце печатаете список:"
   ]
  },
  {
   "cell_type": "code",
   "execution_count": 12,
   "id": "340e7d33",
   "metadata": {},
   "outputs": [
    {
     "name": "stdout",
     "output_type": "stream",
     "text": [
      "[2, 4, 6, 8, 10]\n"
     ]
    }
   ],
   "source": [
    "i = 0\n",
    "while i < len(lst2):\n",
    "    lst2[i] *= 2\n",
    "    i += 1\n",
    "\n",
    "print(lst2)\n"
   ]
  },
  {
   "cell_type": "code",
   "execution_count": 13,
   "id": "f00ec819",
   "metadata": {},
   "outputs": [
    {
     "name": "stdout",
     "output_type": "stream",
     "text": [
      "[2, 4, 6, 8, 10]\n"
     ]
    }
   ],
   "source": [
    "i = 0\n",
    "while i in lst2:\n",
    "    lst2[i] *= 2\n",
    "    i += 1\n",
    "\n",
    "print(lst2)\n"
   ]
  },
  {
   "cell_type": "markdown",
   "id": "cd6e4fd7",
   "metadata": {},
   "source": [
    "Для перебора элементов можно также использовать цикл **for** и функцию **range**. Так конструкция будет короче:"
   ]
  },
  {
   "cell_type": "code",
   "execution_count": 14,
   "id": "281ec4c5",
   "metadata": {},
   "outputs": [
    {
     "name": "stdout",
     "output_type": "stream",
     "text": [
      "[4, 8, 12, 16, 20]\n"
     ]
    }
   ],
   "source": [
    "for i in range(len(lst2)):\n",
    "    lst2[i] *=2\n",
    "\n",
    "print(lst2)\n"
   ]
  },
  {
   "cell_type": "markdown",
   "id": "db234d67",
   "metadata": {},
   "source": [
    "Функция или метод |\tЧто делает\t|Пример|\n",
    "------------------|-------------|------|\n",
    "Функция len (сокр. от англ. length — «длина»)|\tВозвращает длину списка| \tlen(lst1)|\n",
    "Метод append (в пер. с англ. — «добавить»)|\tДобавляет новый элемент в конец списка|\tlst2.append(42)|"
   ]
  },
  {
   "cell_type": "markdown",
   "id": "88bf9d7f",
   "metadata": {},
   "source": [
    "### Объединение списков\n",
    "\n",
    "Чтобы объединить два списка в один, можно использовать оператор плюс:"
   ]
  },
  {
   "cell_type": "code",
   "execution_count": 15,
   "id": "f3ac223e",
   "metadata": {},
   "outputs": [
    {
     "name": "stdout",
     "output_type": "stream",
     "text": [
      "[5, 5, 4, 3, 4, 5, 5, 5, 4, 4, 2, 3, 3, 3, 5, 4, 2]\n"
     ]
    }
   ],
   "source": [
    "grades1 = [5, 5, 4, 3, 4, 5, 5]\n",
    "grades2 = [5, 4, 4, 2, 3, 3, 3, 5, 4, 2]\n",
    "all_grades = grades1 + grades2\n",
    "print(all_grades)"
   ]
  },
  {
   "cell_type": "markdown",
   "id": "e5d62e7c",
   "metadata": {},
   "source": [
    "Запомните: с помощью оператора плюс можно объединять несколько списков в один. В результате получится новый объединённый список. Его нужно сохранить в отдельную переменную, что мы и сделали: записали всё в переменную all_grades. Однако оригинальные списки остались без изменений."
   ]
  },
  {
   "cell_type": "markdown",
   "id": "504db392",
   "metadata": {},
   "source": [
    "Второй способ объединить два списка — это метод extend:"
   ]
  },
  {
   "cell_type": "code",
   "execution_count": 16,
   "id": "b94ada27",
   "metadata": {},
   "outputs": [
    {
     "name": "stdout",
     "output_type": "stream",
     "text": [
      "[5, 5, 4, 3, 4, 5, 5, 5, 4, 4, 2, 3, 3, 3, 5, 4, 2]\n",
      "[5, 4, 4, 2, 3, 3, 3, 5, 4, 2]\n"
     ]
    }
   ],
   "source": [
    "grades1 = [5, 5, 4, 3, 4, 5, 5]\n",
    "grades2 = [5, 4, 4, 2, 3, 3, 3, 5, 4, 2]\n",
    "grades1.extend(grades2) \n",
    "print(grades1)\n",
    "print(grades2)\n"
   ]
  },
  {
   "cell_type": "markdown",
   "id": "520a1eb4",
   "metadata": {},
   "source": [
    "Второй список не изменился. При этом первый список — объединённый. То есть метод extend изменил первый список, расширив его вторым. Новую переменную создавать не пришлось."
   ]
  },
  {
   "cell_type": "markdown",
   "id": "31d0d658",
   "metadata": {},
   "source": [
    "**Сортировка** — одна из самых важных операций со списками. Списки сортируют по возрастанию (от меньшего элемента к большему) или по убыванию (от большего — к меньшему). Чтобы отсортировать список, используйте функцию sorted.\n",
    "\n",
    "**Slicing** — удобный способ извлечения из списка только нужных элементов. Для этого в квадратных скобках указываются два индекса через двоеточие: индекс левой и правой границы. Таким образом обозначается выбранный отрезок. \n",
    "\n",
    "Например, чтобы получить список, в котором нет двух первых и двух последних элементов, используем такую конструкцию: "
   ]
  },
  {
   "cell_type": "code",
   "execution_count": 17,
   "id": "df84c03e",
   "metadata": {},
   "outputs": [
    {
     "data": {
      "text/plain": [
       "[7, 23, 9]"
      ]
     },
     "execution_count": 17,
     "metadata": {},
     "output_type": "execute_result"
    }
   ],
   "source": [
    "lst3 = [12,45,7,23,9,1,78]\n",
    "lst3[2:-2]"
   ]
  },
  {
   "cell_type": "markdown",
   "id": "638c2d7d",
   "metadata": {},
   "source": [
    "Обратите внимание: второй элемент есть в срезе, а предпоследнего — нет. То есть элемент с индексом левой границы слайса попадает в срез, а элемент с индексом правой границы не попадает.\n",
    "Чтобы добавить шаг среза, добавляем третье число через двоеточие:\n"
   ]
  },
  {
   "cell_type": "code",
   "execution_count": 19,
   "id": "ad4a323b",
   "metadata": {},
   "outputs": [
    {
     "data": {
      "text/plain": [
       "[12, 23, 78]"
      ]
     },
     "execution_count": 19,
     "metadata": {},
     "output_type": "execute_result"
    }
   ],
   "source": [
    "lst3 = [12,45,7,23,9,1,78]\n",
    "lst3[::3] # каждый третий элемент, начиная с 0-го"
   ]
  },
  {
   "cell_type": "markdown",
   "id": "4f65846e",
   "metadata": {},
   "source": [
    "В таком случае в слайс попадёт каждый третий элемент. Третье число в квадратных скобках — это шаг среза.\n",
    "\n",
    "Шаг также может быть отрицательным, то есть включать в слайс элементы с заданным шагом, но в обратном порядке: от элементов со старшими индексами к элементам с младшими индексами. \n"
   ]
  },
  {
   "cell_type": "code",
   "execution_count": 22,
   "id": "15a3d074",
   "metadata": {},
   "outputs": [
    {
     "data": {
      "text/plain": [
       "[78, 1, 9, 23, 7, 45, 12]"
      ]
     },
     "execution_count": 22,
     "metadata": {},
     "output_type": "execute_result"
    }
   ],
   "source": [
    "lst3 = [12,45,7,23,9,1,78]\n",
    "lst3[::-1] # обратный список"
   ]
  },
  {
   "cell_type": "code",
   "execution_count": 23,
   "id": "3553df42",
   "metadata": {},
   "outputs": [
    {
     "data": {
      "text/plain": [
       "[78, 23, 12]"
      ]
     },
     "execution_count": 23,
     "metadata": {},
     "output_type": "execute_result"
    }
   ],
   "source": [
    "lst3[::-3] # каждый третий элемент, начиная с последнего"
   ]
  },
  {
   "cell_type": "markdown",
   "id": "f29177fa",
   "metadata": {},
   "source": [
    "### Примеры применения слайсинга\n",
    "\n",
    "Предлагаем рассмотреть шесть интересных примеров применения слайсинга списков в Python.\n",
    "1.\tВыбор каждого второго элемента списка, начиная со второго элемента:\n"
   ]
  },
  {
   "cell_type": "code",
   "execution_count": 25,
   "id": "4f7c4a1b",
   "metadata": {},
   "outputs": [
    {
     "name": "stdout",
     "output_type": "stream",
     "text": [
      "[2, 4, 6, 8, 10]\n"
     ]
    }
   ],
   "source": [
    "my_list = [1, 2, 3, 4, 5, 6, 7, 8, 9, 10]\n",
    "result = my_list[1::2]\n",
    "print(result) # [2, 4, 6, 8, 10]"
   ]
  },
  {
   "cell_type": "markdown",
   "id": "6b438404",
   "metadata": {},
   "source": [
    "В этом примере мы используем шаг, равный 2 в слайсинге, чтобы выбрать каждый второй элемент списка. Чтобы начать слайсинг со второго элемента, указываем индекс начала первым элементом слайсинга (1, поскольку индексация в Python начинается с нуля).\n",
    "\n",
    "2.\tВыбор каждого третьего элемента списка, начиная с конца:"
   ]
  },
  {
   "cell_type": "code",
   "execution_count": 24,
   "id": "fdb25542",
   "metadata": {},
   "outputs": [
    {
     "name": "stdout",
     "output_type": "stream",
     "text": [
      "[10, 7, 4, 1]\n"
     ]
    }
   ],
   "source": [
    "my_list = [1, 2, 3, 4, 5, 6, 7, 8, 9, 10]\n",
    "result = my_list[::-3]\n",
    "print(result) # [10, 7, 4, 1]"
   ]
  },
  {
   "cell_type": "markdown",
   "id": "fd61336d",
   "metadata": {},
   "source": [
    "В этом примере мы используем отрицательный шаг, равный 3, чтобы выбрать каждый третий элемент списка, начиная с конца.\n",
    "\n",
    "3.\tПереиспользование подстроки:"
   ]
  },
  {
   "cell_type": "code",
   "execution_count": 26,
   "id": "10007111",
   "metadata": {},
   "outputs": [
    {
     "name": "stdout",
     "output_type": "stream",
     "text": [
      "Hello, Python world!\n"
     ]
    }
   ],
   "source": [
    "my_string = 'Hello, world!'\n",
    "result = my_string[:7] + 'Python' + my_string[6:]\n",
    "print(result) # \"Hello, Python world!\""
   ]
  },
  {
   "cell_type": "markdown",
   "id": "d0d9c230",
   "metadata": {},
   "source": [
    "Мы можем использовать слайсинг, чтобы выбрать первые семь символов строки, добавить слово Python, а затем использовать последние элементы. Таким образом, мы создадим новую строку, используя части предыдущей.\n",
    "\n",
    "4.\tУдаление элементов из списка:\n",
    "\n",
    "Мы можем использовать слайсинг, чтобы выбрать подсписок списка и удалить его, заменив пустым списком."
   ]
  },
  {
   "cell_type": "code",
   "execution_count": 29,
   "id": "79edecd6",
   "metadata": {},
   "outputs": [
    {
     "name": "stdout",
     "output_type": "stream",
     "text": [
      "[1, 4, 5]\n"
     ]
    }
   ],
   "source": [
    "my_list = [1, 2, 3, 4, 5]\n",
    "my_list[1:3] = []\n",
    "print(my_list) # [1, 4, 5]\n"
   ]
  },
  {
   "cell_type": "markdown",
   "id": "ca8c2db8",
   "metadata": {},
   "source": [
    "5. Разбиение списка на два подсписка"
   ]
  },
  {
   "cell_type": "code",
   "execution_count": 37,
   "id": "805c84fd",
   "metadata": {},
   "outputs": [
    {
     "name": "stdout",
     "output_type": "stream",
     "text": [
      "0 : [] + [1, 2, 3, 4, 5]\n",
      "1 : [1] + [2, 3, 4, 5]\n",
      "2 : [1, 2] + [3, 4, 5]\n",
      "3 : [1, 2, 3] + [4, 5]\n",
      "4 : [1, 2, 3, 4] + [5]\n",
      "5 : [1, 2, 3, 4, 5] + []\n"
     ]
    }
   ],
   "source": [
    "my_list = [1, 2, 3, 4, 5]\n",
    "\n",
    "for i in range(len(my_list)+1):\n",
    "    print(i,':',my_list[:i],'+',my_list[i:] )\n",
    " "
   ]
  },
  {
   "cell_type": "markdown",
   "id": "b2cf9d56",
   "metadata": {},
   "source": [
    "6. Выделение в списке одноэлементного списка"
   ]
  },
  {
   "cell_type": "code",
   "execution_count": 43,
   "id": "2d2007d7",
   "metadata": {},
   "outputs": [
    {
     "name": "stdout",
     "output_type": "stream",
     "text": [
      "0 : [] + [1] + [2, 3, 4, 5]\n",
      "1 : [1] + [2] + [3, 4, 5]\n",
      "2 : [1, 2] + [3] + [4, 5]\n",
      "3 : [1, 2, 3] + [4] + [5]\n",
      "4 : [1, 2, 3, 4] + [5] + []\n",
      "5 : [1, 2, 3, 4, 5] + [] + []\n"
     ]
    }
   ],
   "source": [
    "my_list = [1, 2, 3, 4, 5]\n",
    "\n",
    "for i in range(len(my_list)+1):\n",
    "    print(i,':',my_list[:i],'+',my_list[i:i+1],'+',my_list[i+1:] ) "
   ]
  },
  {
   "cell_type": "markdown",
   "id": "aa1de499",
   "metadata": {},
   "source": [
    "5.\tЗамена элементов списка с помощью слайсинга:"
   ]
  },
  {
   "cell_type": "code",
   "execution_count": 49,
   "id": "ee340ccb",
   "metadata": {},
   "outputs": [
    {
     "data": {
      "text/plain": [
       "[1, 12, 67, 4, 5]"
      ]
     },
     "execution_count": 49,
     "metadata": {},
     "output_type": "execute_result"
    }
   ],
   "source": [
    "my_list = [1, 2, 3, 4, 5]\n",
    "my_new_list = [12,67]\n",
    "\n",
    "my_new_list1 = my_list[:1] + my_new_list + my_list[3:]\n",
    "my_new_list1"
   ]
  },
  {
   "cell_type": "code",
   "execution_count": 48,
   "id": "a4e18e5d",
   "metadata": {},
   "outputs": [
    {
     "data": {
      "text/plain": [
       "[1, 12, 67, 4, 5]"
      ]
     },
     "execution_count": 48,
     "metadata": {},
     "output_type": "execute_result"
    }
   ],
   "source": [
    "my_list = [1, 2, 3, 4, 5]\n",
    "my_new_list = [12,67]\n",
    "my_list[1:3] = my_new_list\n",
    "my_list"
   ]
  },
  {
   "cell_type": "markdown",
   "id": "7bbe3e91",
   "metadata": {},
   "source": [
    "6.\tВыбор в половине списка:"
   ]
  },
  {
   "cell_type": "code",
   "execution_count": 50,
   "id": "4eccec4f",
   "metadata": {},
   "outputs": [
    {
     "name": "stdout",
     "output_type": "stream",
     "text": [
      "[10, 8, 6]\n"
     ]
    }
   ],
   "source": [
    "my_list = [1, 2, 3, 4, 5, 6, 7, 8, 9, 10]\n",
    "result = my_list[: len(my_list) // 2 - 1 : -2]\n",
    "print(result) # [10, 8, 6]\n"
   ]
  },
  {
   "cell_type": "code",
   "execution_count": 56,
   "id": "77bff6ed",
   "metadata": {},
   "outputs": [
    {
     "data": {
      "text/plain": [
       "[1, 2, 3, 4, 5]"
      ]
     },
     "execution_count": 56,
     "metadata": {},
     "output_type": "execute_result"
    }
   ],
   "source": [
    "my_list = [1, 2, 3, 4, 5, 6, 7, 8, 9, 10]\n",
    "my_list[: len(my_list) // 2 ]"
   ]
  },
  {
   "cell_type": "code",
   "execution_count": 57,
   "id": "af3ed896",
   "metadata": {},
   "outputs": [
    {
     "data": {
      "text/plain": [
       "[10, 9, 8, 7, 6]"
      ]
     },
     "execution_count": 57,
     "metadata": {},
     "output_type": "execute_result"
    }
   ],
   "source": [
    "my_list = [1, 2, 3, 4, 5, 6, 7, 8, 9, 10]\n",
    "my_list[: len(my_list) // 2 -1 :-1 ]"
   ]
  },
  {
   "cell_type": "code",
   "execution_count": 58,
   "id": "4cb8ba55",
   "metadata": {},
   "outputs": [
    {
     "data": {
      "text/plain": [
       "[9, 8, 7, 6, 5]"
      ]
     },
     "execution_count": 58,
     "metadata": {},
     "output_type": "execute_result"
    }
   ],
   "source": [
    "my_list = [1, 2, 3, 4, 5, 6, 7, 8, 9]\n",
    "my_list[: len(my_list) // 2 -1 :-1 ]"
   ]
  },
  {
   "cell_type": "markdown",
   "id": "17bac475",
   "metadata": {},
   "source": [
    "Функция или метод |\tЧто делает\t|Пример|\n",
    "------------------|-------------|------|\n",
    "Метод extend (в пер. с англ. — «расширить»)|\tДобавляет к списку справа новый список | \tmy_list1.extend(my_list2) |\n",
    "Функция sorted|\tСортирует список по возрастанию|\tsorted(lst2)|\n",
    "Функция sorted c параметром reverse|\tСортирует список по убыванию|\tsorted(lst2, reverse=True)|\n",
    "Инструкция del (в пер. с англ. — «удалить»)\t| Удаляет элемент по индексу из списка|\tdel sorted_grades[0]|\n",
    "Метод slicing (в пер. с англ. — «ломтик», «кусочек» или «срез»)\t| Извлечение из списка только тех элементов, которые нужны. Иными словами, это вырезание кусочка из оригинального списка |sorted_grades[2:-2:3],  sorted_grades[2:],  sorted_grades[:-2]|\n"
   ]
  },
  {
   "cell_type": "code",
   "execution_count": null,
   "id": "897855ca",
   "metadata": {},
   "outputs": [],
   "source": []
  },
  {
   "cell_type": "code",
   "execution_count": null,
   "id": "70987014",
   "metadata": {},
   "outputs": [],
   "source": []
  },
  {
   "cell_type": "code",
   "execution_count": null,
   "id": "88068175",
   "metadata": {},
   "outputs": [],
   "source": []
  },
  {
   "cell_type": "code",
   "execution_count": null,
   "id": "b9fb6494",
   "metadata": {},
   "outputs": [],
   "source": []
  },
  {
   "cell_type": "code",
   "execution_count": null,
   "id": "e73ccf06",
   "metadata": {},
   "outputs": [],
   "source": []
  },
  {
   "cell_type": "code",
   "execution_count": 30,
   "id": "e91b52a8",
   "metadata": {},
   "outputs": [
    {
     "name": "stdout",
     "output_type": "stream",
     "text": [
      "0\n",
      "current_min= 1\n",
      "current_max= 2\n",
      "result=  [1, 2]\n",
      "1\n",
      "current_min= 3\n",
      "current_max= 5\n",
      "j= 0\n",
      "result[0]=  1\n",
      "j= 1\n",
      "result[1]=  2\n",
      "result=  [1, 2, 3]\n",
      "result=  [1, 2, 3, 5]\n",
      "2\n",
      "current_min= 6\n",
      "current_max= 17\n",
      "j= 0\n",
      "result[0]=  1\n",
      "j= 1\n",
      "result[1]=  2\n",
      "j= 2\n",
      "result[2]=  3\n",
      "j= 3\n",
      "result[3]=  5\n",
      "result=  [1, 2, 3, 5, 6]\n",
      "result=  [1, 2, 3, 5, 6, 17]\n",
      "3\n",
      "current_min= 20\n",
      "current_max= 96\n",
      "j= 0\n",
      "result[0]=  1\n",
      "j= 1\n",
      "result[1]=  2\n",
      "j= 2\n",
      "result[2]=  3\n",
      "j= 3\n",
      "result[3]=  5\n",
      "j= 4\n",
      "result[4]=  6\n",
      "j= 5\n",
      "result[5]=  17\n",
      "result=  [1, 2, 3, 5, 6, 17, 20]\n",
      "result=  [1, 2, 3, 5, 6, 17, 20, 96]\n",
      "4\n",
      "current_min= 5\n",
      "current_max= 80\n",
      "j= 0\n",
      "result[0]=  1\n",
      "j= 1\n",
      "result[1]=  2\n",
      "j= 2\n",
      "result[2]=  3\n",
      "j= 3\n",
      "result[3]=  5\n",
      "j= 4\n",
      "result[4]=  6\n",
      "result=  [1, 2, 3, 5, 5, 6, 17, 20, 96]\n",
      "96\n",
      "result=  [1, 2, 3, 5, 5, 6, 17, 20, 80, 96]\n",
      "result=  [1, 2, 3, 5, 5, 6, 17, 20, 80, 96]\n",
      "5\n",
      "current_min= 7\n",
      "current_max= 87\n",
      "j= 0\n",
      "result[0]=  1\n",
      "j= 1\n",
      "result[1]=  2\n",
      "j= 2\n",
      "result[2]=  3\n",
      "j= 3\n",
      "result[3]=  5\n",
      "j= 4\n",
      "result[4]=  5\n",
      "j= 5\n",
      "result[5]=  6\n",
      "j= 6\n",
      "result[6]=  17\n",
      "result=  [1, 2, 3, 5, 5, 6, 7, 17, 20, 80, 96]\n",
      "96\n",
      "result=  [1, 2, 3, 5, 5, 6, 7, 17, 20, 80, 87, 96]\n",
      "result=  [1, 2, 3, 5, 5, 6, 7, 17, 20, 80, 87, 96]\n",
      "6\n",
      "current_min= 20\n",
      "current_max= 91\n",
      "j= 0\n",
      "result[0]=  1\n",
      "j= 1\n",
      "result[1]=  2\n",
      "j= 2\n",
      "result[2]=  3\n",
      "j= 3\n",
      "result[3]=  5\n",
      "j= 4\n",
      "result[4]=  5\n",
      "j= 5\n",
      "result[5]=  6\n",
      "j= 6\n",
      "result[6]=  7\n",
      "j= 7\n",
      "result[7]=  17\n",
      "j= 8\n",
      "result[8]=  20\n",
      "j= 9\n",
      "result[9]=  80\n",
      "result=  [1, 2, 3, 5, 5, 6, 7, 17, 20, 20, 80, 87, 96]\n",
      "96\n",
      "result=  [1, 2, 3, 5, 5, 6, 7, 17, 20, 20, 80, 87, 91, 96]\n",
      "result=  [1, 2, 3, 5, 5, 6, 7, 17, 20, 20, 80, 87, 91, 96]\n",
      "7\n",
      "current_min= 43\n",
      "current_max= 99\n",
      "j= 0\n",
      "result[0]=  1\n",
      "j= 1\n",
      "result[1]=  2\n",
      "j= 2\n",
      "result[2]=  3\n",
      "j= 3\n",
      "result[3]=  5\n",
      "j= 4\n",
      "result[4]=  5\n",
      "j= 5\n",
      "result[5]=  6\n",
      "j= 6\n",
      "result[6]=  7\n",
      "j= 7\n",
      "result[7]=  17\n",
      "j= 8\n",
      "result[8]=  20\n",
      "j= 9\n",
      "result[9]=  20\n",
      "j= 10\n",
      "result[10]=  80\n",
      "result=  [1, 2, 3, 5, 5, 6, 7, 17, 20, 20, 43, 80, 87, 91, 96]\n",
      "result=  [1, 2, 3, 5, 5, 6, 7, 17, 20, 20, 43, 80, 87, 91, 96, 99]\n",
      "8\n",
      "current_min= 50\n",
      "current_max= 100\n",
      "j= 0\n",
      "result[0]=  1\n",
      "j= 1\n",
      "result[1]=  2\n",
      "j= 2\n",
      "result[2]=  3\n",
      "j= 3\n",
      "result[3]=  5\n",
      "j= 4\n",
      "result[4]=  5\n",
      "j= 5\n",
      "result[5]=  6\n",
      "j= 6\n",
      "result[6]=  7\n",
      "j= 7\n",
      "result[7]=  17\n",
      "j= 8\n",
      "result[8]=  20\n",
      "j= 9\n",
      "result[9]=  20\n",
      "j= 10\n",
      "result[10]=  43\n",
      "j= 11\n",
      "result[11]=  80\n",
      "result=  [1, 2, 3, 5, 5, 6, 7, 17, 20, 20, 43, 50, 80, 87, 91, 96, 99]\n",
      "result=  [1, 2, 3, 5, 5, 6, 7, 17, 20, 20, 43, 50, 80, 87, 91, 96, 99, 100]\n",
      "87\n",
      "result=  [1, 2, 3, 5, 5, 6, 7, 17, 20, 20, 43, 50, 80, 81, 87, 91, 96, 99, 100]\n",
      "96\n",
      "result=  [1, 2, 3, 5, 5, 6, 7, 17, 20, 20, 43, 50, 80, 81, 87, 91, 93, 96, 99, 100]\n",
      "финальный результат:  [1, 2, 3, 5, 5, 6, 7, 17, 20, 20, 43, 50, 80, 81, 87, 91, 93, 96, 99, 100, 101]\n"
     ]
    }
   ],
   "source": [
    "file1 = [1, 5, 6,20, 80, 87, 91, 99, 100]\n",
    "file2 = [2, 3, 17,96,5, 7, 20, 43, 50, 81, 93, 101]\n",
    "\n",
    "result = []\n",
    "\n",
    "# Ваш код здесь.\n",
    "lenght_min = min(len(file1),len(file2))\n",
    "\n",
    "for i in range(lenght_min):\n",
    "    print(i)\n",
    "    current_min = min(file1[i],file2[i])    \n",
    "    current_max = max(file1[i],file2[i])\n",
    "    print('current_min=', current_min)\n",
    "    print('current_max=', current_max)\n",
    "    if i:\n",
    "        \n",
    "        for j in range(len(result)):\n",
    "            print('j=',j)\n",
    "            print(f'result[{j}]= ',result[j])\n",
    "            if current_min < result[j]:                \n",
    "                temp = result[j]\n",
    "                result[j] = current_min\n",
    "                result= result[:j+1]+[temp]+result[j+1:]\n",
    "                break\n",
    "                               \n",
    "            elif j ==  len(result) -1:\n",
    "                result.append(current_min)                \n",
    "                \n",
    "        print('result= ',result) \n",
    "        \n",
    "           \n",
    "        for j in range(len(result)):            \n",
    "            if current_max < result[j]:\n",
    "                print(result[j])\n",
    "                temp = result[j]\n",
    "                result[j] = current_max\n",
    "                result= result[:j+1]+[temp]+result[j+1:]\n",
    "                print('result= ',result)\n",
    "                break\n",
    "                \n",
    "            elif j ==  len(result)-1:\n",
    "                result.append(current_max)\n",
    "            \n",
    "        print('result= ',result) \n",
    "    else:\n",
    "        result.append(current_min)\n",
    "        result.append(current_max)\n",
    "        print('result= ',result)\n",
    "\n",
    "\n",
    "#обрабатывеам элементы хвоста большего файла        \n",
    "if len(file1)> len(file2):\n",
    "    ostatok = file1[lenght_min:]\n",
    "else:\n",
    "    ostatok = file2[lenght_min:]\n",
    "\n",
    "\n",
    "for elem in ostatok:\n",
    "    for j in range(len(result)):            \n",
    "        if elem < result[j]:\n",
    "            print(result[j])\n",
    "            temp = result[j]\n",
    "            result[j] = elem\n",
    "            result= result[:j+1]+[temp]+result[j+1:]\n",
    "            print('result= ',result)\n",
    "            break\n",
    "\n",
    "        elif j ==  len(result) -1:\n",
    "            result.append(elem)\n",
    "\n",
    "print('финальный результат: ',result)"
   ]
  },
  {
   "cell_type": "code",
   "execution_count": null,
   "id": "a010ac01",
   "metadata": {},
   "outputs": [],
   "source": []
  }
 ],
 "metadata": {
  "kernelspec": {
   "display_name": "Python 3 (ipykernel)",
   "language": "python",
   "name": "python3"
  },
  "language_info": {
   "codemirror_mode": {
    "name": "ipython",
    "version": 3
   },
   "file_extension": ".py",
   "mimetype": "text/x-python",
   "name": "python",
   "nbconvert_exporter": "python",
   "pygments_lexer": "ipython3",
   "version": "3.9.12"
  }
 },
 "nbformat": 4,
 "nbformat_minor": 5
}
